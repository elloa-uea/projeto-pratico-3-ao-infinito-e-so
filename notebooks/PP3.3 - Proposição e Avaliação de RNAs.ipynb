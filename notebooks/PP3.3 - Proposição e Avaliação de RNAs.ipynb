{
  "nbformat": 4,
  "nbformat_minor": 0,
  "metadata": {
    "kernelspec": {
      "display_name": "Python 3",
      "language": "python",
      "name": "python3"
    },
    "language_info": {
      "codemirror_mode": {
        "name": "ipython",
        "version": 3
      },
      "file_extension": ".py",
      "mimetype": "text/x-python",
      "name": "python",
      "nbconvert_exporter": "python",
      "pygments_lexer": "ipython3",
      "version": "3.7.6-final"
    },
    "colab": {
      "name": "PP3.3 - Proposição e Avaliação de RNAs.ipynb",
      "provenance": [],
      "collapsed_sections": []
    },
    "accelerator": "TPU"
  },
  "cells": [
    {
      "cell_type": "markdown",
      "metadata": {
        "id": "1OFNhWfQ6UxL"
      },
      "source": [
        "## Redes Neurais Artificiais 2020.1\n",
        "\n",
        "**Disciplina**: Redes Neurais Artificiais 2020.1  \n",
        "**Professora**: Elloá B. Guedes (ebgcosta@uea.edu.br)  \n",
        "**Github**: http://github.com/elloa  \n",
        "        \n",
        "\n",
        "Levando em conta a base de dados **_Forest Cover Type_**, esta terceira parte do Projeto Prático 3 diz respeito à proposição e avaliação de múltiplas redes neurais artificiais do tipo feedforward multilayer perceptron para o problema da classificação multi-classe da cobertura florestal em uma área do Roosevelt National Forest.\n",
        "\n",
        "## Testando Redes Neurais sem os Atributos Categórios\n",
        "\n",
        "1. Abra a base de dados em questão\n",
        "2. Elimine todas as colunas relativas aos atributos categóricos\n",
        "3. Armazene o atributo alvo em uma variável y e os atributos preditores em uma variável X\n",
        "4. Efetue uma partição holdout 70/30 com o sklearn, distribuindo os exemplos de maneira aleatória\n",
        "5. Efetue o escalonamento dos atributos\n",
        "\n",
        "### Escalonando os atributos\n",
        "\n",
        "O treinamento de uma rede neural artificial é mais eficiente quando os valores que lhes são fornecidos como entrada são pequenos, pois isto favorece a convergência. Isto é feito escalonando-se todos os atributos para o intervalo [0,1], mas precisa ser feito de maneira cautelosa, para que informações do conjunto de teste não sejam fornecidas no treinamento.\n",
        "\n",
        "Há duas estratégias para tal escalonamento: normalização e padronização. Ambas possuem características particulares, vantagens e limitações, como é possível ver aqui: https://www.analyticsvidhya.com/blog/2020/04/feature-scaling-machine-learning-normalization-standardization/\n",
        "\n",
        "\n",
        "No nosso caso, vamos usar a padronização. Assim, com os atributos preditores do treinamento, isto é, X_train, deve-se subtrair a média e dividir pelo desvio padrão:\n",
        "\n",
        "X_train_std = (X_train - np.mean(X_train))/np.std(X_train)\n",
        "\n",
        "Em seguida, o mesmo deve ser feito com os atributos preditores do conjunto de testes, mas com padronização relativa ao conjunto de treinamento:\n",
        "\n",
        "X_test_std = (X_test - np.mean(X_train))/np.std(X_train)\n",
        "\n",
        "Se todo o conjunto X for utilizado na padronização, a rede neural receberá informações do conjunto de teste por meio da média e variância utilizada para preparar os dados de treinamento, o que não é desejável.\n",
        "\n",
        "\n",
        "### Continuando\n",
        "\n",
        "5. Treine uma rede neural multilayer perceptron para este problema com uma única camada e dez neurônios  \n",
        "    5.1 Utilize a função de ativação ReLU  \n",
        "    5.2 Utilize o solver Adam    \n",
        "    5.3 Imprima o passo a passo do treinamento    \n",
        "    5.4 Utilize o número máximo de épocas igual a 300  \n",
        "6. Com o modelo em questão, após o treinamento, apresente:  \n",
        "    6.1 Matriz de confusão para o conjunto de teste  \n",
        "    6.2 Acurácia  \n",
        "    6.3 F-Score  \n",
        "    6.4 Precisão  \n",
        "    6.5 Revocação  \n",
        "7. Repita o treinamento da mesma rede anterior sem imprimir o passo a passo (verbose False) por 100 vezes  \n",
        "    7.1 Cada uma destas repetições deve ser feita com uma nova partição Holdout  \n",
        "    7.2 Apresente a média e o desvio padrão da acurácia e do F-Score para o conjunto de treino  \n",
        "8. Repita por 100 vezes o treinamento desta mesma rede, mas utilizando o otimizador SGD  \n",
        "    8.1 Apresente a média e o desvio padrão da acurácia e do F-Score para o conjunto de treino  \n",
        "9. Houve influência da escolha do otimizador no desempenho da rede?"
      ]
    },
    {
      "cell_type": "code",
      "metadata": {
        "id": "4_1PzVCN6UxM"
      },
      "source": [
        "## Reservado para a importação de bibliotecas\n",
        "import pandas as pd\n",
        "from sklearn.model_selection import train_test_split\n",
        "from sklearn.neural_network import MLPClassifier\n",
        "from sklearn.metrics import confusion_matrix, f1_score, precision_score, recall_score, accuracy_score\n",
        "import numpy as np\n",
        "from numpy import savetxt\n",
        "import matplotlib.pyplot as plt\n",
        "import seaborn as sns\n",
        "import random\n",
        "from random import sample\n",
        "from math import sqrt"
      ],
      "execution_count": 34,
      "outputs": []
    },
    {
      "cell_type": "markdown",
      "metadata": {
        "id": "vmUf2fAD6UxQ"
      },
      "source": [
        "1. Abra a base de dados em questão"
      ]
    },
    {
      "cell_type": "code",
      "metadata": {
        "id": "i-mOPOB86UxR"
      },
      "source": [
        "dataset = pd.read_csv('../dataset/covtype.csv')"
      ],
      "execution_count": 2,
      "outputs": []
    },
    {
      "cell_type": "markdown",
      "metadata": {
        "id": "7DN0SPgZ9VZa"
      },
      "source": [
        ""
      ]
    },
    {
      "cell_type": "code",
      "metadata": {
        "id": "eXUBXYJV9Uvw",
        "outputId": "d3b97bb6-0f9b-4d77-de46-c24726728c94",
        "colab": {
          "base_uri": "https://localhost:8080/",
          "height": 34
        }
      },
      "source": [
        "from google.colab import drive\n",
        "drive.mount('/content/drive')"
      ],
      "execution_count": 5,
      "outputs": [
        {
          "output_type": "stream",
          "text": [
            "Mounted at /content/drive\n"
          ],
          "name": "stdout"
        }
      ]
    },
    {
      "cell_type": "code",
      "metadata": {
        "id": "d52i6D5cDZs4",
        "outputId": "f661781e-c78f-47b0-c7cf-069b2717108c",
        "colab": {
          "base_uri": "https://localhost:8080/",
          "height": 439
        }
      },
      "source": [
        "dados_drive = pd.read_csv('/content/drive/My Drive/PP3/covtype.csv')\n",
        "dados_drive"
      ],
      "execution_count": 6,
      "outputs": [
        {
          "output_type": "execute_result",
          "data": {
            "text/html": [
              "<div>\n",
              "<style scoped>\n",
              "    .dataframe tbody tr th:only-of-type {\n",
              "        vertical-align: middle;\n",
              "    }\n",
              "\n",
              "    .dataframe tbody tr th {\n",
              "        vertical-align: top;\n",
              "    }\n",
              "\n",
              "    .dataframe thead th {\n",
              "        text-align: right;\n",
              "    }\n",
              "</style>\n",
              "<table border=\"1\" class=\"dataframe\">\n",
              "  <thead>\n",
              "    <tr style=\"text-align: right;\">\n",
              "      <th></th>\n",
              "      <th>Elevation</th>\n",
              "      <th>Aspect</th>\n",
              "      <th>Slope</th>\n",
              "      <th>Horizontal_Distance_To_Hydrology</th>\n",
              "      <th>Vertical_Distance_To_Hydrology</th>\n",
              "      <th>Horizontal_Distance_To_Roadways</th>\n",
              "      <th>Hillshade_9am</th>\n",
              "      <th>Hillshade_Noon</th>\n",
              "      <th>Hillshade_3pm</th>\n",
              "      <th>Horizontal_Distance_To_Fire_Points</th>\n",
              "      <th>Wilderness_Area1</th>\n",
              "      <th>Wilderness_Area2</th>\n",
              "      <th>Wilderness_Area3</th>\n",
              "      <th>Wilderness_Area4</th>\n",
              "      <th>Soil_Type1</th>\n",
              "      <th>Soil_Type2</th>\n",
              "      <th>Soil_Type3</th>\n",
              "      <th>Soil_Type4</th>\n",
              "      <th>Soil_Type5</th>\n",
              "      <th>Soil_Type6</th>\n",
              "      <th>Soil_Type7</th>\n",
              "      <th>Soil_Type8</th>\n",
              "      <th>Soil_Type9</th>\n",
              "      <th>Soil_Type10</th>\n",
              "      <th>Soil_Type11</th>\n",
              "      <th>Soil_Type12</th>\n",
              "      <th>Soil_Type13</th>\n",
              "      <th>Soil_Type14</th>\n",
              "      <th>Soil_Type15</th>\n",
              "      <th>Soil_Type16</th>\n",
              "      <th>Soil_Type17</th>\n",
              "      <th>Soil_Type18</th>\n",
              "      <th>Soil_Type19</th>\n",
              "      <th>Soil_Type20</th>\n",
              "      <th>Soil_Type21</th>\n",
              "      <th>Soil_Type22</th>\n",
              "      <th>Soil_Type23</th>\n",
              "      <th>Soil_Type24</th>\n",
              "      <th>Soil_Type25</th>\n",
              "      <th>Soil_Type26</th>\n",
              "      <th>Soil_Type27</th>\n",
              "      <th>Soil_Type28</th>\n",
              "      <th>Soil_Type29</th>\n",
              "      <th>Soil_Type30</th>\n",
              "      <th>Soil_Type31</th>\n",
              "      <th>Soil_Type32</th>\n",
              "      <th>Soil_Type33</th>\n",
              "      <th>Soil_Type34</th>\n",
              "      <th>Soil_Type35</th>\n",
              "      <th>Soil_Type36</th>\n",
              "      <th>Soil_Type37</th>\n",
              "      <th>Soil_Type38</th>\n",
              "      <th>Soil_Type39</th>\n",
              "      <th>Soil_Type40</th>\n",
              "      <th>Cover_Type</th>\n",
              "    </tr>\n",
              "  </thead>\n",
              "  <tbody>\n",
              "    <tr>\n",
              "      <th>0</th>\n",
              "      <td>2596</td>\n",
              "      <td>51</td>\n",
              "      <td>3</td>\n",
              "      <td>258</td>\n",
              "      <td>0</td>\n",
              "      <td>510</td>\n",
              "      <td>221</td>\n",
              "      <td>232</td>\n",
              "      <td>148</td>\n",
              "      <td>6279</td>\n",
              "      <td>1</td>\n",
              "      <td>0</td>\n",
              "      <td>0</td>\n",
              "      <td>0</td>\n",
              "      <td>0</td>\n",
              "      <td>0</td>\n",
              "      <td>0</td>\n",
              "      <td>0</td>\n",
              "      <td>0</td>\n",
              "      <td>0</td>\n",
              "      <td>0</td>\n",
              "      <td>0</td>\n",
              "      <td>0</td>\n",
              "      <td>0</td>\n",
              "      <td>0</td>\n",
              "      <td>0</td>\n",
              "      <td>0</td>\n",
              "      <td>0</td>\n",
              "      <td>0</td>\n",
              "      <td>0</td>\n",
              "      <td>0</td>\n",
              "      <td>0</td>\n",
              "      <td>0</td>\n",
              "      <td>0</td>\n",
              "      <td>0</td>\n",
              "      <td>0</td>\n",
              "      <td>0</td>\n",
              "      <td>0</td>\n",
              "      <td>0</td>\n",
              "      <td>0</td>\n",
              "      <td>0</td>\n",
              "      <td>0</td>\n",
              "      <td>1</td>\n",
              "      <td>0</td>\n",
              "      <td>0</td>\n",
              "      <td>0</td>\n",
              "      <td>0</td>\n",
              "      <td>0</td>\n",
              "      <td>0</td>\n",
              "      <td>0</td>\n",
              "      <td>0</td>\n",
              "      <td>0</td>\n",
              "      <td>0</td>\n",
              "      <td>0</td>\n",
              "      <td>5</td>\n",
              "    </tr>\n",
              "    <tr>\n",
              "      <th>1</th>\n",
              "      <td>2590</td>\n",
              "      <td>56</td>\n",
              "      <td>2</td>\n",
              "      <td>212</td>\n",
              "      <td>-6</td>\n",
              "      <td>390</td>\n",
              "      <td>220</td>\n",
              "      <td>235</td>\n",
              "      <td>151</td>\n",
              "      <td>6225</td>\n",
              "      <td>1</td>\n",
              "      <td>0</td>\n",
              "      <td>0</td>\n",
              "      <td>0</td>\n",
              "      <td>0</td>\n",
              "      <td>0</td>\n",
              "      <td>0</td>\n",
              "      <td>0</td>\n",
              "      <td>0</td>\n",
              "      <td>0</td>\n",
              "      <td>0</td>\n",
              "      <td>0</td>\n",
              "      <td>0</td>\n",
              "      <td>0</td>\n",
              "      <td>0</td>\n",
              "      <td>0</td>\n",
              "      <td>0</td>\n",
              "      <td>0</td>\n",
              "      <td>0</td>\n",
              "      <td>0</td>\n",
              "      <td>0</td>\n",
              "      <td>0</td>\n",
              "      <td>0</td>\n",
              "      <td>0</td>\n",
              "      <td>0</td>\n",
              "      <td>0</td>\n",
              "      <td>0</td>\n",
              "      <td>0</td>\n",
              "      <td>0</td>\n",
              "      <td>0</td>\n",
              "      <td>0</td>\n",
              "      <td>0</td>\n",
              "      <td>1</td>\n",
              "      <td>0</td>\n",
              "      <td>0</td>\n",
              "      <td>0</td>\n",
              "      <td>0</td>\n",
              "      <td>0</td>\n",
              "      <td>0</td>\n",
              "      <td>0</td>\n",
              "      <td>0</td>\n",
              "      <td>0</td>\n",
              "      <td>0</td>\n",
              "      <td>0</td>\n",
              "      <td>5</td>\n",
              "    </tr>\n",
              "    <tr>\n",
              "      <th>2</th>\n",
              "      <td>2804</td>\n",
              "      <td>139</td>\n",
              "      <td>9</td>\n",
              "      <td>268</td>\n",
              "      <td>65</td>\n",
              "      <td>3180</td>\n",
              "      <td>234</td>\n",
              "      <td>238</td>\n",
              "      <td>135</td>\n",
              "      <td>6121</td>\n",
              "      <td>1</td>\n",
              "      <td>0</td>\n",
              "      <td>0</td>\n",
              "      <td>0</td>\n",
              "      <td>0</td>\n",
              "      <td>0</td>\n",
              "      <td>0</td>\n",
              "      <td>0</td>\n",
              "      <td>0</td>\n",
              "      <td>0</td>\n",
              "      <td>0</td>\n",
              "      <td>0</td>\n",
              "      <td>0</td>\n",
              "      <td>0</td>\n",
              "      <td>0</td>\n",
              "      <td>1</td>\n",
              "      <td>0</td>\n",
              "      <td>0</td>\n",
              "      <td>0</td>\n",
              "      <td>0</td>\n",
              "      <td>0</td>\n",
              "      <td>0</td>\n",
              "      <td>0</td>\n",
              "      <td>0</td>\n",
              "      <td>0</td>\n",
              "      <td>0</td>\n",
              "      <td>0</td>\n",
              "      <td>0</td>\n",
              "      <td>0</td>\n",
              "      <td>0</td>\n",
              "      <td>0</td>\n",
              "      <td>0</td>\n",
              "      <td>0</td>\n",
              "      <td>0</td>\n",
              "      <td>0</td>\n",
              "      <td>0</td>\n",
              "      <td>0</td>\n",
              "      <td>0</td>\n",
              "      <td>0</td>\n",
              "      <td>0</td>\n",
              "      <td>0</td>\n",
              "      <td>0</td>\n",
              "      <td>0</td>\n",
              "      <td>0</td>\n",
              "      <td>2</td>\n",
              "    </tr>\n",
              "    <tr>\n",
              "      <th>3</th>\n",
              "      <td>2785</td>\n",
              "      <td>155</td>\n",
              "      <td>18</td>\n",
              "      <td>242</td>\n",
              "      <td>118</td>\n",
              "      <td>3090</td>\n",
              "      <td>238</td>\n",
              "      <td>238</td>\n",
              "      <td>122</td>\n",
              "      <td>6211</td>\n",
              "      <td>1</td>\n",
              "      <td>0</td>\n",
              "      <td>0</td>\n",
              "      <td>0</td>\n",
              "      <td>0</td>\n",
              "      <td>0</td>\n",
              "      <td>0</td>\n",
              "      <td>0</td>\n",
              "      <td>0</td>\n",
              "      <td>0</td>\n",
              "      <td>0</td>\n",
              "      <td>0</td>\n",
              "      <td>0</td>\n",
              "      <td>0</td>\n",
              "      <td>0</td>\n",
              "      <td>0</td>\n",
              "      <td>0</td>\n",
              "      <td>0</td>\n",
              "      <td>0</td>\n",
              "      <td>0</td>\n",
              "      <td>0</td>\n",
              "      <td>0</td>\n",
              "      <td>0</td>\n",
              "      <td>0</td>\n",
              "      <td>0</td>\n",
              "      <td>0</td>\n",
              "      <td>0</td>\n",
              "      <td>0</td>\n",
              "      <td>0</td>\n",
              "      <td>0</td>\n",
              "      <td>0</td>\n",
              "      <td>0</td>\n",
              "      <td>0</td>\n",
              "      <td>1</td>\n",
              "      <td>0</td>\n",
              "      <td>0</td>\n",
              "      <td>0</td>\n",
              "      <td>0</td>\n",
              "      <td>0</td>\n",
              "      <td>0</td>\n",
              "      <td>0</td>\n",
              "      <td>0</td>\n",
              "      <td>0</td>\n",
              "      <td>0</td>\n",
              "      <td>2</td>\n",
              "    </tr>\n",
              "    <tr>\n",
              "      <th>4</th>\n",
              "      <td>2595</td>\n",
              "      <td>45</td>\n",
              "      <td>2</td>\n",
              "      <td>153</td>\n",
              "      <td>-1</td>\n",
              "      <td>391</td>\n",
              "      <td>220</td>\n",
              "      <td>234</td>\n",
              "      <td>150</td>\n",
              "      <td>6172</td>\n",
              "      <td>1</td>\n",
              "      <td>0</td>\n",
              "      <td>0</td>\n",
              "      <td>0</td>\n",
              "      <td>0</td>\n",
              "      <td>0</td>\n",
              "      <td>0</td>\n",
              "      <td>0</td>\n",
              "      <td>0</td>\n",
              "      <td>0</td>\n",
              "      <td>0</td>\n",
              "      <td>0</td>\n",
              "      <td>0</td>\n",
              "      <td>0</td>\n",
              "      <td>0</td>\n",
              "      <td>0</td>\n",
              "      <td>0</td>\n",
              "      <td>0</td>\n",
              "      <td>0</td>\n",
              "      <td>0</td>\n",
              "      <td>0</td>\n",
              "      <td>0</td>\n",
              "      <td>0</td>\n",
              "      <td>0</td>\n",
              "      <td>0</td>\n",
              "      <td>0</td>\n",
              "      <td>0</td>\n",
              "      <td>0</td>\n",
              "      <td>0</td>\n",
              "      <td>0</td>\n",
              "      <td>0</td>\n",
              "      <td>0</td>\n",
              "      <td>1</td>\n",
              "      <td>0</td>\n",
              "      <td>0</td>\n",
              "      <td>0</td>\n",
              "      <td>0</td>\n",
              "      <td>0</td>\n",
              "      <td>0</td>\n",
              "      <td>0</td>\n",
              "      <td>0</td>\n",
              "      <td>0</td>\n",
              "      <td>0</td>\n",
              "      <td>0</td>\n",
              "      <td>5</td>\n",
              "    </tr>\n",
              "    <tr>\n",
              "      <th>...</th>\n",
              "      <td>...</td>\n",
              "      <td>...</td>\n",
              "      <td>...</td>\n",
              "      <td>...</td>\n",
              "      <td>...</td>\n",
              "      <td>...</td>\n",
              "      <td>...</td>\n",
              "      <td>...</td>\n",
              "      <td>...</td>\n",
              "      <td>...</td>\n",
              "      <td>...</td>\n",
              "      <td>...</td>\n",
              "      <td>...</td>\n",
              "      <td>...</td>\n",
              "      <td>...</td>\n",
              "      <td>...</td>\n",
              "      <td>...</td>\n",
              "      <td>...</td>\n",
              "      <td>...</td>\n",
              "      <td>...</td>\n",
              "      <td>...</td>\n",
              "      <td>...</td>\n",
              "      <td>...</td>\n",
              "      <td>...</td>\n",
              "      <td>...</td>\n",
              "      <td>...</td>\n",
              "      <td>...</td>\n",
              "      <td>...</td>\n",
              "      <td>...</td>\n",
              "      <td>...</td>\n",
              "      <td>...</td>\n",
              "      <td>...</td>\n",
              "      <td>...</td>\n",
              "      <td>...</td>\n",
              "      <td>...</td>\n",
              "      <td>...</td>\n",
              "      <td>...</td>\n",
              "      <td>...</td>\n",
              "      <td>...</td>\n",
              "      <td>...</td>\n",
              "      <td>...</td>\n",
              "      <td>...</td>\n",
              "      <td>...</td>\n",
              "      <td>...</td>\n",
              "      <td>...</td>\n",
              "      <td>...</td>\n",
              "      <td>...</td>\n",
              "      <td>...</td>\n",
              "      <td>...</td>\n",
              "      <td>...</td>\n",
              "      <td>...</td>\n",
              "      <td>...</td>\n",
              "      <td>...</td>\n",
              "      <td>...</td>\n",
              "      <td>...</td>\n",
              "    </tr>\n",
              "    <tr>\n",
              "      <th>581007</th>\n",
              "      <td>2396</td>\n",
              "      <td>153</td>\n",
              "      <td>20</td>\n",
              "      <td>85</td>\n",
              "      <td>17</td>\n",
              "      <td>108</td>\n",
              "      <td>240</td>\n",
              "      <td>237</td>\n",
              "      <td>118</td>\n",
              "      <td>837</td>\n",
              "      <td>0</td>\n",
              "      <td>0</td>\n",
              "      <td>1</td>\n",
              "      <td>0</td>\n",
              "      <td>0</td>\n",
              "      <td>1</td>\n",
              "      <td>0</td>\n",
              "      <td>0</td>\n",
              "      <td>0</td>\n",
              "      <td>0</td>\n",
              "      <td>0</td>\n",
              "      <td>0</td>\n",
              "      <td>0</td>\n",
              "      <td>0</td>\n",
              "      <td>0</td>\n",
              "      <td>0</td>\n",
              "      <td>0</td>\n",
              "      <td>0</td>\n",
              "      <td>0</td>\n",
              "      <td>0</td>\n",
              "      <td>0</td>\n",
              "      <td>0</td>\n",
              "      <td>0</td>\n",
              "      <td>0</td>\n",
              "      <td>0</td>\n",
              "      <td>0</td>\n",
              "      <td>0</td>\n",
              "      <td>0</td>\n",
              "      <td>0</td>\n",
              "      <td>0</td>\n",
              "      <td>0</td>\n",
              "      <td>0</td>\n",
              "      <td>0</td>\n",
              "      <td>0</td>\n",
              "      <td>0</td>\n",
              "      <td>0</td>\n",
              "      <td>0</td>\n",
              "      <td>0</td>\n",
              "      <td>0</td>\n",
              "      <td>0</td>\n",
              "      <td>0</td>\n",
              "      <td>0</td>\n",
              "      <td>0</td>\n",
              "      <td>0</td>\n",
              "      <td>3</td>\n",
              "    </tr>\n",
              "    <tr>\n",
              "      <th>581008</th>\n",
              "      <td>2391</td>\n",
              "      <td>152</td>\n",
              "      <td>19</td>\n",
              "      <td>67</td>\n",
              "      <td>12</td>\n",
              "      <td>95</td>\n",
              "      <td>240</td>\n",
              "      <td>237</td>\n",
              "      <td>119</td>\n",
              "      <td>845</td>\n",
              "      <td>0</td>\n",
              "      <td>0</td>\n",
              "      <td>1</td>\n",
              "      <td>0</td>\n",
              "      <td>0</td>\n",
              "      <td>1</td>\n",
              "      <td>0</td>\n",
              "      <td>0</td>\n",
              "      <td>0</td>\n",
              "      <td>0</td>\n",
              "      <td>0</td>\n",
              "      <td>0</td>\n",
              "      <td>0</td>\n",
              "      <td>0</td>\n",
              "      <td>0</td>\n",
              "      <td>0</td>\n",
              "      <td>0</td>\n",
              "      <td>0</td>\n",
              "      <td>0</td>\n",
              "      <td>0</td>\n",
              "      <td>0</td>\n",
              "      <td>0</td>\n",
              "      <td>0</td>\n",
              "      <td>0</td>\n",
              "      <td>0</td>\n",
              "      <td>0</td>\n",
              "      <td>0</td>\n",
              "      <td>0</td>\n",
              "      <td>0</td>\n",
              "      <td>0</td>\n",
              "      <td>0</td>\n",
              "      <td>0</td>\n",
              "      <td>0</td>\n",
              "      <td>0</td>\n",
              "      <td>0</td>\n",
              "      <td>0</td>\n",
              "      <td>0</td>\n",
              "      <td>0</td>\n",
              "      <td>0</td>\n",
              "      <td>0</td>\n",
              "      <td>0</td>\n",
              "      <td>0</td>\n",
              "      <td>0</td>\n",
              "      <td>0</td>\n",
              "      <td>3</td>\n",
              "    </tr>\n",
              "    <tr>\n",
              "      <th>581009</th>\n",
              "      <td>2386</td>\n",
              "      <td>159</td>\n",
              "      <td>17</td>\n",
              "      <td>60</td>\n",
              "      <td>7</td>\n",
              "      <td>90</td>\n",
              "      <td>236</td>\n",
              "      <td>241</td>\n",
              "      <td>130</td>\n",
              "      <td>854</td>\n",
              "      <td>0</td>\n",
              "      <td>0</td>\n",
              "      <td>1</td>\n",
              "      <td>0</td>\n",
              "      <td>0</td>\n",
              "      <td>1</td>\n",
              "      <td>0</td>\n",
              "      <td>0</td>\n",
              "      <td>0</td>\n",
              "      <td>0</td>\n",
              "      <td>0</td>\n",
              "      <td>0</td>\n",
              "      <td>0</td>\n",
              "      <td>0</td>\n",
              "      <td>0</td>\n",
              "      <td>0</td>\n",
              "      <td>0</td>\n",
              "      <td>0</td>\n",
              "      <td>0</td>\n",
              "      <td>0</td>\n",
              "      <td>0</td>\n",
              "      <td>0</td>\n",
              "      <td>0</td>\n",
              "      <td>0</td>\n",
              "      <td>0</td>\n",
              "      <td>0</td>\n",
              "      <td>0</td>\n",
              "      <td>0</td>\n",
              "      <td>0</td>\n",
              "      <td>0</td>\n",
              "      <td>0</td>\n",
              "      <td>0</td>\n",
              "      <td>0</td>\n",
              "      <td>0</td>\n",
              "      <td>0</td>\n",
              "      <td>0</td>\n",
              "      <td>0</td>\n",
              "      <td>0</td>\n",
              "      <td>0</td>\n",
              "      <td>0</td>\n",
              "      <td>0</td>\n",
              "      <td>0</td>\n",
              "      <td>0</td>\n",
              "      <td>0</td>\n",
              "      <td>3</td>\n",
              "    </tr>\n",
              "    <tr>\n",
              "      <th>581010</th>\n",
              "      <td>2384</td>\n",
              "      <td>170</td>\n",
              "      <td>15</td>\n",
              "      <td>60</td>\n",
              "      <td>5</td>\n",
              "      <td>90</td>\n",
              "      <td>230</td>\n",
              "      <td>245</td>\n",
              "      <td>143</td>\n",
              "      <td>864</td>\n",
              "      <td>0</td>\n",
              "      <td>0</td>\n",
              "      <td>1</td>\n",
              "      <td>0</td>\n",
              "      <td>0</td>\n",
              "      <td>1</td>\n",
              "      <td>0</td>\n",
              "      <td>0</td>\n",
              "      <td>0</td>\n",
              "      <td>0</td>\n",
              "      <td>0</td>\n",
              "      <td>0</td>\n",
              "      <td>0</td>\n",
              "      <td>0</td>\n",
              "      <td>0</td>\n",
              "      <td>0</td>\n",
              "      <td>0</td>\n",
              "      <td>0</td>\n",
              "      <td>0</td>\n",
              "      <td>0</td>\n",
              "      <td>0</td>\n",
              "      <td>0</td>\n",
              "      <td>0</td>\n",
              "      <td>0</td>\n",
              "      <td>0</td>\n",
              "      <td>0</td>\n",
              "      <td>0</td>\n",
              "      <td>0</td>\n",
              "      <td>0</td>\n",
              "      <td>0</td>\n",
              "      <td>0</td>\n",
              "      <td>0</td>\n",
              "      <td>0</td>\n",
              "      <td>0</td>\n",
              "      <td>0</td>\n",
              "      <td>0</td>\n",
              "      <td>0</td>\n",
              "      <td>0</td>\n",
              "      <td>0</td>\n",
              "      <td>0</td>\n",
              "      <td>0</td>\n",
              "      <td>0</td>\n",
              "      <td>0</td>\n",
              "      <td>0</td>\n",
              "      <td>3</td>\n",
              "    </tr>\n",
              "    <tr>\n",
              "      <th>581011</th>\n",
              "      <td>2383</td>\n",
              "      <td>165</td>\n",
              "      <td>13</td>\n",
              "      <td>60</td>\n",
              "      <td>4</td>\n",
              "      <td>67</td>\n",
              "      <td>231</td>\n",
              "      <td>244</td>\n",
              "      <td>141</td>\n",
              "      <td>875</td>\n",
              "      <td>0</td>\n",
              "      <td>0</td>\n",
              "      <td>1</td>\n",
              "      <td>0</td>\n",
              "      <td>0</td>\n",
              "      <td>1</td>\n",
              "      <td>0</td>\n",
              "      <td>0</td>\n",
              "      <td>0</td>\n",
              "      <td>0</td>\n",
              "      <td>0</td>\n",
              "      <td>0</td>\n",
              "      <td>0</td>\n",
              "      <td>0</td>\n",
              "      <td>0</td>\n",
              "      <td>0</td>\n",
              "      <td>0</td>\n",
              "      <td>0</td>\n",
              "      <td>0</td>\n",
              "      <td>0</td>\n",
              "      <td>0</td>\n",
              "      <td>0</td>\n",
              "      <td>0</td>\n",
              "      <td>0</td>\n",
              "      <td>0</td>\n",
              "      <td>0</td>\n",
              "      <td>0</td>\n",
              "      <td>0</td>\n",
              "      <td>0</td>\n",
              "      <td>0</td>\n",
              "      <td>0</td>\n",
              "      <td>0</td>\n",
              "      <td>0</td>\n",
              "      <td>0</td>\n",
              "      <td>0</td>\n",
              "      <td>0</td>\n",
              "      <td>0</td>\n",
              "      <td>0</td>\n",
              "      <td>0</td>\n",
              "      <td>0</td>\n",
              "      <td>0</td>\n",
              "      <td>0</td>\n",
              "      <td>0</td>\n",
              "      <td>0</td>\n",
              "      <td>3</td>\n",
              "    </tr>\n",
              "  </tbody>\n",
              "</table>\n",
              "<p>581012 rows × 55 columns</p>\n",
              "</div>"
            ],
            "text/plain": [
              "        Elevation  Aspect  Slope  ...  Soil_Type39  Soil_Type40  Cover_Type\n",
              "0            2596      51      3  ...            0            0           5\n",
              "1            2590      56      2  ...            0            0           5\n",
              "2            2804     139      9  ...            0            0           2\n",
              "3            2785     155     18  ...            0            0           2\n",
              "4            2595      45      2  ...            0            0           5\n",
              "...           ...     ...    ...  ...          ...          ...         ...\n",
              "581007       2396     153     20  ...            0            0           3\n",
              "581008       2391     152     19  ...            0            0           3\n",
              "581009       2386     159     17  ...            0            0           3\n",
              "581010       2384     170     15  ...            0            0           3\n",
              "581011       2383     165     13  ...            0            0           3\n",
              "\n",
              "[581012 rows x 55 columns]"
            ]
          },
          "metadata": {
            "tags": []
          },
          "execution_count": 6
        }
      ]
    },
    {
      "cell_type": "markdown",
      "metadata": {
        "id": "MKQNAkYD6UxW"
      },
      "source": [
        "2. Elimine todas as colunas relativas aos atributos categóricos"
      ]
    },
    {
      "cell_type": "code",
      "metadata": {
        "id": "AGe_CDY86UxX"
      },
      "source": [
        "dados = dataset\n",
        "\n",
        "for i in range(40):\n",
        "    dados = dados.drop(columns=[f'Soil_Type{i+1}'])\n",
        "#    dados_drive = dados_drive.drop(columns=[f'Soil_Type{i+1}'])\n",
        "for i in range(4):\n",
        "    dados = dados.drop(columns=[f'Wilderness_Area{i+1}'])\n",
        " #   dados_drive = dados_drive.drop(columns=[f'Wilderness_Area{i+1}'])\n",
        "\n"
      ],
      "execution_count": 3,
      "outputs": []
    },
    {
      "cell_type": "code",
      "metadata": {
        "id": "3sR7PweN6Uxb",
        "outputId": "c5f1bbb2-5927-4e05-f132-e9666d99fe03",
        "colab": {
          "base_uri": "https://localhost:8080/",
          "height": 102
        }
      },
      "source": [
        "dados.columns\n",
        "#dados_drive.columns"
      ],
      "execution_count": 4,
      "outputs": [
        {
          "output_type": "execute_result",
          "data": {
            "text/plain": [
              "Index(['Elevation', 'Aspect', 'Slope', 'Horizontal_Distance_To_Hydrology',\n",
              "       'Vertical_Distance_To_Hydrology', 'Horizontal_Distance_To_Roadways',\n",
              "       'Hillshade_9am', 'Hillshade_Noon', 'Hillshade_3pm',\n",
              "       'Horizontal_Distance_To_Fire_Points', 'Cover_Type'],\n",
              "      dtype='object')"
            ]
          },
          "metadata": {},
          "execution_count": 4
        }
      ]
    },
    {
      "cell_type": "markdown",
      "metadata": {
        "id": "2YHlGE596Uxf"
      },
      "source": [
        "3. Armazene o atributo alvo em uma variável y e os atributos preditores em uma variável X\n",
        "4. Efetue uma partição holdout 70/30 com o sklearn, distribuindo os exemplos de maneira aleatória"
      ]
    },
    {
      "cell_type": "code",
      "metadata": {
        "id": "4mFEcHQ56Uxg"
      },
      "source": [
        "x = dados.drop(\"Cover_Type\", axis = 1)\n",
        "y = dados.Cover_Type"
      ],
      "execution_count": 5,
      "outputs": []
    },
    {
      "cell_type": "code",
      "metadata": {
        "id": "qfVb9-iq6Uxk"
      },
      "source": [
        "X_train, X_test, Y_train, Y_test = train_test_split(x, y, test_size = 0.3, random_state = 42)"
      ],
      "execution_count": 6,
      "outputs": []
    },
    {
      "cell_type": "code",
      "metadata": {
        "id": "z_mtOiM46Uxp"
      },
      "source": [
        "#escalonamento\n",
        "X_train_std = (X_train - np.mean(X_train))/np.std(X_train)\n",
        "X_test_std = (X_test - np.mean(X_train))/np.std(X_train)\n"
      ],
      "execution_count": 7,
      "outputs": []
    },
    {
      "cell_type": "code",
      "metadata": {
        "id": "6Opb6eai6Uxt",
        "outputId": "dfee04ed-9fb5-4655-9d0b-7e93876122de",
        "colab": {
          "base_uri": "https://localhost:8080/",
          "height": 1000
        }
      },
      "source": [
        "#Treine um rede neural\n",
        "mlp = MLPClassifier(hidden_layer_sizes= (10,), activation= \"relu\", solver= 'adam', max_iter= 300, verbose= True)\n",
        "mlp.fit(X_train_std, Y_train)"
      ],
      "execution_count": 19,
      "outputs": [
        {
          "output_type": "stream",
          "text": [
            "Iteration 1, loss = 0.89339689\n",
            "Iteration 2, loss = 0.69752547\n",
            "Iteration 3, loss = 0.67788679\n",
            "Iteration 4, loss = 0.67151760\n",
            "Iteration 5, loss = 0.66781257\n",
            "Iteration 6, loss = 0.66525704\n",
            "Iteration 7, loss = 0.66312242\n",
            "Iteration 8, loss = 0.66152182\n",
            "Iteration 9, loss = 0.66053588\n",
            "Iteration 10, loss = 0.65979325\n",
            "Iteration 11, loss = 0.65910961\n",
            "Iteration 12, loss = 0.65857995\n",
            "Iteration 13, loss = 0.65797375\n",
            "Iteration 14, loss = 0.65708109\n",
            "Iteration 15, loss = 0.65573319\n",
            "Iteration 16, loss = 0.65466793\n",
            "Iteration 17, loss = 0.65391317\n",
            "Iteration 18, loss = 0.65309043\n",
            "Iteration 19, loss = 0.65260069\n",
            "Iteration 20, loss = 0.65233650\n",
            "Iteration 21, loss = 0.65201485\n",
            "Iteration 22, loss = 0.65149439\n",
            "Iteration 23, loss = 0.65089379\n",
            "Iteration 24, loss = 0.65055556\n",
            "Iteration 25, loss = 0.65012328\n",
            "Iteration 26, loss = 0.64984130\n",
            "Iteration 27, loss = 0.64960240\n",
            "Iteration 28, loss = 0.64939944\n",
            "Iteration 29, loss = 0.64926030\n",
            "Iteration 30, loss = 0.64912347\n",
            "Iteration 31, loss = 0.64907555\n",
            "Iteration 32, loss = 0.64901770\n",
            "Iteration 33, loss = 0.64892592\n",
            "Iteration 34, loss = 0.64881638\n",
            "Iteration 35, loss = 0.64879981\n",
            "Iteration 36, loss = 0.64868778\n",
            "Iteration 37, loss = 0.64863785\n",
            "Iteration 38, loss = 0.64866693\n",
            "Iteration 39, loss = 0.64855900\n",
            "Iteration 40, loss = 0.64860257\n",
            "Iteration 41, loss = 0.64850674\n",
            "Iteration 42, loss = 0.64848608\n",
            "Iteration 43, loss = 0.64841800\n",
            "Iteration 44, loss = 0.64841427\n",
            "Iteration 45, loss = 0.64829416\n",
            "Iteration 46, loss = 0.64839809\n",
            "Iteration 47, loss = 0.64822553\n",
            "Iteration 48, loss = 0.64830048\n",
            "Iteration 49, loss = 0.64811817\n",
            "Iteration 50, loss = 0.64814894\n",
            "Iteration 51, loss = 0.64809250\n",
            "Iteration 52, loss = 0.64801475\n",
            "Iteration 53, loss = 0.64798622\n",
            "Iteration 54, loss = 0.64795483\n",
            "Iteration 55, loss = 0.64789752\n",
            "Iteration 56, loss = 0.64792709\n",
            "Iteration 57, loss = 0.64779769\n",
            "Iteration 58, loss = 0.64776121\n",
            "Iteration 59, loss = 0.64785636\n",
            "Iteration 60, loss = 0.64779496\n",
            "Training loss did not improve more than tol=0.000100 for 10 consecutive epochs. Stopping.\n"
          ],
          "name": "stdout"
        },
        {
          "output_type": "execute_result",
          "data": {
            "text/plain": [
              "MLPClassifier(activation='relu', alpha=0.0001, batch_size='auto', beta_1=0.9,\n",
              "              beta_2=0.999, early_stopping=False, epsilon=1e-08,\n",
              "              hidden_layer_sizes=(10,), learning_rate='constant',\n",
              "              learning_rate_init=0.001, max_fun=15000, max_iter=300,\n",
              "              momentum=0.9, n_iter_no_change=10, nesterovs_momentum=True,\n",
              "              power_t=0.5, random_state=None, shuffle=True, solver='adam',\n",
              "              tol=0.0001, validation_fraction=0.1, verbose=True,\n",
              "              warm_start=False)"
            ]
          },
          "metadata": {
            "tags": []
          },
          "execution_count": 19
        }
      ]
    },
    {
      "cell_type": "code",
      "metadata": {
        "id": "budlvi7T6Uxw"
      },
      "source": [
        "predictions = mlp.predict(X_test_std)"
      ],
      "execution_count": null,
      "outputs": []
    },
    {
      "cell_type": "code",
      "metadata": {
        "id": "nPjeHyM16Uxz",
        "outputId": "c79bc95f-6a49-4c2d-a779-191681dc3aee"
      },
      "source": [
        "#Imprimir Matriz de Confusão\n",
        "fig, ax = plt.subplots()\n",
        "sns.heatmap(confusion_matrix(Y_test, predictions), annot=True, \n",
        "            ax=ax, fmt='d', cmap='Reds')\n",
        "ax.set_title(\"Matriz de Confusão\", fontsize=18)\n",
        "ax.set_ylabel(\"True label\")\n",
        "ax.set_xlabel(\"Predicted Label\")\n",
        "plt.tight_layout()"
      ],
      "execution_count": null,
      "outputs": [
        {
          "output_type": "display_data",
          "data": {
            "text/plain": [
              "<Figure size 432x288 with 2 Axes>"
            ],
            "image/svg+xml": "<?xml version=\"1.0\" encoding=\"utf-8\" standalone=\"no\"?>\n<!DOCTYPE svg PUBLIC \"-//W3C//DTD SVG 1.1//EN\"\n  \"http://www.w3.org/Graphics/SVG/1.1/DTD/svg11.dtd\">\n<!-- Created with matplotlib (https://matplotlib.org/) -->\n<svg height=\"279.833438pt\" version=\"1.1\" viewBox=\"0 0 416.82875 279.833438\" width=\"416.82875pt\" xmlns=\"http://www.w3.org/2000/svg\" xmlns:xlink=\"http://www.w3.org/1999/xlink\">\n <defs>\n  <style type=\"text/css\">\n*{stroke-linecap:butt;stroke-linejoin:round;}\n  </style>\n </defs>\n <g id=\"figure_1\">\n  <g id=\"patch_1\">\n   <path d=\"M 0 279.833438 \nL 416.82875 279.833438 \nL 416.82875 0 \nL 0 0 \nz\n\" style=\"fill:none;\"/>\n  </g>\n  <g id=\"axes_1\">\n   <g id=\"patch_2\">\n    <path d=\"M 37.55625 242.277187 \nL 341.07625 242.277187 \nL 341.07625 26.877188 \nL 37.55625 26.877188 \nz\n\" style=\"fill:#ffffff;\"/>\n   </g>\n   <g id=\"QuadMesh_1\">\n    <path clip-path=\"url(#p54a91eb69f)\" d=\"M 37.55625 26.877188 \nL 80.91625 26.877188 \nL 80.91625 57.648616 \nL 37.55625 57.648616 \nL 37.55625 26.877188 \n\" style=\"fill:#ed392b;\"/>\n    <path clip-path=\"url(#p54a91eb69f)\" d=\"M 80.91625 26.877188 \nL 124.27625 26.877188 \nL 124.27625 57.648616 \nL 80.91625 57.648616 \nL 80.91625 26.877188 \n\" style=\"fill:#fcb499;\"/>\n    <path clip-path=\"url(#p54a91eb69f)\" d=\"M 124.27625 26.877188 \nL 167.63625 26.877188 \nL 167.63625 57.648616 \nL 124.27625 57.648616 \nL 124.27625 26.877188 \n\" style=\"fill:#fff5f0;\"/>\n    <path clip-path=\"url(#p54a91eb69f)\" d=\"M 167.63625 26.877188 \nL 210.99625 26.877188 \nL 210.99625 57.648616 \nL 167.63625 57.648616 \nL 167.63625 26.877188 \n\" style=\"fill:#fff5f0;\"/>\n    <path clip-path=\"url(#p54a91eb69f)\" d=\"M 210.99625 26.877188 \nL 254.35625 26.877188 \nL 254.35625 57.648616 \nL 210.99625 57.648616 \nL 210.99625 26.877188 \n\" style=\"fill:#fff5f0;\"/>\n    <path clip-path=\"url(#p54a91eb69f)\" d=\"M 254.35625 26.877188 \nL 297.71625 26.877188 \nL 297.71625 57.648616 \nL 254.35625 57.648616 \nL 254.35625 26.877188 \n\" style=\"fill:#fff5f0;\"/>\n    <path clip-path=\"url(#p54a91eb69f)\" d=\"M 297.71625 26.877188 \nL 341.07625 26.877188 \nL 341.07625 57.648616 \nL 297.71625 57.648616 \nL 297.71625 26.877188 \n\" style=\"fill:#fff3ed;\"/>\n    <path clip-path=\"url(#p54a91eb69f)\" d=\"M 37.55625 57.648616 \nL 80.91625 57.648616 \nL 80.91625 88.420045 \nL 37.55625 88.420045 \nL 37.55625 57.648616 \n\" style=\"fill:#fdc7b2;\"/>\n    <path clip-path=\"url(#p54a91eb69f)\" d=\"M 80.91625 57.648616 \nL 124.27625 57.648616 \nL 124.27625 88.420045 \nL 80.91625 88.420045 \nL 80.91625 57.648616 \n\" style=\"fill:#67000d;\"/>\n    <path clip-path=\"url(#p54a91eb69f)\" d=\"M 124.27625 57.648616 \nL 167.63625 57.648616 \nL 167.63625 88.420045 \nL 124.27625 88.420045 \nL 124.27625 57.648616 \n\" style=\"fill:#fff3ed;\"/>\n    <path clip-path=\"url(#p54a91eb69f)\" d=\"M 167.63625 57.648616 \nL 210.99625 57.648616 \nL 210.99625 88.420045 \nL 167.63625 88.420045 \nL 167.63625 57.648616 \n\" style=\"fill:#fff5f0;\"/>\n    <path clip-path=\"url(#p54a91eb69f)\" d=\"M 210.99625 57.648616 \nL 254.35625 57.648616 \nL 254.35625 88.420045 \nL 210.99625 88.420045 \nL 210.99625 57.648616 \n\" style=\"fill:#fff5f0;\"/>\n    <path clip-path=\"url(#p54a91eb69f)\" d=\"M 254.35625 57.648616 \nL 297.71625 57.648616 \nL 297.71625 88.420045 \nL 254.35625 88.420045 \nL 254.35625 57.648616 \n\" style=\"fill:#fff4ef;\"/>\n    <path clip-path=\"url(#p54a91eb69f)\" d=\"M 297.71625 57.648616 \nL 341.07625 57.648616 \nL 341.07625 88.420045 \nL 297.71625 88.420045 \nL 297.71625 57.648616 \n\" style=\"fill:#fff5f0;\"/>\n    <path clip-path=\"url(#p54a91eb69f)\" d=\"M 37.55625 88.420045 \nL 80.91625 88.420045 \nL 80.91625 119.191473 \nL 37.55625 119.191473 \nL 37.55625 88.420045 \n\" style=\"fill:#fff5f0;\"/>\n    <path clip-path=\"url(#p54a91eb69f)\" d=\"M 80.91625 88.420045 \nL 124.27625 88.420045 \nL 124.27625 119.191473 \nL 80.91625 119.191473 \nL 80.91625 88.420045 \n\" style=\"fill:#fff0e9;\"/>\n    <path clip-path=\"url(#p54a91eb69f)\" d=\"M 124.27625 88.420045 \nL 167.63625 88.420045 \nL 167.63625 119.191473 \nL 124.27625 119.191473 \nL 124.27625 88.420045 \n\" style=\"fill:#fee3d7;\"/>\n    <path clip-path=\"url(#p54a91eb69f)\" d=\"M 167.63625 88.420045 \nL 210.99625 88.420045 \nL 210.99625 119.191473 \nL 167.63625 119.191473 \nL 167.63625 88.420045 \n\" style=\"fill:#fff5f0;\"/>\n    <path clip-path=\"url(#p54a91eb69f)\" d=\"M 210.99625 88.420045 \nL 254.35625 88.420045 \nL 254.35625 119.191473 \nL 210.99625 119.191473 \nL 210.99625 88.420045 \n\" style=\"fill:#fff5f0;\"/>\n    <path clip-path=\"url(#p54a91eb69f)\" d=\"M 254.35625 88.420045 \nL 297.71625 88.420045 \nL 297.71625 119.191473 \nL 254.35625 119.191473 \nL 254.35625 88.420045 \n\" style=\"fill:#fff3ed;\"/>\n    <path clip-path=\"url(#p54a91eb69f)\" d=\"M 297.71625 88.420045 \nL 341.07625 88.420045 \nL 341.07625 119.191473 \nL 297.71625 119.191473 \nL 297.71625 88.420045 \n\" style=\"fill:#fff5f0;\"/>\n    <path clip-path=\"url(#p54a91eb69f)\" d=\"M 37.55625 119.191473 \nL 80.91625 119.191473 \nL 80.91625 149.962902 \nL 37.55625 149.962902 \nL 37.55625 119.191473 \n\" style=\"fill:#fff5f0;\"/>\n    <path clip-path=\"url(#p54a91eb69f)\" d=\"M 80.91625 119.191473 \nL 124.27625 119.191473 \nL 124.27625 149.962902 \nL 80.91625 149.962902 \nL 80.91625 119.191473 \n\" style=\"fill:#fff5f0;\"/>\n    <path clip-path=\"url(#p54a91eb69f)\" d=\"M 124.27625 119.191473 \nL 167.63625 119.191473 \nL 167.63625 149.962902 \nL 124.27625 149.962902 \nL 124.27625 119.191473 \n\" style=\"fill:#fff4ef;\"/>\n    <path clip-path=\"url(#p54a91eb69f)\" d=\"M 167.63625 119.191473 \nL 210.99625 119.191473 \nL 210.99625 149.962902 \nL 167.63625 149.962902 \nL 167.63625 119.191473 \n\" style=\"fill:#fff5f0;\"/>\n    <path clip-path=\"url(#p54a91eb69f)\" d=\"M 210.99625 119.191473 \nL 254.35625 119.191473 \nL 254.35625 149.962902 \nL 210.99625 149.962902 \nL 210.99625 119.191473 \n\" style=\"fill:#fff5f0;\"/>\n    <path clip-path=\"url(#p54a91eb69f)\" d=\"M 254.35625 119.191473 \nL 297.71625 119.191473 \nL 297.71625 149.962902 \nL 254.35625 149.962902 \nL 254.35625 119.191473 \n\" style=\"fill:#fff5f0;\"/>\n    <path clip-path=\"url(#p54a91eb69f)\" d=\"M 297.71625 119.191473 \nL 341.07625 119.191473 \nL 341.07625 149.962902 \nL 297.71625 149.962902 \nL 297.71625 119.191473 \n\" style=\"fill:#fff5f0;\"/>\n    <path clip-path=\"url(#p54a91eb69f)\" d=\"M 37.55625 149.962902 \nL 80.91625 149.962902 \nL 80.91625 180.73433 \nL 37.55625 180.73433 \nL 37.55625 149.962902 \n\" style=\"fill:#fff5f0;\"/>\n    <path clip-path=\"url(#p54a91eb69f)\" d=\"M 80.91625 149.962902 \nL 124.27625 149.962902 \nL 124.27625 180.73433 \nL 80.91625 180.73433 \nL 80.91625 149.962902 \n\" style=\"fill:#ffeee7;\"/>\n    <path clip-path=\"url(#p54a91eb69f)\" d=\"M 124.27625 149.962902 \nL 167.63625 149.962902 \nL 167.63625 180.73433 \nL 124.27625 180.73433 \nL 124.27625 149.962902 \n\" style=\"fill:#fff5f0;\"/>\n    <path clip-path=\"url(#p54a91eb69f)\" d=\"M 167.63625 149.962902 \nL 210.99625 149.962902 \nL 210.99625 180.73433 \nL 167.63625 180.73433 \nL 167.63625 149.962902 \n\" style=\"fill:#fff5f0;\"/>\n    <path clip-path=\"url(#p54a91eb69f)\" d=\"M 210.99625 149.962902 \nL 254.35625 149.962902 \nL 254.35625 180.73433 \nL 210.99625 180.73433 \nL 210.99625 149.962902 \n\" style=\"fill:#fff5f0;\"/>\n    <path clip-path=\"url(#p54a91eb69f)\" d=\"M 254.35625 149.962902 \nL 297.71625 149.962902 \nL 297.71625 180.73433 \nL 254.35625 180.73433 \nL 254.35625 149.962902 \n\" style=\"fill:#fff5f0;\"/>\n    <path clip-path=\"url(#p54a91eb69f)\" d=\"M 297.71625 149.962902 \nL 341.07625 149.962902 \nL 341.07625 180.73433 \nL 297.71625 180.73433 \nL 297.71625 149.962902 \n\" style=\"fill:#fff5f0;\"/>\n    <path clip-path=\"url(#p54a91eb69f)\" d=\"M 37.55625 180.73433 \nL 80.91625 180.73433 \nL 80.91625 211.505759 \nL 37.55625 211.505759 \nL 37.55625 180.73433 \n\" style=\"fill:#fff5f0;\"/>\n    <path clip-path=\"url(#p54a91eb69f)\" d=\"M 80.91625 180.73433 \nL 124.27625 180.73433 \nL 124.27625 211.505759 \nL 80.91625 211.505759 \nL 80.91625 180.73433 \n\" style=\"fill:#fff1ea;\"/>\n    <path clip-path=\"url(#p54a91eb69f)\" d=\"M 124.27625 180.73433 \nL 167.63625 180.73433 \nL 167.63625 211.505759 \nL 124.27625 211.505759 \nL 124.27625 180.73433 \n\" style=\"fill:#fff0e8;\"/>\n    <path clip-path=\"url(#p54a91eb69f)\" d=\"M 167.63625 180.73433 \nL 210.99625 180.73433 \nL 210.99625 211.505759 \nL 167.63625 211.505759 \nL 167.63625 180.73433 \n\" style=\"fill:#fff5f0;\"/>\n    <path clip-path=\"url(#p54a91eb69f)\" d=\"M 210.99625 180.73433 \nL 254.35625 180.73433 \nL 254.35625 211.505759 \nL 210.99625 211.505759 \nL 210.99625 180.73433 \n\" style=\"fill:#fff5f0;\"/>\n    <path clip-path=\"url(#p54a91eb69f)\" d=\"M 254.35625 180.73433 \nL 297.71625 180.73433 \nL 297.71625 211.505759 \nL 254.35625 211.505759 \nL 254.35625 180.73433 \n\" style=\"fill:#fff2ec;\"/>\n    <path clip-path=\"url(#p54a91eb69f)\" d=\"M 297.71625 180.73433 \nL 341.07625 180.73433 \nL 341.07625 211.505759 \nL 297.71625 211.505759 \nL 297.71625 180.73433 \n\" style=\"fill:#fff5f0;\"/>\n    <path clip-path=\"url(#p54a91eb69f)\" d=\"M 37.55625 211.505759 \nL 80.91625 211.505759 \nL 80.91625 242.277187 \nL 37.55625 242.277187 \nL 37.55625 211.505759 \n\" style=\"fill:#ffeee7;\"/>\n    <path clip-path=\"url(#p54a91eb69f)\" d=\"M 80.91625 211.505759 \nL 124.27625 211.505759 \nL 124.27625 242.277187 \nL 80.91625 242.277187 \nL 80.91625 211.505759 \n\" style=\"fill:#fff5f0;\"/>\n    <path clip-path=\"url(#p54a91eb69f)\" d=\"M 124.27625 211.505759 \nL 167.63625 211.505759 \nL 167.63625 242.277187 \nL 124.27625 242.277187 \nL 124.27625 211.505759 \n\" style=\"fill:#fff5f0;\"/>\n    <path clip-path=\"url(#p54a91eb69f)\" d=\"M 167.63625 211.505759 \nL 210.99625 211.505759 \nL 210.99625 242.277187 \nL 167.63625 242.277187 \nL 167.63625 211.505759 \n\" style=\"fill:#fff5f0;\"/>\n    <path clip-path=\"url(#p54a91eb69f)\" d=\"M 210.99625 211.505759 \nL 254.35625 211.505759 \nL 254.35625 242.277187 \nL 210.99625 242.277187 \nL 210.99625 211.505759 \n\" style=\"fill:#fff5f0;\"/>\n    <path clip-path=\"url(#p54a91eb69f)\" d=\"M 254.35625 211.505759 \nL 297.71625 211.505759 \nL 297.71625 242.277187 \nL 254.35625 242.277187 \nL 254.35625 211.505759 \n\" style=\"fill:#fff5f0;\"/>\n    <path clip-path=\"url(#p54a91eb69f)\" d=\"M 297.71625 211.505759 \nL 341.07625 211.505759 \nL 341.07625 242.277187 \nL 297.71625 242.277187 \nL 297.71625 211.505759 \n\" style=\"fill:#ffeee6;\"/>\n   </g>\n   <g id=\"matplotlib.axis_1\">\n    <g id=\"xtick_1\">\n     <g id=\"line2d_1\">\n      <defs>\n       <path d=\"M 0 0 \nL 0 3.5 \n\" id=\"m20347d0461\" style=\"stroke:#000000;stroke-width:0.8;\"/>\n      </defs>\n      <g>\n       <use style=\"stroke:#000000;stroke-width:0.8;\" x=\"59.23625\" xlink:href=\"#m20347d0461\" y=\"242.277187\"/>\n      </g>\n     </g>\n     <g id=\"text_1\">\n      <!-- 0 -->\n      <defs>\n       <path d=\"M 31.78125 66.40625 \nQ 24.171875 66.40625 20.328125 58.90625 \nQ 16.5 51.421875 16.5 36.375 \nQ 16.5 21.390625 20.328125 13.890625 \nQ 24.171875 6.390625 31.78125 6.390625 \nQ 39.453125 6.390625 43.28125 13.890625 \nQ 47.125 21.390625 47.125 36.375 \nQ 47.125 51.421875 43.28125 58.90625 \nQ 39.453125 66.40625 31.78125 66.40625 \nz\nM 31.78125 74.21875 \nQ 44.046875 74.21875 50.515625 64.515625 \nQ 56.984375 54.828125 56.984375 36.375 \nQ 56.984375 17.96875 50.515625 8.265625 \nQ 44.046875 -1.421875 31.78125 -1.421875 \nQ 19.53125 -1.421875 13.0625 8.265625 \nQ 6.59375 17.96875 6.59375 36.375 \nQ 6.59375 54.828125 13.0625 64.515625 \nQ 19.53125 74.21875 31.78125 74.21875 \nz\n\" id=\"DejaVuSans-48\"/>\n      </defs>\n      <g transform=\"translate(56.055 256.875625)scale(0.1 -0.1)\">\n       <use xlink:href=\"#DejaVuSans-48\"/>\n      </g>\n     </g>\n    </g>\n    <g id=\"xtick_2\">\n     <g id=\"line2d_2\">\n      <g>\n       <use style=\"stroke:#000000;stroke-width:0.8;\" x=\"102.59625\" xlink:href=\"#m20347d0461\" y=\"242.277187\"/>\n      </g>\n     </g>\n     <g id=\"text_2\">\n      <!-- 1 -->\n      <defs>\n       <path d=\"M 12.40625 8.296875 \nL 28.515625 8.296875 \nL 28.515625 63.921875 \nL 10.984375 60.40625 \nL 10.984375 69.390625 \nL 28.421875 72.90625 \nL 38.28125 72.90625 \nL 38.28125 8.296875 \nL 54.390625 8.296875 \nL 54.390625 0 \nL 12.40625 0 \nz\n\" id=\"DejaVuSans-49\"/>\n      </defs>\n      <g transform=\"translate(99.415 256.875625)scale(0.1 -0.1)\">\n       <use xlink:href=\"#DejaVuSans-49\"/>\n      </g>\n     </g>\n    </g>\n    <g id=\"xtick_3\">\n     <g id=\"line2d_3\">\n      <g>\n       <use style=\"stroke:#000000;stroke-width:0.8;\" x=\"145.95625\" xlink:href=\"#m20347d0461\" y=\"242.277187\"/>\n      </g>\n     </g>\n     <g id=\"text_3\">\n      <!-- 2 -->\n      <defs>\n       <path d=\"M 19.1875 8.296875 \nL 53.609375 8.296875 \nL 53.609375 0 \nL 7.328125 0 \nL 7.328125 8.296875 \nQ 12.9375 14.109375 22.625 23.890625 \nQ 32.328125 33.6875 34.8125 36.53125 \nQ 39.546875 41.84375 41.421875 45.53125 \nQ 43.3125 49.21875 43.3125 52.78125 \nQ 43.3125 58.59375 39.234375 62.25 \nQ 35.15625 65.921875 28.609375 65.921875 \nQ 23.96875 65.921875 18.8125 64.3125 \nQ 13.671875 62.703125 7.8125 59.421875 \nL 7.8125 69.390625 \nQ 13.765625 71.78125 18.9375 73 \nQ 24.125 74.21875 28.421875 74.21875 \nQ 39.75 74.21875 46.484375 68.546875 \nQ 53.21875 62.890625 53.21875 53.421875 \nQ 53.21875 48.921875 51.53125 44.890625 \nQ 49.859375 40.875 45.40625 35.40625 \nQ 44.1875 33.984375 37.640625 27.21875 \nQ 31.109375 20.453125 19.1875 8.296875 \nz\n\" id=\"DejaVuSans-50\"/>\n      </defs>\n      <g transform=\"translate(142.775 256.875625)scale(0.1 -0.1)\">\n       <use xlink:href=\"#DejaVuSans-50\"/>\n      </g>\n     </g>\n    </g>\n    <g id=\"xtick_4\">\n     <g id=\"line2d_4\">\n      <g>\n       <use style=\"stroke:#000000;stroke-width:0.8;\" x=\"189.31625\" xlink:href=\"#m20347d0461\" y=\"242.277187\"/>\n      </g>\n     </g>\n     <g id=\"text_4\">\n      <!-- 3 -->\n      <defs>\n       <path d=\"M 40.578125 39.3125 \nQ 47.65625 37.796875 51.625 33 \nQ 55.609375 28.21875 55.609375 21.1875 \nQ 55.609375 10.40625 48.1875 4.484375 \nQ 40.765625 -1.421875 27.09375 -1.421875 \nQ 22.515625 -1.421875 17.65625 -0.515625 \nQ 12.796875 0.390625 7.625 2.203125 \nL 7.625 11.71875 \nQ 11.71875 9.328125 16.59375 8.109375 \nQ 21.484375 6.890625 26.8125 6.890625 \nQ 36.078125 6.890625 40.9375 10.546875 \nQ 45.796875 14.203125 45.796875 21.1875 \nQ 45.796875 27.640625 41.28125 31.265625 \nQ 36.765625 34.90625 28.71875 34.90625 \nL 20.21875 34.90625 \nL 20.21875 43.015625 \nL 29.109375 43.015625 \nQ 36.375 43.015625 40.234375 45.921875 \nQ 44.09375 48.828125 44.09375 54.296875 \nQ 44.09375 59.90625 40.109375 62.90625 \nQ 36.140625 65.921875 28.71875 65.921875 \nQ 24.65625 65.921875 20.015625 65.03125 \nQ 15.375 64.15625 9.8125 62.3125 \nL 9.8125 71.09375 \nQ 15.4375 72.65625 20.34375 73.4375 \nQ 25.25 74.21875 29.59375 74.21875 \nQ 40.828125 74.21875 47.359375 69.109375 \nQ 53.90625 64.015625 53.90625 55.328125 \nQ 53.90625 49.265625 50.4375 45.09375 \nQ 46.96875 40.921875 40.578125 39.3125 \nz\n\" id=\"DejaVuSans-51\"/>\n      </defs>\n      <g transform=\"translate(186.135 256.875625)scale(0.1 -0.1)\">\n       <use xlink:href=\"#DejaVuSans-51\"/>\n      </g>\n     </g>\n    </g>\n    <g id=\"xtick_5\">\n     <g id=\"line2d_5\">\n      <g>\n       <use style=\"stroke:#000000;stroke-width:0.8;\" x=\"232.67625\" xlink:href=\"#m20347d0461\" y=\"242.277187\"/>\n      </g>\n     </g>\n     <g id=\"text_5\">\n      <!-- 4 -->\n      <defs>\n       <path d=\"M 37.796875 64.3125 \nL 12.890625 25.390625 \nL 37.796875 25.390625 \nz\nM 35.203125 72.90625 \nL 47.609375 72.90625 \nL 47.609375 25.390625 \nL 58.015625 25.390625 \nL 58.015625 17.1875 \nL 47.609375 17.1875 \nL 47.609375 0 \nL 37.796875 0 \nL 37.796875 17.1875 \nL 4.890625 17.1875 \nL 4.890625 26.703125 \nz\n\" id=\"DejaVuSans-52\"/>\n      </defs>\n      <g transform=\"translate(229.495 256.875625)scale(0.1 -0.1)\">\n       <use xlink:href=\"#DejaVuSans-52\"/>\n      </g>\n     </g>\n    </g>\n    <g id=\"xtick_6\">\n     <g id=\"line2d_6\">\n      <g>\n       <use style=\"stroke:#000000;stroke-width:0.8;\" x=\"276.03625\" xlink:href=\"#m20347d0461\" y=\"242.277187\"/>\n      </g>\n     </g>\n     <g id=\"text_6\">\n      <!-- 5 -->\n      <defs>\n       <path d=\"M 10.796875 72.90625 \nL 49.515625 72.90625 \nL 49.515625 64.59375 \nL 19.828125 64.59375 \nL 19.828125 46.734375 \nQ 21.96875 47.46875 24.109375 47.828125 \nQ 26.265625 48.1875 28.421875 48.1875 \nQ 40.625 48.1875 47.75 41.5 \nQ 54.890625 34.8125 54.890625 23.390625 \nQ 54.890625 11.625 47.5625 5.09375 \nQ 40.234375 -1.421875 26.90625 -1.421875 \nQ 22.3125 -1.421875 17.546875 -0.640625 \nQ 12.796875 0.140625 7.71875 1.703125 \nL 7.71875 11.625 \nQ 12.109375 9.234375 16.796875 8.0625 \nQ 21.484375 6.890625 26.703125 6.890625 \nQ 35.15625 6.890625 40.078125 11.328125 \nQ 45.015625 15.765625 45.015625 23.390625 \nQ 45.015625 31 40.078125 35.4375 \nQ 35.15625 39.890625 26.703125 39.890625 \nQ 22.75 39.890625 18.8125 39.015625 \nQ 14.890625 38.140625 10.796875 36.28125 \nz\n\" id=\"DejaVuSans-53\"/>\n      </defs>\n      <g transform=\"translate(272.855 256.875625)scale(0.1 -0.1)\">\n       <use xlink:href=\"#DejaVuSans-53\"/>\n      </g>\n     </g>\n    </g>\n    <g id=\"xtick_7\">\n     <g id=\"line2d_7\">\n      <g>\n       <use style=\"stroke:#000000;stroke-width:0.8;\" x=\"319.39625\" xlink:href=\"#m20347d0461\" y=\"242.277187\"/>\n      </g>\n     </g>\n     <g id=\"text_7\">\n      <!-- 6 -->\n      <defs>\n       <path d=\"M 33.015625 40.375 \nQ 26.375 40.375 22.484375 35.828125 \nQ 18.609375 31.296875 18.609375 23.390625 \nQ 18.609375 15.53125 22.484375 10.953125 \nQ 26.375 6.390625 33.015625 6.390625 \nQ 39.65625 6.390625 43.53125 10.953125 \nQ 47.40625 15.53125 47.40625 23.390625 \nQ 47.40625 31.296875 43.53125 35.828125 \nQ 39.65625 40.375 33.015625 40.375 \nz\nM 52.59375 71.296875 \nL 52.59375 62.3125 \nQ 48.875 64.0625 45.09375 64.984375 \nQ 41.3125 65.921875 37.59375 65.921875 \nQ 27.828125 65.921875 22.671875 59.328125 \nQ 17.53125 52.734375 16.796875 39.40625 \nQ 19.671875 43.65625 24.015625 45.921875 \nQ 28.375 48.1875 33.59375 48.1875 \nQ 44.578125 48.1875 50.953125 41.515625 \nQ 57.328125 34.859375 57.328125 23.390625 \nQ 57.328125 12.15625 50.6875 5.359375 \nQ 44.046875 -1.421875 33.015625 -1.421875 \nQ 20.359375 -1.421875 13.671875 8.265625 \nQ 6.984375 17.96875 6.984375 36.375 \nQ 6.984375 53.65625 15.1875 63.9375 \nQ 23.390625 74.21875 37.203125 74.21875 \nQ 40.921875 74.21875 44.703125 73.484375 \nQ 48.484375 72.75 52.59375 71.296875 \nz\n\" id=\"DejaVuSans-54\"/>\n      </defs>\n      <g transform=\"translate(316.215 256.875625)scale(0.1 -0.1)\">\n       <use xlink:href=\"#DejaVuSans-54\"/>\n      </g>\n     </g>\n    </g>\n    <g id=\"text_8\">\n     <!-- Predicted Label -->\n     <defs>\n      <path d=\"M 19.671875 64.796875 \nL 19.671875 37.40625 \nL 32.078125 37.40625 \nQ 38.96875 37.40625 42.71875 40.96875 \nQ 46.484375 44.53125 46.484375 51.125 \nQ 46.484375 57.671875 42.71875 61.234375 \nQ 38.96875 64.796875 32.078125 64.796875 \nz\nM 9.8125 72.90625 \nL 32.078125 72.90625 \nQ 44.34375 72.90625 50.609375 67.359375 \nQ 56.890625 61.8125 56.890625 51.125 \nQ 56.890625 40.328125 50.609375 34.8125 \nQ 44.34375 29.296875 32.078125 29.296875 \nL 19.671875 29.296875 \nL 19.671875 0 \nL 9.8125 0 \nz\n\" id=\"DejaVuSans-80\"/>\n      <path d=\"M 41.109375 46.296875 \nQ 39.59375 47.171875 37.8125 47.578125 \nQ 36.03125 48 33.890625 48 \nQ 26.265625 48 22.1875 43.046875 \nQ 18.109375 38.09375 18.109375 28.8125 \nL 18.109375 0 \nL 9.078125 0 \nL 9.078125 54.6875 \nL 18.109375 54.6875 \nL 18.109375 46.1875 \nQ 20.953125 51.171875 25.484375 53.578125 \nQ 30.03125 56 36.53125 56 \nQ 37.453125 56 38.578125 55.875 \nQ 39.703125 55.765625 41.0625 55.515625 \nz\n\" id=\"DejaVuSans-114\"/>\n      <path d=\"M 56.203125 29.59375 \nL 56.203125 25.203125 \nL 14.890625 25.203125 \nQ 15.484375 15.921875 20.484375 11.0625 \nQ 25.484375 6.203125 34.421875 6.203125 \nQ 39.59375 6.203125 44.453125 7.46875 \nQ 49.3125 8.734375 54.109375 11.28125 \nL 54.109375 2.78125 \nQ 49.265625 0.734375 44.1875 -0.34375 \nQ 39.109375 -1.421875 33.890625 -1.421875 \nQ 20.796875 -1.421875 13.15625 6.1875 \nQ 5.515625 13.8125 5.515625 26.8125 \nQ 5.515625 40.234375 12.765625 48.109375 \nQ 20.015625 56 32.328125 56 \nQ 43.359375 56 49.78125 48.890625 \nQ 56.203125 41.796875 56.203125 29.59375 \nz\nM 47.21875 32.234375 \nQ 47.125 39.59375 43.09375 43.984375 \nQ 39.0625 48.390625 32.421875 48.390625 \nQ 24.90625 48.390625 20.390625 44.140625 \nQ 15.875 39.890625 15.1875 32.171875 \nz\n\" id=\"DejaVuSans-101\"/>\n      <path d=\"M 45.40625 46.390625 \nL 45.40625 75.984375 \nL 54.390625 75.984375 \nL 54.390625 0 \nL 45.40625 0 \nL 45.40625 8.203125 \nQ 42.578125 3.328125 38.25 0.953125 \nQ 33.9375 -1.421875 27.875 -1.421875 \nQ 17.96875 -1.421875 11.734375 6.484375 \nQ 5.515625 14.40625 5.515625 27.296875 \nQ 5.515625 40.1875 11.734375 48.09375 \nQ 17.96875 56 27.875 56 \nQ 33.9375 56 38.25 53.625 \nQ 42.578125 51.265625 45.40625 46.390625 \nz\nM 14.796875 27.296875 \nQ 14.796875 17.390625 18.875 11.75 \nQ 22.953125 6.109375 30.078125 6.109375 \nQ 37.203125 6.109375 41.296875 11.75 \nQ 45.40625 17.390625 45.40625 27.296875 \nQ 45.40625 37.203125 41.296875 42.84375 \nQ 37.203125 48.484375 30.078125 48.484375 \nQ 22.953125 48.484375 18.875 42.84375 \nQ 14.796875 37.203125 14.796875 27.296875 \nz\n\" id=\"DejaVuSans-100\"/>\n      <path d=\"M 9.421875 54.6875 \nL 18.40625 54.6875 \nL 18.40625 0 \nL 9.421875 0 \nz\nM 9.421875 75.984375 \nL 18.40625 75.984375 \nL 18.40625 64.59375 \nL 9.421875 64.59375 \nz\n\" id=\"DejaVuSans-105\"/>\n      <path d=\"M 48.78125 52.59375 \nL 48.78125 44.1875 \nQ 44.96875 46.296875 41.140625 47.34375 \nQ 37.3125 48.390625 33.40625 48.390625 \nQ 24.65625 48.390625 19.8125 42.84375 \nQ 14.984375 37.3125 14.984375 27.296875 \nQ 14.984375 17.28125 19.8125 11.734375 \nQ 24.65625 6.203125 33.40625 6.203125 \nQ 37.3125 6.203125 41.140625 7.25 \nQ 44.96875 8.296875 48.78125 10.40625 \nL 48.78125 2.09375 \nQ 45.015625 0.34375 40.984375 -0.53125 \nQ 36.96875 -1.421875 32.421875 -1.421875 \nQ 20.0625 -1.421875 12.78125 6.34375 \nQ 5.515625 14.109375 5.515625 27.296875 \nQ 5.515625 40.671875 12.859375 48.328125 \nQ 20.21875 56 33.015625 56 \nQ 37.15625 56 41.109375 55.140625 \nQ 45.0625 54.296875 48.78125 52.59375 \nz\n\" id=\"DejaVuSans-99\"/>\n      <path d=\"M 18.3125 70.21875 \nL 18.3125 54.6875 \nL 36.8125 54.6875 \nL 36.8125 47.703125 \nL 18.3125 47.703125 \nL 18.3125 18.015625 \nQ 18.3125 11.328125 20.140625 9.421875 \nQ 21.96875 7.515625 27.59375 7.515625 \nL 36.8125 7.515625 \nL 36.8125 0 \nL 27.59375 0 \nQ 17.1875 0 13.234375 3.875 \nQ 9.28125 7.765625 9.28125 18.015625 \nL 9.28125 47.703125 \nL 2.6875 47.703125 \nL 2.6875 54.6875 \nL 9.28125 54.6875 \nL 9.28125 70.21875 \nz\n\" id=\"DejaVuSans-116\"/>\n      <path id=\"DejaVuSans-32\"/>\n      <path d=\"M 9.8125 72.90625 \nL 19.671875 72.90625 \nL 19.671875 8.296875 \nL 55.171875 8.296875 \nL 55.171875 0 \nL 9.8125 0 \nz\n\" id=\"DejaVuSans-76\"/>\n      <path d=\"M 34.28125 27.484375 \nQ 23.390625 27.484375 19.1875 25 \nQ 14.984375 22.515625 14.984375 16.5 \nQ 14.984375 11.71875 18.140625 8.90625 \nQ 21.296875 6.109375 26.703125 6.109375 \nQ 34.1875 6.109375 38.703125 11.40625 \nQ 43.21875 16.703125 43.21875 25.484375 \nL 43.21875 27.484375 \nz\nM 52.203125 31.203125 \nL 52.203125 0 \nL 43.21875 0 \nL 43.21875 8.296875 \nQ 40.140625 3.328125 35.546875 0.953125 \nQ 30.953125 -1.421875 24.3125 -1.421875 \nQ 15.921875 -1.421875 10.953125 3.296875 \nQ 6 8.015625 6 15.921875 \nQ 6 25.140625 12.171875 29.828125 \nQ 18.359375 34.515625 30.609375 34.515625 \nL 43.21875 34.515625 \nL 43.21875 35.40625 \nQ 43.21875 41.609375 39.140625 45 \nQ 35.0625 48.390625 27.6875 48.390625 \nQ 23 48.390625 18.546875 47.265625 \nQ 14.109375 46.140625 10.015625 43.890625 \nL 10.015625 52.203125 \nQ 14.9375 54.109375 19.578125 55.046875 \nQ 24.21875 56 28.609375 56 \nQ 40.484375 56 46.34375 49.84375 \nQ 52.203125 43.703125 52.203125 31.203125 \nz\n\" id=\"DejaVuSans-97\"/>\n      <path d=\"M 48.6875 27.296875 \nQ 48.6875 37.203125 44.609375 42.84375 \nQ 40.53125 48.484375 33.40625 48.484375 \nQ 26.265625 48.484375 22.1875 42.84375 \nQ 18.109375 37.203125 18.109375 27.296875 \nQ 18.109375 17.390625 22.1875 11.75 \nQ 26.265625 6.109375 33.40625 6.109375 \nQ 40.53125 6.109375 44.609375 11.75 \nQ 48.6875 17.390625 48.6875 27.296875 \nz\nM 18.109375 46.390625 \nQ 20.953125 51.265625 25.265625 53.625 \nQ 29.59375 56 35.59375 56 \nQ 45.5625 56 51.78125 48.09375 \nQ 58.015625 40.1875 58.015625 27.296875 \nQ 58.015625 14.40625 51.78125 6.484375 \nQ 45.5625 -1.421875 35.59375 -1.421875 \nQ 29.59375 -1.421875 25.265625 0.953125 \nQ 20.953125 3.328125 18.109375 8.203125 \nL 18.109375 0 \nL 9.078125 0 \nL 9.078125 75.984375 \nL 18.109375 75.984375 \nz\n\" id=\"DejaVuSans-98\"/>\n      <path d=\"M 9.421875 75.984375 \nL 18.40625 75.984375 \nL 18.40625 0 \nL 9.421875 0 \nz\n\" id=\"DejaVuSans-108\"/>\n     </defs>\n     <g transform=\"translate(150.569375 270.55375)scale(0.1 -0.1)\">\n      <use xlink:href=\"#DejaVuSans-80\"/>\n      <use x=\"60.287109\" xlink:href=\"#DejaVuSans-114\"/>\n      <use x=\"101.369141\" xlink:href=\"#DejaVuSans-101\"/>\n      <use x=\"162.892578\" xlink:href=\"#DejaVuSans-100\"/>\n      <use x=\"226.369141\" xlink:href=\"#DejaVuSans-105\"/>\n      <use x=\"254.152344\" xlink:href=\"#DejaVuSans-99\"/>\n      <use x=\"309.132812\" xlink:href=\"#DejaVuSans-116\"/>\n      <use x=\"348.341797\" xlink:href=\"#DejaVuSans-101\"/>\n      <use x=\"409.865234\" xlink:href=\"#DejaVuSans-100\"/>\n      <use x=\"473.341797\" xlink:href=\"#DejaVuSans-32\"/>\n      <use x=\"505.128906\" xlink:href=\"#DejaVuSans-76\"/>\n      <use x=\"560.841797\" xlink:href=\"#DejaVuSans-97\"/>\n      <use x=\"622.121094\" xlink:href=\"#DejaVuSans-98\"/>\n      <use x=\"685.597656\" xlink:href=\"#DejaVuSans-101\"/>\n      <use x=\"747.121094\" xlink:href=\"#DejaVuSans-108\"/>\n     </g>\n    </g>\n   </g>\n   <g id=\"matplotlib.axis_2\">\n    <g id=\"ytick_1\">\n     <g id=\"line2d_8\">\n      <defs>\n       <path d=\"M 0 0 \nL -3.5 0 \n\" id=\"m2cea2e11f5\" style=\"stroke:#000000;stroke-width:0.8;\"/>\n      </defs>\n      <g>\n       <use style=\"stroke:#000000;stroke-width:0.8;\" x=\"37.55625\" xlink:href=\"#m2cea2e11f5\" y=\"42.262902\"/>\n      </g>\n     </g>\n     <g id=\"text_9\">\n      <!-- 0 -->\n      <g transform=\"translate(28.476563 44.826183)rotate(-90)scale(0.1 -0.1)\">\n       <use xlink:href=\"#DejaVuSans-48\"/>\n      </g>\n     </g>\n    </g>\n    <g id=\"ytick_2\">\n     <g id=\"line2d_9\">\n      <g>\n       <use style=\"stroke:#000000;stroke-width:0.8;\" x=\"37.55625\" xlink:href=\"#m2cea2e11f5\" y=\"73.03433\"/>\n      </g>\n     </g>\n     <g id=\"text_10\">\n      <!-- 1 -->\n      <g transform=\"translate(28.476563 75.597612)rotate(-90)scale(0.1 -0.1)\">\n       <use xlink:href=\"#DejaVuSans-49\"/>\n      </g>\n     </g>\n    </g>\n    <g id=\"ytick_3\">\n     <g id=\"line2d_10\">\n      <g>\n       <use style=\"stroke:#000000;stroke-width:0.8;\" x=\"37.55625\" xlink:href=\"#m2cea2e11f5\" y=\"103.805759\"/>\n      </g>\n     </g>\n     <g id=\"text_11\">\n      <!-- 2 -->\n      <g transform=\"translate(28.476563 106.36904)rotate(-90)scale(0.1 -0.1)\">\n       <use xlink:href=\"#DejaVuSans-50\"/>\n      </g>\n     </g>\n    </g>\n    <g id=\"ytick_4\">\n     <g id=\"line2d_11\">\n      <g>\n       <use style=\"stroke:#000000;stroke-width:0.8;\" x=\"37.55625\" xlink:href=\"#m2cea2e11f5\" y=\"134.577187\"/>\n      </g>\n     </g>\n     <g id=\"text_12\">\n      <!-- 3 -->\n      <g transform=\"translate(28.476563 137.140469)rotate(-90)scale(0.1 -0.1)\">\n       <use xlink:href=\"#DejaVuSans-51\"/>\n      </g>\n     </g>\n    </g>\n    <g id=\"ytick_5\">\n     <g id=\"line2d_12\">\n      <g>\n       <use style=\"stroke:#000000;stroke-width:0.8;\" x=\"37.55625\" xlink:href=\"#m2cea2e11f5\" y=\"165.348616\"/>\n      </g>\n     </g>\n     <g id=\"text_13\">\n      <!-- 4 -->\n      <g transform=\"translate(28.476563 167.911897)rotate(-90)scale(0.1 -0.1)\">\n       <use xlink:href=\"#DejaVuSans-52\"/>\n      </g>\n     </g>\n    </g>\n    <g id=\"ytick_6\">\n     <g id=\"line2d_13\">\n      <g>\n       <use style=\"stroke:#000000;stroke-width:0.8;\" x=\"37.55625\" xlink:href=\"#m2cea2e11f5\" y=\"196.120045\"/>\n      </g>\n     </g>\n     <g id=\"text_14\">\n      <!-- 5 -->\n      <g transform=\"translate(28.476563 198.683326)rotate(-90)scale(0.1 -0.1)\">\n       <use xlink:href=\"#DejaVuSans-53\"/>\n      </g>\n     </g>\n    </g>\n    <g id=\"ytick_7\">\n     <g id=\"line2d_14\">\n      <g>\n       <use style=\"stroke:#000000;stroke-width:0.8;\" x=\"37.55625\" xlink:href=\"#m2cea2e11f5\" y=\"226.891473\"/>\n      </g>\n     </g>\n     <g id=\"text_15\">\n      <!-- 6 -->\n      <g transform=\"translate(28.476563 229.454754)rotate(-90)scale(0.1 -0.1)\">\n       <use xlink:href=\"#DejaVuSans-54\"/>\n      </g>\n     </g>\n    </g>\n    <g id=\"text_16\">\n     <!-- True label -->\n     <defs>\n      <path d=\"M -0.296875 72.90625 \nL 61.375 72.90625 \nL 61.375 64.59375 \nL 35.5 64.59375 \nL 35.5 0 \nL 25.59375 0 \nL 25.59375 64.59375 \nL -0.296875 64.59375 \nz\n\" id=\"DejaVuSans-84\"/>\n      <path d=\"M 8.5 21.578125 \nL 8.5 54.6875 \nL 17.484375 54.6875 \nL 17.484375 21.921875 \nQ 17.484375 14.15625 20.5 10.265625 \nQ 23.53125 6.390625 29.59375 6.390625 \nQ 36.859375 6.390625 41.078125 11.03125 \nQ 45.3125 15.671875 45.3125 23.6875 \nL 45.3125 54.6875 \nL 54.296875 54.6875 \nL 54.296875 0 \nL 45.3125 0 \nL 45.3125 8.40625 \nQ 42.046875 3.421875 37.71875 1 \nQ 33.40625 -1.421875 27.6875 -1.421875 \nQ 18.265625 -1.421875 13.375 4.4375 \nQ 8.5 10.296875 8.5 21.578125 \nz\nM 31.109375 56 \nz\n\" id=\"DejaVuSans-117\"/>\n     </defs>\n     <g transform=\"translate(14.798438 159.602969)rotate(-90)scale(0.1 -0.1)\">\n      <use xlink:href=\"#DejaVuSans-84\"/>\n      <use x=\"60.865234\" xlink:href=\"#DejaVuSans-114\"/>\n      <use x=\"101.978516\" xlink:href=\"#DejaVuSans-117\"/>\n      <use x=\"165.357422\" xlink:href=\"#DejaVuSans-101\"/>\n      <use x=\"226.880859\" xlink:href=\"#DejaVuSans-32\"/>\n      <use x=\"258.667969\" xlink:href=\"#DejaVuSans-108\"/>\n      <use x=\"286.451172\" xlink:href=\"#DejaVuSans-97\"/>\n      <use x=\"347.730469\" xlink:href=\"#DejaVuSans-98\"/>\n      <use x=\"411.207031\" xlink:href=\"#DejaVuSans-101\"/>\n      <use x=\"472.730469\" xlink:href=\"#DejaVuSans-108\"/>\n     </g>\n    </g>\n   </g>\n   <g id=\"text_17\">\n    <!-- 43828 -->\n    <defs>\n     <path d=\"M 31.78125 34.625 \nQ 24.75 34.625 20.71875 30.859375 \nQ 16.703125 27.09375 16.703125 20.515625 \nQ 16.703125 13.921875 20.71875 10.15625 \nQ 24.75 6.390625 31.78125 6.390625 \nQ 38.8125 6.390625 42.859375 10.171875 \nQ 46.921875 13.96875 46.921875 20.515625 \nQ 46.921875 27.09375 42.890625 30.859375 \nQ 38.875 34.625 31.78125 34.625 \nz\nM 21.921875 38.8125 \nQ 15.578125 40.375 12.03125 44.71875 \nQ 8.5 49.078125 8.5 55.328125 \nQ 8.5 64.0625 14.71875 69.140625 \nQ 20.953125 74.21875 31.78125 74.21875 \nQ 42.671875 74.21875 48.875 69.140625 \nQ 55.078125 64.0625 55.078125 55.328125 \nQ 55.078125 49.078125 51.53125 44.71875 \nQ 48 40.375 41.703125 38.8125 \nQ 48.828125 37.15625 52.796875 32.3125 \nQ 56.78125 27.484375 56.78125 20.515625 \nQ 56.78125 9.90625 50.3125 4.234375 \nQ 43.84375 -1.421875 31.78125 -1.421875 \nQ 19.734375 -1.421875 13.25 4.234375 \nQ 6.78125 9.90625 6.78125 20.515625 \nQ 6.78125 27.484375 10.78125 32.3125 \nQ 14.796875 37.15625 21.921875 38.8125 \nz\nM 18.3125 54.390625 \nQ 18.3125 48.734375 21.84375 45.5625 \nQ 25.390625 42.390625 31.78125 42.390625 \nQ 38.140625 42.390625 41.71875 45.5625 \nQ 45.3125 48.734375 45.3125 54.390625 \nQ 45.3125 60.0625 41.71875 63.234375 \nQ 38.140625 66.40625 31.78125 66.40625 \nQ 25.390625 66.40625 21.84375 63.234375 \nQ 18.3125 60.0625 18.3125 54.390625 \nz\n\" id=\"DejaVuSans-56\"/>\n    </defs>\n    <g style=\"fill:#ffffff;\" transform=\"translate(43.33 45.022277)scale(0.1 -0.1)\">\n     <use xlink:href=\"#DejaVuSans-52\"/>\n     <use x=\"63.623047\" xlink:href=\"#DejaVuSans-51\"/>\n     <use x=\"127.246094\" xlink:href=\"#DejaVuSans-56\"/>\n     <use x=\"190.869141\" xlink:href=\"#DejaVuSans-50\"/>\n     <use x=\"254.492188\" xlink:href=\"#DejaVuSans-56\"/>\n    </g>\n   </g>\n   <g id=\"text_18\">\n    <!-- 18790 -->\n    <defs>\n     <path d=\"M 8.203125 72.90625 \nL 55.078125 72.90625 \nL 55.078125 68.703125 \nL 28.609375 0 \nL 18.3125 0 \nL 43.21875 64.59375 \nL 8.203125 64.59375 \nz\n\" id=\"DejaVuSans-55\"/>\n     <path d=\"M 10.984375 1.515625 \nL 10.984375 10.5 \nQ 14.703125 8.734375 18.5 7.8125 \nQ 22.3125 6.890625 25.984375 6.890625 \nQ 35.75 6.890625 40.890625 13.453125 \nQ 46.046875 20.015625 46.78125 33.40625 \nQ 43.953125 29.203125 39.59375 26.953125 \nQ 35.25 24.703125 29.984375 24.703125 \nQ 19.046875 24.703125 12.671875 31.3125 \nQ 6.296875 37.9375 6.296875 49.421875 \nQ 6.296875 60.640625 12.9375 67.421875 \nQ 19.578125 74.21875 30.609375 74.21875 \nQ 43.265625 74.21875 49.921875 64.515625 \nQ 56.59375 54.828125 56.59375 36.375 \nQ 56.59375 19.140625 48.40625 8.859375 \nQ 40.234375 -1.421875 26.421875 -1.421875 \nQ 22.703125 -1.421875 18.890625 -0.6875 \nQ 15.09375 0.046875 10.984375 1.515625 \nz\nM 30.609375 32.421875 \nQ 37.25 32.421875 41.125 36.953125 \nQ 45.015625 41.5 45.015625 49.421875 \nQ 45.015625 57.28125 41.125 61.84375 \nQ 37.25 66.40625 30.609375 66.40625 \nQ 23.96875 66.40625 20.09375 61.84375 \nQ 16.21875 57.28125 16.21875 49.421875 \nQ 16.21875 41.5 20.09375 36.953125 \nQ 23.96875 32.421875 30.609375 32.421875 \nz\n\" id=\"DejaVuSans-57\"/>\n    </defs>\n    <g style=\"fill:#262626;\" transform=\"translate(86.69 45.022277)scale(0.1 -0.1)\">\n     <use xlink:href=\"#DejaVuSans-49\"/>\n     <use x=\"63.623047\" xlink:href=\"#DejaVuSans-56\"/>\n     <use x=\"127.246094\" xlink:href=\"#DejaVuSans-55\"/>\n     <use x=\"190.869141\" xlink:href=\"#DejaVuSans-57\"/>\n     <use x=\"254.492188\" xlink:href=\"#DejaVuSans-48\"/>\n    </g>\n   </g>\n   <g id=\"text_19\">\n    <!-- 0 -->\n    <g style=\"fill:#262626;\" transform=\"translate(142.775 45.022277)scale(0.1 -0.1)\">\n     <use xlink:href=\"#DejaVuSans-48\"/>\n    </g>\n   </g>\n   <g id=\"text_20\">\n    <!-- 0 -->\n    <g style=\"fill:#262626;\" transform=\"translate(186.135 45.022277)scale(0.1 -0.1)\">\n     <use xlink:href=\"#DejaVuSans-48\"/>\n    </g>\n   </g>\n   <g id=\"text_21\">\n    <!-- 2 -->\n    <g style=\"fill:#262626;\" transform=\"translate(229.495 45.022277)scale(0.1 -0.1)\">\n     <use xlink:href=\"#DejaVuSans-50\"/>\n    </g>\n   </g>\n   <g id=\"text_22\">\n    <!-- 13 -->\n    <g style=\"fill:#262626;\" transform=\"translate(269.67375 45.022277)scale(0.1 -0.1)\">\n     <use xlink:href=\"#DejaVuSans-49\"/>\n     <use x=\"63.623047\" xlink:href=\"#DejaVuSans-51\"/>\n    </g>\n   </g>\n   <g id=\"text_23\">\n    <!-- 865 -->\n    <g style=\"fill:#262626;\" transform=\"translate(309.8525 45.022277)scale(0.1 -0.1)\">\n     <use xlink:href=\"#DejaVuSans-56\"/>\n     <use x=\"63.623047\" xlink:href=\"#DejaVuSans-54\"/>\n     <use x=\"127.246094\" xlink:href=\"#DejaVuSans-53\"/>\n    </g>\n   </g>\n   <g id=\"text_24\">\n    <!-- 14487 -->\n    <g style=\"fill:#262626;\" transform=\"translate(43.33 75.793705)scale(0.1 -0.1)\">\n     <use xlink:href=\"#DejaVuSans-49\"/>\n     <use x=\"63.623047\" xlink:href=\"#DejaVuSans-52\"/>\n     <use x=\"127.246094\" xlink:href=\"#DejaVuSans-52\"/>\n     <use x=\"190.869141\" xlink:href=\"#DejaVuSans-56\"/>\n     <use x=\"254.492188\" xlink:href=\"#DejaVuSans-55\"/>\n    </g>\n   </g>\n   <g id=\"text_25\">\n    <!-- 69394 -->\n    <g style=\"fill:#ffffff;\" transform=\"translate(86.69 75.793705)scale(0.1 -0.1)\">\n     <use xlink:href=\"#DejaVuSans-54\"/>\n     <use x=\"63.623047\" xlink:href=\"#DejaVuSans-57\"/>\n     <use x=\"127.246094\" xlink:href=\"#DejaVuSans-51\"/>\n     <use x=\"190.869141\" xlink:href=\"#DejaVuSans-57\"/>\n     <use x=\"254.492188\" xlink:href=\"#DejaVuSans-52\"/>\n    </g>\n   </g>\n   <g id=\"text_26\">\n    <!-- 818 -->\n    <g style=\"fill:#262626;\" transform=\"translate(136.4125 75.793705)scale(0.1 -0.1)\">\n     <use xlink:href=\"#DejaVuSans-56\"/>\n     <use x=\"63.623047\" xlink:href=\"#DejaVuSans-49\"/>\n     <use x=\"127.246094\" xlink:href=\"#DejaVuSans-56\"/>\n    </g>\n   </g>\n   <g id=\"text_27\">\n    <!-- 1 -->\n    <g style=\"fill:#262626;\" transform=\"translate(186.135 75.793705)scale(0.1 -0.1)\">\n     <use xlink:href=\"#DejaVuSans-49\"/>\n    </g>\n   </g>\n   <g id=\"text_28\">\n    <!-- 15 -->\n    <g style=\"fill:#262626;\" transform=\"translate(226.31375 75.793705)scale(0.1 -0.1)\">\n     <use xlink:href=\"#DejaVuSans-49\"/>\n     <use x=\"63.623047\" xlink:href=\"#DejaVuSans-53\"/>\n    </g>\n   </g>\n   <g id=\"text_29\">\n    <!-- 450 -->\n    <g style=\"fill:#262626;\" transform=\"translate(266.4925 75.793705)scale(0.1 -0.1)\">\n     <use xlink:href=\"#DejaVuSans-52\"/>\n     <use x=\"63.623047\" xlink:href=\"#DejaVuSans-53\"/>\n     <use x=\"127.246094\" xlink:href=\"#DejaVuSans-48\"/>\n    </g>\n   </g>\n   <g id=\"text_30\">\n    <!-- 33 -->\n    <g style=\"fill:#262626;\" transform=\"translate(313.03375 75.793705)scale(0.1 -0.1)\">\n     <use xlink:href=\"#DejaVuSans-51\"/>\n     <use x=\"63.623047\" xlink:href=\"#DejaVuSans-51\"/>\n    </g>\n   </g>\n   <g id=\"text_31\">\n    <!-- 0 -->\n    <g style=\"fill:#262626;\" transform=\"translate(56.055 106.565134)scale(0.1 -0.1)\">\n     <use xlink:href=\"#DejaVuSans-48\"/>\n    </g>\n   </g>\n   <g id=\"text_32\">\n    <!-- 2025 -->\n    <g style=\"fill:#262626;\" transform=\"translate(89.87125 106.565134)scale(0.1 -0.1)\">\n     <use xlink:href=\"#DejaVuSans-50\"/>\n     <use x=\"63.623047\" xlink:href=\"#DejaVuSans-48\"/>\n     <use x=\"127.246094\" xlink:href=\"#DejaVuSans-50\"/>\n     <use x=\"190.869141\" xlink:href=\"#DejaVuSans-53\"/>\n    </g>\n   </g>\n   <g id=\"text_33\">\n    <!-- 7513 -->\n    <g style=\"fill:#262626;\" transform=\"translate(133.23125 106.565134)scale(0.1 -0.1)\">\n     <use xlink:href=\"#DejaVuSans-55\"/>\n     <use x=\"63.623047\" xlink:href=\"#DejaVuSans-53\"/>\n     <use x=\"127.246094\" xlink:href=\"#DejaVuSans-49\"/>\n     <use x=\"190.869141\" xlink:href=\"#DejaVuSans-51\"/>\n    </g>\n   </g>\n   <g id=\"text_34\">\n    <!-- 134 -->\n    <g style=\"fill:#262626;\" transform=\"translate(179.7725 106.565134)scale(0.1 -0.1)\">\n     <use xlink:href=\"#DejaVuSans-49\"/>\n     <use x=\"63.623047\" xlink:href=\"#DejaVuSans-51\"/>\n     <use x=\"127.246094\" xlink:href=\"#DejaVuSans-52\"/>\n    </g>\n   </g>\n   <g id=\"text_35\">\n    <!-- 0 -->\n    <g style=\"fill:#262626;\" transform=\"translate(229.495 106.565134)scale(0.1 -0.1)\">\n     <use xlink:href=\"#DejaVuSans-48\"/>\n    </g>\n   </g>\n   <g id=\"text_36\">\n    <!-- 909 -->\n    <g style=\"fill:#262626;\" transform=\"translate(266.4925 106.565134)scale(0.1 -0.1)\">\n     <use xlink:href=\"#DejaVuSans-57\"/>\n     <use x=\"63.623047\" xlink:href=\"#DejaVuSans-48\"/>\n     <use x=\"127.246094\" xlink:href=\"#DejaVuSans-57\"/>\n    </g>\n   </g>\n   <g id=\"text_37\">\n    <!-- 0 -->\n    <g style=\"fill:#262626;\" transform=\"translate(316.215 106.565134)scale(0.1 -0.1)\">\n     <use xlink:href=\"#DejaVuSans-48\"/>\n    </g>\n   </g>\n   <g id=\"text_38\">\n    <!-- 0 -->\n    <g style=\"fill:#262626;\" transform=\"translate(56.055 137.336562)scale(0.1 -0.1)\">\n     <use xlink:href=\"#DejaVuSans-48\"/>\n    </g>\n   </g>\n   <g id=\"text_39\">\n    <!-- 12 -->\n    <g style=\"fill:#262626;\" transform=\"translate(96.23375 137.336562)scale(0.1 -0.1)\">\n     <use xlink:href=\"#DejaVuSans-49\"/>\n     <use x=\"63.623047\" xlink:href=\"#DejaVuSans-50\"/>\n    </g>\n   </g>\n   <g id=\"text_40\">\n    <!-- 363 -->\n    <g style=\"fill:#262626;\" transform=\"translate(136.4125 137.336562)scale(0.1 -0.1)\">\n     <use xlink:href=\"#DejaVuSans-51\"/>\n     <use x=\"63.623047\" xlink:href=\"#DejaVuSans-54\"/>\n     <use x=\"127.246094\" xlink:href=\"#DejaVuSans-51\"/>\n    </g>\n   </g>\n   <g id=\"text_41\">\n    <!-- 267 -->\n    <g style=\"fill:#262626;\" transform=\"translate(179.7725 137.336562)scale(0.1 -0.1)\">\n     <use xlink:href=\"#DejaVuSans-50\"/>\n     <use x=\"63.623047\" xlink:href=\"#DejaVuSans-54\"/>\n     <use x=\"127.246094\" xlink:href=\"#DejaVuSans-55\"/>\n    </g>\n   </g>\n   <g id=\"text_42\">\n    <!-- 0 -->\n    <g style=\"fill:#262626;\" transform=\"translate(229.495 137.336562)scale(0.1 -0.1)\">\n     <use xlink:href=\"#DejaVuSans-48\"/>\n    </g>\n   </g>\n   <g id=\"text_43\">\n    <!-- 180 -->\n    <g style=\"fill:#262626;\" transform=\"translate(266.4925 137.336562)scale(0.1 -0.1)\">\n     <use xlink:href=\"#DejaVuSans-49\"/>\n     <use x=\"63.623047\" xlink:href=\"#DejaVuSans-56\"/>\n     <use x=\"127.246094\" xlink:href=\"#DejaVuSans-48\"/>\n    </g>\n   </g>\n   <g id=\"text_44\">\n    <!-- 0 -->\n    <g style=\"fill:#262626;\" transform=\"translate(316.215 137.336562)scale(0.1 -0.1)\">\n     <use xlink:href=\"#DejaVuSans-48\"/>\n    </g>\n   </g>\n   <g id=\"text_45\">\n    <!-- 3 -->\n    <g style=\"fill:#262626;\" transform=\"translate(56.055 168.107991)scale(0.1 -0.1)\">\n     <use xlink:href=\"#DejaVuSans-51\"/>\n    </g>\n   </g>\n   <g id=\"text_46\">\n    <!-- 2736 -->\n    <g style=\"fill:#262626;\" transform=\"translate(89.87125 168.107991)scale(0.1 -0.1)\">\n     <use xlink:href=\"#DejaVuSans-50\"/>\n     <use x=\"63.623047\" xlink:href=\"#DejaVuSans-55\"/>\n     <use x=\"127.246094\" xlink:href=\"#DejaVuSans-51\"/>\n     <use x=\"190.869141\" xlink:href=\"#DejaVuSans-54\"/>\n    </g>\n   </g>\n   <g id=\"text_47\">\n    <!-- 38 -->\n    <g style=\"fill:#262626;\" transform=\"translate(139.59375 168.107991)scale(0.1 -0.1)\">\n     <use xlink:href=\"#DejaVuSans-51\"/>\n     <use x=\"63.623047\" xlink:href=\"#DejaVuSans-56\"/>\n    </g>\n   </g>\n   <g id=\"text_48\">\n    <!-- 0 -->\n    <g style=\"fill:#262626;\" transform=\"translate(186.135 168.107991)scale(0.1 -0.1)\">\n     <use xlink:href=\"#DejaVuSans-48\"/>\n    </g>\n   </g>\n   <g id=\"text_49\">\n    <!-- 68 -->\n    <g style=\"fill:#262626;\" transform=\"translate(226.31375 168.107991)scale(0.1 -0.1)\">\n     <use xlink:href=\"#DejaVuSans-54\"/>\n     <use x=\"63.623047\" xlink:href=\"#DejaVuSans-56\"/>\n    </g>\n   </g>\n   <g id=\"text_50\">\n    <!-- 5 -->\n    <g style=\"fill:#262626;\" transform=\"translate(272.855 168.107991)scale(0.1 -0.1)\">\n     <use xlink:href=\"#DejaVuSans-53\"/>\n    </g>\n   </g>\n   <g id=\"text_51\">\n    <!-- 0 -->\n    <g style=\"fill:#262626;\" transform=\"translate(316.215 168.107991)scale(0.1 -0.1)\">\n     <use xlink:href=\"#DejaVuSans-48\"/>\n    </g>\n   </g>\n   <g id=\"text_52\">\n    <!-- 0 -->\n    <g style=\"fill:#262626;\" transform=\"translate(56.055 198.87942)scale(0.1 -0.1)\">\n     <use xlink:href=\"#DejaVuSans-48\"/>\n    </g>\n   </g>\n   <g id=\"text_53\">\n    <!-- 1647 -->\n    <g style=\"fill:#262626;\" transform=\"translate(89.87125 198.87942)scale(0.1 -0.1)\">\n     <use xlink:href=\"#DejaVuSans-49\"/>\n     <use x=\"63.623047\" xlink:href=\"#DejaVuSans-54\"/>\n     <use x=\"127.246094\" xlink:href=\"#DejaVuSans-52\"/>\n     <use x=\"190.869141\" xlink:href=\"#DejaVuSans-55\"/>\n    </g>\n   </g>\n   <g id=\"text_54\">\n    <!-- 2267 -->\n    <g style=\"fill:#262626;\" transform=\"translate(133.23125 198.87942)scale(0.1 -0.1)\">\n     <use xlink:href=\"#DejaVuSans-50\"/>\n     <use x=\"63.623047\" xlink:href=\"#DejaVuSans-50\"/>\n     <use x=\"127.246094\" xlink:href=\"#DejaVuSans-54\"/>\n     <use x=\"190.869141\" xlink:href=\"#DejaVuSans-55\"/>\n    </g>\n   </g>\n   <g id=\"text_55\">\n    <!-- 66 -->\n    <g style=\"fill:#262626;\" transform=\"translate(182.95375 198.87942)scale(0.1 -0.1)\">\n     <use xlink:href=\"#DejaVuSans-54\"/>\n     <use x=\"63.623047\" xlink:href=\"#DejaVuSans-54\"/>\n    </g>\n   </g>\n   <g id=\"text_56\">\n    <!-- 0 -->\n    <g style=\"fill:#262626;\" transform=\"translate(229.495 198.87942)scale(0.1 -0.1)\">\n     <use xlink:href=\"#DejaVuSans-48\"/>\n    </g>\n   </g>\n   <g id=\"text_57\">\n    <!-- 1249 -->\n    <g style=\"fill:#262626;\" transform=\"translate(263.31125 198.87942)scale(0.1 -0.1)\">\n     <use xlink:href=\"#DejaVuSans-49\"/>\n     <use x=\"63.623047\" xlink:href=\"#DejaVuSans-50\"/>\n     <use x=\"127.246094\" xlink:href=\"#DejaVuSans-52\"/>\n     <use x=\"190.869141\" xlink:href=\"#DejaVuSans-57\"/>\n    </g>\n   </g>\n   <g id=\"text_58\">\n    <!-- 0 -->\n    <g style=\"fill:#262626;\" transform=\"translate(316.215 198.87942)scale(0.1 -0.1)\">\n     <use xlink:href=\"#DejaVuSans-48\"/>\n    </g>\n   </g>\n   <g id=\"text_59\">\n    <!-- 2953 -->\n    <g style=\"fill:#262626;\" transform=\"translate(46.51125 229.650848)scale(0.1 -0.1)\">\n     <use xlink:href=\"#DejaVuSans-50\"/>\n     <use x=\"63.623047\" xlink:href=\"#DejaVuSans-57\"/>\n     <use x=\"127.246094\" xlink:href=\"#DejaVuSans-53\"/>\n     <use x=\"190.869141\" xlink:href=\"#DejaVuSans-51\"/>\n    </g>\n   </g>\n   <g id=\"text_60\">\n    <!-- 38 -->\n    <g style=\"fill:#262626;\" transform=\"translate(96.23375 229.650848)scale(0.1 -0.1)\">\n     <use xlink:href=\"#DejaVuSans-51\"/>\n     <use x=\"63.623047\" xlink:href=\"#DejaVuSans-56\"/>\n    </g>\n   </g>\n   <g id=\"text_61\">\n    <!-- 0 -->\n    <g style=\"fill:#262626;\" transform=\"translate(142.775 229.650848)scale(0.1 -0.1)\">\n     <use xlink:href=\"#DejaVuSans-48\"/>\n    </g>\n   </g>\n   <g id=\"text_62\">\n    <!-- 0 -->\n    <g style=\"fill:#262626;\" transform=\"translate(186.135 229.650848)scale(0.1 -0.1)\">\n     <use xlink:href=\"#DejaVuSans-48\"/>\n    </g>\n   </g>\n   <g id=\"text_63\">\n    <!-- 0 -->\n    <g style=\"fill:#262626;\" transform=\"translate(229.495 229.650848)scale(0.1 -0.1)\">\n     <use xlink:href=\"#DejaVuSans-48\"/>\n    </g>\n   </g>\n   <g id=\"text_64\">\n    <!-- 0 -->\n    <g style=\"fill:#262626;\" transform=\"translate(272.855 229.650848)scale(0.1 -0.1)\">\n     <use xlink:href=\"#DejaVuSans-48\"/>\n    </g>\n   </g>\n   <g id=\"text_65\">\n    <!-- 3135 -->\n    <g style=\"fill:#262626;\" transform=\"translate(306.67125 229.650848)scale(0.1 -0.1)\">\n     <use xlink:href=\"#DejaVuSans-51\"/>\n     <use x=\"63.623047\" xlink:href=\"#DejaVuSans-49\"/>\n     <use x=\"127.246094\" xlink:href=\"#DejaVuSans-51\"/>\n     <use x=\"190.869141\" xlink:href=\"#DejaVuSans-53\"/>\n    </g>\n   </g>\n   <g id=\"text_66\">\n    <!-- Matriz de Confusão -->\n    <defs>\n     <path d=\"M 9.8125 72.90625 \nL 24.515625 72.90625 \nL 43.109375 23.296875 \nL 61.8125 72.90625 \nL 76.515625 72.90625 \nL 76.515625 0 \nL 66.890625 0 \nL 66.890625 64.015625 \nL 48.09375 14.015625 \nL 38.1875 14.015625 \nL 19.390625 64.015625 \nL 19.390625 0 \nL 9.8125 0 \nz\n\" id=\"DejaVuSans-77\"/>\n     <path d=\"M 5.515625 54.6875 \nL 48.1875 54.6875 \nL 48.1875 46.484375 \nL 14.40625 7.171875 \nL 48.1875 7.171875 \nL 48.1875 0 \nL 4.296875 0 \nL 4.296875 8.203125 \nL 38.09375 47.515625 \nL 5.515625 47.515625 \nz\n\" id=\"DejaVuSans-122\"/>\n     <path d=\"M 64.40625 67.28125 \nL 64.40625 56.890625 \nQ 59.421875 61.53125 53.78125 63.8125 \nQ 48.140625 66.109375 41.796875 66.109375 \nQ 29.296875 66.109375 22.65625 58.46875 \nQ 16.015625 50.828125 16.015625 36.375 \nQ 16.015625 21.96875 22.65625 14.328125 \nQ 29.296875 6.6875 41.796875 6.6875 \nQ 48.140625 6.6875 53.78125 8.984375 \nQ 59.421875 11.28125 64.40625 15.921875 \nL 64.40625 5.609375 \nQ 59.234375 2.09375 53.4375 0.328125 \nQ 47.65625 -1.421875 41.21875 -1.421875 \nQ 24.65625 -1.421875 15.125 8.703125 \nQ 5.609375 18.84375 5.609375 36.375 \nQ 5.609375 53.953125 15.125 64.078125 \nQ 24.65625 74.21875 41.21875 74.21875 \nQ 47.75 74.21875 53.53125 72.484375 \nQ 59.328125 70.75 64.40625 67.28125 \nz\n\" id=\"DejaVuSans-67\"/>\n     <path d=\"M 30.609375 48.390625 \nQ 23.390625 48.390625 19.1875 42.75 \nQ 14.984375 37.109375 14.984375 27.296875 \nQ 14.984375 17.484375 19.15625 11.84375 \nQ 23.34375 6.203125 30.609375 6.203125 \nQ 37.796875 6.203125 41.984375 11.859375 \nQ 46.1875 17.53125 46.1875 27.296875 \nQ 46.1875 37.015625 41.984375 42.703125 \nQ 37.796875 48.390625 30.609375 48.390625 \nz\nM 30.609375 56 \nQ 42.328125 56 49.015625 48.375 \nQ 55.71875 40.765625 55.71875 27.296875 \nQ 55.71875 13.875 49.015625 6.21875 \nQ 42.328125 -1.421875 30.609375 -1.421875 \nQ 18.84375 -1.421875 12.171875 6.21875 \nQ 5.515625 13.875 5.515625 27.296875 \nQ 5.515625 40.765625 12.171875 48.375 \nQ 18.84375 56 30.609375 56 \nz\n\" id=\"DejaVuSans-111\"/>\n     <path d=\"M 54.890625 33.015625 \nL 54.890625 0 \nL 45.90625 0 \nL 45.90625 32.71875 \nQ 45.90625 40.484375 42.875 44.328125 \nQ 39.84375 48.1875 33.796875 48.1875 \nQ 26.515625 48.1875 22.3125 43.546875 \nQ 18.109375 38.921875 18.109375 30.90625 \nL 18.109375 0 \nL 9.078125 0 \nL 9.078125 54.6875 \nL 18.109375 54.6875 \nL 18.109375 46.1875 \nQ 21.34375 51.125 25.703125 53.5625 \nQ 30.078125 56 35.796875 56 \nQ 45.21875 56 50.046875 50.171875 \nQ 54.890625 44.34375 54.890625 33.015625 \nz\n\" id=\"DejaVuSans-110\"/>\n     <path d=\"M 37.109375 75.984375 \nL 37.109375 68.5 \nL 28.515625 68.5 \nQ 23.6875 68.5 21.796875 66.546875 \nQ 19.921875 64.59375 19.921875 59.515625 \nL 19.921875 54.6875 \nL 34.71875 54.6875 \nL 34.71875 47.703125 \nL 19.921875 47.703125 \nL 19.921875 0 \nL 10.890625 0 \nL 10.890625 47.703125 \nL 2.296875 47.703125 \nL 2.296875 54.6875 \nL 10.890625 54.6875 \nL 10.890625 58.5 \nQ 10.890625 67.625 15.140625 71.796875 \nQ 19.390625 75.984375 28.609375 75.984375 \nz\n\" id=\"DejaVuSans-102\"/>\n     <path d=\"M 44.28125 53.078125 \nL 44.28125 44.578125 \nQ 40.484375 46.53125 36.375 47.5 \nQ 32.28125 48.484375 27.875 48.484375 \nQ 21.1875 48.484375 17.84375 46.4375 \nQ 14.5 44.390625 14.5 40.28125 \nQ 14.5 37.15625 16.890625 35.375 \nQ 19.28125 33.59375 26.515625 31.984375 \nL 29.59375 31.296875 \nQ 39.15625 29.25 43.1875 25.515625 \nQ 47.21875 21.78125 47.21875 15.09375 \nQ 47.21875 7.46875 41.1875 3.015625 \nQ 35.15625 -1.421875 24.609375 -1.421875 \nQ 20.21875 -1.421875 15.453125 -0.5625 \nQ 10.6875 0.296875 5.421875 2 \nL 5.421875 11.28125 \nQ 10.40625 8.6875 15.234375 7.390625 \nQ 20.0625 6.109375 24.8125 6.109375 \nQ 31.15625 6.109375 34.5625 8.28125 \nQ 37.984375 10.453125 37.984375 14.40625 \nQ 37.984375 18.0625 35.515625 20.015625 \nQ 33.0625 21.96875 24.703125 23.78125 \nL 21.578125 24.515625 \nQ 13.234375 26.265625 9.515625 29.90625 \nQ 5.8125 33.546875 5.8125 39.890625 \nQ 5.8125 47.609375 11.28125 51.796875 \nQ 16.75 56 26.8125 56 \nQ 31.78125 56 36.171875 55.265625 \nQ 40.578125 54.546875 44.28125 53.078125 \nz\n\" id=\"DejaVuSans-115\"/>\n     <path d=\"M 34.28125 27.484375 \nQ 23.390625 27.484375 19.1875 25 \nQ 14.984375 22.515625 14.984375 16.5 \nQ 14.984375 11.71875 18.140625 8.90625 \nQ 21.296875 6.109375 26.703125 6.109375 \nQ 34.1875 6.109375 38.703125 11.40625 \nQ 43.21875 16.703125 43.21875 25.484375 \nL 43.21875 27.484375 \nz\nM 52.203125 31.203125 \nL 52.203125 0 \nL 43.21875 0 \nL 43.21875 8.296875 \nQ 40.140625 3.328125 35.546875 0.953125 \nQ 30.953125 -1.421875 24.3125 -1.421875 \nQ 15.921875 -1.421875 10.953125 3.296875 \nQ 6 8.015625 6 15.921875 \nQ 6 25.140625 12.171875 29.828125 \nQ 18.359375 34.515625 30.609375 34.515625 \nL 43.21875 34.515625 \nL 43.21875 35.40625 \nQ 43.21875 41.609375 39.140625 45 \nQ 35.0625 48.390625 27.6875 48.390625 \nQ 23 48.390625 18.546875 47.265625 \nQ 14.109375 46.140625 10.015625 43.890625 \nL 10.015625 52.203125 \nQ 14.9375 54.109375 19.578125 55.046875 \nQ 24.21875 56 28.609375 56 \nQ 40.484375 56 46.34375 49.84375 \nQ 52.203125 43.703125 52.203125 31.203125 \nz\nM 28.8125 66.890625 \nL 26.03125 69.578125 \nQ 24.953125 70.5625 24.140625 71.015625 \nQ 23.34375 71.484375 22.703125 71.484375 \nQ 20.84375 71.484375 19.96875 69.703125 \nQ 19.09375 67.921875 19 63.921875 \nL 12.890625 63.921875 \nQ 12.984375 70.515625 15.46875 74.09375 \nQ 17.96875 77.6875 22.40625 77.6875 \nQ 24.265625 77.6875 25.828125 77 \nQ 27.390625 76.3125 29.203125 74.703125 \nL 31.984375 72.015625 \nQ 33.0625 71.046875 33.859375 70.578125 \nQ 34.671875 70.125 35.296875 70.125 \nQ 37.15625 70.125 38.03125 71.90625 \nQ 38.921875 73.6875 39.015625 77.6875 \nL 45.125 77.6875 \nQ 45.015625 71.09375 42.53125 67.5 \nQ 40.046875 63.921875 35.59375 63.921875 \nQ 33.734375 63.921875 32.171875 64.59375 \nQ 30.609375 65.28125 28.8125 66.890625 \nz\n\" id=\"DejaVuSans-227\"/>\n    </defs>\n    <g transform=\"translate(102.53375 20.877188)scale(0.18 -0.18)\">\n     <use xlink:href=\"#DejaVuSans-77\"/>\n     <use x=\"86.279297\" xlink:href=\"#DejaVuSans-97\"/>\n     <use x=\"147.558594\" xlink:href=\"#DejaVuSans-116\"/>\n     <use x=\"186.767578\" xlink:href=\"#DejaVuSans-114\"/>\n     <use x=\"227.880859\" xlink:href=\"#DejaVuSans-105\"/>\n     <use x=\"255.664062\" xlink:href=\"#DejaVuSans-122\"/>\n     <use x=\"308.154297\" xlink:href=\"#DejaVuSans-32\"/>\n     <use x=\"339.941406\" xlink:href=\"#DejaVuSans-100\"/>\n     <use x=\"403.417969\" xlink:href=\"#DejaVuSans-101\"/>\n     <use x=\"464.941406\" xlink:href=\"#DejaVuSans-32\"/>\n     <use x=\"496.728516\" xlink:href=\"#DejaVuSans-67\"/>\n     <use x=\"566.552734\" xlink:href=\"#DejaVuSans-111\"/>\n     <use x=\"627.734375\" xlink:href=\"#DejaVuSans-110\"/>\n     <use x=\"691.113281\" xlink:href=\"#DejaVuSans-102\"/>\n     <use x=\"726.318359\" xlink:href=\"#DejaVuSans-117\"/>\n     <use x=\"789.697266\" xlink:href=\"#DejaVuSans-115\"/>\n     <use x=\"841.796875\" xlink:href=\"#DejaVuSans-227\"/>\n     <use x=\"903.076172\" xlink:href=\"#DejaVuSans-111\"/>\n    </g>\n   </g>\n  </g>\n  <g id=\"axes_2\">\n   <g id=\"patch_3\">\n    <path clip-path=\"url(#p3bc7823716)\" d=\"M 360.04625 242.277187 \nL 360.04625 241.435781 \nL 360.04625 27.718594 \nL 360.04625 26.877188 \nL 370.81625 26.877188 \nL 370.81625 27.718594 \nL 370.81625 241.435781 \nL 370.81625 242.277187 \nz\n\" style=\"fill:#ffffff;stroke:#ffffff;stroke-linejoin:miter;stroke-width:0.01;\"/>\n   </g>\n   <image height=\"215\" id=\"image2023bd5c48\" transform=\"scale(1 -1)translate(0 -215)\" width=\"11\" x=\"360\" xlink:href=\"data:image/png;base64,\niVBORw0KGgoAAAANSUhEUgAAAAsAAADXCAYAAADMUKtyAAAABHNCSVQICAgIfAhkiAAAASBJREFUaIHt2EtqBCEABFADc/+rZpNlq7mCL1BQNpl1UdRPR/pr/3zvcfj7jHGMHZ+xFoCJecfAZjDGXGJQmPeWui80OHIGTfMx9laDHZrnrJAhzNsMPiKjoxRitgZfbzA2pCvT6DBIb6QVM0gyXt8gveta/oAuTKPEYMmBLVldMI2OUnJpBPfckYYw75JS/vf8Z3DJni06+WQxUzlvu8wrDOKbP6a5Iw2s+xhbU3fJno357XumIa2cDPnGmGOeZNDSABm5NMxgRykle14lBoUZDyww0/gBi2lA25qzMKMMYo5pplJiMux+7pBhzKJ5dsjAiQo4dgZz4JzmJ3YV4OkWGcL8xC5zkpGLLtjgOTGnQcygGdMAcO5VcOeeiTmk+ReJobfc4+cBQQAAAABJRU5ErkJggg==\" y=\"-26\"/>\n   <g id=\"matplotlib.axis_3\"/>\n   <g id=\"matplotlib.axis_4\">\n    <g id=\"ytick_8\">\n     <g id=\"line2d_15\">\n      <defs>\n       <path d=\"M 0 0 \nL 3.5 0 \n\" id=\"m949ad26cec\" style=\"stroke:#000000;stroke-width:0.8;\"/>\n      </defs>\n      <g>\n       <use style=\"stroke:#000000;stroke-width:0.8;\" x=\"370.81625\" xlink:href=\"#m949ad26cec\" y=\"242.277187\"/>\n      </g>\n     </g>\n     <g id=\"text_67\">\n      <!-- 0 -->\n      <g transform=\"translate(377.81625 246.076406)scale(0.1 -0.1)\">\n       <use xlink:href=\"#DejaVuSans-48\"/>\n      </g>\n     </g>\n    </g>\n    <g id=\"ytick_9\">\n     <g id=\"line2d_16\">\n      <g>\n       <use style=\"stroke:#000000;stroke-width:0.8;\" x=\"370.81625\" xlink:href=\"#m949ad26cec\" y=\"211.23704\"/>\n      </g>\n     </g>\n     <g id=\"text_68\">\n      <!-- 10000 -->\n      <g transform=\"translate(377.81625 215.036259)scale(0.1 -0.1)\">\n       <use xlink:href=\"#DejaVuSans-49\"/>\n       <use x=\"63.623047\" xlink:href=\"#DejaVuSans-48\"/>\n       <use x=\"127.246094\" xlink:href=\"#DejaVuSans-48\"/>\n       <use x=\"190.869141\" xlink:href=\"#DejaVuSans-48\"/>\n       <use x=\"254.492188\" xlink:href=\"#DejaVuSans-48\"/>\n      </g>\n     </g>\n    </g>\n    <g id=\"ytick_10\">\n     <g id=\"line2d_17\">\n      <g>\n       <use style=\"stroke:#000000;stroke-width:0.8;\" x=\"370.81625\" xlink:href=\"#m949ad26cec\" y=\"180.196892\"/>\n      </g>\n     </g>\n     <g id=\"text_69\">\n      <!-- 20000 -->\n      <g transform=\"translate(377.81625 183.996111)scale(0.1 -0.1)\">\n       <use xlink:href=\"#DejaVuSans-50\"/>\n       <use x=\"63.623047\" xlink:href=\"#DejaVuSans-48\"/>\n       <use x=\"127.246094\" xlink:href=\"#DejaVuSans-48\"/>\n       <use x=\"190.869141\" xlink:href=\"#DejaVuSans-48\"/>\n       <use x=\"254.492188\" xlink:href=\"#DejaVuSans-48\"/>\n      </g>\n     </g>\n    </g>\n    <g id=\"ytick_11\">\n     <g id=\"line2d_18\">\n      <g>\n       <use style=\"stroke:#000000;stroke-width:0.8;\" x=\"370.81625\" xlink:href=\"#m949ad26cec\" y=\"149.156745\"/>\n      </g>\n     </g>\n     <g id=\"text_70\">\n      <!-- 30000 -->\n      <g transform=\"translate(377.81625 152.955964)scale(0.1 -0.1)\">\n       <use xlink:href=\"#DejaVuSans-51\"/>\n       <use x=\"63.623047\" xlink:href=\"#DejaVuSans-48\"/>\n       <use x=\"127.246094\" xlink:href=\"#DejaVuSans-48\"/>\n       <use x=\"190.869141\" xlink:href=\"#DejaVuSans-48\"/>\n       <use x=\"254.492188\" xlink:href=\"#DejaVuSans-48\"/>\n      </g>\n     </g>\n    </g>\n    <g id=\"ytick_12\">\n     <g id=\"line2d_19\">\n      <g>\n       <use style=\"stroke:#000000;stroke-width:0.8;\" x=\"370.81625\" xlink:href=\"#m949ad26cec\" y=\"118.116597\"/>\n      </g>\n     </g>\n     <g id=\"text_71\">\n      <!-- 40000 -->\n      <g transform=\"translate(377.81625 121.915816)scale(0.1 -0.1)\">\n       <use xlink:href=\"#DejaVuSans-52\"/>\n       <use x=\"63.623047\" xlink:href=\"#DejaVuSans-48\"/>\n       <use x=\"127.246094\" xlink:href=\"#DejaVuSans-48\"/>\n       <use x=\"190.869141\" xlink:href=\"#DejaVuSans-48\"/>\n       <use x=\"254.492188\" xlink:href=\"#DejaVuSans-48\"/>\n      </g>\n     </g>\n    </g>\n    <g id=\"ytick_13\">\n     <g id=\"line2d_20\">\n      <g>\n       <use style=\"stroke:#000000;stroke-width:0.8;\" x=\"370.81625\" xlink:href=\"#m949ad26cec\" y=\"87.07645\"/>\n      </g>\n     </g>\n     <g id=\"text_72\">\n      <!-- 50000 -->\n      <g transform=\"translate(377.81625 90.875668)scale(0.1 -0.1)\">\n       <use xlink:href=\"#DejaVuSans-53\"/>\n       <use x=\"63.623047\" xlink:href=\"#DejaVuSans-48\"/>\n       <use x=\"127.246094\" xlink:href=\"#DejaVuSans-48\"/>\n       <use x=\"190.869141\" xlink:href=\"#DejaVuSans-48\"/>\n       <use x=\"254.492188\" xlink:href=\"#DejaVuSans-48\"/>\n      </g>\n     </g>\n    </g>\n    <g id=\"ytick_14\">\n     <g id=\"line2d_21\">\n      <g>\n       <use style=\"stroke:#000000;stroke-width:0.8;\" x=\"370.81625\" xlink:href=\"#m949ad26cec\" y=\"56.036302\"/>\n      </g>\n     </g>\n     <g id=\"text_73\">\n      <!-- 60000 -->\n      <g transform=\"translate(377.81625 59.835521)scale(0.1 -0.1)\">\n       <use xlink:href=\"#DejaVuSans-54\"/>\n       <use x=\"63.623047\" xlink:href=\"#DejaVuSans-48\"/>\n       <use x=\"127.246094\" xlink:href=\"#DejaVuSans-48\"/>\n       <use x=\"190.869141\" xlink:href=\"#DejaVuSans-48\"/>\n       <use x=\"254.492188\" xlink:href=\"#DejaVuSans-48\"/>\n      </g>\n     </g>\n    </g>\n   </g>\n   <g id=\"patch_4\">\n    <path d=\"M 360.04625 242.277187 \nL 360.04625 241.435781 \nL 360.04625 27.718594 \nL 360.04625 26.877188 \nL 370.81625 26.877188 \nL 370.81625 27.718594 \nL 370.81625 241.435781 \nL 370.81625 242.277187 \nz\n\" style=\"fill:none;\"/>\n   </g>\n  </g>\n </g>\n <defs>\n  <clipPath id=\"p54a91eb69f\">\n   <rect height=\"215.4\" width=\"303.52\" x=\"37.55625\" y=\"26.877188\"/>\n  </clipPath>\n  <clipPath id=\"p3bc7823716\">\n   <rect height=\"215.4\" width=\"10.77\" x=\"360.04625\" y=\"26.877188\"/>\n  </clipPath>\n </defs>\n</svg>\n",
            "image/png": "[encoded data removed]"
          },
          "metadata": {
            "tags": [],
            "needs_background": "light"
          }
        }
      ]
    },
    {
      "cell_type": "code",
      "metadata": {
        "id": "8cW1EF0m6Ux3",
        "outputId": "89303d1b-c21b-43f5-f4f6-550f3ecbc973"
      },
      "source": [
        "print('Acurácia: ', accuracy_score(Y_test,predictions))\n",
        "print('F-Score: ', f1_score(Y_test,predictions, average= 'macro'))\n",
        "print('Precisão: ', precision_score(Y_test,predictions, average= 'macro'))\n",
        "print('Revocação: ', recall_score(Y_test,predictions, average= 'macro'))"
      ],
      "execution_count": null,
      "outputs": [
        {
          "output_type": "stream",
          "text": [
            "Acurácia:  0.7197425188176978\n",
            "F-Score:  0.5084195687078504\n",
            "Precisão:  0.674938526937111\n",
            "Revocação:  0.4734380020492974\n"
          ],
          "name": "stdout"
        }
      ]
    },
    {
      "cell_type": "markdown",
      "metadata": {
        "id": "i8F4qCqw6Ux6"
      },
      "source": [
        "7. Repita o treinamento da mesma rede anterior sem imprimir o passo a passo (verbose False) por 100 vezes  \n",
        "    7.1 Cada uma destas repetições deve ser feita com uma nova partição Holdout  \n",
        "    7.2 Apresente a média e o desvio padrão da acurácia e do F-Score para o conjunto de treino"
      ]
    },
    {
      "source": [
        "Vale resaltar que foram realizadas somente 10 repetições nos próximos treinamentos, por conta do tempo de processamento."
      ],
      "cell_type": "markdown",
      "metadata": {}
    },
    {
      "cell_type": "code",
      "metadata": {
        "id": "1pAUo_jF6Ux7"
      },
      "source": [
        "#7\n",
        "score= np.zeros(10)\n",
        "acuracia = np.zeros(10)\n",
        "\n",
        "for i in range(10):\n",
        "    #print('Indo')\n",
        "    X_train, X_test, Y_train, Y_test = train_test_split(x, y, test_size = 0.3, random_state = 42)\n",
        "    X_train_std = (X_train - np.mean(X_train))/np.std(X_train)\n",
        "    X_test_std = (X_test - np.mean(X_train))/np.std(X_train)\n",
        "    mlp = MLPClassifier(hidden_layer_sizes= (10,), activation= \"relu\", solver= 'adam', max_iter= 300, verbose= False)\n",
        "    mlp.fit(X_train_std, Y_train)\n",
        "    predictions = mlp.predict(X_test_std)\n",
        "  \n",
        "    acuracia[i]= accuracy_score(Y_test,predictions)\n",
        "    score[i]= f1_score(Y_test,predictions, average= 'macro')"
      ],
      "execution_count": 8,
      "outputs": []
    },
    {
      "cell_type": "code",
      "metadata": {
        "id": "feS_060R6Ux-",
        "outputId": "c7b1f52f-a7a7-4a23-9e8f-eea990168905"
      },
      "source": [
        "print(\"Média da Acurácia: \",acuracia.mean())\n",
        "print(\"Desvio Padrão da Acurácia: \", acuracia.std())\n",
        "print(\"Média do F1-Score: \", score.mean())\n",
        "print(\"Desvio Padrão do F1-Score: \", score.std())"
      ],
      "execution_count": 9,
      "outputs": [
        {
          "output_type": "stream",
          "name": "stdout",
          "text": [
            "Média da Acurácia:  0.7165578529465761\nDesvio Padrão da Acurácia:  0.00454063881670014\nMédia do F1-Score:  0.5141845146688165\nDesvio Padrão do F1-Score:  0.016529517104351254\n"
          ]
        }
      ]
    },
    {
      "cell_type": "code",
      "metadata": {
        "id": "tjhpDrot6UyC"
      },
      "source": [
        "#Repita por 100 vezes o treinamento desta mesma rede, mas utilizando o otimizador SGD\n",
        "\n",
        "score= np.zeros(10)\n",
        "acuracia = np.zeros(10)\n",
        "\n",
        "for i in range(10):\n",
        "    #print('Indo')\n",
        "    X_train, X_test, Y_train, Y_test = train_test_split(x, y, test_size = 0.3, random_state = 42)\n",
        "    X_train_std = (X_train - np.mean(X_train))/np.std(X_train)\n",
        "    X_test_std = (X_test - np.mean(X_train))/np.std(X_train)\n",
        "    mlp = MLPClassifier(hidden_layer_sizes= (10,), activation= \"relu\", solver= 'sgd', max_iter= 300, verbose= False)\n",
        "    mlp.fit(X_train_std, Y_train)\n",
        "    predictions = mlp.predict(X_test_std)\n",
        "  \n",
        "    acuracia[i]= accuracy_score(Y_test,predictions)\n",
        "    score[i]= f1_score(Y_test,predictions, average= 'macro')"
      ],
      "execution_count": 8,
      "outputs": []
    },
    {
      "cell_type": "code",
      "metadata": {
        "id": "FllwS6G46UyE",
        "outputId": "83b5b537-d13f-417d-922d-8530752c3b0e"
      },
      "source": [
        "print(\"Média da Acurácia: \",acuracia.mean())\n",
        "print(\"Desvio Padrão da Acurácia: \", acuracia.std())\n",
        "print(\"Média do F1-Score: \", score.mean())\n",
        "print(\"Desvio Padrão do F1-Score: \", score.std())"
      ],
      "execution_count": 9,
      "outputs": [
        {
          "output_type": "stream",
          "name": "stdout",
          "text": [
            "Média da Acurácia:  0.7114415044978888\nDesvio Padrão da Acurácia:  0.002251417066186162\nMédia do F1-Score:  0.4715798573070494\nDesvio Padrão do F1-Score:  0.020238609408504808\n"
          ]
        }
      ]
    },
    {
      "cell_type": "markdown",
      "metadata": {
        "id": "_AHzYWQE6UyH"
      },
      "source": [
        "9. Houve influência da escolha do otimizador no desempenho da rede?\n",
        "\n",
        "- sim, pois o otimizador adam teve resultados ligeiramente superiores do que o SGD e seu tempo de treinamento foi menor do que o SGD o que nos mostra uma arquitetrua mais eficiente."
      ]
    },
    {
      "cell_type": "markdown",
      "metadata": {
        "id": "1x35uGQj6UyH"
      },
      "source": [
        "## Discussão\n",
        "\n",
        "Nos passos anteriores, você avaliou o desempenho de uma única rede neural que contém os seguintes parâmetros: uma única camada oculta com 10 neurônios e função de ativação ReLU. O otimizador utilizado, quer seja SGD ou ADAM, trata-se do algoritmo para aproximar o gradiente do erro. Neste sentido, a escolha do otimizador é um hiperparâmetro, pois diz respeito a como a rede neural definida previamente atuará \"em tempo de execução\"  durante o processo de treinamento. Também são hiperparâmetros a quantidade de épocas, a taxa de aprendizado inicial, dentre outros.\n",
        "\n",
        "Cabe alientar também que você efetuou o treinamento desta rede por 100 vezes e apresentou os resultados em termos de média +- desvio padrão. Lembre-se que em uma rede neural há a inicialização aleatória de pesos e, em consequência, o desempenho delas está sujeito à uma flutuação estocástica. A execução destas múltiplas vezes faz com que eliminemos algum viés introduzido por uma boa ou má \"sorte\" na escolha de pesos no caso de uma única execução.\n",
        "\n",
        "Você também aprendeu uma estratégia para escalonar os atributos para uma melhor convergência da rede. Utilize-a em todos os treinamentos e testes propostos a seguir.\n",
        "\n",
        "## Propondo Novas Arquiteturas\n",
        "\n",
        "Variando  os parâmetros (uma ou duas camadas ocultas, com diferente números de neurônios em cada uma delas e a função de ativação) e o hiperparâmetros solver (Adam ou SGD) e o número de épocas (100,150 e 200), atenda ao que se pede:\n",
        "\n",
        "1. Proponha 10 arquiteturas distintas de RNAs para o problema em questão, à sua escolha\n",
        "2. Avalie cada uma das arquiteturas perante todos os hiperparâmetros apresentados por 100 vezes\n",
        "3. Como resultado da avaliação, apresente:  \n",
        "    3.1 Top-3 melhores redes no tocante à F-Score e Acurácia  \n",
        "    3.2 Repetição em que houve o melhor desempenho de cada uma dessas redes: ilustre tp, tf, fp e fn  "
      ]
    },
    {
      "cell_type": "code",
      "metadata": {
        "id": "Uca7c08t6UyI"
      },
      "source": [
        "\n",
        " conf = [1, 'identity', 'adam', 100, 16, \n",
        "       1, 'logistic', 'sgd', 150, 13, \n",
        "       1, 'tanh', 'adam', 200, 16, \n",
        "       1, 'relu', 'sgd', 100, 17, \n",
        "       1, 'identity', 'sgd', 150, 10, \n",
        "       2, 'logistic', 'adam', 200, (10, 12), \n",
        "       2, 'tanh', 'sgd', 100, (13, 15), \n",
        "       2, 'relu', 'adam', 150, (19, 16),\n",
        "       2, 'identity', 'adam', 200, (11, 13), \n",
        "       2, 'relu', 'sgd', 100, (10, 15)]"
      ],
      "execution_count": 10,
      "outputs": []
    },
    {
      "cell_type": "code",
      "metadata": {
        "id": "tmwTcpDL6UyL",
        "outputId": "92c3bbbe-89c8-4da8-8c62-91126e30f169"
      },
      "source": [
        "df_confgs = pd.DataFrame(np.array(conf).reshape(10,5), columns = [\"Camadas\",\n",
        "                    'Função de Ativação',\n",
        "                    'Hiperparametro',\n",
        "                    'Épocas',\n",
        "                    'Neurônios'])\n",
        "            \n",
        "df_confgs[\"Épocas\"] = pd.to_numeric(df_confgs[\"Épocas\"])\n",
        "print (df_confgs)"
      ],
      "execution_count": 11,
      "outputs": [
        {
          "output_type": "stream",
          "name": "stdout",
          "text": [
            "  Camadas Função de Ativação Hiperparametro  Épocas Neurônios\n0       1           identity           adam     100        16\n1       1           logistic            sgd     150        13\n2       1               tanh           adam     200        16\n3       1               relu            sgd     100        17\n4       1           identity            sgd     150        10\n5       2           logistic           adam     200  (10, 12)\n6       2               tanh            sgd     100  (13, 15)\n7       2               relu           adam     150  (19, 16)\n8       2           identity           adam     200  (11, 13)\n9       2               relu            sgd     100  (10, 15)\n"
          ]
        }
      ]
    },
    {
      "cell_type": "code",
      "metadata": {
        "id": "3s3pQKNs6UyN",
        "outputId": "11d84653-81a9-41e1-dec0-26279eedce76"
      },
      "source": [
        "score= np.zeros(10)\n",
        "acuracia = np.zeros(10)\n",
        "\n",
        "medias_acuracia = np.zeros(10)\n",
        "medias_f1score = np.zeros(10)\n",
        "\n",
        "dp_acuracia = np.zeros(10)\n",
        "dp_f1score = np.zeros(10)\n",
        "\n",
        "for i in range(10):\n",
        "    print(\"Executando Configuração: \", i+1)\n",
        "    mlp = MLPClassifier(hidden_layer_sizes= df_confgs['Neurônios'][i], activation= df_confgs['Função de Ativação'][i], solver= df_confgs['Hiperparametro'][i], max_iter= df_confgs['Épocas'][i], verbose= False)\n",
        "\n",
        "    for j in range(10):\n",
        "       \n",
        "        X_train, X_test, Y_train, Y_test = train_test_split(x, y, test_size = 0.3, random_state = 0)\n",
        "        X_train_std = (X_train - np.mean(X_train))/np.std(X_train)\n",
        "        X_test_std = (X_test - np.mean(X_train))/np.std(X_train)\n",
        "       \n",
        "        mlp.fit(X_train_std, Y_train)\n",
        "        predictions = mlp.predict(X_test_std)\n",
        "  \n",
        "        acuracia[j]= accuracy_score(Y_test,predictions)\n",
        "        score[j]= f1_score(Y_test,predictions, average= 'macro')\n",
        "\n",
        "    medias_acuracia[i] = acuracia.mean()\n",
        "    medias_f1score[i] = score.mean()\n",
        "\n",
        "    dp_acuracia[i] = acuracia.std()\n",
        "    dp_f1score[i] = score.std()"
      ],
      "execution_count": null,
      "outputs": [
        {
          "output_type": "stream",
          "text": [
            "Executando Configuração:  1\n",
            "Executando Configuração:  2\n",
            "Executando Configuração:  3\n",
            "Executando Configuração:  4\n",
            "Executando Configuração:  5\n",
            "Executando Configuração:  6\n",
            "Executando Configuração:  7\n",
            "Executando Configuração:  8\n",
            "Executando Configuração:  9\n",
            "Executando Configuração:  10\n"
          ],
          "name": "stdout"
        }
      ]
    },
    {
      "cell_type": "code",
      "metadata": {
        "id": "Den07He36UyQ"
      },
      "source": [
        "df_top = df_confgs\n",
        "df_top['media acuracia'] = medias_acuracia \n",
        "df_top['media f1 score'] = medias_f1score"
      ],
      "execution_count": null,
      "outputs": []
    },
    {
      "cell_type": "code",
      "metadata": {
        "id": "G1goNHwU6UyT",
        "outputId": "98997753-9020-4bae-f28a-306f35a76a16"
      },
      "source": [
        "df_top"
      ],
      "execution_count": null,
      "outputs": [
        {
          "output_type": "execute_result",
          "data": {
            "text/plain": [
              "  Camadas Função de Ativação Hiperparametro  Épocas Neurônios  media acuracia  \\\n",
              "0       1           identity           adam     100        16        0.697669   \n",
              "1       1           logistic            sgd     150        13        0.713400   \n",
              "2       1               tanh           adam     200        16        0.732727   \n",
              "3       1               relu            sgd     100        17        0.722878   \n",
              "4       1           identity            sgd     150        10        0.697107   \n",
              "5       2           logistic           adam     200  (10, 12)        0.738323   \n",
              "6       2               tanh            sgd     100  (13, 15)        0.739604   \n",
              "7       2               relu           adam     150  (19, 16)        0.761886   \n",
              "8       2           identity           adam     200  (11, 13)        0.697758   \n",
              "9       2               relu            sgd     100  (10, 15)        0.729426   \n",
              "\n",
              "   media f1 score  \n",
              "0        0.434251  \n",
              "1        0.417219  \n",
              "2        0.561248  \n",
              "3        0.505038  \n",
              "4        0.421017  \n",
              "5        0.553270  \n",
              "6        0.528853  \n",
              "7        0.624660  \n",
              "8        0.431017  \n",
              "9        0.528803  "
            ],
            "text/html": [
              "<div>\n",
              "<style scoped>\n",
              "    .dataframe tbody tr th:only-of-type {\n",
              "        vertical-align: middle;\n",
              "    }\n",
              "\n",
              "    .dataframe tbody tr th {\n",
              "        vertical-align: top;\n",
              "    }\n",
              "\n",
              "    .dataframe thead th {\n",
              "        text-align: right;\n",
              "    }\n",
              "</style>\n",
              "<table border=\"1\" class=\"dataframe\">\n",
              "  <thead>\n",
              "    <tr style=\"text-align: right;\">\n",
              "      <th></th>\n",
              "      <th>Camadas</th>\n",
              "      <th>Função de Ativação</th>\n",
              "      <th>Hiperparametro</th>\n",
              "      <th>Épocas</th>\n",
              "      <th>Neurônios</th>\n",
              "      <th>media acuracia</th>\n",
              "      <th>media f1 score</th>\n",
              "    </tr>\n",
              "  </thead>\n",
              "  <tbody>\n",
              "    <tr>\n",
              "      <th>0</th>\n",
              "      <td>1</td>\n",
              "      <td>identity</td>\n",
              "      <td>adam</td>\n",
              "      <td>100</td>\n",
              "      <td>16</td>\n",
              "      <td>0.697669</td>\n",
              "      <td>0.434251</td>\n",
              "    </tr>\n",
              "    <tr>\n",
              "      <th>1</th>\n",
              "      <td>1</td>\n",
              "      <td>logistic</td>\n",
              "      <td>sgd</td>\n",
              "      <td>150</td>\n",
              "      <td>13</td>\n",
              "      <td>0.713400</td>\n",
              "      <td>0.417219</td>\n",
              "    </tr>\n",
              "    <tr>\n",
              "      <th>2</th>\n",
              "      <td>1</td>\n",
              "      <td>tanh</td>\n",
              "      <td>adam</td>\n",
              "      <td>200</td>\n",
              "      <td>16</td>\n",
              "      <td>0.732727</td>\n",
              "      <td>0.561248</td>\n",
              "    </tr>\n",
              "    <tr>\n",
              "      <th>3</th>\n",
              "      <td>1</td>\n",
              "      <td>relu</td>\n",
              "      <td>sgd</td>\n",
              "      <td>100</td>\n",
              "      <td>17</td>\n",
              "      <td>0.722878</td>\n",
              "      <td>0.505038</td>\n",
              "    </tr>\n",
              "    <tr>\n",
              "      <th>4</th>\n",
              "      <td>1</td>\n",
              "      <td>identity</td>\n",
              "      <td>sgd</td>\n",
              "      <td>150</td>\n",
              "      <td>10</td>\n",
              "      <td>0.697107</td>\n",
              "      <td>0.421017</td>\n",
              "    </tr>\n",
              "    <tr>\n",
              "      <th>5</th>\n",
              "      <td>2</td>\n",
              "      <td>logistic</td>\n",
              "      <td>adam</td>\n",
              "      <td>200</td>\n",
              "      <td>(10, 12)</td>\n",
              "      <td>0.738323</td>\n",
              "      <td>0.553270</td>\n",
              "    </tr>\n",
              "    <tr>\n",
              "      <th>6</th>\n",
              "      <td>2</td>\n",
              "      <td>tanh</td>\n",
              "      <td>sgd</td>\n",
              "      <td>100</td>\n",
              "      <td>(13, 15)</td>\n",
              "      <td>0.739604</td>\n",
              "      <td>0.528853</td>\n",
              "    </tr>\n",
              "    <tr>\n",
              "      <th>7</th>\n",
              "      <td>2</td>\n",
              "      <td>relu</td>\n",
              "      <td>adam</td>\n",
              "      <td>150</td>\n",
              "      <td>(19, 16)</td>\n",
              "      <td>0.761886</td>\n",
              "      <td>0.624660</td>\n",
              "    </tr>\n",
              "    <tr>\n",
              "      <th>8</th>\n",
              "      <td>2</td>\n",
              "      <td>identity</td>\n",
              "      <td>adam</td>\n",
              "      <td>200</td>\n",
              "      <td>(11, 13)</td>\n",
              "      <td>0.697758</td>\n",
              "      <td>0.431017</td>\n",
              "    </tr>\n",
              "    <tr>\n",
              "      <th>9</th>\n",
              "      <td>2</td>\n",
              "      <td>relu</td>\n",
              "      <td>sgd</td>\n",
              "      <td>100</td>\n",
              "      <td>(10, 15)</td>\n",
              "      <td>0.729426</td>\n",
              "      <td>0.528803</td>\n",
              "    </tr>\n",
              "  </tbody>\n",
              "</table>\n",
              "</div>"
            ]
          },
          "metadata": {
            "tags": []
          },
          "execution_count": 10
        }
      ]
    },
    {
      "cell_type": "code",
      "metadata": {
        "id": "w7IXqy-A6UyV",
        "outputId": "95503201-6391-4439-c6ee-6b38a55f854f"
      },
      "source": [
        "df_top.sort_values([ 'media acuracia'], ascending= [False], kind= 'mergesort')"
      ],
      "execution_count": null,
      "outputs": [
        {
          "output_type": "execute_result",
          "data": {
            "text/plain": [
              "  Camadas Função de Ativação Hiperparametro  Épocas Neurônios  media acuracia  \\\n",
              "7       2               relu           adam     150  (19, 16)        0.761886   \n",
              "6       2               tanh            sgd     100  (13, 15)        0.739604   \n",
              "5       2           logistic           adam     200  (10, 12)        0.738323   \n",
              "2       1               tanh           adam     200        16        0.732727   \n",
              "9       2               relu            sgd     100  (10, 15)        0.729426   \n",
              "3       1               relu            sgd     100        17        0.722878   \n",
              "1       1           logistic            sgd     150        13        0.713400   \n",
              "8       2           identity           adam     200  (11, 13)        0.697758   \n",
              "0       1           identity           adam     100        16        0.697669   \n",
              "4       1           identity            sgd     150        10        0.697107   \n",
              "\n",
              "   media f1 score  \n",
              "7        0.624660  \n",
              "6        0.528853  \n",
              "5        0.553270  \n",
              "2        0.561248  \n",
              "9        0.528803  \n",
              "3        0.505038  \n",
              "1        0.417219  \n",
              "8        0.431017  \n",
              "0        0.434251  \n",
              "4        0.421017  "
            ],
            "text/html": [
              "<div>\n",
              "<style scoped>\n",
              "    .dataframe tbody tr th:only-of-type {\n",
              "        vertical-align: middle;\n",
              "    }\n",
              "\n",
              "    .dataframe tbody tr th {\n",
              "        vertical-align: top;\n",
              "    }\n",
              "\n",
              "    .dataframe thead th {\n",
              "        text-align: right;\n",
              "    }\n",
              "</style>\n",
              "<table border=\"1\" class=\"dataframe\">\n",
              "  <thead>\n",
              "    <tr style=\"text-align: right;\">\n",
              "      <th></th>\n",
              "      <th>Camadas</th>\n",
              "      <th>Função de Ativação</th>\n",
              "      <th>Hiperparametro</th>\n",
              "      <th>Épocas</th>\n",
              "      <th>Neurônios</th>\n",
              "      <th>media acuracia</th>\n",
              "      <th>media f1 score</th>\n",
              "    </tr>\n",
              "  </thead>\n",
              "  <tbody>\n",
              "    <tr>\n",
              "      <th>7</th>\n",
              "      <td>2</td>\n",
              "      <td>relu</td>\n",
              "      <td>adam</td>\n",
              "      <td>150</td>\n",
              "      <td>(19, 16)</td>\n",
              "      <td>0.761886</td>\n",
              "      <td>0.624660</td>\n",
              "    </tr>\n",
              "    <tr>\n",
              "      <th>6</th>\n",
              "      <td>2</td>\n",
              "      <td>tanh</td>\n",
              "      <td>sgd</td>\n",
              "      <td>100</td>\n",
              "      <td>(13, 15)</td>\n",
              "      <td>0.739604</td>\n",
              "      <td>0.528853</td>\n",
              "    </tr>\n",
              "    <tr>\n",
              "      <th>5</th>\n",
              "      <td>2</td>\n",
              "      <td>logistic</td>\n",
              "      <td>adam</td>\n",
              "      <td>200</td>\n",
              "      <td>(10, 12)</td>\n",
              "      <td>0.738323</td>\n",
              "      <td>0.553270</td>\n",
              "    </tr>\n",
              "    <tr>\n",
              "      <th>2</th>\n",
              "      <td>1</td>\n",
              "      <td>tanh</td>\n",
              "      <td>adam</td>\n",
              "      <td>200</td>\n",
              "      <td>16</td>\n",
              "      <td>0.732727</td>\n",
              "      <td>0.561248</td>\n",
              "    </tr>\n",
              "    <tr>\n",
              "      <th>9</th>\n",
              "      <td>2</td>\n",
              "      <td>relu</td>\n",
              "      <td>sgd</td>\n",
              "      <td>100</td>\n",
              "      <td>(10, 15)</td>\n",
              "      <td>0.729426</td>\n",
              "      <td>0.528803</td>\n",
              "    </tr>\n",
              "    <tr>\n",
              "      <th>3</th>\n",
              "      <td>1</td>\n",
              "      <td>relu</td>\n",
              "      <td>sgd</td>\n",
              "      <td>100</td>\n",
              "      <td>17</td>\n",
              "      <td>0.722878</td>\n",
              "      <td>0.505038</td>\n",
              "    </tr>\n",
              "    <tr>\n",
              "      <th>1</th>\n",
              "      <td>1</td>\n",
              "      <td>logistic</td>\n",
              "      <td>sgd</td>\n",
              "      <td>150</td>\n",
              "      <td>13</td>\n",
              "      <td>0.713400</td>\n",
              "      <td>0.417219</td>\n",
              "    </tr>\n",
              "    <tr>\n",
              "      <th>8</th>\n",
              "      <td>2</td>\n",
              "      <td>identity</td>\n",
              "      <td>adam</td>\n",
              "      <td>200</td>\n",
              "      <td>(11, 13)</td>\n",
              "      <td>0.697758</td>\n",
              "      <td>0.431017</td>\n",
              "    </tr>\n",
              "    <tr>\n",
              "      <th>0</th>\n",
              "      <td>1</td>\n",
              "      <td>identity</td>\n",
              "      <td>adam</td>\n",
              "      <td>100</td>\n",
              "      <td>16</td>\n",
              "      <td>0.697669</td>\n",
              "      <td>0.434251</td>\n",
              "    </tr>\n",
              "    <tr>\n",
              "      <th>4</th>\n",
              "      <td>1</td>\n",
              "      <td>identity</td>\n",
              "      <td>sgd</td>\n",
              "      <td>150</td>\n",
              "      <td>10</td>\n",
              "      <td>0.697107</td>\n",
              "      <td>0.421017</td>\n",
              "    </tr>\n",
              "  </tbody>\n",
              "</table>\n",
              "</div>"
            ]
          },
          "metadata": {
            "tags": []
          },
          "execution_count": 26
        }
      ]
    },
    {
      "cell_type": "code",
      "metadata": {
        "id": "fwrEOf7c6UyY",
        "outputId": "37784409-0da0-44c8-e70e-81e321dd2aa0"
      },
      "source": [
        "df_top.sort_values(['media f1 score'], ascending= False)"
      ],
      "execution_count": null,
      "outputs": [
        {
          "output_type": "execute_result",
          "data": {
            "text/plain": [
              "  Camadas Função de Ativação Hiperparametro  Épocas Neurônios  media acuracia  \\\n",
              "7       2               relu           adam     150  (19, 16)        0.761886   \n",
              "2       1               tanh           adam     200        16        0.732727   \n",
              "5       2           logistic           adam     200  (10, 12)        0.738323   \n",
              "6       2               tanh            sgd     100  (13, 15)        0.739604   \n",
              "9       2               relu            sgd     100  (10, 15)        0.729426   \n",
              "3       1               relu            sgd     100        17        0.722878   \n",
              "0       1           identity           adam     100        16        0.697669   \n",
              "8       2           identity           adam     200  (11, 13)        0.697758   \n",
              "4       1           identity            sgd     150        10        0.697107   \n",
              "1       1           logistic            sgd     150        13        0.713400   \n",
              "\n",
              "   media f1 score  \n",
              "7        0.624660  \n",
              "2        0.561248  \n",
              "5        0.553270  \n",
              "6        0.528853  \n",
              "9        0.528803  \n",
              "3        0.505038  \n",
              "0        0.434251  \n",
              "8        0.431017  \n",
              "4        0.421017  \n",
              "1        0.417219  "
            ],
            "text/html": [
              "<div>\n",
              "<style scoped>\n",
              "    .dataframe tbody tr th:only-of-type {\n",
              "        vertical-align: middle;\n",
              "    }\n",
              "\n",
              "    .dataframe tbody tr th {\n",
              "        vertical-align: top;\n",
              "    }\n",
              "\n",
              "    .dataframe thead th {\n",
              "        text-align: right;\n",
              "    }\n",
              "</style>\n",
              "<table border=\"1\" class=\"dataframe\">\n",
              "  <thead>\n",
              "    <tr style=\"text-align: right;\">\n",
              "      <th></th>\n",
              "      <th>Camadas</th>\n",
              "      <th>Função de Ativação</th>\n",
              "      <th>Hiperparametro</th>\n",
              "      <th>Épocas</th>\n",
              "      <th>Neurônios</th>\n",
              "      <th>media acuracia</th>\n",
              "      <th>media f1 score</th>\n",
              "    </tr>\n",
              "  </thead>\n",
              "  <tbody>\n",
              "    <tr>\n",
              "      <th>7</th>\n",
              "      <td>2</td>\n",
              "      <td>relu</td>\n",
              "      <td>adam</td>\n",
              "      <td>150</td>\n",
              "      <td>(19, 16)</td>\n",
              "      <td>0.761886</td>\n",
              "      <td>0.624660</td>\n",
              "    </tr>\n",
              "    <tr>\n",
              "      <th>2</th>\n",
              "      <td>1</td>\n",
              "      <td>tanh</td>\n",
              "      <td>adam</td>\n",
              "      <td>200</td>\n",
              "      <td>16</td>\n",
              "      <td>0.732727</td>\n",
              "      <td>0.561248</td>\n",
              "    </tr>\n",
              "    <tr>\n",
              "      <th>5</th>\n",
              "      <td>2</td>\n",
              "      <td>logistic</td>\n",
              "      <td>adam</td>\n",
              "      <td>200</td>\n",
              "      <td>(10, 12)</td>\n",
              "      <td>0.738323</td>\n",
              "      <td>0.553270</td>\n",
              "    </tr>\n",
              "    <tr>\n",
              "      <th>6</th>\n",
              "      <td>2</td>\n",
              "      <td>tanh</td>\n",
              "      <td>sgd</td>\n",
              "      <td>100</td>\n",
              "      <td>(13, 15)</td>\n",
              "      <td>0.739604</td>\n",
              "      <td>0.528853</td>\n",
              "    </tr>\n",
              "    <tr>\n",
              "      <th>9</th>\n",
              "      <td>2</td>\n",
              "      <td>relu</td>\n",
              "      <td>sgd</td>\n",
              "      <td>100</td>\n",
              "      <td>(10, 15)</td>\n",
              "      <td>0.729426</td>\n",
              "      <td>0.528803</td>\n",
              "    </tr>\n",
              "    <tr>\n",
              "      <th>3</th>\n",
              "      <td>1</td>\n",
              "      <td>relu</td>\n",
              "      <td>sgd</td>\n",
              "      <td>100</td>\n",
              "      <td>17</td>\n",
              "      <td>0.722878</td>\n",
              "      <td>0.505038</td>\n",
              "    </tr>\n",
              "    <tr>\n",
              "      <th>0</th>\n",
              "      <td>1</td>\n",
              "      <td>identity</td>\n",
              "      <td>adam</td>\n",
              "      <td>100</td>\n",
              "      <td>16</td>\n",
              "      <td>0.697669</td>\n",
              "      <td>0.434251</td>\n",
              "    </tr>\n",
              "    <tr>\n",
              "      <th>8</th>\n",
              "      <td>2</td>\n",
              "      <td>identity</td>\n",
              "      <td>adam</td>\n",
              "      <td>200</td>\n",
              "      <td>(11, 13)</td>\n",
              "      <td>0.697758</td>\n",
              "      <td>0.431017</td>\n",
              "    </tr>\n",
              "    <tr>\n",
              "      <th>4</th>\n",
              "      <td>1</td>\n",
              "      <td>identity</td>\n",
              "      <td>sgd</td>\n",
              "      <td>150</td>\n",
              "      <td>10</td>\n",
              "      <td>0.697107</td>\n",
              "      <td>0.421017</td>\n",
              "    </tr>\n",
              "    <tr>\n",
              "      <th>1</th>\n",
              "      <td>1</td>\n",
              "      <td>logistic</td>\n",
              "      <td>sgd</td>\n",
              "      <td>150</td>\n",
              "      <td>13</td>\n",
              "      <td>0.713400</td>\n",
              "      <td>0.417219</td>\n",
              "    </tr>\n",
              "  </tbody>\n",
              "</table>\n",
              "</div>"
            ]
          },
          "metadata": {
            "tags": []
          },
          "execution_count": 15
        }
      ]
    },
    {
      "cell_type": "markdown",
      "metadata": {
        "id": "aAeHH5XG6Uya"
      },
      "source": [
        "Escolhendo top 3:\n",
        "- De acordo com a média de acuracia as melhores configurações foram as com indice 7,6 e 5. Já segundo a F1 score foram as 7, 2 e 5. Observando que as configurações 7 e 5 foram as melhores em ambas, consideramos a terceira configuração sendo a 2, pois a acurácia pode ser usada quando a distribuição da classe é semelhante, enquanto a pontuação F1 score é uma métrica melhor quando há classes desbalanceadas, que é o nosso caso."
      ]
    },
    {
      "cell_type": "code",
      "metadata": {
        "id": "yBylOmvu6Uyb"
      },
      "source": [
        "vetor_top = [7, 2, 5]"
      ],
      "execution_count": 12,
      "outputs": []
    },
    {
      "cell_type": "code",
      "execution_count": 13,
      "metadata": {},
      "outputs": [],
      "source": [
        "X_train, X_test, Y_train, Y_test = train_test_split(x, y, test_size = 0.3, random_state = 42)\n",
        "X_train_std = (X_train - np.mean(X_train))/np.std(X_train)\n",
        "X_test_std = (X_test - np.mean(X_train))/np.std(X_train)"
      ]
    },
    {
      "cell_type": "code",
      "metadata": {
        "id": "lD8rCOvW6Uyd"
      },
      "source": [
        "\n",
        "def fit(neuronios, func_ativacao, hiperparametro, epocas):\n",
        "\n",
        "    mlp = MLPClassifier(hidden_layer_sizes=neuronios, activation= func_ativacao, solver= hiperparametro, max_iter=epocas, verbose= False)\n",
        "    mlp.fit(X_train_std, Y_train)\n",
        "    predictions = mlp.predict(X_test_std)\n",
        "\n",
        "    return(predictions)"
      ],
      "execution_count": 14,
      "outputs": []
    },
    {
      "cell_type": "code",
      "metadata": {
        "id": "jWFso3VZ6Uyg"
      },
      "source": [
        "resultados = []\n",
        "for i in vetor_top:\n",
        "    resultados.append(fit(df_confgs['Neurônios'][i], df_confgs['Função de Ativação'][i], df_confgs['Hiperparametro'][i], df_confgs['Épocas'][i]))"
      ],
      "execution_count": 15,
      "outputs": []
    },
    {
      "cell_type": "code",
      "execution_count": 45,
      "metadata": {},
      "outputs": [
        {
          "output_type": "stream",
          "name": "stdout",
          "text": [
            "1 ª ARQUITETURA\n",
            "TP:  [48520 68586  8227   462   696  1438  3484]\n",
            "TN:  [ 93605  69744 159917 173367 170923 167899 167478]\n",
            "FP:  [17143 19482  3749   142   440  1178   757]\n",
            "FP:  [17143 19482  3749   142   440  1178   757]\n",
            "2 ª ARQUITETURA\n",
            "TP:  [45433 68716  8302   308   438   952  3439]\n",
            "TN:  [ 93624  66923 158996 173395 171145 168042 166983]\n",
            "FP:  [17124 22303  4670   114   218  1035  1252]\n",
            "FP:  [17124 22303  4670   114   218  1035  1252]\n",
            "3 ª ARQUITETURA\n",
            "TP:  [44958 70273  7927   233   462  1310  3380]\n",
            "TN:  [ 94951  66111 159681 173424 171151 167545 167200]\n",
            "FP:  [15797 23115  3985    85   212  1532  1035]\n",
            "FP:  [15797 23115  3985    85   212  1532  1035]\n"
          ]
        }
      ],
      "source": [
        "# tp, tf, fp e fn\n",
        "for i in range(3):\n",
        "    matriz_confusao = confusion_matrix(Y_test, resultados[i])\n",
        "\n",
        "    FP = matriz_confusao.sum(axis=0) - np.diag(matriz_confusao)  \n",
        "    FN = matriz_confusao.sum(axis=1) - np.diag(matriz_confusao)\n",
        "    TP = np.diag(matriz_confusao)\n",
        "    TN = matriz_confusao.sum() - (FP + FN + TP)\n",
        "\n",
        "    print(i+1,'ª ARQUITETURA')\n",
        "    print(\"TP: \", TP)\n",
        "    print(\"TN: \", TN)\n",
        "    print(\"FP: \", FP)\n",
        "    print(\"FP: \", FP)"
      ]
    },
    {
      "source": [
        "Ilustração do TP, FN, TP, TN. Vale resaltar que esses valores podem ser encontrados nas matrizes de confusão abaixo."
      ],
      "cell_type": "markdown",
      "metadata": {}
    },
    {
      "cell_type": "code",
      "metadata": {
        "id": "-nT3y1Kx6Uyj",
        "outputId": "a8757465-123d-4395-8ca5-59632a65efd8"
      },
      "source": [
        "\n",
        "fig, ax = plt.subplots()\n",
        "sns.heatmap(confusion_matrix(Y_test, resultados[0]), annot=True, \n",
        "            ax=ax, fmt='d', cmap='Reds')\n",
        "ax.set_title(\"Matriz de Confusão da Configuração 7\", fontsize=18)\n",
        "ax.set_ylabel(\"True label\")\n",
        "ax.set_xlabel(\"Predicted Label\")\n",
        "plt.tight_layout()"
      ],
      "execution_count": 38,
      "outputs": [
        {
          "output_type": "display_data",
          "data": {
            "text/plain": "<Figure size 432x288 with 2 Axes>",
            "image/svg+xml": "<?xml version=\"1.0\" encoding=\"utf-8\" standalone=\"no\"?>\n<!DOCTYPE svg PUBLIC \"-//W3C//DTD SVG 1.1//EN\"\n  \"http://www.w3.org/Graphics/SVG/1.1/DTD/svg11.dtd\">\n<!-- Created with matplotlib (https://matplotlib.org/) -->\n<svg height=\"280.14pt\" version=\"1.1\" viewBox=\"0 0 410.59825 280.14\" width=\"410.59825pt\" xmlns=\"http://www.w3.org/2000/svg\" xmlns:xlink=\"http://www.w3.org/1999/xlink\">\n <defs>\n  <style type=\"text/css\">\n*{stroke-linecap:butt;stroke-linejoin:round;}\n  </style>\n </defs>\n <g id=\"figure_1\">\n  <g id=\"patch_1\">\n   <path d=\"M 0 280.14 \nL 410.59825 280.14 \nL 410.59825 0 \nL 0 0 \nz\n\" style=\"fill:none;\"/>\n  </g>\n  <g id=\"axes_1\">\n   <g id=\"patch_2\">\n    <path d=\"M 37.55625 242.58375 \nL 335.21225 242.58375 \nL 335.21225 27.18375 \nL 37.55625 27.18375 \nz\n\" style=\"fill:#ffffff;\"/>\n   </g>\n   <g id=\"QuadMesh_1\">\n    <path clip-path=\"url(#p3291d08cfb)\" d=\"M 37.55625 27.18375 \nL 80.078536 27.18375 \nL 80.078536 57.955179 \nL 37.55625 57.955179 \nL 37.55625 27.18375 \n\" style=\"fill:#d72322;\"/>\n    <path clip-path=\"url(#p3291d08cfb)\" d=\"M 80.078536 27.18375 \nL 122.600821 27.18375 \nL 122.600821 57.955179 \nL 80.078536 57.955179 \nL 80.078536 27.18375 \n\" style=\"fill:#fdc7b2;\"/>\n    <path clip-path=\"url(#p3291d08cfb)\" d=\"M 122.600821 27.18375 \nL 165.123107 27.18375 \nL 165.123107 57.955179 \nL 122.600821 57.955179 \nL 122.600821 27.18375 \n\" style=\"fill:#fff5f0;\"/>\n    <path clip-path=\"url(#p3291d08cfb)\" d=\"M 165.123107 27.18375 \nL 207.645393 27.18375 \nL 207.645393 57.955179 \nL 165.123107 57.955179 \nL 165.123107 27.18375 \n\" style=\"fill:#fff5f0;\"/>\n    <path clip-path=\"url(#p3291d08cfb)\" d=\"M 207.645393 27.18375 \nL 250.167679 27.18375 \nL 250.167679 57.955179 \nL 207.645393 57.955179 \nL 207.645393 27.18375 \n\" style=\"fill:#fff5f0;\"/>\n    <path clip-path=\"url(#p3291d08cfb)\" d=\"M 250.167679 27.18375 \nL 292.689964 27.18375 \nL 292.689964 57.955179 \nL 250.167679 57.955179 \nL 250.167679 27.18375 \n\" style=\"fill:#fff5f0;\"/>\n    <path clip-path=\"url(#p3291d08cfb)\" d=\"M 292.689964 27.18375 \nL 335.21225 27.18375 \nL 335.21225 57.955179 \nL 292.689964 57.955179 \nL 292.689964 27.18375 \n\" style=\"fill:#fff4ee;\"/>\n    <path clip-path=\"url(#p3291d08cfb)\" d=\"M 37.55625 57.955179 \nL 80.078536 57.955179 \nL 80.078536 88.726607 \nL 37.55625 88.726607 \nL 37.55625 57.955179 \n\" style=\"fill:#fdc6b0;\"/>\n    <path clip-path=\"url(#p3291d08cfb)\" d=\"M 80.078536 57.955179 \nL 122.600821 57.955179 \nL 122.600821 88.726607 \nL 80.078536 88.726607 \nL 80.078536 57.955179 \n\" style=\"fill:#67000d;\"/>\n    <path clip-path=\"url(#p3291d08cfb)\" d=\"M 122.600821 57.955179 \nL 165.123107 57.955179 \nL 165.123107 88.726607 \nL 122.600821 88.726607 \nL 122.600821 57.955179 \n\" style=\"fill:#fff3ed;\"/>\n    <path clip-path=\"url(#p3291d08cfb)\" d=\"M 165.123107 57.955179 \nL 207.645393 57.955179 \nL 207.645393 88.726607 \nL 165.123107 88.726607 \nL 165.123107 57.955179 \n\" style=\"fill:#fff5f0;\"/>\n    <path clip-path=\"url(#p3291d08cfb)\" d=\"M 207.645393 57.955179 \nL 250.167679 57.955179 \nL 250.167679 88.726607 \nL 207.645393 88.726607 \nL 207.645393 57.955179 \n\" style=\"fill:#fff4ef;\"/>\n    <path clip-path=\"url(#p3291d08cfb)\" d=\"M 250.167679 57.955179 \nL 292.689964 57.955179 \nL 292.689964 88.726607 \nL 250.167679 88.726607 \nL 250.167679 57.955179 \n\" style=\"fill:#fff4ef;\"/>\n    <path clip-path=\"url(#p3291d08cfb)\" d=\"M 292.689964 57.955179 \nL 335.21225 57.955179 \nL 335.21225 88.726607 \nL 292.689964 88.726607 \nL 292.689964 57.955179 \n\" style=\"fill:#fff5f0;\"/>\n    <path clip-path=\"url(#p3291d08cfb)\" d=\"M 37.55625 88.726607 \nL 80.078536 88.726607 \nL 80.078536 119.498036 \nL 37.55625 119.498036 \nL 37.55625 88.726607 \n\" style=\"fill:#fff5f0;\"/>\n    <path clip-path=\"url(#p3291d08cfb)\" d=\"M 80.078536 88.726607 \nL 122.600821 88.726607 \nL 122.600821 119.498036 \nL 80.078536 119.498036 \nL 80.078536 88.726607 \n\" style=\"fill:#fff1ea;\"/>\n    <path clip-path=\"url(#p3291d08cfb)\" d=\"M 122.600821 88.726607 \nL 165.123107 88.726607 \nL 165.123107 119.498036 \nL 122.600821 119.498036 \nL 122.600821 88.726607 \n\" style=\"fill:#fee1d4;\"/>\n    <path clip-path=\"url(#p3291d08cfb)\" d=\"M 165.123107 88.726607 \nL 207.645393 88.726607 \nL 207.645393 119.498036 \nL 165.123107 119.498036 \nL 165.123107 88.726607 \n\" style=\"fill:#fff5f0;\"/>\n    <path clip-path=\"url(#p3291d08cfb)\" d=\"M 207.645393 88.726607 \nL 250.167679 88.726607 \nL 250.167679 119.498036 \nL 207.645393 119.498036 \nL 207.645393 88.726607 \n\" style=\"fill:#fff5f0;\"/>\n    <path clip-path=\"url(#p3291d08cfb)\" d=\"M 250.167679 88.726607 \nL 292.689964 88.726607 \nL 292.689964 119.498036 \nL 250.167679 119.498036 \nL 250.167679 88.726607 \n\" style=\"fill:#fff4ee;\"/>\n    <path clip-path=\"url(#p3291d08cfb)\" d=\"M 292.689964 88.726607 \nL 335.21225 88.726607 \nL 335.21225 119.498036 \nL 292.689964 119.498036 \nL 292.689964 88.726607 \n\" style=\"fill:#fff5f0;\"/>\n    <path clip-path=\"url(#p3291d08cfb)\" d=\"M 37.55625 119.498036 \nL 80.078536 119.498036 \nL 80.078536 150.269464 \nL 37.55625 150.269464 \nL 37.55625 119.498036 \n\" style=\"fill:#fff5f0;\"/>\n    <path clip-path=\"url(#p3291d08cfb)\" d=\"M 80.078536 119.498036 \nL 122.600821 119.498036 \nL 122.600821 150.269464 \nL 80.078536 150.269464 \nL 80.078536 119.498036 \n\" style=\"fill:#fff5f0;\"/>\n    <path clip-path=\"url(#p3291d08cfb)\" d=\"M 122.600821 119.498036 \nL 165.123107 119.498036 \nL 165.123107 150.269464 \nL 122.600821 150.269464 \nL 122.600821 119.498036 \n\" style=\"fill:#fff4ef;\"/>\n    <path clip-path=\"url(#p3291d08cfb)\" d=\"M 165.123107 119.498036 \nL 207.645393 119.498036 \nL 207.645393 150.269464 \nL 165.123107 150.269464 \nL 165.123107 119.498036 \n\" style=\"fill:#fff4ef;\"/>\n    <path clip-path=\"url(#p3291d08cfb)\" d=\"M 207.645393 119.498036 \nL 250.167679 119.498036 \nL 250.167679 150.269464 \nL 207.645393 150.269464 \nL 207.645393 119.498036 \n\" style=\"fill:#fff5f0;\"/>\n    <path clip-path=\"url(#p3291d08cfb)\" d=\"M 250.167679 119.498036 \nL 292.689964 119.498036 \nL 292.689964 150.269464 \nL 250.167679 150.269464 \nL 250.167679 119.498036 \n\" style=\"fill:#fff5f0;\"/>\n    <path clip-path=\"url(#p3291d08cfb)\" d=\"M 292.689964 119.498036 \nL 335.21225 119.498036 \nL 335.21225 150.269464 \nL 292.689964 150.269464 \nL 292.689964 119.498036 \n\" style=\"fill:#fff5f0;\"/>\n    <path clip-path=\"url(#p3291d08cfb)\" d=\"M 37.55625 150.269464 \nL 80.078536 150.269464 \nL 80.078536 181.040893 \nL 37.55625 181.040893 \nL 37.55625 150.269464 \n\" style=\"fill:#fff5f0;\"/>\n    <path clip-path=\"url(#p3291d08cfb)\" d=\"M 80.078536 150.269464 \nL 122.600821 150.269464 \nL 122.600821 181.040893 \nL 80.078536 181.040893 \nL 80.078536 150.269464 \n\" style=\"fill:#fff0e9;\"/>\n    <path clip-path=\"url(#p3291d08cfb)\" d=\"M 122.600821 150.269464 \nL 165.123107 150.269464 \nL 165.123107 181.040893 \nL 122.600821 181.040893 \nL 122.600821 150.269464 \n\" style=\"fill:#fff5f0;\"/>\n    <path clip-path=\"url(#p3291d08cfb)\" d=\"M 165.123107 150.269464 \nL 207.645393 150.269464 \nL 207.645393 181.040893 \nL 165.123107 181.040893 \nL 165.123107 150.269464 \n\" style=\"fill:#fff5f0;\"/>\n    <path clip-path=\"url(#p3291d08cfb)\" d=\"M 207.645393 150.269464 \nL 250.167679 150.269464 \nL 250.167679 181.040893 \nL 207.645393 181.040893 \nL 207.645393 150.269464 \n\" style=\"fill:#fff4ee;\"/>\n    <path clip-path=\"url(#p3291d08cfb)\" d=\"M 250.167679 150.269464 \nL 292.689964 150.269464 \nL 292.689964 181.040893 \nL 250.167679 181.040893 \nL 250.167679 150.269464 \n\" style=\"fill:#fff5f0;\"/>\n    <path clip-path=\"url(#p3291d08cfb)\" d=\"M 292.689964 150.269464 \nL 335.21225 150.269464 \nL 335.21225 181.040893 \nL 292.689964 181.040893 \nL 292.689964 150.269464 \n\" style=\"fill:#fff5f0;\"/>\n    <path clip-path=\"url(#p3291d08cfb)\" d=\"M 37.55625 181.040893 \nL 80.078536 181.040893 \nL 80.078536 211.812321 \nL 37.55625 211.812321 \nL 37.55625 181.040893 \n\" style=\"fill:#fff5f0;\"/>\n    <path clip-path=\"url(#p3291d08cfb)\" d=\"M 80.078536 181.040893 \nL 122.600821 181.040893 \nL 122.600821 211.812321 \nL 80.078536 211.812321 \nL 80.078536 181.040893 \n\" style=\"fill:#fff2eb;\"/>\n    <path clip-path=\"url(#p3291d08cfb)\" d=\"M 122.600821 181.040893 \nL 165.123107 181.040893 \nL 165.123107 211.812321 \nL 122.600821 211.812321 \nL 122.600821 181.040893 \n\" style=\"fill:#fff0e8;\"/>\n    <path clip-path=\"url(#p3291d08cfb)\" d=\"M 165.123107 181.040893 \nL 207.645393 181.040893 \nL 207.645393 211.812321 \nL 165.123107 211.812321 \nL 165.123107 181.040893 \n\" style=\"fill:#fff5f0;\"/>\n    <path clip-path=\"url(#p3291d08cfb)\" d=\"M 207.645393 181.040893 \nL 250.167679 181.040893 \nL 250.167679 211.812321 \nL 207.645393 211.812321 \nL 207.645393 181.040893 \n\" style=\"fill:#fff5f0;\"/>\n    <path clip-path=\"url(#p3291d08cfb)\" d=\"M 250.167679 181.040893 \nL 292.689964 181.040893 \nL 292.689964 211.812321 \nL 250.167679 211.812321 \nL 250.167679 181.040893 \n\" style=\"fill:#fff2eb;\"/>\n    <path clip-path=\"url(#p3291d08cfb)\" d=\"M 292.689964 181.040893 \nL 335.21225 181.040893 \nL 335.21225 211.812321 \nL 292.689964 211.812321 \nL 292.689964 181.040893 \n\" style=\"fill:#fff5f0;\"/>\n    <path clip-path=\"url(#p3291d08cfb)\" d=\"M 37.55625 211.812321 \nL 80.078536 211.812321 \nL 80.078536 242.58375 \nL 37.55625 242.58375 \nL 37.55625 211.812321 \n\" style=\"fill:#ffefe8;\"/>\n    <path clip-path=\"url(#p3291d08cfb)\" d=\"M 80.078536 211.812321 \nL 122.600821 211.812321 \nL 122.600821 242.58375 \nL 80.078536 242.58375 \nL 80.078536 211.812321 \n\" style=\"fill:#fff5f0;\"/>\n    <path clip-path=\"url(#p3291d08cfb)\" d=\"M 122.600821 211.812321 \nL 165.123107 211.812321 \nL 165.123107 242.58375 \nL 122.600821 242.58375 \nL 122.600821 211.812321 \n\" style=\"fill:#fff5f0;\"/>\n    <path clip-path=\"url(#p3291d08cfb)\" d=\"M 165.123107 211.812321 \nL 207.645393 211.812321 \nL 207.645393 242.58375 \nL 165.123107 242.58375 \nL 165.123107 211.812321 \n\" style=\"fill:#fff5f0;\"/>\n    <path clip-path=\"url(#p3291d08cfb)\" d=\"M 207.645393 211.812321 \nL 250.167679 211.812321 \nL 250.167679 242.58375 \nL 207.645393 242.58375 \nL 207.645393 211.812321 \n\" style=\"fill:#fff5f0;\"/>\n    <path clip-path=\"url(#p3291d08cfb)\" d=\"M 250.167679 211.812321 \nL 292.689964 211.812321 \nL 292.689964 242.58375 \nL 250.167679 242.58375 \nL 250.167679 211.812321 \n\" style=\"fill:#fff5f0;\"/>\n    <path clip-path=\"url(#p3291d08cfb)\" d=\"M 292.689964 211.812321 \nL 335.21225 211.812321 \nL 335.21225 242.58375 \nL 292.689964 242.58375 \nL 292.689964 211.812321 \n\" style=\"fill:#ffece4;\"/>\n   </g>\n   <g id=\"matplotlib.axis_1\">\n    <g id=\"xtick_1\">\n     <g id=\"line2d_1\">\n      <defs>\n       <path d=\"M 0 0 \nL 0 3.5 \n\" id=\"m7567ebc4a3\" style=\"stroke:#000000;stroke-width:0.8;\"/>\n      </defs>\n      <g>\n       <use style=\"stroke:#000000;stroke-width:0.8;\" x=\"58.817393\" xlink:href=\"#m7567ebc4a3\" y=\"242.58375\"/>\n      </g>\n     </g>\n     <g id=\"text_1\">\n      <!-- 0 -->\n      <defs>\n       <path d=\"M 31.78125 66.40625 \nQ 24.171875 66.40625 20.328125 58.90625 \nQ 16.5 51.421875 16.5 36.375 \nQ 16.5 21.390625 20.328125 13.890625 \nQ 24.171875 6.390625 31.78125 6.390625 \nQ 39.453125 6.390625 43.28125 13.890625 \nQ 47.125 21.390625 47.125 36.375 \nQ 47.125 51.421875 43.28125 58.90625 \nQ 39.453125 66.40625 31.78125 66.40625 \nz\nM 31.78125 74.21875 \nQ 44.046875 74.21875 50.515625 64.515625 \nQ 56.984375 54.828125 56.984375 36.375 \nQ 56.984375 17.96875 50.515625 8.265625 \nQ 44.046875 -1.421875 31.78125 -1.421875 \nQ 19.53125 -1.421875 13.0625 8.265625 \nQ 6.59375 17.96875 6.59375 36.375 \nQ 6.59375 54.828125 13.0625 64.515625 \nQ 19.53125 74.21875 31.78125 74.21875 \nz\n\" id=\"DejaVuSans-48\"/>\n      </defs>\n      <g transform=\"translate(55.636143 257.182187)scale(0.1 -0.1)\">\n       <use xlink:href=\"#DejaVuSans-48\"/>\n      </g>\n     </g>\n    </g>\n    <g id=\"xtick_2\">\n     <g id=\"line2d_2\">\n      <g>\n       <use style=\"stroke:#000000;stroke-width:0.8;\" x=\"101.339679\" xlink:href=\"#m7567ebc4a3\" y=\"242.58375\"/>\n      </g>\n     </g>\n     <g id=\"text_2\">\n      <!-- 1 -->\n      <defs>\n       <path d=\"M 12.40625 8.296875 \nL 28.515625 8.296875 \nL 28.515625 63.921875 \nL 10.984375 60.40625 \nL 10.984375 69.390625 \nL 28.421875 72.90625 \nL 38.28125 72.90625 \nL 38.28125 8.296875 \nL 54.390625 8.296875 \nL 54.390625 0 \nL 12.40625 0 \nz\n\" id=\"DejaVuSans-49\"/>\n      </defs>\n      <g transform=\"translate(98.158429 257.182187)scale(0.1 -0.1)\">\n       <use xlink:href=\"#DejaVuSans-49\"/>\n      </g>\n     </g>\n    </g>\n    <g id=\"xtick_3\">\n     <g id=\"line2d_3\">\n      <g>\n       <use style=\"stroke:#000000;stroke-width:0.8;\" x=\"143.861964\" xlink:href=\"#m7567ebc4a3\" y=\"242.58375\"/>\n      </g>\n     </g>\n     <g id=\"text_3\">\n      <!-- 2 -->\n      <defs>\n       <path d=\"M 19.1875 8.296875 \nL 53.609375 8.296875 \nL 53.609375 0 \nL 7.328125 0 \nL 7.328125 8.296875 \nQ 12.9375 14.109375 22.625 23.890625 \nQ 32.328125 33.6875 34.8125 36.53125 \nQ 39.546875 41.84375 41.421875 45.53125 \nQ 43.3125 49.21875 43.3125 52.78125 \nQ 43.3125 58.59375 39.234375 62.25 \nQ 35.15625 65.921875 28.609375 65.921875 \nQ 23.96875 65.921875 18.8125 64.3125 \nQ 13.671875 62.703125 7.8125 59.421875 \nL 7.8125 69.390625 \nQ 13.765625 71.78125 18.9375 73 \nQ 24.125 74.21875 28.421875 74.21875 \nQ 39.75 74.21875 46.484375 68.546875 \nQ 53.21875 62.890625 53.21875 53.421875 \nQ 53.21875 48.921875 51.53125 44.890625 \nQ 49.859375 40.875 45.40625 35.40625 \nQ 44.1875 33.984375 37.640625 27.21875 \nQ 31.109375 20.453125 19.1875 8.296875 \nz\n\" id=\"DejaVuSans-50\"/>\n      </defs>\n      <g transform=\"translate(140.680714 257.182187)scale(0.1 -0.1)\">\n       <use xlink:href=\"#DejaVuSans-50\"/>\n      </g>\n     </g>\n    </g>\n    <g id=\"xtick_4\">\n     <g id=\"line2d_4\">\n      <g>\n       <use style=\"stroke:#000000;stroke-width:0.8;\" x=\"186.38425\" xlink:href=\"#m7567ebc4a3\" y=\"242.58375\"/>\n      </g>\n     </g>\n     <g id=\"text_4\">\n      <!-- 3 -->\n      <defs>\n       <path d=\"M 40.578125 39.3125 \nQ 47.65625 37.796875 51.625 33 \nQ 55.609375 28.21875 55.609375 21.1875 \nQ 55.609375 10.40625 48.1875 4.484375 \nQ 40.765625 -1.421875 27.09375 -1.421875 \nQ 22.515625 -1.421875 17.65625 -0.515625 \nQ 12.796875 0.390625 7.625 2.203125 \nL 7.625 11.71875 \nQ 11.71875 9.328125 16.59375 8.109375 \nQ 21.484375 6.890625 26.8125 6.890625 \nQ 36.078125 6.890625 40.9375 10.546875 \nQ 45.796875 14.203125 45.796875 21.1875 \nQ 45.796875 27.640625 41.28125 31.265625 \nQ 36.765625 34.90625 28.71875 34.90625 \nL 20.21875 34.90625 \nL 20.21875 43.015625 \nL 29.109375 43.015625 \nQ 36.375 43.015625 40.234375 45.921875 \nQ 44.09375 48.828125 44.09375 54.296875 \nQ 44.09375 59.90625 40.109375 62.90625 \nQ 36.140625 65.921875 28.71875 65.921875 \nQ 24.65625 65.921875 20.015625 65.03125 \nQ 15.375 64.15625 9.8125 62.3125 \nL 9.8125 71.09375 \nQ 15.4375 72.65625 20.34375 73.4375 \nQ 25.25 74.21875 29.59375 74.21875 \nQ 40.828125 74.21875 47.359375 69.109375 \nQ 53.90625 64.015625 53.90625 55.328125 \nQ 53.90625 49.265625 50.4375 45.09375 \nQ 46.96875 40.921875 40.578125 39.3125 \nz\n\" id=\"DejaVuSans-51\"/>\n      </defs>\n      <g transform=\"translate(183.203 257.182187)scale(0.1 -0.1)\">\n       <use xlink:href=\"#DejaVuSans-51\"/>\n      </g>\n     </g>\n    </g>\n    <g id=\"xtick_5\">\n     <g id=\"line2d_5\">\n      <g>\n       <use style=\"stroke:#000000;stroke-width:0.8;\" x=\"228.906536\" xlink:href=\"#m7567ebc4a3\" y=\"242.58375\"/>\n      </g>\n     </g>\n     <g id=\"text_5\">\n      <!-- 4 -->\n      <defs>\n       <path d=\"M 37.796875 64.3125 \nL 12.890625 25.390625 \nL 37.796875 25.390625 \nz\nM 35.203125 72.90625 \nL 47.609375 72.90625 \nL 47.609375 25.390625 \nL 58.015625 25.390625 \nL 58.015625 17.1875 \nL 47.609375 17.1875 \nL 47.609375 0 \nL 37.796875 0 \nL 37.796875 17.1875 \nL 4.890625 17.1875 \nL 4.890625 26.703125 \nz\n\" id=\"DejaVuSans-52\"/>\n      </defs>\n      <g transform=\"translate(225.725286 257.182187)scale(0.1 -0.1)\">\n       <use xlink:href=\"#DejaVuSans-52\"/>\n      </g>\n     </g>\n    </g>\n    <g id=\"xtick_6\">\n     <g id=\"line2d_6\">\n      <g>\n       <use style=\"stroke:#000000;stroke-width:0.8;\" x=\"271.428821\" xlink:href=\"#m7567ebc4a3\" y=\"242.58375\"/>\n      </g>\n     </g>\n     <g id=\"text_6\">\n      <!-- 5 -->\n      <defs>\n       <path d=\"M 10.796875 72.90625 \nL 49.515625 72.90625 \nL 49.515625 64.59375 \nL 19.828125 64.59375 \nL 19.828125 46.734375 \nQ 21.96875 47.46875 24.109375 47.828125 \nQ 26.265625 48.1875 28.421875 48.1875 \nQ 40.625 48.1875 47.75 41.5 \nQ 54.890625 34.8125 54.890625 23.390625 \nQ 54.890625 11.625 47.5625 5.09375 \nQ 40.234375 -1.421875 26.90625 -1.421875 \nQ 22.3125 -1.421875 17.546875 -0.640625 \nQ 12.796875 0.140625 7.71875 1.703125 \nL 7.71875 11.625 \nQ 12.109375 9.234375 16.796875 8.0625 \nQ 21.484375 6.890625 26.703125 6.890625 \nQ 35.15625 6.890625 40.078125 11.328125 \nQ 45.015625 15.765625 45.015625 23.390625 \nQ 45.015625 31 40.078125 35.4375 \nQ 35.15625 39.890625 26.703125 39.890625 \nQ 22.75 39.890625 18.8125 39.015625 \nQ 14.890625 38.140625 10.796875 36.28125 \nz\n\" id=\"DejaVuSans-53\"/>\n      </defs>\n      <g transform=\"translate(268.247571 257.182187)scale(0.1 -0.1)\">\n       <use xlink:href=\"#DejaVuSans-53\"/>\n      </g>\n     </g>\n    </g>\n    <g id=\"xtick_7\">\n     <g id=\"line2d_7\">\n      <g>\n       <use style=\"stroke:#000000;stroke-width:0.8;\" x=\"313.951107\" xlink:href=\"#m7567ebc4a3\" y=\"242.58375\"/>\n      </g>\n     </g>\n     <g id=\"text_7\">\n      <!-- 6 -->\n      <defs>\n       <path d=\"M 33.015625 40.375 \nQ 26.375 40.375 22.484375 35.828125 \nQ 18.609375 31.296875 18.609375 23.390625 \nQ 18.609375 15.53125 22.484375 10.953125 \nQ 26.375 6.390625 33.015625 6.390625 \nQ 39.65625 6.390625 43.53125 10.953125 \nQ 47.40625 15.53125 47.40625 23.390625 \nQ 47.40625 31.296875 43.53125 35.828125 \nQ 39.65625 40.375 33.015625 40.375 \nz\nM 52.59375 71.296875 \nL 52.59375 62.3125 \nQ 48.875 64.0625 45.09375 64.984375 \nQ 41.3125 65.921875 37.59375 65.921875 \nQ 27.828125 65.921875 22.671875 59.328125 \nQ 17.53125 52.734375 16.796875 39.40625 \nQ 19.671875 43.65625 24.015625 45.921875 \nQ 28.375 48.1875 33.59375 48.1875 \nQ 44.578125 48.1875 50.953125 41.515625 \nQ 57.328125 34.859375 57.328125 23.390625 \nQ 57.328125 12.15625 50.6875 5.359375 \nQ 44.046875 -1.421875 33.015625 -1.421875 \nQ 20.359375 -1.421875 13.671875 8.265625 \nQ 6.984375 17.96875 6.984375 36.375 \nQ 6.984375 53.65625 15.1875 63.9375 \nQ 23.390625 74.21875 37.203125 74.21875 \nQ 40.921875 74.21875 44.703125 73.484375 \nQ 48.484375 72.75 52.59375 71.296875 \nz\n\" id=\"DejaVuSans-54\"/>\n      </defs>\n      <g transform=\"translate(310.769857 257.182187)scale(0.1 -0.1)\">\n       <use xlink:href=\"#DejaVuSans-54\"/>\n      </g>\n     </g>\n    </g>\n    <g id=\"text_8\">\n     <!-- Predicted Label -->\n     <defs>\n      <path d=\"M 19.671875 64.796875 \nL 19.671875 37.40625 \nL 32.078125 37.40625 \nQ 38.96875 37.40625 42.71875 40.96875 \nQ 46.484375 44.53125 46.484375 51.125 \nQ 46.484375 57.671875 42.71875 61.234375 \nQ 38.96875 64.796875 32.078125 64.796875 \nz\nM 9.8125 72.90625 \nL 32.078125 72.90625 \nQ 44.34375 72.90625 50.609375 67.359375 \nQ 56.890625 61.8125 56.890625 51.125 \nQ 56.890625 40.328125 50.609375 34.8125 \nQ 44.34375 29.296875 32.078125 29.296875 \nL 19.671875 29.296875 \nL 19.671875 0 \nL 9.8125 0 \nz\n\" id=\"DejaVuSans-80\"/>\n      <path d=\"M 41.109375 46.296875 \nQ 39.59375 47.171875 37.8125 47.578125 \nQ 36.03125 48 33.890625 48 \nQ 26.265625 48 22.1875 43.046875 \nQ 18.109375 38.09375 18.109375 28.8125 \nL 18.109375 0 \nL 9.078125 0 \nL 9.078125 54.6875 \nL 18.109375 54.6875 \nL 18.109375 46.1875 \nQ 20.953125 51.171875 25.484375 53.578125 \nQ 30.03125 56 36.53125 56 \nQ 37.453125 56 38.578125 55.875 \nQ 39.703125 55.765625 41.0625 55.515625 \nz\n\" id=\"DejaVuSans-114\"/>\n      <path d=\"M 56.203125 29.59375 \nL 56.203125 25.203125 \nL 14.890625 25.203125 \nQ 15.484375 15.921875 20.484375 11.0625 \nQ 25.484375 6.203125 34.421875 6.203125 \nQ 39.59375 6.203125 44.453125 7.46875 \nQ 49.3125 8.734375 54.109375 11.28125 \nL 54.109375 2.78125 \nQ 49.265625 0.734375 44.1875 -0.34375 \nQ 39.109375 -1.421875 33.890625 -1.421875 \nQ 20.796875 -1.421875 13.15625 6.1875 \nQ 5.515625 13.8125 5.515625 26.8125 \nQ 5.515625 40.234375 12.765625 48.109375 \nQ 20.015625 56 32.328125 56 \nQ 43.359375 56 49.78125 48.890625 \nQ 56.203125 41.796875 56.203125 29.59375 \nz\nM 47.21875 32.234375 \nQ 47.125 39.59375 43.09375 43.984375 \nQ 39.0625 48.390625 32.421875 48.390625 \nQ 24.90625 48.390625 20.390625 44.140625 \nQ 15.875 39.890625 15.1875 32.171875 \nz\n\" id=\"DejaVuSans-101\"/>\n      <path d=\"M 45.40625 46.390625 \nL 45.40625 75.984375 \nL 54.390625 75.984375 \nL 54.390625 0 \nL 45.40625 0 \nL 45.40625 8.203125 \nQ 42.578125 3.328125 38.25 0.953125 \nQ 33.9375 -1.421875 27.875 -1.421875 \nQ 17.96875 -1.421875 11.734375 6.484375 \nQ 5.515625 14.40625 5.515625 27.296875 \nQ 5.515625 40.1875 11.734375 48.09375 \nQ 17.96875 56 27.875 56 \nQ 33.9375 56 38.25 53.625 \nQ 42.578125 51.265625 45.40625 46.390625 \nz\nM 14.796875 27.296875 \nQ 14.796875 17.390625 18.875 11.75 \nQ 22.953125 6.109375 30.078125 6.109375 \nQ 37.203125 6.109375 41.296875 11.75 \nQ 45.40625 17.390625 45.40625 27.296875 \nQ 45.40625 37.203125 41.296875 42.84375 \nQ 37.203125 48.484375 30.078125 48.484375 \nQ 22.953125 48.484375 18.875 42.84375 \nQ 14.796875 37.203125 14.796875 27.296875 \nz\n\" id=\"DejaVuSans-100\"/>\n      <path d=\"M 9.421875 54.6875 \nL 18.40625 54.6875 \nL 18.40625 0 \nL 9.421875 0 \nz\nM 9.421875 75.984375 \nL 18.40625 75.984375 \nL 18.40625 64.59375 \nL 9.421875 64.59375 \nz\n\" id=\"DejaVuSans-105\"/>\n      <path d=\"M 48.78125 52.59375 \nL 48.78125 44.1875 \nQ 44.96875 46.296875 41.140625 47.34375 \nQ 37.3125 48.390625 33.40625 48.390625 \nQ 24.65625 48.390625 19.8125 42.84375 \nQ 14.984375 37.3125 14.984375 27.296875 \nQ 14.984375 17.28125 19.8125 11.734375 \nQ 24.65625 6.203125 33.40625 6.203125 \nQ 37.3125 6.203125 41.140625 7.25 \nQ 44.96875 8.296875 48.78125 10.40625 \nL 48.78125 2.09375 \nQ 45.015625 0.34375 40.984375 -0.53125 \nQ 36.96875 -1.421875 32.421875 -1.421875 \nQ 20.0625 -1.421875 12.78125 6.34375 \nQ 5.515625 14.109375 5.515625 27.296875 \nQ 5.515625 40.671875 12.859375 48.328125 \nQ 20.21875 56 33.015625 56 \nQ 37.15625 56 41.109375 55.140625 \nQ 45.0625 54.296875 48.78125 52.59375 \nz\n\" id=\"DejaVuSans-99\"/>\n      <path d=\"M 18.3125 70.21875 \nL 18.3125 54.6875 \nL 36.8125 54.6875 \nL 36.8125 47.703125 \nL 18.3125 47.703125 \nL 18.3125 18.015625 \nQ 18.3125 11.328125 20.140625 9.421875 \nQ 21.96875 7.515625 27.59375 7.515625 \nL 36.8125 7.515625 \nL 36.8125 0 \nL 27.59375 0 \nQ 17.1875 0 13.234375 3.875 \nQ 9.28125 7.765625 9.28125 18.015625 \nL 9.28125 47.703125 \nL 2.6875 47.703125 \nL 2.6875 54.6875 \nL 9.28125 54.6875 \nL 9.28125 70.21875 \nz\n\" id=\"DejaVuSans-116\"/>\n      <path id=\"DejaVuSans-32\"/>\n      <path d=\"M 9.8125 72.90625 \nL 19.671875 72.90625 \nL 19.671875 8.296875 \nL 55.171875 8.296875 \nL 55.171875 0 \nL 9.8125 0 \nz\n\" id=\"DejaVuSans-76\"/>\n      <path d=\"M 34.28125 27.484375 \nQ 23.390625 27.484375 19.1875 25 \nQ 14.984375 22.515625 14.984375 16.5 \nQ 14.984375 11.71875 18.140625 8.90625 \nQ 21.296875 6.109375 26.703125 6.109375 \nQ 34.1875 6.109375 38.703125 11.40625 \nQ 43.21875 16.703125 43.21875 25.484375 \nL 43.21875 27.484375 \nz\nM 52.203125 31.203125 \nL 52.203125 0 \nL 43.21875 0 \nL 43.21875 8.296875 \nQ 40.140625 3.328125 35.546875 0.953125 \nQ 30.953125 -1.421875 24.3125 -1.421875 \nQ 15.921875 -1.421875 10.953125 3.296875 \nQ 6 8.015625 6 15.921875 \nQ 6 25.140625 12.171875 29.828125 \nQ 18.359375 34.515625 30.609375 34.515625 \nL 43.21875 34.515625 \nL 43.21875 35.40625 \nQ 43.21875 41.609375 39.140625 45 \nQ 35.0625 48.390625 27.6875 48.390625 \nQ 23 48.390625 18.546875 47.265625 \nQ 14.109375 46.140625 10.015625 43.890625 \nL 10.015625 52.203125 \nQ 14.9375 54.109375 19.578125 55.046875 \nQ 24.21875 56 28.609375 56 \nQ 40.484375 56 46.34375 49.84375 \nQ 52.203125 43.703125 52.203125 31.203125 \nz\n\" id=\"DejaVuSans-97\"/>\n      <path d=\"M 48.6875 27.296875 \nQ 48.6875 37.203125 44.609375 42.84375 \nQ 40.53125 48.484375 33.40625 48.484375 \nQ 26.265625 48.484375 22.1875 42.84375 \nQ 18.109375 37.203125 18.109375 27.296875 \nQ 18.109375 17.390625 22.1875 11.75 \nQ 26.265625 6.109375 33.40625 6.109375 \nQ 40.53125 6.109375 44.609375 11.75 \nQ 48.6875 17.390625 48.6875 27.296875 \nz\nM 18.109375 46.390625 \nQ 20.953125 51.265625 25.265625 53.625 \nQ 29.59375 56 35.59375 56 \nQ 45.5625 56 51.78125 48.09375 \nQ 58.015625 40.1875 58.015625 27.296875 \nQ 58.015625 14.40625 51.78125 6.484375 \nQ 45.5625 -1.421875 35.59375 -1.421875 \nQ 29.59375 -1.421875 25.265625 0.953125 \nQ 20.953125 3.328125 18.109375 8.203125 \nL 18.109375 0 \nL 9.078125 0 \nL 9.078125 75.984375 \nL 18.109375 75.984375 \nz\n\" id=\"DejaVuSans-98\"/>\n      <path d=\"M 9.421875 75.984375 \nL 18.40625 75.984375 \nL 18.40625 0 \nL 9.421875 0 \nz\n\" id=\"DejaVuSans-108\"/>\n     </defs>\n     <g transform=\"translate(147.637375 270.860312)scale(0.1 -0.1)\">\n      <use xlink:href=\"#DejaVuSans-80\"/>\n      <use x=\"60.287109\" xlink:href=\"#DejaVuSans-114\"/>\n      <use x=\"101.369141\" xlink:href=\"#DejaVuSans-101\"/>\n      <use x=\"162.892578\" xlink:href=\"#DejaVuSans-100\"/>\n      <use x=\"226.369141\" xlink:href=\"#DejaVuSans-105\"/>\n      <use x=\"254.152344\" xlink:href=\"#DejaVuSans-99\"/>\n      <use x=\"309.132812\" xlink:href=\"#DejaVuSans-116\"/>\n      <use x=\"348.341797\" xlink:href=\"#DejaVuSans-101\"/>\n      <use x=\"409.865234\" xlink:href=\"#DejaVuSans-100\"/>\n      <use x=\"473.341797\" xlink:href=\"#DejaVuSans-32\"/>\n      <use x=\"505.128906\" xlink:href=\"#DejaVuSans-76\"/>\n      <use x=\"560.841797\" xlink:href=\"#DejaVuSans-97\"/>\n      <use x=\"622.121094\" xlink:href=\"#DejaVuSans-98\"/>\n      <use x=\"685.597656\" xlink:href=\"#DejaVuSans-101\"/>\n      <use x=\"747.121094\" xlink:href=\"#DejaVuSans-108\"/>\n     </g>\n    </g>\n   </g>\n   <g id=\"matplotlib.axis_2\">\n    <g id=\"ytick_1\">\n     <g id=\"line2d_8\">\n      <defs>\n       <path d=\"M 0 0 \nL -3.5 0 \n\" id=\"mc6439e0865\" style=\"stroke:#000000;stroke-width:0.8;\"/>\n      </defs>\n      <g>\n       <use style=\"stroke:#000000;stroke-width:0.8;\" x=\"37.55625\" xlink:href=\"#mc6439e0865\" y=\"42.569464\"/>\n      </g>\n     </g>\n     <g id=\"text_9\">\n      <!-- 0 -->\n      <g transform=\"translate(28.476563 45.132746)rotate(-90)scale(0.1 -0.1)\">\n       <use xlink:href=\"#DejaVuSans-48\"/>\n      </g>\n     </g>\n    </g>\n    <g id=\"ytick_2\">\n     <g id=\"line2d_9\">\n      <g>\n       <use style=\"stroke:#000000;stroke-width:0.8;\" x=\"37.55625\" xlink:href=\"#mc6439e0865\" y=\"73.340893\"/>\n      </g>\n     </g>\n     <g id=\"text_10\">\n      <!-- 1 -->\n      <g transform=\"translate(28.476563 75.904174)rotate(-90)scale(0.1 -0.1)\">\n       <use xlink:href=\"#DejaVuSans-49\"/>\n      </g>\n     </g>\n    </g>\n    <g id=\"ytick_3\">\n     <g id=\"line2d_10\">\n      <g>\n       <use style=\"stroke:#000000;stroke-width:0.8;\" x=\"37.55625\" xlink:href=\"#mc6439e0865\" y=\"104.112321\"/>\n      </g>\n     </g>\n     <g id=\"text_11\">\n      <!-- 2 -->\n      <g transform=\"translate(28.476563 106.675603)rotate(-90)scale(0.1 -0.1)\">\n       <use xlink:href=\"#DejaVuSans-50\"/>\n      </g>\n     </g>\n    </g>\n    <g id=\"ytick_4\">\n     <g id=\"line2d_11\">\n      <g>\n       <use style=\"stroke:#000000;stroke-width:0.8;\" x=\"37.55625\" xlink:href=\"#mc6439e0865\" y=\"134.88375\"/>\n      </g>\n     </g>\n     <g id=\"text_12\">\n      <!-- 3 -->\n      <g transform=\"translate(28.476563 137.447031)rotate(-90)scale(0.1 -0.1)\">\n       <use xlink:href=\"#DejaVuSans-51\"/>\n      </g>\n     </g>\n    </g>\n    <g id=\"ytick_5\">\n     <g id=\"line2d_12\">\n      <g>\n       <use style=\"stroke:#000000;stroke-width:0.8;\" x=\"37.55625\" xlink:href=\"#mc6439e0865\" y=\"165.655179\"/>\n      </g>\n     </g>\n     <g id=\"text_13\">\n      <!-- 4 -->\n      <g transform=\"translate(28.476563 168.21846)rotate(-90)scale(0.1 -0.1)\">\n       <use xlink:href=\"#DejaVuSans-52\"/>\n      </g>\n     </g>\n    </g>\n    <g id=\"ytick_6\">\n     <g id=\"line2d_13\">\n      <g>\n       <use style=\"stroke:#000000;stroke-width:0.8;\" x=\"37.55625\" xlink:href=\"#mc6439e0865\" y=\"196.426607\"/>\n      </g>\n     </g>\n     <g id=\"text_14\">\n      <!-- 5 -->\n      <g transform=\"translate(28.476563 198.989888)rotate(-90)scale(0.1 -0.1)\">\n       <use xlink:href=\"#DejaVuSans-53\"/>\n      </g>\n     </g>\n    </g>\n    <g id=\"ytick_7\">\n     <g id=\"line2d_14\">\n      <g>\n       <use style=\"stroke:#000000;stroke-width:0.8;\" x=\"37.55625\" xlink:href=\"#mc6439e0865\" y=\"227.198036\"/>\n      </g>\n     </g>\n     <g id=\"text_15\">\n      <!-- 6 -->\n      <g transform=\"translate(28.476563 229.761317)rotate(-90)scale(0.1 -0.1)\">\n       <use xlink:href=\"#DejaVuSans-54\"/>\n      </g>\n     </g>\n    </g>\n    <g id=\"text_16\">\n     <!-- True label -->\n     <defs>\n      <path d=\"M -0.296875 72.90625 \nL 61.375 72.90625 \nL 61.375 64.59375 \nL 35.5 64.59375 \nL 35.5 0 \nL 25.59375 0 \nL 25.59375 64.59375 \nL -0.296875 64.59375 \nz\n\" id=\"DejaVuSans-84\"/>\n      <path d=\"M 8.5 21.578125 \nL 8.5 54.6875 \nL 17.484375 54.6875 \nL 17.484375 21.921875 \nQ 17.484375 14.15625 20.5 10.265625 \nQ 23.53125 6.390625 29.59375 6.390625 \nQ 36.859375 6.390625 41.078125 11.03125 \nQ 45.3125 15.671875 45.3125 23.6875 \nL 45.3125 54.6875 \nL 54.296875 54.6875 \nL 54.296875 0 \nL 45.3125 0 \nL 45.3125 8.40625 \nQ 42.046875 3.421875 37.71875 1 \nQ 33.40625 -1.421875 27.6875 -1.421875 \nQ 18.265625 -1.421875 13.375 4.4375 \nQ 8.5 10.296875 8.5 21.578125 \nz\nM 31.109375 56 \nz\n\" id=\"DejaVuSans-117\"/>\n     </defs>\n     <g transform=\"translate(14.798438 159.909531)rotate(-90)scale(0.1 -0.1)\">\n      <use xlink:href=\"#DejaVuSans-84\"/>\n      <use x=\"60.865234\" xlink:href=\"#DejaVuSans-114\"/>\n      <use x=\"101.978516\" xlink:href=\"#DejaVuSans-117\"/>\n      <use x=\"165.357422\" xlink:href=\"#DejaVuSans-101\"/>\n      <use x=\"226.880859\" xlink:href=\"#DejaVuSans-32\"/>\n      <use x=\"258.667969\" xlink:href=\"#DejaVuSans-108\"/>\n      <use x=\"286.451172\" xlink:href=\"#DejaVuSans-97\"/>\n      <use x=\"347.730469\" xlink:href=\"#DejaVuSans-98\"/>\n      <use x=\"411.207031\" xlink:href=\"#DejaVuSans-101\"/>\n      <use x=\"472.730469\" xlink:href=\"#DejaVuSans-108\"/>\n     </g>\n    </g>\n   </g>\n   <g id=\"text_17\">\n    <!-- 48520 -->\n    <defs>\n     <path d=\"M 31.78125 34.625 \nQ 24.75 34.625 20.71875 30.859375 \nQ 16.703125 27.09375 16.703125 20.515625 \nQ 16.703125 13.921875 20.71875 10.15625 \nQ 24.75 6.390625 31.78125 6.390625 \nQ 38.8125 6.390625 42.859375 10.171875 \nQ 46.921875 13.96875 46.921875 20.515625 \nQ 46.921875 27.09375 42.890625 30.859375 \nQ 38.875 34.625 31.78125 34.625 \nz\nM 21.921875 38.8125 \nQ 15.578125 40.375 12.03125 44.71875 \nQ 8.5 49.078125 8.5 55.328125 \nQ 8.5 64.0625 14.71875 69.140625 \nQ 20.953125 74.21875 31.78125 74.21875 \nQ 42.671875 74.21875 48.875 69.140625 \nQ 55.078125 64.0625 55.078125 55.328125 \nQ 55.078125 49.078125 51.53125 44.71875 \nQ 48 40.375 41.703125 38.8125 \nQ 48.828125 37.15625 52.796875 32.3125 \nQ 56.78125 27.484375 56.78125 20.515625 \nQ 56.78125 9.90625 50.3125 4.234375 \nQ 43.84375 -1.421875 31.78125 -1.421875 \nQ 19.734375 -1.421875 13.25 4.234375 \nQ 6.78125 9.90625 6.78125 20.515625 \nQ 6.78125 27.484375 10.78125 32.3125 \nQ 14.796875 37.15625 21.921875 38.8125 \nz\nM 18.3125 54.390625 \nQ 18.3125 48.734375 21.84375 45.5625 \nQ 25.390625 42.390625 31.78125 42.390625 \nQ 38.140625 42.390625 41.71875 45.5625 \nQ 45.3125 48.734375 45.3125 54.390625 \nQ 45.3125 60.0625 41.71875 63.234375 \nQ 38.140625 66.40625 31.78125 66.40625 \nQ 25.390625 66.40625 21.84375 63.234375 \nQ 18.3125 60.0625 18.3125 54.390625 \nz\n\" id=\"DejaVuSans-56\"/>\n    </defs>\n    <g style=\"fill:#ffffff;\" transform=\"translate(42.911143 45.328839)scale(0.1 -0.1)\">\n     <use xlink:href=\"#DejaVuSans-52\"/>\n     <use x=\"63.623047\" xlink:href=\"#DejaVuSans-56\"/>\n     <use x=\"127.246094\" xlink:href=\"#DejaVuSans-53\"/>\n     <use x=\"190.869141\" xlink:href=\"#DejaVuSans-50\"/>\n     <use x=\"254.492188\" xlink:href=\"#DejaVuSans-48\"/>\n    </g>\n   </g>\n   <g id=\"text_18\">\n    <!-- 14334 -->\n    <g style=\"fill:#262626;\" transform=\"translate(85.433429 45.328839)scale(0.1 -0.1)\">\n     <use xlink:href=\"#DejaVuSans-49\"/>\n     <use x=\"63.623047\" xlink:href=\"#DejaVuSans-52\"/>\n     <use x=\"127.246094\" xlink:href=\"#DejaVuSans-51\"/>\n     <use x=\"190.869141\" xlink:href=\"#DejaVuSans-51\"/>\n     <use x=\"254.492188\" xlink:href=\"#DejaVuSans-52\"/>\n    </g>\n   </g>\n   <g id=\"text_19\">\n    <!-- 9 -->\n    <defs>\n     <path d=\"M 10.984375 1.515625 \nL 10.984375 10.5 \nQ 14.703125 8.734375 18.5 7.8125 \nQ 22.3125 6.890625 25.984375 6.890625 \nQ 35.75 6.890625 40.890625 13.453125 \nQ 46.046875 20.015625 46.78125 33.40625 \nQ 43.953125 29.203125 39.59375 26.953125 \nQ 35.25 24.703125 29.984375 24.703125 \nQ 19.046875 24.703125 12.671875 31.3125 \nQ 6.296875 37.9375 6.296875 49.421875 \nQ 6.296875 60.640625 12.9375 67.421875 \nQ 19.578125 74.21875 30.609375 74.21875 \nQ 43.265625 74.21875 49.921875 64.515625 \nQ 56.59375 54.828125 56.59375 36.375 \nQ 56.59375 19.140625 48.40625 8.859375 \nQ 40.234375 -1.421875 26.421875 -1.421875 \nQ 22.703125 -1.421875 18.890625 -0.6875 \nQ 15.09375 0.046875 10.984375 1.515625 \nz\nM 30.609375 32.421875 \nQ 37.25 32.421875 41.125 36.953125 \nQ 45.015625 41.5 45.015625 49.421875 \nQ 45.015625 57.28125 41.125 61.84375 \nQ 37.25 66.40625 30.609375 66.40625 \nQ 23.96875 66.40625 20.09375 61.84375 \nQ 16.21875 57.28125 16.21875 49.421875 \nQ 16.21875 41.5 20.09375 36.953125 \nQ 23.96875 32.421875 30.609375 32.421875 \nz\n\" id=\"DejaVuSans-57\"/>\n    </defs>\n    <g style=\"fill:#262626;\" transform=\"translate(140.680714 45.328839)scale(0.1 -0.1)\">\n     <use xlink:href=\"#DejaVuSans-57\"/>\n    </g>\n   </g>\n   <g id=\"text_20\">\n    <!-- 0 -->\n    <g style=\"fill:#262626;\" transform=\"translate(183.203 45.328839)scale(0.1 -0.1)\">\n     <use xlink:href=\"#DejaVuSans-48\"/>\n    </g>\n   </g>\n   <g id=\"text_21\">\n    <!-- 17 -->\n    <defs>\n     <path d=\"M 8.203125 72.90625 \nL 55.078125 72.90625 \nL 55.078125 68.703125 \nL 28.609375 0 \nL 18.3125 0 \nL 43.21875 64.59375 \nL 8.203125 64.59375 \nz\n\" id=\"DejaVuSans-55\"/>\n    </defs>\n    <g style=\"fill:#262626;\" transform=\"translate(222.544036 45.328839)scale(0.1 -0.1)\">\n     <use xlink:href=\"#DejaVuSans-49\"/>\n     <use x=\"63.623047\" xlink:href=\"#DejaVuSans-55\"/>\n    </g>\n   </g>\n   <g id=\"text_22\">\n    <!-- 20 -->\n    <g style=\"fill:#262626;\" transform=\"translate(265.066321 45.328839)scale(0.1 -0.1)\">\n     <use xlink:href=\"#DejaVuSans-50\"/>\n     <use x=\"63.623047\" xlink:href=\"#DejaVuSans-48\"/>\n    </g>\n   </g>\n   <g id=\"text_23\">\n    <!-- 656 -->\n    <g style=\"fill:#262626;\" transform=\"translate(304.407357 45.328839)scale(0.1 -0.1)\">\n     <use xlink:href=\"#DejaVuSans-54\"/>\n     <use x=\"63.623047\" xlink:href=\"#DejaVuSans-53\"/>\n     <use x=\"127.246094\" xlink:href=\"#DejaVuSans-54\"/>\n    </g>\n   </g>\n   <g id=\"text_24\">\n    <!-- 14476 -->\n    <g style=\"fill:#262626;\" transform=\"translate(42.911143 76.100268)scale(0.1 -0.1)\">\n     <use xlink:href=\"#DejaVuSans-49\"/>\n     <use x=\"63.623047\" xlink:href=\"#DejaVuSans-52\"/>\n     <use x=\"127.246094\" xlink:href=\"#DejaVuSans-52\"/>\n     <use x=\"190.869141\" xlink:href=\"#DejaVuSans-55\"/>\n     <use x=\"254.492188\" xlink:href=\"#DejaVuSans-54\"/>\n    </g>\n   </g>\n   <g id=\"text_25\">\n    <!-- 68586 -->\n    <g style=\"fill:#ffffff;\" transform=\"translate(85.433429 76.100268)scale(0.1 -0.1)\">\n     <use xlink:href=\"#DejaVuSans-54\"/>\n     <use x=\"63.623047\" xlink:href=\"#DejaVuSans-56\"/>\n     <use x=\"127.246094\" xlink:href=\"#DejaVuSans-53\"/>\n     <use x=\"190.869141\" xlink:href=\"#DejaVuSans-56\"/>\n     <use x=\"254.492188\" xlink:href=\"#DejaVuSans-54\"/>\n    </g>\n   </g>\n   <g id=\"text_26\">\n    <!-- 1052 -->\n    <g style=\"fill:#262626;\" transform=\"translate(131.136964 76.100268)scale(0.1 -0.1)\">\n     <use xlink:href=\"#DejaVuSans-49\"/>\n     <use x=\"63.623047\" xlink:href=\"#DejaVuSans-48\"/>\n     <use x=\"127.246094\" xlink:href=\"#DejaVuSans-53\"/>\n     <use x=\"190.869141\" xlink:href=\"#DejaVuSans-50\"/>\n    </g>\n   </g>\n   <g id=\"text_27\">\n    <!-- 2 -->\n    <g style=\"fill:#262626;\" transform=\"translate(183.203 76.100268)scale(0.1 -0.1)\">\n     <use xlink:href=\"#DejaVuSans-50\"/>\n    </g>\n   </g>\n   <g id=\"text_28\">\n    <!-- 401 -->\n    <g style=\"fill:#262626;\" transform=\"translate(219.362786 76.100268)scale(0.1 -0.1)\">\n     <use xlink:href=\"#DejaVuSans-52\"/>\n     <use x=\"63.623047\" xlink:href=\"#DejaVuSans-48\"/>\n     <use x=\"127.246094\" xlink:href=\"#DejaVuSans-49\"/>\n    </g>\n   </g>\n   <g id=\"text_29\">\n    <!-- 460 -->\n    <g style=\"fill:#262626;\" transform=\"translate(261.885071 76.100268)scale(0.1 -0.1)\">\n     <use xlink:href=\"#DejaVuSans-52\"/>\n     <use x=\"63.623047\" xlink:href=\"#DejaVuSans-54\"/>\n     <use x=\"127.246094\" xlink:href=\"#DejaVuSans-48\"/>\n    </g>\n   </g>\n   <g id=\"text_30\">\n    <!-- 101 -->\n    <g style=\"fill:#262626;\" transform=\"translate(304.407357 76.100268)scale(0.1 -0.1)\">\n     <use xlink:href=\"#DejaVuSans-49\"/>\n     <use x=\"63.623047\" xlink:href=\"#DejaVuSans-48\"/>\n     <use x=\"127.246094\" xlink:href=\"#DejaVuSans-49\"/>\n    </g>\n   </g>\n   <g id=\"text_31\">\n    <!-- 0 -->\n    <g style=\"fill:#262626;\" transform=\"translate(55.636143 106.871696)scale(0.1 -0.1)\">\n     <use xlink:href=\"#DejaVuSans-48\"/>\n    </g>\n   </g>\n   <g id=\"text_32\">\n    <!-- 1664 -->\n    <g style=\"fill:#262626;\" transform=\"translate(88.614679 106.871696)scale(0.1 -0.1)\">\n     <use xlink:href=\"#DejaVuSans-49\"/>\n     <use x=\"63.623047\" xlink:href=\"#DejaVuSans-54\"/>\n     <use x=\"127.246094\" xlink:href=\"#DejaVuSans-54\"/>\n     <use x=\"190.869141\" xlink:href=\"#DejaVuSans-52\"/>\n    </g>\n   </g>\n   <g id=\"text_33\">\n    <!-- 8227 -->\n    <g style=\"fill:#262626;\" transform=\"translate(131.136964 106.871696)scale(0.1 -0.1)\">\n     <use xlink:href=\"#DejaVuSans-56\"/>\n     <use x=\"63.623047\" xlink:href=\"#DejaVuSans-50\"/>\n     <use x=\"127.246094\" xlink:href=\"#DejaVuSans-50\"/>\n     <use x=\"190.869141\" xlink:href=\"#DejaVuSans-55\"/>\n    </g>\n   </g>\n   <g id=\"text_34\">\n    <!-- 95 -->\n    <g style=\"fill:#262626;\" transform=\"translate(180.02175 106.871696)scale(0.1 -0.1)\">\n     <use xlink:href=\"#DejaVuSans-57\"/>\n     <use x=\"63.623047\" xlink:href=\"#DejaVuSans-53\"/>\n    </g>\n   </g>\n   <g id=\"text_35\">\n    <!-- 13 -->\n    <g style=\"fill:#262626;\" transform=\"translate(222.544036 106.871696)scale(0.1 -0.1)\">\n     <use xlink:href=\"#DejaVuSans-49\"/>\n     <use x=\"63.623047\" xlink:href=\"#DejaVuSans-51\"/>\n    </g>\n   </g>\n   <g id=\"text_36\">\n    <!-- 639 -->\n    <g style=\"fill:#262626;\" transform=\"translate(261.885071 106.871696)scale(0.1 -0.1)\">\n     <use xlink:href=\"#DejaVuSans-54\"/>\n     <use x=\"63.623047\" xlink:href=\"#DejaVuSans-51\"/>\n     <use x=\"127.246094\" xlink:href=\"#DejaVuSans-57\"/>\n    </g>\n   </g>\n   <g id=\"text_37\">\n    <!-- 0 -->\n    <g style=\"fill:#262626;\" transform=\"translate(310.769857 106.871696)scale(0.1 -0.1)\">\n     <use xlink:href=\"#DejaVuSans-48\"/>\n    </g>\n   </g>\n   <g id=\"text_38\">\n    <!-- 0 -->\n    <g style=\"fill:#262626;\" transform=\"translate(55.636143 137.643125)scale(0.1 -0.1)\">\n     <use xlink:href=\"#DejaVuSans-48\"/>\n    </g>\n   </g>\n   <g id=\"text_39\">\n    <!-- 4 -->\n    <g style=\"fill:#262626;\" transform=\"translate(98.158429 137.643125)scale(0.1 -0.1)\">\n     <use xlink:href=\"#DejaVuSans-52\"/>\n    </g>\n   </g>\n   <g id=\"text_40\">\n    <!-- 274 -->\n    <g style=\"fill:#262626;\" transform=\"translate(134.318214 137.643125)scale(0.1 -0.1)\">\n     <use xlink:href=\"#DejaVuSans-50\"/>\n     <use x=\"63.623047\" xlink:href=\"#DejaVuSans-55\"/>\n     <use x=\"127.246094\" xlink:href=\"#DejaVuSans-52\"/>\n    </g>\n   </g>\n   <g id=\"text_41\">\n    <!-- 462 -->\n    <g style=\"fill:#262626;\" transform=\"translate(176.8405 137.643125)scale(0.1 -0.1)\">\n     <use xlink:href=\"#DejaVuSans-52\"/>\n     <use x=\"63.623047\" xlink:href=\"#DejaVuSans-54\"/>\n     <use x=\"127.246094\" xlink:href=\"#DejaVuSans-50\"/>\n    </g>\n   </g>\n   <g id=\"text_42\">\n    <!-- 0 -->\n    <g style=\"fill:#262626;\" transform=\"translate(225.725286 137.643125)scale(0.1 -0.1)\">\n     <use xlink:href=\"#DejaVuSans-48\"/>\n    </g>\n   </g>\n   <g id=\"text_43\">\n    <!-- 55 -->\n    <g style=\"fill:#262626;\" transform=\"translate(265.066321 137.643125)scale(0.1 -0.1)\">\n     <use xlink:href=\"#DejaVuSans-53\"/>\n     <use x=\"63.623047\" xlink:href=\"#DejaVuSans-53\"/>\n    </g>\n   </g>\n   <g id=\"text_44\">\n    <!-- 0 -->\n    <g style=\"fill:#262626;\" transform=\"translate(310.769857 137.643125)scale(0.1 -0.1)\">\n     <use xlink:href=\"#DejaVuSans-48\"/>\n    </g>\n   </g>\n   <g id=\"text_45\">\n    <!-- 147 -->\n    <g style=\"fill:#262626;\" transform=\"translate(49.273643 168.414554)scale(0.1 -0.1)\">\n     <use xlink:href=\"#DejaVuSans-49\"/>\n     <use x=\"63.623047\" xlink:href=\"#DejaVuSans-52\"/>\n     <use x=\"127.246094\" xlink:href=\"#DejaVuSans-55\"/>\n    </g>\n   </g>\n   <g id=\"text_46\">\n    <!-- 2041 -->\n    <g style=\"fill:#262626;\" transform=\"translate(88.614679 168.414554)scale(0.1 -0.1)\">\n     <use xlink:href=\"#DejaVuSans-50\"/>\n     <use x=\"63.623047\" xlink:href=\"#DejaVuSans-48\"/>\n     <use x=\"127.246094\" xlink:href=\"#DejaVuSans-52\"/>\n     <use x=\"190.869141\" xlink:href=\"#DejaVuSans-49\"/>\n    </g>\n   </g>\n   <g id=\"text_47\">\n    <!-- 53 -->\n    <g style=\"fill:#262626;\" transform=\"translate(137.499464 168.414554)scale(0.1 -0.1)\">\n     <use xlink:href=\"#DejaVuSans-53\"/>\n     <use x=\"63.623047\" xlink:href=\"#DejaVuSans-51\"/>\n    </g>\n   </g>\n   <g id=\"text_48\">\n    <!-- 0 -->\n    <g style=\"fill:#262626;\" transform=\"translate(183.203 168.414554)scale(0.1 -0.1)\">\n     <use xlink:href=\"#DejaVuSans-48\"/>\n    </g>\n   </g>\n   <g id=\"text_49\">\n    <!-- 696 -->\n    <g style=\"fill:#262626;\" transform=\"translate(219.362786 168.414554)scale(0.1 -0.1)\">\n     <use xlink:href=\"#DejaVuSans-54\"/>\n     <use x=\"63.623047\" xlink:href=\"#DejaVuSans-57\"/>\n     <use x=\"127.246094\" xlink:href=\"#DejaVuSans-54\"/>\n    </g>\n   </g>\n   <g id=\"text_50\">\n    <!-- 4 -->\n    <g style=\"fill:#262626;\" transform=\"translate(268.247571 168.414554)scale(0.1 -0.1)\">\n     <use xlink:href=\"#DejaVuSans-52\"/>\n    </g>\n   </g>\n   <g id=\"text_51\">\n    <!-- 0 -->\n    <g style=\"fill:#262626;\" transform=\"translate(310.769857 168.414554)scale(0.1 -0.1)\">\n     <use xlink:href=\"#DejaVuSans-48\"/>\n    </g>\n   </g>\n   <g id=\"text_52\">\n    <!-- 11 -->\n    <g style=\"fill:#262626;\" transform=\"translate(52.454893 199.185982)scale(0.1 -0.1)\">\n     <use xlink:href=\"#DejaVuSans-49\"/>\n     <use x=\"63.623047\" xlink:href=\"#DejaVuSans-49\"/>\n    </g>\n   </g>\n   <g id=\"text_53\">\n    <!-- 1363 -->\n    <g style=\"fill:#262626;\" transform=\"translate(88.614679 199.185982)scale(0.1 -0.1)\">\n     <use xlink:href=\"#DejaVuSans-49\"/>\n     <use x=\"63.623047\" xlink:href=\"#DejaVuSans-51\"/>\n     <use x=\"127.246094\" xlink:href=\"#DejaVuSans-54\"/>\n     <use x=\"190.869141\" xlink:href=\"#DejaVuSans-51\"/>\n    </g>\n   </g>\n   <g id=\"text_54\">\n    <!-- 2361 -->\n    <g style=\"fill:#262626;\" transform=\"translate(131.136964 199.185982)scale(0.1 -0.1)\">\n     <use xlink:href=\"#DejaVuSans-50\"/>\n     <use x=\"63.623047\" xlink:href=\"#DejaVuSans-51\"/>\n     <use x=\"127.246094\" xlink:href=\"#DejaVuSans-54\"/>\n     <use x=\"190.869141\" xlink:href=\"#DejaVuSans-49\"/>\n    </g>\n   </g>\n   <g id=\"text_55\">\n    <!-- 45 -->\n    <g style=\"fill:#262626;\" transform=\"translate(180.02175 199.185982)scale(0.1 -0.1)\">\n     <use xlink:href=\"#DejaVuSans-52\"/>\n     <use x=\"63.623047\" xlink:href=\"#DejaVuSans-53\"/>\n    </g>\n   </g>\n   <g id=\"text_56\">\n    <!-- 9 -->\n    <g style=\"fill:#262626;\" transform=\"translate(225.725286 199.185982)scale(0.1 -0.1)\">\n     <use xlink:href=\"#DejaVuSans-57\"/>\n    </g>\n   </g>\n   <g id=\"text_57\">\n    <!-- 1438 -->\n    <g style=\"fill:#262626;\" transform=\"translate(258.703821 199.185982)scale(0.1 -0.1)\">\n     <use xlink:href=\"#DejaVuSans-49\"/>\n     <use x=\"63.623047\" xlink:href=\"#DejaVuSans-52\"/>\n     <use x=\"127.246094\" xlink:href=\"#DejaVuSans-51\"/>\n     <use x=\"190.869141\" xlink:href=\"#DejaVuSans-56\"/>\n    </g>\n   </g>\n   <g id=\"text_58\">\n    <!-- 0 -->\n    <g style=\"fill:#262626;\" transform=\"translate(310.769857 199.185982)scale(0.1 -0.1)\">\n     <use xlink:href=\"#DejaVuSans-48\"/>\n    </g>\n   </g>\n   <g id=\"text_59\">\n    <!-- 2509 -->\n    <g style=\"fill:#262626;\" transform=\"translate(46.092393 229.957411)scale(0.1 -0.1)\">\n     <use xlink:href=\"#DejaVuSans-50\"/>\n     <use x=\"63.623047\" xlink:href=\"#DejaVuSans-53\"/>\n     <use x=\"127.246094\" xlink:href=\"#DejaVuSans-48\"/>\n     <use x=\"190.869141\" xlink:href=\"#DejaVuSans-57\"/>\n    </g>\n   </g>\n   <g id=\"text_60\">\n    <!-- 76 -->\n    <g style=\"fill:#262626;\" transform=\"translate(94.977179 229.957411)scale(0.1 -0.1)\">\n     <use xlink:href=\"#DejaVuSans-55\"/>\n     <use x=\"63.623047\" xlink:href=\"#DejaVuSans-54\"/>\n    </g>\n   </g>\n   <g id=\"text_61\">\n    <!-- 0 -->\n    <g style=\"fill:#262626;\" transform=\"translate(140.680714 229.957411)scale(0.1 -0.1)\">\n     <use xlink:href=\"#DejaVuSans-48\"/>\n    </g>\n   </g>\n   <g id=\"text_62\">\n    <!-- 0 -->\n    <g style=\"fill:#262626;\" transform=\"translate(183.203 229.957411)scale(0.1 -0.1)\">\n     <use xlink:href=\"#DejaVuSans-48\"/>\n    </g>\n   </g>\n   <g id=\"text_63\">\n    <!-- 0 -->\n    <g style=\"fill:#262626;\" transform=\"translate(225.725286 229.957411)scale(0.1 -0.1)\">\n     <use xlink:href=\"#DejaVuSans-48\"/>\n    </g>\n   </g>\n   <g id=\"text_64\">\n    <!-- 0 -->\n    <g style=\"fill:#262626;\" transform=\"translate(268.247571 229.957411)scale(0.1 -0.1)\">\n     <use xlink:href=\"#DejaVuSans-48\"/>\n    </g>\n   </g>\n   <g id=\"text_65\">\n    <!-- 3484 -->\n    <g style=\"fill:#262626;\" transform=\"translate(301.226107 229.957411)scale(0.1 -0.1)\">\n     <use xlink:href=\"#DejaVuSans-51\"/>\n     <use x=\"63.623047\" xlink:href=\"#DejaVuSans-52\"/>\n     <use x=\"127.246094\" xlink:href=\"#DejaVuSans-56\"/>\n     <use x=\"190.869141\" xlink:href=\"#DejaVuSans-52\"/>\n    </g>\n   </g>\n   <g id=\"text_66\">\n    <!-- Matriz de Confusão da Configuração 7 -->\n    <defs>\n     <path d=\"M 9.8125 72.90625 \nL 24.515625 72.90625 \nL 43.109375 23.296875 \nL 61.8125 72.90625 \nL 76.515625 72.90625 \nL 76.515625 0 \nL 66.890625 0 \nL 66.890625 64.015625 \nL 48.09375 14.015625 \nL 38.1875 14.015625 \nL 19.390625 64.015625 \nL 19.390625 0 \nL 9.8125 0 \nz\n\" id=\"DejaVuSans-77\"/>\n     <path d=\"M 5.515625 54.6875 \nL 48.1875 54.6875 \nL 48.1875 46.484375 \nL 14.40625 7.171875 \nL 48.1875 7.171875 \nL 48.1875 0 \nL 4.296875 0 \nL 4.296875 8.203125 \nL 38.09375 47.515625 \nL 5.515625 47.515625 \nz\n\" id=\"DejaVuSans-122\"/>\n     <path d=\"M 64.40625 67.28125 \nL 64.40625 56.890625 \nQ 59.421875 61.53125 53.78125 63.8125 \nQ 48.140625 66.109375 41.796875 66.109375 \nQ 29.296875 66.109375 22.65625 58.46875 \nQ 16.015625 50.828125 16.015625 36.375 \nQ 16.015625 21.96875 22.65625 14.328125 \nQ 29.296875 6.6875 41.796875 6.6875 \nQ 48.140625 6.6875 53.78125 8.984375 \nQ 59.421875 11.28125 64.40625 15.921875 \nL 64.40625 5.609375 \nQ 59.234375 2.09375 53.4375 0.328125 \nQ 47.65625 -1.421875 41.21875 -1.421875 \nQ 24.65625 -1.421875 15.125 8.703125 \nQ 5.609375 18.84375 5.609375 36.375 \nQ 5.609375 53.953125 15.125 64.078125 \nQ 24.65625 74.21875 41.21875 74.21875 \nQ 47.75 74.21875 53.53125 72.484375 \nQ 59.328125 70.75 64.40625 67.28125 \nz\n\" id=\"DejaVuSans-67\"/>\n     <path d=\"M 30.609375 48.390625 \nQ 23.390625 48.390625 19.1875 42.75 \nQ 14.984375 37.109375 14.984375 27.296875 \nQ 14.984375 17.484375 19.15625 11.84375 \nQ 23.34375 6.203125 30.609375 6.203125 \nQ 37.796875 6.203125 41.984375 11.859375 \nQ 46.1875 17.53125 46.1875 27.296875 \nQ 46.1875 37.015625 41.984375 42.703125 \nQ 37.796875 48.390625 30.609375 48.390625 \nz\nM 30.609375 56 \nQ 42.328125 56 49.015625 48.375 \nQ 55.71875 40.765625 55.71875 27.296875 \nQ 55.71875 13.875 49.015625 6.21875 \nQ 42.328125 -1.421875 30.609375 -1.421875 \nQ 18.84375 -1.421875 12.171875 6.21875 \nQ 5.515625 13.875 5.515625 27.296875 \nQ 5.515625 40.765625 12.171875 48.375 \nQ 18.84375 56 30.609375 56 \nz\n\" id=\"DejaVuSans-111\"/>\n     <path d=\"M 54.890625 33.015625 \nL 54.890625 0 \nL 45.90625 0 \nL 45.90625 32.71875 \nQ 45.90625 40.484375 42.875 44.328125 \nQ 39.84375 48.1875 33.796875 48.1875 \nQ 26.515625 48.1875 22.3125 43.546875 \nQ 18.109375 38.921875 18.109375 30.90625 \nL 18.109375 0 \nL 9.078125 0 \nL 9.078125 54.6875 \nL 18.109375 54.6875 \nL 18.109375 46.1875 \nQ 21.34375 51.125 25.703125 53.5625 \nQ 30.078125 56 35.796875 56 \nQ 45.21875 56 50.046875 50.171875 \nQ 54.890625 44.34375 54.890625 33.015625 \nz\n\" id=\"DejaVuSans-110\"/>\n     <path d=\"M 37.109375 75.984375 \nL 37.109375 68.5 \nL 28.515625 68.5 \nQ 23.6875 68.5 21.796875 66.546875 \nQ 19.921875 64.59375 19.921875 59.515625 \nL 19.921875 54.6875 \nL 34.71875 54.6875 \nL 34.71875 47.703125 \nL 19.921875 47.703125 \nL 19.921875 0 \nL 10.890625 0 \nL 10.890625 47.703125 \nL 2.296875 47.703125 \nL 2.296875 54.6875 \nL 10.890625 54.6875 \nL 10.890625 58.5 \nQ 10.890625 67.625 15.140625 71.796875 \nQ 19.390625 75.984375 28.609375 75.984375 \nz\n\" id=\"DejaVuSans-102\"/>\n     <path d=\"M 44.28125 53.078125 \nL 44.28125 44.578125 \nQ 40.484375 46.53125 36.375 47.5 \nQ 32.28125 48.484375 27.875 48.484375 \nQ 21.1875 48.484375 17.84375 46.4375 \nQ 14.5 44.390625 14.5 40.28125 \nQ 14.5 37.15625 16.890625 35.375 \nQ 19.28125 33.59375 26.515625 31.984375 \nL 29.59375 31.296875 \nQ 39.15625 29.25 43.1875 25.515625 \nQ 47.21875 21.78125 47.21875 15.09375 \nQ 47.21875 7.46875 41.1875 3.015625 \nQ 35.15625 -1.421875 24.609375 -1.421875 \nQ 20.21875 -1.421875 15.453125 -0.5625 \nQ 10.6875 0.296875 5.421875 2 \nL 5.421875 11.28125 \nQ 10.40625 8.6875 15.234375 7.390625 \nQ 20.0625 6.109375 24.8125 6.109375 \nQ 31.15625 6.109375 34.5625 8.28125 \nQ 37.984375 10.453125 37.984375 14.40625 \nQ 37.984375 18.0625 35.515625 20.015625 \nQ 33.0625 21.96875 24.703125 23.78125 \nL 21.578125 24.515625 \nQ 13.234375 26.265625 9.515625 29.90625 \nQ 5.8125 33.546875 5.8125 39.890625 \nQ 5.8125 47.609375 11.28125 51.796875 \nQ 16.75 56 26.8125 56 \nQ 31.78125 56 36.171875 55.265625 \nQ 40.578125 54.546875 44.28125 53.078125 \nz\n\" id=\"DejaVuSans-115\"/>\n     <path d=\"M 34.28125 27.484375 \nQ 23.390625 27.484375 19.1875 25 \nQ 14.984375 22.515625 14.984375 16.5 \nQ 14.984375 11.71875 18.140625 8.90625 \nQ 21.296875 6.109375 26.703125 6.109375 \nQ 34.1875 6.109375 38.703125 11.40625 \nQ 43.21875 16.703125 43.21875 25.484375 \nL 43.21875 27.484375 \nz\nM 52.203125 31.203125 \nL 52.203125 0 \nL 43.21875 0 \nL 43.21875 8.296875 \nQ 40.140625 3.328125 35.546875 0.953125 \nQ 30.953125 -1.421875 24.3125 -1.421875 \nQ 15.921875 -1.421875 10.953125 3.296875 \nQ 6 8.015625 6 15.921875 \nQ 6 25.140625 12.171875 29.828125 \nQ 18.359375 34.515625 30.609375 34.515625 \nL 43.21875 34.515625 \nL 43.21875 35.40625 \nQ 43.21875 41.609375 39.140625 45 \nQ 35.0625 48.390625 27.6875 48.390625 \nQ 23 48.390625 18.546875 47.265625 \nQ 14.109375 46.140625 10.015625 43.890625 \nL 10.015625 52.203125 \nQ 14.9375 54.109375 19.578125 55.046875 \nQ 24.21875 56 28.609375 56 \nQ 40.484375 56 46.34375 49.84375 \nQ 52.203125 43.703125 52.203125 31.203125 \nz\nM 28.8125 66.890625 \nL 26.03125 69.578125 \nQ 24.953125 70.5625 24.140625 71.015625 \nQ 23.34375 71.484375 22.703125 71.484375 \nQ 20.84375 71.484375 19.96875 69.703125 \nQ 19.09375 67.921875 19 63.921875 \nL 12.890625 63.921875 \nQ 12.984375 70.515625 15.46875 74.09375 \nQ 17.96875 77.6875 22.40625 77.6875 \nQ 24.265625 77.6875 25.828125 77 \nQ 27.390625 76.3125 29.203125 74.703125 \nL 31.984375 72.015625 \nQ 33.0625 71.046875 33.859375 70.578125 \nQ 34.671875 70.125 35.296875 70.125 \nQ 37.15625 70.125 38.03125 71.90625 \nQ 38.921875 73.6875 39.015625 77.6875 \nL 45.125 77.6875 \nQ 45.015625 71.09375 42.53125 67.5 \nQ 40.046875 63.921875 35.59375 63.921875 \nQ 33.734375 63.921875 32.171875 64.59375 \nQ 30.609375 65.28125 28.8125 66.890625 \nz\n\" id=\"DejaVuSans-227\"/>\n     <path d=\"M 45.40625 27.984375 \nQ 45.40625 37.75 41.375 43.109375 \nQ 37.359375 48.484375 30.078125 48.484375 \nQ 22.859375 48.484375 18.828125 43.109375 \nQ 14.796875 37.75 14.796875 27.984375 \nQ 14.796875 18.265625 18.828125 12.890625 \nQ 22.859375 7.515625 30.078125 7.515625 \nQ 37.359375 7.515625 41.375 12.890625 \nQ 45.40625 18.265625 45.40625 27.984375 \nz\nM 54.390625 6.78125 \nQ 54.390625 -7.171875 48.1875 -13.984375 \nQ 42 -20.796875 29.203125 -20.796875 \nQ 24.46875 -20.796875 20.265625 -20.09375 \nQ 16.0625 -19.390625 12.109375 -17.921875 \nL 12.109375 -9.1875 \nQ 16.0625 -11.328125 19.921875 -12.34375 \nQ 23.78125 -13.375 27.78125 -13.375 \nQ 36.625 -13.375 41.015625 -8.765625 \nQ 45.40625 -4.15625 45.40625 5.171875 \nL 45.40625 9.625 \nQ 42.625 4.78125 38.28125 2.390625 \nQ 33.9375 0 27.875 0 \nQ 17.828125 0 11.671875 7.65625 \nQ 5.515625 15.328125 5.515625 27.984375 \nQ 5.515625 40.671875 11.671875 48.328125 \nQ 17.828125 56 27.875 56 \nQ 33.9375 56 38.28125 53.609375 \nQ 42.625 51.21875 45.40625 46.390625 \nL 45.40625 54.6875 \nL 54.390625 54.6875 \nz\n\" id=\"DejaVuSans-103\"/>\n     <path d=\"M 48.78125 52.59375 \nL 48.78125 44.1875 \nQ 44.96875 46.296875 41.140625 47.34375 \nQ 37.3125 48.390625 33.40625 48.390625 \nQ 24.65625 48.390625 19.8125 42.84375 \nQ 14.984375 37.3125 14.984375 27.296875 \nQ 14.984375 17.28125 19.8125 11.734375 \nQ 24.65625 6.203125 33.40625 6.203125 \nQ 37.3125 6.203125 41.140625 7.25 \nQ 44.96875 8.296875 48.78125 10.40625 \nL 48.78125 2.09375 \nQ 45.015625 0.34375 40.984375 -0.53125 \nQ 36.96875 -1.421875 32.421875 -1.421875 \nQ 20.0625 -1.421875 12.78125 6.34375 \nQ 5.515625 14.109375 5.515625 27.296875 \nQ 5.515625 40.671875 12.859375 48.328125 \nQ 20.21875 56 33.015625 56 \nQ 37.15625 56 41.109375 55.140625 \nQ 45.0625 54.296875 48.78125 52.59375 \nz\nM 36.078125 0 \nQ 38.765625 -3.03125 40.078125 -5.59375 \nQ 41.40625 -8.15625 41.40625 -10.5 \nQ 41.40625 -14.84375 38.46875 -17.0625 \nQ 35.546875 -19.28125 29.78125 -19.28125 \nQ 27.546875 -19.28125 25.421875 -18.984375 \nQ 23.296875 -18.703125 21.1875 -18.109375 \nL 21.1875 -11.71875 \nQ 22.859375 -12.546875 24.65625 -12.90625 \nQ 26.46875 -13.28125 28.765625 -13.28125 \nQ 31.640625 -13.28125 33.109375 -12.109375 \nQ 34.578125 -10.9375 34.578125 -8.6875 \nQ 34.578125 -7.234375 33.515625 -5.109375 \nQ 32.46875 -2.984375 30.28125 0 \nz\n\" id=\"DejaVuSans-231\"/>\n    </defs>\n    <g transform=\"translate(14.298625 21.18375)scale(0.18 -0.18)\">\n     <use xlink:href=\"#DejaVuSans-77\"/>\n     <use x=\"86.279297\" xlink:href=\"#DejaVuSans-97\"/>\n     <use x=\"147.558594\" xlink:href=\"#DejaVuSans-116\"/>\n     <use x=\"186.767578\" xlink:href=\"#DejaVuSans-114\"/>\n     <use x=\"227.880859\" xlink:href=\"#DejaVuSans-105\"/>\n     <use x=\"255.664062\" xlink:href=\"#DejaVuSans-122\"/>\n     <use x=\"308.154297\" xlink:href=\"#DejaVuSans-32\"/>\n     <use x=\"339.941406\" xlink:href=\"#DejaVuSans-100\"/>\n     <use x=\"403.417969\" xlink:href=\"#DejaVuSans-101\"/>\n     <use x=\"464.941406\" xlink:href=\"#DejaVuSans-32\"/>\n     <use x=\"496.728516\" xlink:href=\"#DejaVuSans-67\"/>\n     <use x=\"566.552734\" xlink:href=\"#DejaVuSans-111\"/>\n     <use x=\"627.734375\" xlink:href=\"#DejaVuSans-110\"/>\n     <use x=\"691.113281\" xlink:href=\"#DejaVuSans-102\"/>\n     <use x=\"726.318359\" xlink:href=\"#DejaVuSans-117\"/>\n     <use x=\"789.697266\" xlink:href=\"#DejaVuSans-115\"/>\n     <use x=\"841.796875\" xlink:href=\"#DejaVuSans-227\"/>\n     <use x=\"903.076172\" xlink:href=\"#DejaVuSans-111\"/>\n     <use x=\"964.257812\" xlink:href=\"#DejaVuSans-32\"/>\n     <use x=\"996.044922\" xlink:href=\"#DejaVuSans-100\"/>\n     <use x=\"1059.521484\" xlink:href=\"#DejaVuSans-97\"/>\n     <use x=\"1120.800781\" xlink:href=\"#DejaVuSans-32\"/>\n     <use x=\"1152.587891\" xlink:href=\"#DejaVuSans-67\"/>\n     <use x=\"1222.412109\" xlink:href=\"#DejaVuSans-111\"/>\n     <use x=\"1283.59375\" xlink:href=\"#DejaVuSans-110\"/>\n     <use x=\"1346.972656\" xlink:href=\"#DejaVuSans-102\"/>\n     <use x=\"1382.177734\" xlink:href=\"#DejaVuSans-105\"/>\n     <use x=\"1409.960938\" xlink:href=\"#DejaVuSans-103\"/>\n     <use x=\"1473.4375\" xlink:href=\"#DejaVuSans-117\"/>\n     <use x=\"1536.816406\" xlink:href=\"#DejaVuSans-114\"/>\n     <use x=\"1577.929688\" xlink:href=\"#DejaVuSans-97\"/>\n     <use x=\"1639.208984\" xlink:href=\"#DejaVuSans-231\"/>\n     <use x=\"1694.189453\" xlink:href=\"#DejaVuSans-227\"/>\n     <use x=\"1755.46875\" xlink:href=\"#DejaVuSans-111\"/>\n     <use x=\"1816.650391\" xlink:href=\"#DejaVuSans-32\"/>\n     <use x=\"1848.4375\" xlink:href=\"#DejaVuSans-55\"/>\n    </g>\n   </g>\n  </g>\n  <g id=\"axes_2\">\n   <g id=\"patch_3\">\n    <path clip-path=\"url(#p62b71e6731)\" d=\"M 353.81575 242.58375 \nL 353.81575 241.742344 \nL 353.81575 28.025156 \nL 353.81575 27.18375 \nL 364.58575 27.18375 \nL 364.58575 28.025156 \nL 364.58575 241.742344 \nL 364.58575 242.58375 \nz\n\" style=\"fill:#ffffff;stroke:#ffffff;stroke-linejoin:miter;stroke-width:0.01;\"/>\n   </g>\n   <image height=\"215\" id=\"image3a80d7c950\" transform=\"scale(1 -1)translate(0 -215)\" width=\"11\" x=\"354\" xlink:href=\"data:image/png;base64,\niVBORw0KGgoAAAANSUhEUgAAAAsAAADXCAYAAADMUKtyAAAABHNCSVQICAgIfAhkiAAAASBJREFUaIHt2EtqBCEABFADc/+rZpNlq7mCL1BQNpl1UdRPR/pr/3zvcfj7jHGMHZ+xFoCJecfAZjDGXGJQmPeWui80OHIGTfMx9laDHZrnrJAhzNsMPiKjoxRitgZfbzA2pCvT6DBIb6QVM0gyXt8gveta/oAuTKPEYMmBLVldMI2OUnJpBPfckYYw75JS/vf8Z3DJni06+WQxUzlvu8wrDOKbP6a5Iw2s+xhbU3fJno357XumIa2cDPnGmGOeZNDSABm5NMxgRykle14lBoUZDyww0/gBi2lA25qzMKMMYo5pplJiMux+7pBhzKJ5dsjAiQo4dgZz4JzmJ3YV4OkWGcL8xC5zkpGLLtjgOTGnQcygGdMAcO5VcOeeiTmk+ReJobfc4+cBQQAAAABJRU5ErkJggg==\" y=\"-27\"/>\n   <g id=\"matplotlib.axis_3\"/>\n   <g id=\"matplotlib.axis_4\">\n    <g id=\"ytick_8\">\n     <g id=\"line2d_15\">\n      <defs>\n       <path d=\"M 0 0 \nL 3.5 0 \n\" id=\"m116ff1239a\" style=\"stroke:#000000;stroke-width:0.8;\"/>\n      </defs>\n      <g>\n       <use style=\"stroke:#000000;stroke-width:0.8;\" x=\"364.58575\" xlink:href=\"#m116ff1239a\" y=\"242.58375\"/>\n      </g>\n     </g>\n     <g id=\"text_67\">\n      <!-- 0 -->\n      <g transform=\"translate(371.58575 246.382969)scale(0.1 -0.1)\">\n       <use xlink:href=\"#DejaVuSans-48\"/>\n      </g>\n     </g>\n    </g>\n    <g id=\"ytick_9\">\n     <g id=\"line2d_16\">\n      <g>\n       <use style=\"stroke:#000000;stroke-width:0.8;\" x=\"364.58575\" xlink:href=\"#m116ff1239a\" y=\"211.177924\"/>\n      </g>\n     </g>\n     <g id=\"text_68\">\n      <!-- 10000 -->\n      <g transform=\"translate(371.58575 214.977142)scale(0.1 -0.1)\">\n       <use xlink:href=\"#DejaVuSans-49\"/>\n       <use x=\"63.623047\" xlink:href=\"#DejaVuSans-48\"/>\n       <use x=\"127.246094\" xlink:href=\"#DejaVuSans-48\"/>\n       <use x=\"190.869141\" xlink:href=\"#DejaVuSans-48\"/>\n       <use x=\"254.492188\" xlink:href=\"#DejaVuSans-48\"/>\n      </g>\n     </g>\n    </g>\n    <g id=\"ytick_10\">\n     <g id=\"line2d_17\">\n      <g>\n       <use style=\"stroke:#000000;stroke-width:0.8;\" x=\"364.58575\" xlink:href=\"#m116ff1239a\" y=\"179.772097\"/>\n      </g>\n     </g>\n     <g id=\"text_69\">\n      <!-- 20000 -->\n      <g transform=\"translate(371.58575 183.571316)scale(0.1 -0.1)\">\n       <use xlink:href=\"#DejaVuSans-50\"/>\n       <use x=\"63.623047\" xlink:href=\"#DejaVuSans-48\"/>\n       <use x=\"127.246094\" xlink:href=\"#DejaVuSans-48\"/>\n       <use x=\"190.869141\" xlink:href=\"#DejaVuSans-48\"/>\n       <use x=\"254.492188\" xlink:href=\"#DejaVuSans-48\"/>\n      </g>\n     </g>\n    </g>\n    <g id=\"ytick_11\">\n     <g id=\"line2d_18\">\n      <g>\n       <use style=\"stroke:#000000;stroke-width:0.8;\" x=\"364.58575\" xlink:href=\"#m116ff1239a\" y=\"148.366271\"/>\n      </g>\n     </g>\n     <g id=\"text_70\">\n      <!-- 30000 -->\n      <g transform=\"translate(371.58575 152.16549)scale(0.1 -0.1)\">\n       <use xlink:href=\"#DejaVuSans-51\"/>\n       <use x=\"63.623047\" xlink:href=\"#DejaVuSans-48\"/>\n       <use x=\"127.246094\" xlink:href=\"#DejaVuSans-48\"/>\n       <use x=\"190.869141\" xlink:href=\"#DejaVuSans-48\"/>\n       <use x=\"254.492188\" xlink:href=\"#DejaVuSans-48\"/>\n      </g>\n     </g>\n    </g>\n    <g id=\"ytick_12\">\n     <g id=\"line2d_19\">\n      <g>\n       <use style=\"stroke:#000000;stroke-width:0.8;\" x=\"364.58575\" xlink:href=\"#m116ff1239a\" y=\"116.960445\"/>\n      </g>\n     </g>\n     <g id=\"text_71\">\n      <!-- 40000 -->\n      <g transform=\"translate(371.58575 120.759664)scale(0.1 -0.1)\">\n       <use xlink:href=\"#DejaVuSans-52\"/>\n       <use x=\"63.623047\" xlink:href=\"#DejaVuSans-48\"/>\n       <use x=\"127.246094\" xlink:href=\"#DejaVuSans-48\"/>\n       <use x=\"190.869141\" xlink:href=\"#DejaVuSans-48\"/>\n       <use x=\"254.492188\" xlink:href=\"#DejaVuSans-48\"/>\n      </g>\n     </g>\n    </g>\n    <g id=\"ytick_13\">\n     <g id=\"line2d_20\">\n      <g>\n       <use style=\"stroke:#000000;stroke-width:0.8;\" x=\"364.58575\" xlink:href=\"#m116ff1239a\" y=\"85.554619\"/>\n      </g>\n     </g>\n     <g id=\"text_72\">\n      <!-- 50000 -->\n      <g transform=\"translate(371.58575 89.353837)scale(0.1 -0.1)\">\n       <use xlink:href=\"#DejaVuSans-53\"/>\n       <use x=\"63.623047\" xlink:href=\"#DejaVuSans-48\"/>\n       <use x=\"127.246094\" xlink:href=\"#DejaVuSans-48\"/>\n       <use x=\"190.869141\" xlink:href=\"#DejaVuSans-48\"/>\n       <use x=\"254.492188\" xlink:href=\"#DejaVuSans-48\"/>\n      </g>\n     </g>\n    </g>\n    <g id=\"ytick_14\">\n     <g id=\"line2d_21\">\n      <g>\n       <use style=\"stroke:#000000;stroke-width:0.8;\" x=\"364.58575\" xlink:href=\"#m116ff1239a\" y=\"54.148792\"/>\n      </g>\n     </g>\n     <g id=\"text_73\">\n      <!-- 60000 -->\n      <g transform=\"translate(371.58575 57.948011)scale(0.1 -0.1)\">\n       <use xlink:href=\"#DejaVuSans-54\"/>\n       <use x=\"63.623047\" xlink:href=\"#DejaVuSans-48\"/>\n       <use x=\"127.246094\" xlink:href=\"#DejaVuSans-48\"/>\n       <use x=\"190.869141\" xlink:href=\"#DejaVuSans-48\"/>\n       <use x=\"254.492188\" xlink:href=\"#DejaVuSans-48\"/>\n      </g>\n     </g>\n    </g>\n   </g>\n   <g id=\"patch_4\">\n    <path d=\"M 353.81575 242.58375 \nL 353.81575 241.742344 \nL 353.81575 28.025156 \nL 353.81575 27.18375 \nL 364.58575 27.18375 \nL 364.58575 28.025156 \nL 364.58575 241.742344 \nL 364.58575 242.58375 \nz\n\" style=\"fill:none;\"/>\n   </g>\n  </g>\n </g>\n <defs>\n  <clipPath id=\"p3291d08cfb\">\n   <rect height=\"215.4\" width=\"297.656\" x=\"37.55625\" y=\"27.18375\"/>\n  </clipPath>\n  <clipPath id=\"p62b71e6731\">\n   <rect height=\"215.4\" width=\"10.77\" x=\"353.81575\" y=\"27.18375\"/>\n  </clipPath>\n </defs>\n</svg>\n",
            "image/png": "[encoded data removed]"
          },
          "metadata": {
            "needs_background": "light"
          }
        }
      ]
    },
    {
      "cell_type": "code",
      "metadata": {
        "id": "zBM9d2Gr6Uyn",
        "outputId": "f5462111-2e20-47da-9af2-e269c3385735"
      },
      "source": [
        "fig, ax = plt.subplots()\n",
        "sns.heatmap(confusion_matrix(Y_test, resultados[1]), annot=True, \n",
        "            ax=ax, fmt='d', cmap='Reds')\n",
        "ax.set_title(\"Matriz de Confusão da Configuração 2\", fontsize=18)\n",
        "ax.set_ylabel(\"True label\")\n",
        "ax.set_xlabel(\"Predicted Label\")\n",
        "plt.tight_layout()"
      ],
      "execution_count": 46,
      "outputs": [
        {
          "output_type": "display_data",
          "data": {
            "text/plain": "<Figure size 432x288 with 2 Axes>",
            "image/svg+xml": "<?xml version=\"1.0\" encoding=\"utf-8\" standalone=\"no\"?>\n<!DOCTYPE svg PUBLIC \"-//W3C//DTD SVG 1.1//EN\"\n  \"http://www.w3.org/Graphics/SVG/1.1/DTD/svg11.dtd\">\n<!-- Created with matplotlib (https://matplotlib.org/) -->\n<svg height=\"280.14pt\" version=\"1.1\" viewBox=\"0 0 410.59825 280.14\" width=\"410.59825pt\" xmlns=\"http://www.w3.org/2000/svg\" xmlns:xlink=\"http://www.w3.org/1999/xlink\">\n <defs>\n  <style type=\"text/css\">\n*{stroke-linecap:butt;stroke-linejoin:round;}\n  </style>\n </defs>\n <g id=\"figure_1\">\n  <g id=\"patch_1\">\n   <path d=\"M 0 280.14 \nL 410.59825 280.14 \nL 410.59825 0 \nL 0 0 \nz\n\" style=\"fill:none;\"/>\n  </g>\n  <g id=\"axes_1\">\n   <g id=\"patch_2\">\n    <path d=\"M 37.55625 242.58375 \nL 335.21225 242.58375 \nL 335.21225 27.18375 \nL 37.55625 27.18375 \nz\n\" style=\"fill:#ffffff;\"/>\n   </g>\n   <g id=\"QuadMesh_1\">\n    <path clip-path=\"url(#p8468b7387c)\" d=\"M 37.55625 27.18375 \nL 80.078536 27.18375 \nL 80.078536 57.955179 \nL 37.55625 57.955179 \nL 37.55625 27.18375 \n\" style=\"fill:#e43027;\"/>\n    <path clip-path=\"url(#p8468b7387c)\" d=\"M 80.078536 27.18375 \nL 122.600821 27.18375 \nL 122.600821 57.955179 \nL 80.078536 57.955179 \nL 80.078536 27.18375 \n\" style=\"fill:#fcbda4;\"/>\n    <path clip-path=\"url(#p8468b7387c)\" d=\"M 122.600821 27.18375 \nL 165.123107 27.18375 \nL 165.123107 57.955179 \nL 122.600821 57.955179 \nL 122.600821 27.18375 \n\" style=\"fill:#fff5f0;\"/>\n    <path clip-path=\"url(#p8468b7387c)\" d=\"M 165.123107 27.18375 \nL 207.645393 27.18375 \nL 207.645393 57.955179 \nL 165.123107 57.955179 \nL 165.123107 27.18375 \n\" style=\"fill:#fff5f0;\"/>\n    <path clip-path=\"url(#p8468b7387c)\" d=\"M 207.645393 27.18375 \nL 250.167679 27.18375 \nL 250.167679 57.955179 \nL 207.645393 57.955179 \nL 207.645393 27.18375 \n\" style=\"fill:#fff5f0;\"/>\n    <path clip-path=\"url(#p8468b7387c)\" d=\"M 250.167679 27.18375 \nL 292.689964 27.18375 \nL 292.689964 57.955179 \nL 250.167679 57.955179 \nL 250.167679 27.18375 \n\" style=\"fill:#fff5f0;\"/>\n    <path clip-path=\"url(#p8468b7387c)\" d=\"M 292.689964 27.18375 \nL 335.21225 27.18375 \nL 335.21225 57.955179 \nL 292.689964 57.955179 \nL 292.689964 27.18375 \n\" style=\"fill:#fff2ec;\"/>\n    <path clip-path=\"url(#p8468b7387c)\" d=\"M 37.55625 57.955179 \nL 80.078536 57.955179 \nL 80.078536 88.726607 \nL 37.55625 88.726607 \nL 37.55625 57.955179 \n\" style=\"fill:#fdc7b2;\"/>\n    <path clip-path=\"url(#p8468b7387c)\" d=\"M 80.078536 57.955179 \nL 122.600821 57.955179 \nL 122.600821 88.726607 \nL 80.078536 88.726607 \nL 80.078536 57.955179 \n\" style=\"fill:#67000d;\"/>\n    <path clip-path=\"url(#p8468b7387c)\" d=\"M 122.600821 57.955179 \nL 165.123107 57.955179 \nL 165.123107 88.726607 \nL 122.600821 88.726607 \nL 122.600821 57.955179 \n\" style=\"fill:#fff2ec;\"/>\n    <path clip-path=\"url(#p8468b7387c)\" d=\"M 165.123107 57.955179 \nL 207.645393 57.955179 \nL 207.645393 88.726607 \nL 165.123107 88.726607 \nL 165.123107 57.955179 \n\" style=\"fill:#fff5f0;\"/>\n    <path clip-path=\"url(#p8468b7387c)\" d=\"M 207.645393 57.955179 \nL 250.167679 57.955179 \nL 250.167679 88.726607 \nL 207.645393 88.726607 \nL 207.645393 57.955179 \n\" style=\"fill:#fff5f0;\"/>\n    <path clip-path=\"url(#p8468b7387c)\" d=\"M 250.167679 57.955179 \nL 292.689964 57.955179 \nL 292.689964 88.726607 \nL 250.167679 88.726607 \nL 250.167679 57.955179 \n\" style=\"fill:#fff4ef;\"/>\n    <path clip-path=\"url(#p8468b7387c)\" d=\"M 292.689964 57.955179 \nL 335.21225 57.955179 \nL 335.21225 88.726607 \nL 292.689964 88.726607 \nL 292.689964 57.955179 \n\" style=\"fill:#fff5f0;\"/>\n    <path clip-path=\"url(#p8468b7387c)\" d=\"M 37.55625 88.726607 \nL 80.078536 88.726607 \nL 80.078536 119.498036 \nL 37.55625 119.498036 \nL 37.55625 88.726607 \n\" style=\"fill:#fff5f0;\"/>\n    <path clip-path=\"url(#p8468b7387c)\" d=\"M 80.078536 88.726607 \nL 122.600821 88.726607 \nL 122.600821 119.498036 \nL 80.078536 119.498036 \nL 80.078536 88.726607 \n\" style=\"fill:#fff2eb;\"/>\n    <path clip-path=\"url(#p8468b7387c)\" d=\"M 122.600821 88.726607 \nL 165.123107 88.726607 \nL 165.123107 119.498036 \nL 122.600821 119.498036 \nL 122.600821 88.726607 \n\" style=\"fill:#fee1d4;\"/>\n    <path clip-path=\"url(#p8468b7387c)\" d=\"M 165.123107 88.726607 \nL 207.645393 88.726607 \nL 207.645393 119.498036 \nL 165.123107 119.498036 \nL 165.123107 88.726607 \n\" style=\"fill:#fff5f0;\"/>\n    <path clip-path=\"url(#p8468b7387c)\" d=\"M 207.645393 88.726607 \nL 250.167679 88.726607 \nL 250.167679 119.498036 \nL 207.645393 119.498036 \nL 207.645393 88.726607 \n\" style=\"fill:#fff5f0;\"/>\n    <path clip-path=\"url(#p8468b7387c)\" d=\"M 250.167679 88.726607 \nL 292.689964 88.726607 \nL 292.689964 119.498036 \nL 250.167679 119.498036 \nL 250.167679 88.726607 \n\" style=\"fill:#fff4ee;\"/>\n    <path clip-path=\"url(#p8468b7387c)\" d=\"M 292.689964 88.726607 \nL 335.21225 88.726607 \nL 335.21225 119.498036 \nL 292.689964 119.498036 \nL 292.689964 88.726607 \n\" style=\"fill:#fff5f0;\"/>\n    <path clip-path=\"url(#p8468b7387c)\" d=\"M 37.55625 119.498036 \nL 80.078536 119.498036 \nL 80.078536 150.269464 \nL 37.55625 150.269464 \nL 37.55625 119.498036 \n\" style=\"fill:#fff5f0;\"/>\n    <path clip-path=\"url(#p8468b7387c)\" d=\"M 80.078536 119.498036 \nL 122.600821 119.498036 \nL 122.600821 150.269464 \nL 80.078536 150.269464 \nL 80.078536 119.498036 \n\" style=\"fill:#fff5f0;\"/>\n    <path clip-path=\"url(#p8468b7387c)\" d=\"M 122.600821 119.498036 \nL 165.123107 119.498036 \nL 165.123107 150.269464 \nL 122.600821 150.269464 \nL 122.600821 119.498036 \n\" style=\"fill:#fff4ef;\"/>\n    <path clip-path=\"url(#p8468b7387c)\" d=\"M 165.123107 119.498036 \nL 207.645393 119.498036 \nL 207.645393 150.269464 \nL 165.123107 150.269464 \nL 165.123107 119.498036 \n\" style=\"fill:#fff4ef;\"/>\n    <path clip-path=\"url(#p8468b7387c)\" d=\"M 207.645393 119.498036 \nL 250.167679 119.498036 \nL 250.167679 150.269464 \nL 207.645393 150.269464 \nL 207.645393 119.498036 \n\" style=\"fill:#fff5f0;\"/>\n    <path clip-path=\"url(#p8468b7387c)\" d=\"M 250.167679 119.498036 \nL 292.689964 119.498036 \nL 292.689964 150.269464 \nL 250.167679 150.269464 \nL 250.167679 119.498036 \n\" style=\"fill:#fff5f0;\"/>\n    <path clip-path=\"url(#p8468b7387c)\" d=\"M 292.689964 119.498036 \nL 335.21225 119.498036 \nL 335.21225 150.269464 \nL 292.689964 150.269464 \nL 292.689964 119.498036 \n\" style=\"fill:#fff5f0;\"/>\n    <path clip-path=\"url(#p8468b7387c)\" d=\"M 37.55625 150.269464 \nL 80.078536 150.269464 \nL 80.078536 181.040893 \nL 37.55625 181.040893 \nL 37.55625 150.269464 \n\" style=\"fill:#fff5f0;\"/>\n    <path clip-path=\"url(#p8468b7387c)\" d=\"M 80.078536 150.269464 \nL 122.600821 150.269464 \nL 122.600821 181.040893 \nL 80.078536 181.040893 \nL 80.078536 150.269464 \n\" style=\"fill:#fff0e8;\"/>\n    <path clip-path=\"url(#p8468b7387c)\" d=\"M 122.600821 150.269464 \nL 165.123107 150.269464 \nL 165.123107 181.040893 \nL 122.600821 181.040893 \nL 122.600821 150.269464 \n\" style=\"fill:#fff5f0;\"/>\n    <path clip-path=\"url(#p8468b7387c)\" d=\"M 165.123107 150.269464 \nL 207.645393 150.269464 \nL 207.645393 181.040893 \nL 165.123107 181.040893 \nL 165.123107 150.269464 \n\" style=\"fill:#fff5f0;\"/>\n    <path clip-path=\"url(#p8468b7387c)\" d=\"M 207.645393 150.269464 \nL 250.167679 150.269464 \nL 250.167679 181.040893 \nL 207.645393 181.040893 \nL 207.645393 150.269464 \n\" style=\"fill:#fff4ef;\"/>\n    <path clip-path=\"url(#p8468b7387c)\" d=\"M 250.167679 150.269464 \nL 292.689964 150.269464 \nL 292.689964 181.040893 \nL 250.167679 181.040893 \nL 250.167679 150.269464 \n\" style=\"fill:#fff5f0;\"/>\n    <path clip-path=\"url(#p8468b7387c)\" d=\"M 292.689964 150.269464 \nL 335.21225 150.269464 \nL 335.21225 181.040893 \nL 292.689964 181.040893 \nL 292.689964 150.269464 \n\" style=\"fill:#fff5f0;\"/>\n    <path clip-path=\"url(#p8468b7387c)\" d=\"M 37.55625 181.040893 \nL 80.078536 181.040893 \nL 80.078536 211.812321 \nL 37.55625 211.812321 \nL 37.55625 181.040893 \n\" style=\"fill:#fff5f0;\"/>\n    <path clip-path=\"url(#p8468b7387c)\" d=\"M 80.078536 181.040893 \nL 122.600821 181.040893 \nL 122.600821 211.812321 \nL 80.078536 211.812321 \nL 80.078536 181.040893 \n\" style=\"fill:#fff2eb;\"/>\n    <path clip-path=\"url(#p8468b7387c)\" d=\"M 122.600821 181.040893 \nL 165.123107 181.040893 \nL 165.123107 211.812321 \nL 122.600821 211.812321 \nL 122.600821 181.040893 \n\" style=\"fill:#ffeee7;\"/>\n    <path clip-path=\"url(#p8468b7387c)\" d=\"M 165.123107 181.040893 \nL 207.645393 181.040893 \nL 207.645393 211.812321 \nL 165.123107 211.812321 \nL 165.123107 181.040893 \n\" style=\"fill:#fff5f0;\"/>\n    <path clip-path=\"url(#p8468b7387c)\" d=\"M 207.645393 181.040893 \nL 250.167679 181.040893 \nL 250.167679 211.812321 \nL 207.645393 211.812321 \nL 207.645393 181.040893 \n\" style=\"fill:#fff5f0;\"/>\n    <path clip-path=\"url(#p8468b7387c)\" d=\"M 250.167679 181.040893 \nL 292.689964 181.040893 \nL 292.689964 211.812321 \nL 250.167679 211.812321 \nL 250.167679 181.040893 \n\" style=\"fill:#fff3ed;\"/>\n    <path clip-path=\"url(#p8468b7387c)\" d=\"M 292.689964 181.040893 \nL 335.21225 181.040893 \nL 335.21225 211.812321 \nL 292.689964 211.812321 \nL 292.689964 181.040893 \n\" style=\"fill:#fff5f0;\"/>\n    <path clip-path=\"url(#p8468b7387c)\" d=\"M 37.55625 211.812321 \nL 80.078536 211.812321 \nL 80.078536 242.58375 \nL 37.55625 242.58375 \nL 37.55625 211.812321 \n\" style=\"fill:#ffefe8;\"/>\n    <path clip-path=\"url(#p8468b7387c)\" d=\"M 80.078536 211.812321 \nL 122.600821 211.812321 \nL 122.600821 242.58375 \nL 80.078536 242.58375 \nL 80.078536 211.812321 \n\" style=\"fill:#fff5f0;\"/>\n    <path clip-path=\"url(#p8468b7387c)\" d=\"M 122.600821 211.812321 \nL 165.123107 211.812321 \nL 165.123107 242.58375 \nL 122.600821 242.58375 \nL 122.600821 211.812321 \n\" style=\"fill:#fff5f0;\"/>\n    <path clip-path=\"url(#p8468b7387c)\" d=\"M 165.123107 211.812321 \nL 207.645393 211.812321 \nL 207.645393 242.58375 \nL 165.123107 242.58375 \nL 165.123107 211.812321 \n\" style=\"fill:#fff5f0;\"/>\n    <path clip-path=\"url(#p8468b7387c)\" d=\"M 207.645393 211.812321 \nL 250.167679 211.812321 \nL 250.167679 242.58375 \nL 207.645393 242.58375 \nL 207.645393 211.812321 \n\" style=\"fill:#fff5f0;\"/>\n    <path clip-path=\"url(#p8468b7387c)\" d=\"M 250.167679 211.812321 \nL 292.689964 211.812321 \nL 292.689964 242.58375 \nL 250.167679 242.58375 \nL 250.167679 211.812321 \n\" style=\"fill:#fff5f0;\"/>\n    <path clip-path=\"url(#p8468b7387c)\" d=\"M 292.689964 211.812321 \nL 335.21225 211.812321 \nL 335.21225 242.58375 \nL 292.689964 242.58375 \nL 292.689964 211.812321 \n\" style=\"fill:#ffede5;\"/>\n   </g>\n   <g id=\"matplotlib.axis_1\">\n    <g id=\"xtick_1\">\n     <g id=\"line2d_1\">\n      <defs>\n       <path d=\"M 0 0 \nL 0 3.5 \n\" id=\"m317dca6c2d\" style=\"stroke:#000000;stroke-width:0.8;\"/>\n      </defs>\n      <g>\n       <use style=\"stroke:#000000;stroke-width:0.8;\" x=\"58.817393\" xlink:href=\"#m317dca6c2d\" y=\"242.58375\"/>\n      </g>\n     </g>\n     <g id=\"text_1\">\n      <!-- 0 -->\n      <defs>\n       <path d=\"M 31.78125 66.40625 \nQ 24.171875 66.40625 20.328125 58.90625 \nQ 16.5 51.421875 16.5 36.375 \nQ 16.5 21.390625 20.328125 13.890625 \nQ 24.171875 6.390625 31.78125 6.390625 \nQ 39.453125 6.390625 43.28125 13.890625 \nQ 47.125 21.390625 47.125 36.375 \nQ 47.125 51.421875 43.28125 58.90625 \nQ 39.453125 66.40625 31.78125 66.40625 \nz\nM 31.78125 74.21875 \nQ 44.046875 74.21875 50.515625 64.515625 \nQ 56.984375 54.828125 56.984375 36.375 \nQ 56.984375 17.96875 50.515625 8.265625 \nQ 44.046875 -1.421875 31.78125 -1.421875 \nQ 19.53125 -1.421875 13.0625 8.265625 \nQ 6.59375 17.96875 6.59375 36.375 \nQ 6.59375 54.828125 13.0625 64.515625 \nQ 19.53125 74.21875 31.78125 74.21875 \nz\n\" id=\"DejaVuSans-48\"/>\n      </defs>\n      <g transform=\"translate(55.636143 257.182187)scale(0.1 -0.1)\">\n       <use xlink:href=\"#DejaVuSans-48\"/>\n      </g>\n     </g>\n    </g>\n    <g id=\"xtick_2\">\n     <g id=\"line2d_2\">\n      <g>\n       <use style=\"stroke:#000000;stroke-width:0.8;\" x=\"101.339679\" xlink:href=\"#m317dca6c2d\" y=\"242.58375\"/>\n      </g>\n     </g>\n     <g id=\"text_2\">\n      <!-- 1 -->\n      <defs>\n       <path d=\"M 12.40625 8.296875 \nL 28.515625 8.296875 \nL 28.515625 63.921875 \nL 10.984375 60.40625 \nL 10.984375 69.390625 \nL 28.421875 72.90625 \nL 38.28125 72.90625 \nL 38.28125 8.296875 \nL 54.390625 8.296875 \nL 54.390625 0 \nL 12.40625 0 \nz\n\" id=\"DejaVuSans-49\"/>\n      </defs>\n      <g transform=\"translate(98.158429 257.182187)scale(0.1 -0.1)\">\n       <use xlink:href=\"#DejaVuSans-49\"/>\n      </g>\n     </g>\n    </g>\n    <g id=\"xtick_3\">\n     <g id=\"line2d_3\">\n      <g>\n       <use style=\"stroke:#000000;stroke-width:0.8;\" x=\"143.861964\" xlink:href=\"#m317dca6c2d\" y=\"242.58375\"/>\n      </g>\n     </g>\n     <g id=\"text_3\">\n      <!-- 2 -->\n      <defs>\n       <path d=\"M 19.1875 8.296875 \nL 53.609375 8.296875 \nL 53.609375 0 \nL 7.328125 0 \nL 7.328125 8.296875 \nQ 12.9375 14.109375 22.625 23.890625 \nQ 32.328125 33.6875 34.8125 36.53125 \nQ 39.546875 41.84375 41.421875 45.53125 \nQ 43.3125 49.21875 43.3125 52.78125 \nQ 43.3125 58.59375 39.234375 62.25 \nQ 35.15625 65.921875 28.609375 65.921875 \nQ 23.96875 65.921875 18.8125 64.3125 \nQ 13.671875 62.703125 7.8125 59.421875 \nL 7.8125 69.390625 \nQ 13.765625 71.78125 18.9375 73 \nQ 24.125 74.21875 28.421875 74.21875 \nQ 39.75 74.21875 46.484375 68.546875 \nQ 53.21875 62.890625 53.21875 53.421875 \nQ 53.21875 48.921875 51.53125 44.890625 \nQ 49.859375 40.875 45.40625 35.40625 \nQ 44.1875 33.984375 37.640625 27.21875 \nQ 31.109375 20.453125 19.1875 8.296875 \nz\n\" id=\"DejaVuSans-50\"/>\n      </defs>\n      <g transform=\"translate(140.680714 257.182187)scale(0.1 -0.1)\">\n       <use xlink:href=\"#DejaVuSans-50\"/>\n      </g>\n     </g>\n    </g>\n    <g id=\"xtick_4\">\n     <g id=\"line2d_4\">\n      <g>\n       <use style=\"stroke:#000000;stroke-width:0.8;\" x=\"186.38425\" xlink:href=\"#m317dca6c2d\" y=\"242.58375\"/>\n      </g>\n     </g>\n     <g id=\"text_4\">\n      <!-- 3 -->\n      <defs>\n       <path d=\"M 40.578125 39.3125 \nQ 47.65625 37.796875 51.625 33 \nQ 55.609375 28.21875 55.609375 21.1875 \nQ 55.609375 10.40625 48.1875 4.484375 \nQ 40.765625 -1.421875 27.09375 -1.421875 \nQ 22.515625 -1.421875 17.65625 -0.515625 \nQ 12.796875 0.390625 7.625 2.203125 \nL 7.625 11.71875 \nQ 11.71875 9.328125 16.59375 8.109375 \nQ 21.484375 6.890625 26.8125 6.890625 \nQ 36.078125 6.890625 40.9375 10.546875 \nQ 45.796875 14.203125 45.796875 21.1875 \nQ 45.796875 27.640625 41.28125 31.265625 \nQ 36.765625 34.90625 28.71875 34.90625 \nL 20.21875 34.90625 \nL 20.21875 43.015625 \nL 29.109375 43.015625 \nQ 36.375 43.015625 40.234375 45.921875 \nQ 44.09375 48.828125 44.09375 54.296875 \nQ 44.09375 59.90625 40.109375 62.90625 \nQ 36.140625 65.921875 28.71875 65.921875 \nQ 24.65625 65.921875 20.015625 65.03125 \nQ 15.375 64.15625 9.8125 62.3125 \nL 9.8125 71.09375 \nQ 15.4375 72.65625 20.34375 73.4375 \nQ 25.25 74.21875 29.59375 74.21875 \nQ 40.828125 74.21875 47.359375 69.109375 \nQ 53.90625 64.015625 53.90625 55.328125 \nQ 53.90625 49.265625 50.4375 45.09375 \nQ 46.96875 40.921875 40.578125 39.3125 \nz\n\" id=\"DejaVuSans-51\"/>\n      </defs>\n      <g transform=\"translate(183.203 257.182187)scale(0.1 -0.1)\">\n       <use xlink:href=\"#DejaVuSans-51\"/>\n      </g>\n     </g>\n    </g>\n    <g id=\"xtick_5\">\n     <g id=\"line2d_5\">\n      <g>\n       <use style=\"stroke:#000000;stroke-width:0.8;\" x=\"228.906536\" xlink:href=\"#m317dca6c2d\" y=\"242.58375\"/>\n      </g>\n     </g>\n     <g id=\"text_5\">\n      <!-- 4 -->\n      <defs>\n       <path d=\"M 37.796875 64.3125 \nL 12.890625 25.390625 \nL 37.796875 25.390625 \nz\nM 35.203125 72.90625 \nL 47.609375 72.90625 \nL 47.609375 25.390625 \nL 58.015625 25.390625 \nL 58.015625 17.1875 \nL 47.609375 17.1875 \nL 47.609375 0 \nL 37.796875 0 \nL 37.796875 17.1875 \nL 4.890625 17.1875 \nL 4.890625 26.703125 \nz\n\" id=\"DejaVuSans-52\"/>\n      </defs>\n      <g transform=\"translate(225.725286 257.182187)scale(0.1 -0.1)\">\n       <use xlink:href=\"#DejaVuSans-52\"/>\n      </g>\n     </g>\n    </g>\n    <g id=\"xtick_6\">\n     <g id=\"line2d_6\">\n      <g>\n       <use style=\"stroke:#000000;stroke-width:0.8;\" x=\"271.428821\" xlink:href=\"#m317dca6c2d\" y=\"242.58375\"/>\n      </g>\n     </g>\n     <g id=\"text_6\">\n      <!-- 5 -->\n      <defs>\n       <path d=\"M 10.796875 72.90625 \nL 49.515625 72.90625 \nL 49.515625 64.59375 \nL 19.828125 64.59375 \nL 19.828125 46.734375 \nQ 21.96875 47.46875 24.109375 47.828125 \nQ 26.265625 48.1875 28.421875 48.1875 \nQ 40.625 48.1875 47.75 41.5 \nQ 54.890625 34.8125 54.890625 23.390625 \nQ 54.890625 11.625 47.5625 5.09375 \nQ 40.234375 -1.421875 26.90625 -1.421875 \nQ 22.3125 -1.421875 17.546875 -0.640625 \nQ 12.796875 0.140625 7.71875 1.703125 \nL 7.71875 11.625 \nQ 12.109375 9.234375 16.796875 8.0625 \nQ 21.484375 6.890625 26.703125 6.890625 \nQ 35.15625 6.890625 40.078125 11.328125 \nQ 45.015625 15.765625 45.015625 23.390625 \nQ 45.015625 31 40.078125 35.4375 \nQ 35.15625 39.890625 26.703125 39.890625 \nQ 22.75 39.890625 18.8125 39.015625 \nQ 14.890625 38.140625 10.796875 36.28125 \nz\n\" id=\"DejaVuSans-53\"/>\n      </defs>\n      <g transform=\"translate(268.247571 257.182187)scale(0.1 -0.1)\">\n       <use xlink:href=\"#DejaVuSans-53\"/>\n      </g>\n     </g>\n    </g>\n    <g id=\"xtick_7\">\n     <g id=\"line2d_7\">\n      <g>\n       <use style=\"stroke:#000000;stroke-width:0.8;\" x=\"313.951107\" xlink:href=\"#m317dca6c2d\" y=\"242.58375\"/>\n      </g>\n     </g>\n     <g id=\"text_7\">\n      <!-- 6 -->\n      <defs>\n       <path d=\"M 33.015625 40.375 \nQ 26.375 40.375 22.484375 35.828125 \nQ 18.609375 31.296875 18.609375 23.390625 \nQ 18.609375 15.53125 22.484375 10.953125 \nQ 26.375 6.390625 33.015625 6.390625 \nQ 39.65625 6.390625 43.53125 10.953125 \nQ 47.40625 15.53125 47.40625 23.390625 \nQ 47.40625 31.296875 43.53125 35.828125 \nQ 39.65625 40.375 33.015625 40.375 \nz\nM 52.59375 71.296875 \nL 52.59375 62.3125 \nQ 48.875 64.0625 45.09375 64.984375 \nQ 41.3125 65.921875 37.59375 65.921875 \nQ 27.828125 65.921875 22.671875 59.328125 \nQ 17.53125 52.734375 16.796875 39.40625 \nQ 19.671875 43.65625 24.015625 45.921875 \nQ 28.375 48.1875 33.59375 48.1875 \nQ 44.578125 48.1875 50.953125 41.515625 \nQ 57.328125 34.859375 57.328125 23.390625 \nQ 57.328125 12.15625 50.6875 5.359375 \nQ 44.046875 -1.421875 33.015625 -1.421875 \nQ 20.359375 -1.421875 13.671875 8.265625 \nQ 6.984375 17.96875 6.984375 36.375 \nQ 6.984375 53.65625 15.1875 63.9375 \nQ 23.390625 74.21875 37.203125 74.21875 \nQ 40.921875 74.21875 44.703125 73.484375 \nQ 48.484375 72.75 52.59375 71.296875 \nz\n\" id=\"DejaVuSans-54\"/>\n      </defs>\n      <g transform=\"translate(310.769857 257.182187)scale(0.1 -0.1)\">\n       <use xlink:href=\"#DejaVuSans-54\"/>\n      </g>\n     </g>\n    </g>\n    <g id=\"text_8\">\n     <!-- Predicted Label -->\n     <defs>\n      <path d=\"M 19.671875 64.796875 \nL 19.671875 37.40625 \nL 32.078125 37.40625 \nQ 38.96875 37.40625 42.71875 40.96875 \nQ 46.484375 44.53125 46.484375 51.125 \nQ 46.484375 57.671875 42.71875 61.234375 \nQ 38.96875 64.796875 32.078125 64.796875 \nz\nM 9.8125 72.90625 \nL 32.078125 72.90625 \nQ 44.34375 72.90625 50.609375 67.359375 \nQ 56.890625 61.8125 56.890625 51.125 \nQ 56.890625 40.328125 50.609375 34.8125 \nQ 44.34375 29.296875 32.078125 29.296875 \nL 19.671875 29.296875 \nL 19.671875 0 \nL 9.8125 0 \nz\n\" id=\"DejaVuSans-80\"/>\n      <path d=\"M 41.109375 46.296875 \nQ 39.59375 47.171875 37.8125 47.578125 \nQ 36.03125 48 33.890625 48 \nQ 26.265625 48 22.1875 43.046875 \nQ 18.109375 38.09375 18.109375 28.8125 \nL 18.109375 0 \nL 9.078125 0 \nL 9.078125 54.6875 \nL 18.109375 54.6875 \nL 18.109375 46.1875 \nQ 20.953125 51.171875 25.484375 53.578125 \nQ 30.03125 56 36.53125 56 \nQ 37.453125 56 38.578125 55.875 \nQ 39.703125 55.765625 41.0625 55.515625 \nz\n\" id=\"DejaVuSans-114\"/>\n      <path d=\"M 56.203125 29.59375 \nL 56.203125 25.203125 \nL 14.890625 25.203125 \nQ 15.484375 15.921875 20.484375 11.0625 \nQ 25.484375 6.203125 34.421875 6.203125 \nQ 39.59375 6.203125 44.453125 7.46875 \nQ 49.3125 8.734375 54.109375 11.28125 \nL 54.109375 2.78125 \nQ 49.265625 0.734375 44.1875 -0.34375 \nQ 39.109375 -1.421875 33.890625 -1.421875 \nQ 20.796875 -1.421875 13.15625 6.1875 \nQ 5.515625 13.8125 5.515625 26.8125 \nQ 5.515625 40.234375 12.765625 48.109375 \nQ 20.015625 56 32.328125 56 \nQ 43.359375 56 49.78125 48.890625 \nQ 56.203125 41.796875 56.203125 29.59375 \nz\nM 47.21875 32.234375 \nQ 47.125 39.59375 43.09375 43.984375 \nQ 39.0625 48.390625 32.421875 48.390625 \nQ 24.90625 48.390625 20.390625 44.140625 \nQ 15.875 39.890625 15.1875 32.171875 \nz\n\" id=\"DejaVuSans-101\"/>\n      <path d=\"M 45.40625 46.390625 \nL 45.40625 75.984375 \nL 54.390625 75.984375 \nL 54.390625 0 \nL 45.40625 0 \nL 45.40625 8.203125 \nQ 42.578125 3.328125 38.25 0.953125 \nQ 33.9375 -1.421875 27.875 -1.421875 \nQ 17.96875 -1.421875 11.734375 6.484375 \nQ 5.515625 14.40625 5.515625 27.296875 \nQ 5.515625 40.1875 11.734375 48.09375 \nQ 17.96875 56 27.875 56 \nQ 33.9375 56 38.25 53.625 \nQ 42.578125 51.265625 45.40625 46.390625 \nz\nM 14.796875 27.296875 \nQ 14.796875 17.390625 18.875 11.75 \nQ 22.953125 6.109375 30.078125 6.109375 \nQ 37.203125 6.109375 41.296875 11.75 \nQ 45.40625 17.390625 45.40625 27.296875 \nQ 45.40625 37.203125 41.296875 42.84375 \nQ 37.203125 48.484375 30.078125 48.484375 \nQ 22.953125 48.484375 18.875 42.84375 \nQ 14.796875 37.203125 14.796875 27.296875 \nz\n\" id=\"DejaVuSans-100\"/>\n      <path d=\"M 9.421875 54.6875 \nL 18.40625 54.6875 \nL 18.40625 0 \nL 9.421875 0 \nz\nM 9.421875 75.984375 \nL 18.40625 75.984375 \nL 18.40625 64.59375 \nL 9.421875 64.59375 \nz\n\" id=\"DejaVuSans-105\"/>\n      <path d=\"M 48.78125 52.59375 \nL 48.78125 44.1875 \nQ 44.96875 46.296875 41.140625 47.34375 \nQ 37.3125 48.390625 33.40625 48.390625 \nQ 24.65625 48.390625 19.8125 42.84375 \nQ 14.984375 37.3125 14.984375 27.296875 \nQ 14.984375 17.28125 19.8125 11.734375 \nQ 24.65625 6.203125 33.40625 6.203125 \nQ 37.3125 6.203125 41.140625 7.25 \nQ 44.96875 8.296875 48.78125 10.40625 \nL 48.78125 2.09375 \nQ 45.015625 0.34375 40.984375 -0.53125 \nQ 36.96875 -1.421875 32.421875 -1.421875 \nQ 20.0625 -1.421875 12.78125 6.34375 \nQ 5.515625 14.109375 5.515625 27.296875 \nQ 5.515625 40.671875 12.859375 48.328125 \nQ 20.21875 56 33.015625 56 \nQ 37.15625 56 41.109375 55.140625 \nQ 45.0625 54.296875 48.78125 52.59375 \nz\n\" id=\"DejaVuSans-99\"/>\n      <path d=\"M 18.3125 70.21875 \nL 18.3125 54.6875 \nL 36.8125 54.6875 \nL 36.8125 47.703125 \nL 18.3125 47.703125 \nL 18.3125 18.015625 \nQ 18.3125 11.328125 20.140625 9.421875 \nQ 21.96875 7.515625 27.59375 7.515625 \nL 36.8125 7.515625 \nL 36.8125 0 \nL 27.59375 0 \nQ 17.1875 0 13.234375 3.875 \nQ 9.28125 7.765625 9.28125 18.015625 \nL 9.28125 47.703125 \nL 2.6875 47.703125 \nL 2.6875 54.6875 \nL 9.28125 54.6875 \nL 9.28125 70.21875 \nz\n\" id=\"DejaVuSans-116\"/>\n      <path id=\"DejaVuSans-32\"/>\n      <path d=\"M 9.8125 72.90625 \nL 19.671875 72.90625 \nL 19.671875 8.296875 \nL 55.171875 8.296875 \nL 55.171875 0 \nL 9.8125 0 \nz\n\" id=\"DejaVuSans-76\"/>\n      <path d=\"M 34.28125 27.484375 \nQ 23.390625 27.484375 19.1875 25 \nQ 14.984375 22.515625 14.984375 16.5 \nQ 14.984375 11.71875 18.140625 8.90625 \nQ 21.296875 6.109375 26.703125 6.109375 \nQ 34.1875 6.109375 38.703125 11.40625 \nQ 43.21875 16.703125 43.21875 25.484375 \nL 43.21875 27.484375 \nz\nM 52.203125 31.203125 \nL 52.203125 0 \nL 43.21875 0 \nL 43.21875 8.296875 \nQ 40.140625 3.328125 35.546875 0.953125 \nQ 30.953125 -1.421875 24.3125 -1.421875 \nQ 15.921875 -1.421875 10.953125 3.296875 \nQ 6 8.015625 6 15.921875 \nQ 6 25.140625 12.171875 29.828125 \nQ 18.359375 34.515625 30.609375 34.515625 \nL 43.21875 34.515625 \nL 43.21875 35.40625 \nQ 43.21875 41.609375 39.140625 45 \nQ 35.0625 48.390625 27.6875 48.390625 \nQ 23 48.390625 18.546875 47.265625 \nQ 14.109375 46.140625 10.015625 43.890625 \nL 10.015625 52.203125 \nQ 14.9375 54.109375 19.578125 55.046875 \nQ 24.21875 56 28.609375 56 \nQ 40.484375 56 46.34375 49.84375 \nQ 52.203125 43.703125 52.203125 31.203125 \nz\n\" id=\"DejaVuSans-97\"/>\n      <path d=\"M 48.6875 27.296875 \nQ 48.6875 37.203125 44.609375 42.84375 \nQ 40.53125 48.484375 33.40625 48.484375 \nQ 26.265625 48.484375 22.1875 42.84375 \nQ 18.109375 37.203125 18.109375 27.296875 \nQ 18.109375 17.390625 22.1875 11.75 \nQ 26.265625 6.109375 33.40625 6.109375 \nQ 40.53125 6.109375 44.609375 11.75 \nQ 48.6875 17.390625 48.6875 27.296875 \nz\nM 18.109375 46.390625 \nQ 20.953125 51.265625 25.265625 53.625 \nQ 29.59375 56 35.59375 56 \nQ 45.5625 56 51.78125 48.09375 \nQ 58.015625 40.1875 58.015625 27.296875 \nQ 58.015625 14.40625 51.78125 6.484375 \nQ 45.5625 -1.421875 35.59375 -1.421875 \nQ 29.59375 -1.421875 25.265625 0.953125 \nQ 20.953125 3.328125 18.109375 8.203125 \nL 18.109375 0 \nL 9.078125 0 \nL 9.078125 75.984375 \nL 18.109375 75.984375 \nz\n\" id=\"DejaVuSans-98\"/>\n      <path d=\"M 9.421875 75.984375 \nL 18.40625 75.984375 \nL 18.40625 0 \nL 9.421875 0 \nz\n\" id=\"DejaVuSans-108\"/>\n     </defs>\n     <g transform=\"translate(147.637375 270.860312)scale(0.1 -0.1)\">\n      <use xlink:href=\"#DejaVuSans-80\"/>\n      <use x=\"60.287109\" xlink:href=\"#DejaVuSans-114\"/>\n      <use x=\"101.369141\" xlink:href=\"#DejaVuSans-101\"/>\n      <use x=\"162.892578\" xlink:href=\"#DejaVuSans-100\"/>\n      <use x=\"226.369141\" xlink:href=\"#DejaVuSans-105\"/>\n      <use x=\"254.152344\" xlink:href=\"#DejaVuSans-99\"/>\n      <use x=\"309.132812\" xlink:href=\"#DejaVuSans-116\"/>\n      <use x=\"348.341797\" xlink:href=\"#DejaVuSans-101\"/>\n      <use x=\"409.865234\" xlink:href=\"#DejaVuSans-100\"/>\n      <use x=\"473.341797\" xlink:href=\"#DejaVuSans-32\"/>\n      <use x=\"505.128906\" xlink:href=\"#DejaVuSans-76\"/>\n      <use x=\"560.841797\" xlink:href=\"#DejaVuSans-97\"/>\n      <use x=\"622.121094\" xlink:href=\"#DejaVuSans-98\"/>\n      <use x=\"685.597656\" xlink:href=\"#DejaVuSans-101\"/>\n      <use x=\"747.121094\" xlink:href=\"#DejaVuSans-108\"/>\n     </g>\n    </g>\n   </g>\n   <g id=\"matplotlib.axis_2\">\n    <g id=\"ytick_1\">\n     <g id=\"line2d_8\">\n      <defs>\n       <path d=\"M 0 0 \nL -3.5 0 \n\" id=\"mc42518e5c1\" style=\"stroke:#000000;stroke-width:0.8;\"/>\n      </defs>\n      <g>\n       <use style=\"stroke:#000000;stroke-width:0.8;\" x=\"37.55625\" xlink:href=\"#mc42518e5c1\" y=\"42.569464\"/>\n      </g>\n     </g>\n     <g id=\"text_9\">\n      <!-- 0 -->\n      <g transform=\"translate(28.476563 45.132746)rotate(-90)scale(0.1 -0.1)\">\n       <use xlink:href=\"#DejaVuSans-48\"/>\n      </g>\n     </g>\n    </g>\n    <g id=\"ytick_2\">\n     <g id=\"line2d_9\">\n      <g>\n       <use style=\"stroke:#000000;stroke-width:0.8;\" x=\"37.55625\" xlink:href=\"#mc42518e5c1\" y=\"73.340893\"/>\n      </g>\n     </g>\n     <g id=\"text_10\">\n      <!-- 1 -->\n      <g transform=\"translate(28.476563 75.904174)rotate(-90)scale(0.1 -0.1)\">\n       <use xlink:href=\"#DejaVuSans-49\"/>\n      </g>\n     </g>\n    </g>\n    <g id=\"ytick_3\">\n     <g id=\"line2d_10\">\n      <g>\n       <use style=\"stroke:#000000;stroke-width:0.8;\" x=\"37.55625\" xlink:href=\"#mc42518e5c1\" y=\"104.112321\"/>\n      </g>\n     </g>\n     <g id=\"text_11\">\n      <!-- 2 -->\n      <g transform=\"translate(28.476563 106.675603)rotate(-90)scale(0.1 -0.1)\">\n       <use xlink:href=\"#DejaVuSans-50\"/>\n      </g>\n     </g>\n    </g>\n    <g id=\"ytick_4\">\n     <g id=\"line2d_11\">\n      <g>\n       <use style=\"stroke:#000000;stroke-width:0.8;\" x=\"37.55625\" xlink:href=\"#mc42518e5c1\" y=\"134.88375\"/>\n      </g>\n     </g>\n     <g id=\"text_12\">\n      <!-- 3 -->\n      <g transform=\"translate(28.476563 137.447031)rotate(-90)scale(0.1 -0.1)\">\n       <use xlink:href=\"#DejaVuSans-51\"/>\n      </g>\n     </g>\n    </g>\n    <g id=\"ytick_5\">\n     <g id=\"line2d_12\">\n      <g>\n       <use style=\"stroke:#000000;stroke-width:0.8;\" x=\"37.55625\" xlink:href=\"#mc42518e5c1\" y=\"165.655179\"/>\n      </g>\n     </g>\n     <g id=\"text_13\">\n      <!-- 4 -->\n      <g transform=\"translate(28.476563 168.21846)rotate(-90)scale(0.1 -0.1)\">\n       <use xlink:href=\"#DejaVuSans-52\"/>\n      </g>\n     </g>\n    </g>\n    <g id=\"ytick_6\">\n     <g id=\"line2d_13\">\n      <g>\n       <use style=\"stroke:#000000;stroke-width:0.8;\" x=\"37.55625\" xlink:href=\"#mc42518e5c1\" y=\"196.426607\"/>\n      </g>\n     </g>\n     <g id=\"text_14\">\n      <!-- 5 -->\n      <g transform=\"translate(28.476563 198.989888)rotate(-90)scale(0.1 -0.1)\">\n       <use xlink:href=\"#DejaVuSans-53\"/>\n      </g>\n     </g>\n    </g>\n    <g id=\"ytick_7\">\n     <g id=\"line2d_14\">\n      <g>\n       <use style=\"stroke:#000000;stroke-width:0.8;\" x=\"37.55625\" xlink:href=\"#mc42518e5c1\" y=\"227.198036\"/>\n      </g>\n     </g>\n     <g id=\"text_15\">\n      <!-- 6 -->\n      <g transform=\"translate(28.476563 229.761317)rotate(-90)scale(0.1 -0.1)\">\n       <use xlink:href=\"#DejaVuSans-54\"/>\n      </g>\n     </g>\n    </g>\n    <g id=\"text_16\">\n     <!-- True label -->\n     <defs>\n      <path d=\"M -0.296875 72.90625 \nL 61.375 72.90625 \nL 61.375 64.59375 \nL 35.5 64.59375 \nL 35.5 0 \nL 25.59375 0 \nL 25.59375 64.59375 \nL -0.296875 64.59375 \nz\n\" id=\"DejaVuSans-84\"/>\n      <path d=\"M 8.5 21.578125 \nL 8.5 54.6875 \nL 17.484375 54.6875 \nL 17.484375 21.921875 \nQ 17.484375 14.15625 20.5 10.265625 \nQ 23.53125 6.390625 29.59375 6.390625 \nQ 36.859375 6.390625 41.078125 11.03125 \nQ 45.3125 15.671875 45.3125 23.6875 \nL 45.3125 54.6875 \nL 54.296875 54.6875 \nL 54.296875 0 \nL 45.3125 0 \nL 45.3125 8.40625 \nQ 42.046875 3.421875 37.71875 1 \nQ 33.40625 -1.421875 27.6875 -1.421875 \nQ 18.265625 -1.421875 13.375 4.4375 \nQ 8.5 10.296875 8.5 21.578125 \nz\nM 31.109375 56 \nz\n\" id=\"DejaVuSans-117\"/>\n     </defs>\n     <g transform=\"translate(14.798438 159.909531)rotate(-90)scale(0.1 -0.1)\">\n      <use xlink:href=\"#DejaVuSans-84\"/>\n      <use x=\"60.865234\" xlink:href=\"#DejaVuSans-114\"/>\n      <use x=\"101.978516\" xlink:href=\"#DejaVuSans-117\"/>\n      <use x=\"165.357422\" xlink:href=\"#DejaVuSans-101\"/>\n      <use x=\"226.880859\" xlink:href=\"#DejaVuSans-32\"/>\n      <use x=\"258.667969\" xlink:href=\"#DejaVuSans-108\"/>\n      <use x=\"286.451172\" xlink:href=\"#DejaVuSans-97\"/>\n      <use x=\"347.730469\" xlink:href=\"#DejaVuSans-98\"/>\n      <use x=\"411.207031\" xlink:href=\"#DejaVuSans-101\"/>\n      <use x=\"472.730469\" xlink:href=\"#DejaVuSans-108\"/>\n     </g>\n    </g>\n   </g>\n   <g id=\"text_17\">\n    <!-- 45433 -->\n    <g style=\"fill:#ffffff;\" transform=\"translate(42.911143 45.328839)scale(0.1 -0.1)\">\n     <use xlink:href=\"#DejaVuSans-52\"/>\n     <use x=\"63.623047\" xlink:href=\"#DejaVuSans-53\"/>\n     <use x=\"127.246094\" xlink:href=\"#DejaVuSans-52\"/>\n     <use x=\"190.869141\" xlink:href=\"#DejaVuSans-51\"/>\n     <use x=\"254.492188\" xlink:href=\"#DejaVuSans-51\"/>\n    </g>\n   </g>\n   <g id=\"text_18\">\n    <!-- 16891 -->\n    <defs>\n     <path d=\"M 31.78125 34.625 \nQ 24.75 34.625 20.71875 30.859375 \nQ 16.703125 27.09375 16.703125 20.515625 \nQ 16.703125 13.921875 20.71875 10.15625 \nQ 24.75 6.390625 31.78125 6.390625 \nQ 38.8125 6.390625 42.859375 10.171875 \nQ 46.921875 13.96875 46.921875 20.515625 \nQ 46.921875 27.09375 42.890625 30.859375 \nQ 38.875 34.625 31.78125 34.625 \nz\nM 21.921875 38.8125 \nQ 15.578125 40.375 12.03125 44.71875 \nQ 8.5 49.078125 8.5 55.328125 \nQ 8.5 64.0625 14.71875 69.140625 \nQ 20.953125 74.21875 31.78125 74.21875 \nQ 42.671875 74.21875 48.875 69.140625 \nQ 55.078125 64.0625 55.078125 55.328125 \nQ 55.078125 49.078125 51.53125 44.71875 \nQ 48 40.375 41.703125 38.8125 \nQ 48.828125 37.15625 52.796875 32.3125 \nQ 56.78125 27.484375 56.78125 20.515625 \nQ 56.78125 9.90625 50.3125 4.234375 \nQ 43.84375 -1.421875 31.78125 -1.421875 \nQ 19.734375 -1.421875 13.25 4.234375 \nQ 6.78125 9.90625 6.78125 20.515625 \nQ 6.78125 27.484375 10.78125 32.3125 \nQ 14.796875 37.15625 21.921875 38.8125 \nz\nM 18.3125 54.390625 \nQ 18.3125 48.734375 21.84375 45.5625 \nQ 25.390625 42.390625 31.78125 42.390625 \nQ 38.140625 42.390625 41.71875 45.5625 \nQ 45.3125 48.734375 45.3125 54.390625 \nQ 45.3125 60.0625 41.71875 63.234375 \nQ 38.140625 66.40625 31.78125 66.40625 \nQ 25.390625 66.40625 21.84375 63.234375 \nQ 18.3125 60.0625 18.3125 54.390625 \nz\n\" id=\"DejaVuSans-56\"/>\n     <path d=\"M 10.984375 1.515625 \nL 10.984375 10.5 \nQ 14.703125 8.734375 18.5 7.8125 \nQ 22.3125 6.890625 25.984375 6.890625 \nQ 35.75 6.890625 40.890625 13.453125 \nQ 46.046875 20.015625 46.78125 33.40625 \nQ 43.953125 29.203125 39.59375 26.953125 \nQ 35.25 24.703125 29.984375 24.703125 \nQ 19.046875 24.703125 12.671875 31.3125 \nQ 6.296875 37.9375 6.296875 49.421875 \nQ 6.296875 60.640625 12.9375 67.421875 \nQ 19.578125 74.21875 30.609375 74.21875 \nQ 43.265625 74.21875 49.921875 64.515625 \nQ 56.59375 54.828125 56.59375 36.375 \nQ 56.59375 19.140625 48.40625 8.859375 \nQ 40.234375 -1.421875 26.421875 -1.421875 \nQ 22.703125 -1.421875 18.890625 -0.6875 \nQ 15.09375 0.046875 10.984375 1.515625 \nz\nM 30.609375 32.421875 \nQ 37.25 32.421875 41.125 36.953125 \nQ 45.015625 41.5 45.015625 49.421875 \nQ 45.015625 57.28125 41.125 61.84375 \nQ 37.25 66.40625 30.609375 66.40625 \nQ 23.96875 66.40625 20.09375 61.84375 \nQ 16.21875 57.28125 16.21875 49.421875 \nQ 16.21875 41.5 20.09375 36.953125 \nQ 23.96875 32.421875 30.609375 32.421875 \nz\n\" id=\"DejaVuSans-57\"/>\n    </defs>\n    <g style=\"fill:#262626;\" transform=\"translate(85.433429 45.328839)scale(0.1 -0.1)\">\n     <use xlink:href=\"#DejaVuSans-49\"/>\n     <use x=\"63.623047\" xlink:href=\"#DejaVuSans-54\"/>\n     <use x=\"127.246094\" xlink:href=\"#DejaVuSans-56\"/>\n     <use x=\"190.869141\" xlink:href=\"#DejaVuSans-57\"/>\n     <use x=\"254.492188\" xlink:href=\"#DejaVuSans-49\"/>\n    </g>\n   </g>\n   <g id=\"text_19\">\n    <!-- 9 -->\n    <g style=\"fill:#262626;\" transform=\"translate(140.680714 45.328839)scale(0.1 -0.1)\">\n     <use xlink:href=\"#DejaVuSans-57\"/>\n    </g>\n   </g>\n   <g id=\"text_20\">\n    <!-- 0 -->\n    <g style=\"fill:#262626;\" transform=\"translate(183.203 45.328839)scale(0.1 -0.1)\">\n     <use xlink:href=\"#DejaVuSans-48\"/>\n    </g>\n   </g>\n   <g id=\"text_21\">\n    <!-- 29 -->\n    <g style=\"fill:#262626;\" transform=\"translate(222.544036 45.328839)scale(0.1 -0.1)\">\n     <use xlink:href=\"#DejaVuSans-50\"/>\n     <use x=\"63.623047\" xlink:href=\"#DejaVuSans-57\"/>\n    </g>\n   </g>\n   <g id=\"text_22\">\n    <!-- 15 -->\n    <g style=\"fill:#262626;\" transform=\"translate(265.066321 45.328839)scale(0.1 -0.1)\">\n     <use xlink:href=\"#DejaVuSans-49\"/>\n     <use x=\"63.623047\" xlink:href=\"#DejaVuSans-53\"/>\n    </g>\n   </g>\n   <g id=\"text_23\">\n    <!-- 1179 -->\n    <defs>\n     <path d=\"M 8.203125 72.90625 \nL 55.078125 72.90625 \nL 55.078125 68.703125 \nL 28.609375 0 \nL 18.3125 0 \nL 43.21875 64.59375 \nL 8.203125 64.59375 \nz\n\" id=\"DejaVuSans-55\"/>\n    </defs>\n    <g style=\"fill:#262626;\" transform=\"translate(301.226107 45.328839)scale(0.1 -0.1)\">\n     <use xlink:href=\"#DejaVuSans-49\"/>\n     <use x=\"63.623047\" xlink:href=\"#DejaVuSans-49\"/>\n     <use x=\"127.246094\" xlink:href=\"#DejaVuSans-55\"/>\n     <use x=\"190.869141\" xlink:href=\"#DejaVuSans-57\"/>\n    </g>\n   </g>\n   <g id=\"text_24\">\n    <!-- 14465 -->\n    <g style=\"fill:#262626;\" transform=\"translate(42.911143 76.100268)scale(0.1 -0.1)\">\n     <use xlink:href=\"#DejaVuSans-49\"/>\n     <use x=\"63.623047\" xlink:href=\"#DejaVuSans-52\"/>\n     <use x=\"127.246094\" xlink:href=\"#DejaVuSans-52\"/>\n     <use x=\"190.869141\" xlink:href=\"#DejaVuSans-54\"/>\n     <use x=\"254.492188\" xlink:href=\"#DejaVuSans-53\"/>\n    </g>\n   </g>\n   <g id=\"text_25\">\n    <!-- 68716 -->\n    <g style=\"fill:#ffffff;\" transform=\"translate(85.433429 76.100268)scale(0.1 -0.1)\">\n     <use xlink:href=\"#DejaVuSans-54\"/>\n     <use x=\"63.623047\" xlink:href=\"#DejaVuSans-56\"/>\n     <use x=\"127.246094\" xlink:href=\"#DejaVuSans-55\"/>\n     <use x=\"190.869141\" xlink:href=\"#DejaVuSans-49\"/>\n     <use x=\"254.492188\" xlink:href=\"#DejaVuSans-54\"/>\n    </g>\n   </g>\n   <g id=\"text_26\">\n    <!-- 1307 -->\n    <g style=\"fill:#262626;\" transform=\"translate(131.136964 76.100268)scale(0.1 -0.1)\">\n     <use xlink:href=\"#DejaVuSans-49\"/>\n     <use x=\"63.623047\" xlink:href=\"#DejaVuSans-51\"/>\n     <use x=\"127.246094\" xlink:href=\"#DejaVuSans-48\"/>\n     <use x=\"190.869141\" xlink:href=\"#DejaVuSans-55\"/>\n    </g>\n   </g>\n   <g id=\"text_27\">\n    <!-- 3 -->\n    <g style=\"fill:#262626;\" transform=\"translate(183.203 76.100268)scale(0.1 -0.1)\">\n     <use xlink:href=\"#DejaVuSans-51\"/>\n    </g>\n   </g>\n   <g id=\"text_28\">\n    <!-- 189 -->\n    <g style=\"fill:#262626;\" transform=\"translate(219.362786 76.100268)scale(0.1 -0.1)\">\n     <use xlink:href=\"#DejaVuSans-49\"/>\n     <use x=\"63.623047\" xlink:href=\"#DejaVuSans-56\"/>\n     <use x=\"127.246094\" xlink:href=\"#DejaVuSans-57\"/>\n    </g>\n   </g>\n   <g id=\"text_29\">\n    <!-- 325 -->\n    <g style=\"fill:#262626;\" transform=\"translate(261.885071 76.100268)scale(0.1 -0.1)\">\n     <use xlink:href=\"#DejaVuSans-51\"/>\n     <use x=\"63.623047\" xlink:href=\"#DejaVuSans-50\"/>\n     <use x=\"127.246094\" xlink:href=\"#DejaVuSans-53\"/>\n    </g>\n   </g>\n   <g id=\"text_30\">\n    <!-- 73 -->\n    <g style=\"fill:#262626;\" transform=\"translate(307.588607 76.100268)scale(0.1 -0.1)\">\n     <use xlink:href=\"#DejaVuSans-55\"/>\n     <use x=\"63.623047\" xlink:href=\"#DejaVuSans-51\"/>\n    </g>\n   </g>\n   <g id=\"text_31\">\n    <!-- 0 -->\n    <g style=\"fill:#262626;\" transform=\"translate(55.636143 106.871696)scale(0.1 -0.1)\">\n     <use xlink:href=\"#DejaVuSans-48\"/>\n    </g>\n   </g>\n   <g id=\"text_32\">\n    <!-- 1609 -->\n    <g style=\"fill:#262626;\" transform=\"translate(88.614679 106.871696)scale(0.1 -0.1)\">\n     <use xlink:href=\"#DejaVuSans-49\"/>\n     <use x=\"63.623047\" xlink:href=\"#DejaVuSans-54\"/>\n     <use x=\"127.246094\" xlink:href=\"#DejaVuSans-48\"/>\n     <use x=\"190.869141\" xlink:href=\"#DejaVuSans-57\"/>\n    </g>\n   </g>\n   <g id=\"text_33\">\n    <!-- 8302 -->\n    <g style=\"fill:#262626;\" transform=\"translate(131.136964 106.871696)scale(0.1 -0.1)\">\n     <use xlink:href=\"#DejaVuSans-56\"/>\n     <use x=\"63.623047\" xlink:href=\"#DejaVuSans-51\"/>\n     <use x=\"127.246094\" xlink:href=\"#DejaVuSans-48\"/>\n     <use x=\"190.869141\" xlink:href=\"#DejaVuSans-50\"/>\n    </g>\n   </g>\n   <g id=\"text_34\">\n    <!-- 76 -->\n    <g style=\"fill:#262626;\" transform=\"translate(180.02175 106.871696)scale(0.1 -0.1)\">\n     <use xlink:href=\"#DejaVuSans-55\"/>\n     <use x=\"63.623047\" xlink:href=\"#DejaVuSans-54\"/>\n    </g>\n   </g>\n   <g id=\"text_35\">\n    <!-- 0 -->\n    <g style=\"fill:#262626;\" transform=\"translate(225.725286 106.871696)scale(0.1 -0.1)\">\n     <use xlink:href=\"#DejaVuSans-48\"/>\n    </g>\n   </g>\n   <g id=\"text_36\">\n    <!-- 651 -->\n    <g style=\"fill:#262626;\" transform=\"translate(261.885071 106.871696)scale(0.1 -0.1)\">\n     <use xlink:href=\"#DejaVuSans-54\"/>\n     <use x=\"63.623047\" xlink:href=\"#DejaVuSans-53\"/>\n     <use x=\"127.246094\" xlink:href=\"#DejaVuSans-49\"/>\n    </g>\n   </g>\n   <g id=\"text_37\">\n    <!-- 0 -->\n    <g style=\"fill:#262626;\" transform=\"translate(310.769857 106.871696)scale(0.1 -0.1)\">\n     <use xlink:href=\"#DejaVuSans-48\"/>\n    </g>\n   </g>\n   <g id=\"text_38\">\n    <!-- 0 -->\n    <g style=\"fill:#262626;\" transform=\"translate(55.636143 137.643125)scale(0.1 -0.1)\">\n     <use xlink:href=\"#DejaVuSans-48\"/>\n    </g>\n   </g>\n   <g id=\"text_39\">\n    <!-- 4 -->\n    <g style=\"fill:#262626;\" transform=\"translate(98.158429 137.643125)scale(0.1 -0.1)\">\n     <use xlink:href=\"#DejaVuSans-52\"/>\n    </g>\n   </g>\n   <g id=\"text_40\">\n    <!-- 447 -->\n    <g style=\"fill:#262626;\" transform=\"translate(134.318214 137.643125)scale(0.1 -0.1)\">\n     <use xlink:href=\"#DejaVuSans-52\"/>\n     <use x=\"63.623047\" xlink:href=\"#DejaVuSans-52\"/>\n     <use x=\"127.246094\" xlink:href=\"#DejaVuSans-55\"/>\n    </g>\n   </g>\n   <g id=\"text_41\">\n    <!-- 308 -->\n    <g style=\"fill:#262626;\" transform=\"translate(176.8405 137.643125)scale(0.1 -0.1)\">\n     <use xlink:href=\"#DejaVuSans-51\"/>\n     <use x=\"63.623047\" xlink:href=\"#DejaVuSans-48\"/>\n     <use x=\"127.246094\" xlink:href=\"#DejaVuSans-56\"/>\n    </g>\n   </g>\n   <g id=\"text_42\">\n    <!-- 0 -->\n    <g style=\"fill:#262626;\" transform=\"translate(225.725286 137.643125)scale(0.1 -0.1)\">\n     <use xlink:href=\"#DejaVuSans-48\"/>\n    </g>\n   </g>\n   <g id=\"text_43\">\n    <!-- 36 -->\n    <g style=\"fill:#262626;\" transform=\"translate(265.066321 137.643125)scale(0.1 -0.1)\">\n     <use xlink:href=\"#DejaVuSans-51\"/>\n     <use x=\"63.623047\" xlink:href=\"#DejaVuSans-54\"/>\n    </g>\n   </g>\n   <g id=\"text_44\">\n    <!-- 0 -->\n    <g style=\"fill:#262626;\" transform=\"translate(310.769857 137.643125)scale(0.1 -0.1)\">\n     <use xlink:href=\"#DejaVuSans-48\"/>\n    </g>\n   </g>\n   <g id=\"text_45\">\n    <!-- 52 -->\n    <g style=\"fill:#262626;\" transform=\"translate(52.454893 168.414554)scale(0.1 -0.1)\">\n     <use xlink:href=\"#DejaVuSans-53\"/>\n     <use x=\"63.623047\" xlink:href=\"#DejaVuSans-50\"/>\n    </g>\n   </g>\n   <g id=\"text_46\">\n    <!-- 2393 -->\n    <g style=\"fill:#262626;\" transform=\"translate(88.614679 168.414554)scale(0.1 -0.1)\">\n     <use xlink:href=\"#DejaVuSans-50\"/>\n     <use x=\"63.623047\" xlink:href=\"#DejaVuSans-51\"/>\n     <use x=\"127.246094\" xlink:href=\"#DejaVuSans-57\"/>\n     <use x=\"190.869141\" xlink:href=\"#DejaVuSans-51\"/>\n    </g>\n   </g>\n   <g id=\"text_47\">\n    <!-- 50 -->\n    <g style=\"fill:#262626;\" transform=\"translate(137.499464 168.414554)scale(0.1 -0.1)\">\n     <use xlink:href=\"#DejaVuSans-53\"/>\n     <use x=\"63.623047\" xlink:href=\"#DejaVuSans-48\"/>\n    </g>\n   </g>\n   <g id=\"text_48\">\n    <!-- 0 -->\n    <g style=\"fill:#262626;\" transform=\"translate(183.203 168.414554)scale(0.1 -0.1)\">\n     <use xlink:href=\"#DejaVuSans-48\"/>\n    </g>\n   </g>\n   <g id=\"text_49\">\n    <!-- 438 -->\n    <g style=\"fill:#262626;\" transform=\"translate(219.362786 168.414554)scale(0.1 -0.1)\">\n     <use xlink:href=\"#DejaVuSans-52\"/>\n     <use x=\"63.623047\" xlink:href=\"#DejaVuSans-51\"/>\n     <use x=\"127.246094\" xlink:href=\"#DejaVuSans-56\"/>\n    </g>\n   </g>\n   <g id=\"text_50\">\n    <!-- 8 -->\n    <g style=\"fill:#262626;\" transform=\"translate(268.247571 168.414554)scale(0.1 -0.1)\">\n     <use xlink:href=\"#DejaVuSans-56\"/>\n    </g>\n   </g>\n   <g id=\"text_51\">\n    <!-- 0 -->\n    <g style=\"fill:#262626;\" transform=\"translate(310.769857 168.414554)scale(0.1 -0.1)\">\n     <use xlink:href=\"#DejaVuSans-48\"/>\n    </g>\n   </g>\n   <g id=\"text_52\">\n    <!-- 4 -->\n    <g style=\"fill:#262626;\" transform=\"translate(55.636143 199.185982)scale(0.1 -0.1)\">\n     <use xlink:href=\"#DejaVuSans-52\"/>\n    </g>\n   </g>\n   <g id=\"text_53\">\n    <!-- 1379 -->\n    <g style=\"fill:#262626;\" transform=\"translate(88.614679 199.185982)scale(0.1 -0.1)\">\n     <use xlink:href=\"#DejaVuSans-49\"/>\n     <use x=\"63.623047\" xlink:href=\"#DejaVuSans-51\"/>\n     <use x=\"127.246094\" xlink:href=\"#DejaVuSans-55\"/>\n     <use x=\"190.869141\" xlink:href=\"#DejaVuSans-57\"/>\n    </g>\n   </g>\n   <g id=\"text_54\">\n    <!-- 2857 -->\n    <g style=\"fill:#262626;\" transform=\"translate(131.136964 199.185982)scale(0.1 -0.1)\">\n     <use xlink:href=\"#DejaVuSans-50\"/>\n     <use x=\"63.623047\" xlink:href=\"#DejaVuSans-56\"/>\n     <use x=\"127.246094\" xlink:href=\"#DejaVuSans-53\"/>\n     <use x=\"190.869141\" xlink:href=\"#DejaVuSans-55\"/>\n    </g>\n   </g>\n   <g id=\"text_55\">\n    <!-- 35 -->\n    <g style=\"fill:#262626;\" transform=\"translate(180.02175 199.185982)scale(0.1 -0.1)\">\n     <use xlink:href=\"#DejaVuSans-51\"/>\n     <use x=\"63.623047\" xlink:href=\"#DejaVuSans-53\"/>\n    </g>\n   </g>\n   <g id=\"text_56\">\n    <!-- 0 -->\n    <g style=\"fill:#262626;\" transform=\"translate(225.725286 199.185982)scale(0.1 -0.1)\">\n     <use xlink:href=\"#DejaVuSans-48\"/>\n    </g>\n   </g>\n   <g id=\"text_57\">\n    <!-- 952 -->\n    <g style=\"fill:#262626;\" transform=\"translate(261.885071 199.185982)scale(0.1 -0.1)\">\n     <use xlink:href=\"#DejaVuSans-57\"/>\n     <use x=\"63.623047\" xlink:href=\"#DejaVuSans-53\"/>\n     <use x=\"127.246094\" xlink:href=\"#DejaVuSans-50\"/>\n    </g>\n   </g>\n   <g id=\"text_58\">\n    <!-- 0 -->\n    <g style=\"fill:#262626;\" transform=\"translate(310.769857 199.185982)scale(0.1 -0.1)\">\n     <use xlink:href=\"#DejaVuSans-48\"/>\n    </g>\n   </g>\n   <g id=\"text_59\">\n    <!-- 2603 -->\n    <g style=\"fill:#262626;\" transform=\"translate(46.092393 229.957411)scale(0.1 -0.1)\">\n     <use xlink:href=\"#DejaVuSans-50\"/>\n     <use x=\"63.623047\" xlink:href=\"#DejaVuSans-54\"/>\n     <use x=\"127.246094\" xlink:href=\"#DejaVuSans-48\"/>\n     <use x=\"190.869141\" xlink:href=\"#DejaVuSans-51\"/>\n    </g>\n   </g>\n   <g id=\"text_60\">\n    <!-- 27 -->\n    <g style=\"fill:#262626;\" transform=\"translate(94.977179 229.957411)scale(0.1 -0.1)\">\n     <use xlink:href=\"#DejaVuSans-50\"/>\n     <use x=\"63.623047\" xlink:href=\"#DejaVuSans-55\"/>\n    </g>\n   </g>\n   <g id=\"text_61\">\n    <!-- 0 -->\n    <g style=\"fill:#262626;\" transform=\"translate(140.680714 229.957411)scale(0.1 -0.1)\">\n     <use xlink:href=\"#DejaVuSans-48\"/>\n    </g>\n   </g>\n   <g id=\"text_62\">\n    <!-- 0 -->\n    <g style=\"fill:#262626;\" transform=\"translate(183.203 229.957411)scale(0.1 -0.1)\">\n     <use xlink:href=\"#DejaVuSans-48\"/>\n    </g>\n   </g>\n   <g id=\"text_63\">\n    <!-- 0 -->\n    <g style=\"fill:#262626;\" transform=\"translate(225.725286 229.957411)scale(0.1 -0.1)\">\n     <use xlink:href=\"#DejaVuSans-48\"/>\n    </g>\n   </g>\n   <g id=\"text_64\">\n    <!-- 0 -->\n    <g style=\"fill:#262626;\" transform=\"translate(268.247571 229.957411)scale(0.1 -0.1)\">\n     <use xlink:href=\"#DejaVuSans-48\"/>\n    </g>\n   </g>\n   <g id=\"text_65\">\n    <!-- 3439 -->\n    <g style=\"fill:#262626;\" transform=\"translate(301.226107 229.957411)scale(0.1 -0.1)\">\n     <use xlink:href=\"#DejaVuSans-51\"/>\n     <use x=\"63.623047\" xlink:href=\"#DejaVuSans-52\"/>\n     <use x=\"127.246094\" xlink:href=\"#DejaVuSans-51\"/>\n     <use x=\"190.869141\" xlink:href=\"#DejaVuSans-57\"/>\n    </g>\n   </g>\n   <g id=\"text_66\">\n    <!-- Matriz de Confusão da Configuração 2 -->\n    <defs>\n     <path d=\"M 9.8125 72.90625 \nL 24.515625 72.90625 \nL 43.109375 23.296875 \nL 61.8125 72.90625 \nL 76.515625 72.90625 \nL 76.515625 0 \nL 66.890625 0 \nL 66.890625 64.015625 \nL 48.09375 14.015625 \nL 38.1875 14.015625 \nL 19.390625 64.015625 \nL 19.390625 0 \nL 9.8125 0 \nz\n\" id=\"DejaVuSans-77\"/>\n     <path d=\"M 5.515625 54.6875 \nL 48.1875 54.6875 \nL 48.1875 46.484375 \nL 14.40625 7.171875 \nL 48.1875 7.171875 \nL 48.1875 0 \nL 4.296875 0 \nL 4.296875 8.203125 \nL 38.09375 47.515625 \nL 5.515625 47.515625 \nz\n\" id=\"DejaVuSans-122\"/>\n     <path d=\"M 64.40625 67.28125 \nL 64.40625 56.890625 \nQ 59.421875 61.53125 53.78125 63.8125 \nQ 48.140625 66.109375 41.796875 66.109375 \nQ 29.296875 66.109375 22.65625 58.46875 \nQ 16.015625 50.828125 16.015625 36.375 \nQ 16.015625 21.96875 22.65625 14.328125 \nQ 29.296875 6.6875 41.796875 6.6875 \nQ 48.140625 6.6875 53.78125 8.984375 \nQ 59.421875 11.28125 64.40625 15.921875 \nL 64.40625 5.609375 \nQ 59.234375 2.09375 53.4375 0.328125 \nQ 47.65625 -1.421875 41.21875 -1.421875 \nQ 24.65625 -1.421875 15.125 8.703125 \nQ 5.609375 18.84375 5.609375 36.375 \nQ 5.609375 53.953125 15.125 64.078125 \nQ 24.65625 74.21875 41.21875 74.21875 \nQ 47.75 74.21875 53.53125 72.484375 \nQ 59.328125 70.75 64.40625 67.28125 \nz\n\" id=\"DejaVuSans-67\"/>\n     <path d=\"M 30.609375 48.390625 \nQ 23.390625 48.390625 19.1875 42.75 \nQ 14.984375 37.109375 14.984375 27.296875 \nQ 14.984375 17.484375 19.15625 11.84375 \nQ 23.34375 6.203125 30.609375 6.203125 \nQ 37.796875 6.203125 41.984375 11.859375 \nQ 46.1875 17.53125 46.1875 27.296875 \nQ 46.1875 37.015625 41.984375 42.703125 \nQ 37.796875 48.390625 30.609375 48.390625 \nz\nM 30.609375 56 \nQ 42.328125 56 49.015625 48.375 \nQ 55.71875 40.765625 55.71875 27.296875 \nQ 55.71875 13.875 49.015625 6.21875 \nQ 42.328125 -1.421875 30.609375 -1.421875 \nQ 18.84375 -1.421875 12.171875 6.21875 \nQ 5.515625 13.875 5.515625 27.296875 \nQ 5.515625 40.765625 12.171875 48.375 \nQ 18.84375 56 30.609375 56 \nz\n\" id=\"DejaVuSans-111\"/>\n     <path d=\"M 54.890625 33.015625 \nL 54.890625 0 \nL 45.90625 0 \nL 45.90625 32.71875 \nQ 45.90625 40.484375 42.875 44.328125 \nQ 39.84375 48.1875 33.796875 48.1875 \nQ 26.515625 48.1875 22.3125 43.546875 \nQ 18.109375 38.921875 18.109375 30.90625 \nL 18.109375 0 \nL 9.078125 0 \nL 9.078125 54.6875 \nL 18.109375 54.6875 \nL 18.109375 46.1875 \nQ 21.34375 51.125 25.703125 53.5625 \nQ 30.078125 56 35.796875 56 \nQ 45.21875 56 50.046875 50.171875 \nQ 54.890625 44.34375 54.890625 33.015625 \nz\n\" id=\"DejaVuSans-110\"/>\n     <path d=\"M 37.109375 75.984375 \nL 37.109375 68.5 \nL 28.515625 68.5 \nQ 23.6875 68.5 21.796875 66.546875 \nQ 19.921875 64.59375 19.921875 59.515625 \nL 19.921875 54.6875 \nL 34.71875 54.6875 \nL 34.71875 47.703125 \nL 19.921875 47.703125 \nL 19.921875 0 \nL 10.890625 0 \nL 10.890625 47.703125 \nL 2.296875 47.703125 \nL 2.296875 54.6875 \nL 10.890625 54.6875 \nL 10.890625 58.5 \nQ 10.890625 67.625 15.140625 71.796875 \nQ 19.390625 75.984375 28.609375 75.984375 \nz\n\" id=\"DejaVuSans-102\"/>\n     <path d=\"M 44.28125 53.078125 \nL 44.28125 44.578125 \nQ 40.484375 46.53125 36.375 47.5 \nQ 32.28125 48.484375 27.875 48.484375 \nQ 21.1875 48.484375 17.84375 46.4375 \nQ 14.5 44.390625 14.5 40.28125 \nQ 14.5 37.15625 16.890625 35.375 \nQ 19.28125 33.59375 26.515625 31.984375 \nL 29.59375 31.296875 \nQ 39.15625 29.25 43.1875 25.515625 \nQ 47.21875 21.78125 47.21875 15.09375 \nQ 47.21875 7.46875 41.1875 3.015625 \nQ 35.15625 -1.421875 24.609375 -1.421875 \nQ 20.21875 -1.421875 15.453125 -0.5625 \nQ 10.6875 0.296875 5.421875 2 \nL 5.421875 11.28125 \nQ 10.40625 8.6875 15.234375 7.390625 \nQ 20.0625 6.109375 24.8125 6.109375 \nQ 31.15625 6.109375 34.5625 8.28125 \nQ 37.984375 10.453125 37.984375 14.40625 \nQ 37.984375 18.0625 35.515625 20.015625 \nQ 33.0625 21.96875 24.703125 23.78125 \nL 21.578125 24.515625 \nQ 13.234375 26.265625 9.515625 29.90625 \nQ 5.8125 33.546875 5.8125 39.890625 \nQ 5.8125 47.609375 11.28125 51.796875 \nQ 16.75 56 26.8125 56 \nQ 31.78125 56 36.171875 55.265625 \nQ 40.578125 54.546875 44.28125 53.078125 \nz\n\" id=\"DejaVuSans-115\"/>\n     <path d=\"M 34.28125 27.484375 \nQ 23.390625 27.484375 19.1875 25 \nQ 14.984375 22.515625 14.984375 16.5 \nQ 14.984375 11.71875 18.140625 8.90625 \nQ 21.296875 6.109375 26.703125 6.109375 \nQ 34.1875 6.109375 38.703125 11.40625 \nQ 43.21875 16.703125 43.21875 25.484375 \nL 43.21875 27.484375 \nz\nM 52.203125 31.203125 \nL 52.203125 0 \nL 43.21875 0 \nL 43.21875 8.296875 \nQ 40.140625 3.328125 35.546875 0.953125 \nQ 30.953125 -1.421875 24.3125 -1.421875 \nQ 15.921875 -1.421875 10.953125 3.296875 \nQ 6 8.015625 6 15.921875 \nQ 6 25.140625 12.171875 29.828125 \nQ 18.359375 34.515625 30.609375 34.515625 \nL 43.21875 34.515625 \nL 43.21875 35.40625 \nQ 43.21875 41.609375 39.140625 45 \nQ 35.0625 48.390625 27.6875 48.390625 \nQ 23 48.390625 18.546875 47.265625 \nQ 14.109375 46.140625 10.015625 43.890625 \nL 10.015625 52.203125 \nQ 14.9375 54.109375 19.578125 55.046875 \nQ 24.21875 56 28.609375 56 \nQ 40.484375 56 46.34375 49.84375 \nQ 52.203125 43.703125 52.203125 31.203125 \nz\nM 28.8125 66.890625 \nL 26.03125 69.578125 \nQ 24.953125 70.5625 24.140625 71.015625 \nQ 23.34375 71.484375 22.703125 71.484375 \nQ 20.84375 71.484375 19.96875 69.703125 \nQ 19.09375 67.921875 19 63.921875 \nL 12.890625 63.921875 \nQ 12.984375 70.515625 15.46875 74.09375 \nQ 17.96875 77.6875 22.40625 77.6875 \nQ 24.265625 77.6875 25.828125 77 \nQ 27.390625 76.3125 29.203125 74.703125 \nL 31.984375 72.015625 \nQ 33.0625 71.046875 33.859375 70.578125 \nQ 34.671875 70.125 35.296875 70.125 \nQ 37.15625 70.125 38.03125 71.90625 \nQ 38.921875 73.6875 39.015625 77.6875 \nL 45.125 77.6875 \nQ 45.015625 71.09375 42.53125 67.5 \nQ 40.046875 63.921875 35.59375 63.921875 \nQ 33.734375 63.921875 32.171875 64.59375 \nQ 30.609375 65.28125 28.8125 66.890625 \nz\n\" id=\"DejaVuSans-227\"/>\n     <path d=\"M 45.40625 27.984375 \nQ 45.40625 37.75 41.375 43.109375 \nQ 37.359375 48.484375 30.078125 48.484375 \nQ 22.859375 48.484375 18.828125 43.109375 \nQ 14.796875 37.75 14.796875 27.984375 \nQ 14.796875 18.265625 18.828125 12.890625 \nQ 22.859375 7.515625 30.078125 7.515625 \nQ 37.359375 7.515625 41.375 12.890625 \nQ 45.40625 18.265625 45.40625 27.984375 \nz\nM 54.390625 6.78125 \nQ 54.390625 -7.171875 48.1875 -13.984375 \nQ 42 -20.796875 29.203125 -20.796875 \nQ 24.46875 -20.796875 20.265625 -20.09375 \nQ 16.0625 -19.390625 12.109375 -17.921875 \nL 12.109375 -9.1875 \nQ 16.0625 -11.328125 19.921875 -12.34375 \nQ 23.78125 -13.375 27.78125 -13.375 \nQ 36.625 -13.375 41.015625 -8.765625 \nQ 45.40625 -4.15625 45.40625 5.171875 \nL 45.40625 9.625 \nQ 42.625 4.78125 38.28125 2.390625 \nQ 33.9375 0 27.875 0 \nQ 17.828125 0 11.671875 7.65625 \nQ 5.515625 15.328125 5.515625 27.984375 \nQ 5.515625 40.671875 11.671875 48.328125 \nQ 17.828125 56 27.875 56 \nQ 33.9375 56 38.28125 53.609375 \nQ 42.625 51.21875 45.40625 46.390625 \nL 45.40625 54.6875 \nL 54.390625 54.6875 \nz\n\" id=\"DejaVuSans-103\"/>\n     <path d=\"M 48.78125 52.59375 \nL 48.78125 44.1875 \nQ 44.96875 46.296875 41.140625 47.34375 \nQ 37.3125 48.390625 33.40625 48.390625 \nQ 24.65625 48.390625 19.8125 42.84375 \nQ 14.984375 37.3125 14.984375 27.296875 \nQ 14.984375 17.28125 19.8125 11.734375 \nQ 24.65625 6.203125 33.40625 6.203125 \nQ 37.3125 6.203125 41.140625 7.25 \nQ 44.96875 8.296875 48.78125 10.40625 \nL 48.78125 2.09375 \nQ 45.015625 0.34375 40.984375 -0.53125 \nQ 36.96875 -1.421875 32.421875 -1.421875 \nQ 20.0625 -1.421875 12.78125 6.34375 \nQ 5.515625 14.109375 5.515625 27.296875 \nQ 5.515625 40.671875 12.859375 48.328125 \nQ 20.21875 56 33.015625 56 \nQ 37.15625 56 41.109375 55.140625 \nQ 45.0625 54.296875 48.78125 52.59375 \nz\nM 36.078125 0 \nQ 38.765625 -3.03125 40.078125 -5.59375 \nQ 41.40625 -8.15625 41.40625 -10.5 \nQ 41.40625 -14.84375 38.46875 -17.0625 \nQ 35.546875 -19.28125 29.78125 -19.28125 \nQ 27.546875 -19.28125 25.421875 -18.984375 \nQ 23.296875 -18.703125 21.1875 -18.109375 \nL 21.1875 -11.71875 \nQ 22.859375 -12.546875 24.65625 -12.90625 \nQ 26.46875 -13.28125 28.765625 -13.28125 \nQ 31.640625 -13.28125 33.109375 -12.109375 \nQ 34.578125 -10.9375 34.578125 -8.6875 \nQ 34.578125 -7.234375 33.515625 -5.109375 \nQ 32.46875 -2.984375 30.28125 0 \nz\n\" id=\"DejaVuSans-231\"/>\n    </defs>\n    <g transform=\"translate(14.298625 21.18375)scale(0.18 -0.18)\">\n     <use xlink:href=\"#DejaVuSans-77\"/>\n     <use x=\"86.279297\" xlink:href=\"#DejaVuSans-97\"/>\n     <use x=\"147.558594\" xlink:href=\"#DejaVuSans-116\"/>\n     <use x=\"186.767578\" xlink:href=\"#DejaVuSans-114\"/>\n     <use x=\"227.880859\" xlink:href=\"#DejaVuSans-105\"/>\n     <use x=\"255.664062\" xlink:href=\"#DejaVuSans-122\"/>\n     <use x=\"308.154297\" xlink:href=\"#DejaVuSans-32\"/>\n     <use x=\"339.941406\" xlink:href=\"#DejaVuSans-100\"/>\n     <use x=\"403.417969\" xlink:href=\"#DejaVuSans-101\"/>\n     <use x=\"464.941406\" xlink:href=\"#DejaVuSans-32\"/>\n     <use x=\"496.728516\" xlink:href=\"#DejaVuSans-67\"/>\n     <use x=\"566.552734\" xlink:href=\"#DejaVuSans-111\"/>\n     <use x=\"627.734375\" xlink:href=\"#DejaVuSans-110\"/>\n     <use x=\"691.113281\" xlink:href=\"#DejaVuSans-102\"/>\n     <use x=\"726.318359\" xlink:href=\"#DejaVuSans-117\"/>\n     <use x=\"789.697266\" xlink:href=\"#DejaVuSans-115\"/>\n     <use x=\"841.796875\" xlink:href=\"#DejaVuSans-227\"/>\n     <use x=\"903.076172\" xlink:href=\"#DejaVuSans-111\"/>\n     <use x=\"964.257812\" xlink:href=\"#DejaVuSans-32\"/>\n     <use x=\"996.044922\" xlink:href=\"#DejaVuSans-100\"/>\n     <use x=\"1059.521484\" xlink:href=\"#DejaVuSans-97\"/>\n     <use x=\"1120.800781\" xlink:href=\"#DejaVuSans-32\"/>\n     <use x=\"1152.587891\" xlink:href=\"#DejaVuSans-67\"/>\n     <use x=\"1222.412109\" xlink:href=\"#DejaVuSans-111\"/>\n     <use x=\"1283.59375\" xlink:href=\"#DejaVuSans-110\"/>\n     <use x=\"1346.972656\" xlink:href=\"#DejaVuSans-102\"/>\n     <use x=\"1382.177734\" xlink:href=\"#DejaVuSans-105\"/>\n     <use x=\"1409.960938\" xlink:href=\"#DejaVuSans-103\"/>\n     <use x=\"1473.4375\" xlink:href=\"#DejaVuSans-117\"/>\n     <use x=\"1536.816406\" xlink:href=\"#DejaVuSans-114\"/>\n     <use x=\"1577.929688\" xlink:href=\"#DejaVuSans-97\"/>\n     <use x=\"1639.208984\" xlink:href=\"#DejaVuSans-231\"/>\n     <use x=\"1694.189453\" xlink:href=\"#DejaVuSans-227\"/>\n     <use x=\"1755.46875\" xlink:href=\"#DejaVuSans-111\"/>\n     <use x=\"1816.650391\" xlink:href=\"#DejaVuSans-32\"/>\n     <use x=\"1848.4375\" xlink:href=\"#DejaVuSans-50\"/>\n    </g>\n   </g>\n  </g>\n  <g id=\"axes_2\">\n   <g id=\"patch_3\">\n    <path clip-path=\"url(#p5e7151b81f)\" d=\"M 353.81575 242.58375 \nL 353.81575 241.742344 \nL 353.81575 28.025156 \nL 353.81575 27.18375 \nL 364.58575 27.18375 \nL 364.58575 28.025156 \nL 364.58575 241.742344 \nL 364.58575 242.58375 \nz\n\" style=\"fill:#ffffff;stroke:#ffffff;stroke-linejoin:miter;stroke-width:0.01;\"/>\n   </g>\n   <image height=\"215\" id=\"image6eb7f81fa4\" transform=\"scale(1 -1)translate(0 -215)\" width=\"11\" x=\"354\" xlink:href=\"data:image/png;base64,\niVBORw0KGgoAAAANSUhEUgAAAAsAAADXCAYAAADMUKtyAAAABHNCSVQICAgIfAhkiAAAASBJREFUaIHt2EtqBCEABFADc/+rZpNlq7mCL1BQNpl1UdRPR/pr/3zvcfj7jHGMHZ+xFoCJecfAZjDGXGJQmPeWui80OHIGTfMx9laDHZrnrJAhzNsMPiKjoxRitgZfbzA2pCvT6DBIb6QVM0gyXt8gveta/oAuTKPEYMmBLVldMI2OUnJpBPfckYYw75JS/vf8Z3DJni06+WQxUzlvu8wrDOKbP6a5Iw2s+xhbU3fJno357XumIa2cDPnGmGOeZNDSABm5NMxgRykle14lBoUZDyww0/gBi2lA25qzMKMMYo5pplJiMux+7pBhzKJ5dsjAiQo4dgZz4JzmJ3YV4OkWGcL8xC5zkpGLLtjgOTGnQcygGdMAcO5VcOeeiTmk+ReJobfc4+cBQQAAAABJRU5ErkJggg==\" y=\"-27\"/>\n   <g id=\"matplotlib.axis_3\"/>\n   <g id=\"matplotlib.axis_4\">\n    <g id=\"ytick_8\">\n     <g id=\"line2d_15\">\n      <defs>\n       <path d=\"M 0 0 \nL 3.5 0 \n\" id=\"m048d7c5d34\" style=\"stroke:#000000;stroke-width:0.8;\"/>\n      </defs>\n      <g>\n       <use style=\"stroke:#000000;stroke-width:0.8;\" x=\"364.58575\" xlink:href=\"#m048d7c5d34\" y=\"242.58375\"/>\n      </g>\n     </g>\n     <g id=\"text_67\">\n      <!-- 0 -->\n      <g transform=\"translate(371.58575 246.382969)scale(0.1 -0.1)\">\n       <use xlink:href=\"#DejaVuSans-48\"/>\n      </g>\n     </g>\n    </g>\n    <g id=\"ytick_9\">\n     <g id=\"line2d_16\">\n      <g>\n       <use style=\"stroke:#000000;stroke-width:0.8;\" x=\"364.58575\" xlink:href=\"#m048d7c5d34\" y=\"211.237339\"/>\n      </g>\n     </g>\n     <g id=\"text_68\">\n      <!-- 10000 -->\n      <g transform=\"translate(371.58575 215.036557)scale(0.1 -0.1)\">\n       <use xlink:href=\"#DejaVuSans-49\"/>\n       <use x=\"63.623047\" xlink:href=\"#DejaVuSans-48\"/>\n       <use x=\"127.246094\" xlink:href=\"#DejaVuSans-48\"/>\n       <use x=\"190.869141\" xlink:href=\"#DejaVuSans-48\"/>\n       <use x=\"254.492188\" xlink:href=\"#DejaVuSans-48\"/>\n      </g>\n     </g>\n    </g>\n    <g id=\"ytick_10\">\n     <g id=\"line2d_17\">\n      <g>\n       <use style=\"stroke:#000000;stroke-width:0.8;\" x=\"364.58575\" xlink:href=\"#m048d7c5d34\" y=\"179.890927\"/>\n      </g>\n     </g>\n     <g id=\"text_69\">\n      <!-- 20000 -->\n      <g transform=\"translate(371.58575 183.690146)scale(0.1 -0.1)\">\n       <use xlink:href=\"#DejaVuSans-50\"/>\n       <use x=\"63.623047\" xlink:href=\"#DejaVuSans-48\"/>\n       <use x=\"127.246094\" xlink:href=\"#DejaVuSans-48\"/>\n       <use x=\"190.869141\" xlink:href=\"#DejaVuSans-48\"/>\n       <use x=\"254.492188\" xlink:href=\"#DejaVuSans-48\"/>\n      </g>\n     </g>\n    </g>\n    <g id=\"ytick_11\">\n     <g id=\"line2d_18\">\n      <g>\n       <use style=\"stroke:#000000;stroke-width:0.8;\" x=\"364.58575\" xlink:href=\"#m048d7c5d34\" y=\"148.544516\"/>\n      </g>\n     </g>\n     <g id=\"text_70\">\n      <!-- 30000 -->\n      <g transform=\"translate(371.58575 152.343735)scale(0.1 -0.1)\">\n       <use xlink:href=\"#DejaVuSans-51\"/>\n       <use x=\"63.623047\" xlink:href=\"#DejaVuSans-48\"/>\n       <use x=\"127.246094\" xlink:href=\"#DejaVuSans-48\"/>\n       <use x=\"190.869141\" xlink:href=\"#DejaVuSans-48\"/>\n       <use x=\"254.492188\" xlink:href=\"#DejaVuSans-48\"/>\n      </g>\n     </g>\n    </g>\n    <g id=\"ytick_12\">\n     <g id=\"line2d_19\">\n      <g>\n       <use style=\"stroke:#000000;stroke-width:0.8;\" x=\"364.58575\" xlink:href=\"#m048d7c5d34\" y=\"117.198105\"/>\n      </g>\n     </g>\n     <g id=\"text_71\">\n      <!-- 40000 -->\n      <g transform=\"translate(371.58575 120.997323)scale(0.1 -0.1)\">\n       <use xlink:href=\"#DejaVuSans-52\"/>\n       <use x=\"63.623047\" xlink:href=\"#DejaVuSans-48\"/>\n       <use x=\"127.246094\" xlink:href=\"#DejaVuSans-48\"/>\n       <use x=\"190.869141\" xlink:href=\"#DejaVuSans-48\"/>\n       <use x=\"254.492188\" xlink:href=\"#DejaVuSans-48\"/>\n      </g>\n     </g>\n    </g>\n    <g id=\"ytick_13\">\n     <g id=\"line2d_20\">\n      <g>\n       <use style=\"stroke:#000000;stroke-width:0.8;\" x=\"364.58575\" xlink:href=\"#m048d7c5d34\" y=\"85.851693\"/>\n      </g>\n     </g>\n     <g id=\"text_72\">\n      <!-- 50000 -->\n      <g transform=\"translate(371.58575 89.650912)scale(0.1 -0.1)\">\n       <use xlink:href=\"#DejaVuSans-53\"/>\n       <use x=\"63.623047\" xlink:href=\"#DejaVuSans-48\"/>\n       <use x=\"127.246094\" xlink:href=\"#DejaVuSans-48\"/>\n       <use x=\"190.869141\" xlink:href=\"#DejaVuSans-48\"/>\n       <use x=\"254.492188\" xlink:href=\"#DejaVuSans-48\"/>\n      </g>\n     </g>\n    </g>\n    <g id=\"ytick_14\">\n     <g id=\"line2d_21\">\n      <g>\n       <use style=\"stroke:#000000;stroke-width:0.8;\" x=\"364.58575\" xlink:href=\"#m048d7c5d34\" y=\"54.505282\"/>\n      </g>\n     </g>\n     <g id=\"text_73\">\n      <!-- 60000 -->\n      <g transform=\"translate(371.58575 58.304501)scale(0.1 -0.1)\">\n       <use xlink:href=\"#DejaVuSans-54\"/>\n       <use x=\"63.623047\" xlink:href=\"#DejaVuSans-48\"/>\n       <use x=\"127.246094\" xlink:href=\"#DejaVuSans-48\"/>\n       <use x=\"190.869141\" xlink:href=\"#DejaVuSans-48\"/>\n       <use x=\"254.492188\" xlink:href=\"#DejaVuSans-48\"/>\n      </g>\n     </g>\n    </g>\n   </g>\n   <g id=\"patch_4\">\n    <path d=\"M 353.81575 242.58375 \nL 353.81575 241.742344 \nL 353.81575 28.025156 \nL 353.81575 27.18375 \nL 364.58575 27.18375 \nL 364.58575 28.025156 \nL 364.58575 241.742344 \nL 364.58575 242.58375 \nz\n\" style=\"fill:none;\"/>\n   </g>\n  </g>\n </g>\n <defs>\n  <clipPath id=\"p8468b7387c\">\n   <rect height=\"215.4\" width=\"297.656\" x=\"37.55625\" y=\"27.18375\"/>\n  </clipPath>\n  <clipPath id=\"p5e7151b81f\">\n   <rect height=\"215.4\" width=\"10.77\" x=\"353.81575\" y=\"27.18375\"/>\n  </clipPath>\n </defs>\n</svg>\n",
            "image/png": "[encoded data removed]"
          },
          "metadata": {
            "needs_background": "light"
          }
        }
      ]
    },
    {
      "cell_type": "code",
      "metadata": {
        "id": "gs_mDR0U6Uyp",
        "outputId": "a63c517f-367c-4c15-c7f5-9000f36b2d12"
      },
      "source": [
        "fig, ax = plt.subplots()\n",
        "sns.heatmap(confusion_matrix(Y_test, resultados[2]), annot=True, \n",
        "            ax=ax, fmt='d', cmap='Reds')\n",
        "ax.set_title(\"Matriz de Confusão da Configuração 5\", fontsize=18)\n",
        "ax.set_ylabel(\"True label\")\n",
        "ax.set_xlabel(\"Predicted Label\")\n",
        "plt.tight_layout()"
      ],
      "execution_count": 47,
      "outputs": [
        {
          "output_type": "display_data",
          "data": {
            "text/plain": "<Figure size 432x288 with 2 Axes>",
            "image/svg+xml": "<?xml version=\"1.0\" encoding=\"utf-8\" standalone=\"no\"?>\n<!DOCTYPE svg PUBLIC \"-//W3C//DTD SVG 1.1//EN\"\n  \"http://www.w3.org/Graphics/SVG/1.1/DTD/svg11.dtd\">\n<!-- Created with matplotlib (https://matplotlib.org/) -->\n<svg height=\"280.14pt\" version=\"1.1\" viewBox=\"0 0 410.59825 280.14\" width=\"410.59825pt\" xmlns=\"http://www.w3.org/2000/svg\" xmlns:xlink=\"http://www.w3.org/1999/xlink\">\n <defs>\n  <style type=\"text/css\">\n*{stroke-linecap:butt;stroke-linejoin:round;}\n  </style>\n </defs>\n <g id=\"figure_1\">\n  <g id=\"patch_1\">\n   <path d=\"M 0 280.14 \nL 410.59825 280.14 \nL 410.59825 0 \nL 0 0 \nz\n\" style=\"fill:none;\"/>\n  </g>\n  <g id=\"axes_1\">\n   <g id=\"patch_2\">\n    <path d=\"M 37.55625 242.58375 \nL 335.21225 242.58375 \nL 335.21225 27.18375 \nL 37.55625 27.18375 \nz\n\" style=\"fill:#ffffff;\"/>\n   </g>\n   <g id=\"QuadMesh_1\">\n    <path clip-path=\"url(#p150ac62f99)\" d=\"M 37.55625 27.18375 \nL 80.078536 27.18375 \nL 80.078536 57.955179 \nL 37.55625 57.955179 \nL 37.55625 27.18375 \n\" style=\"fill:#eb372a;\"/>\n    <path clip-path=\"url(#p150ac62f99)\" d=\"M 80.078536 27.18375 \nL 122.600821 27.18375 \nL 122.600821 57.955179 \nL 80.078536 57.955179 \nL 80.078536 27.18375 \n\" style=\"fill:#fcbba1;\"/>\n    <path clip-path=\"url(#p150ac62f99)\" d=\"M 122.600821 27.18375 \nL 165.123107 27.18375 \nL 165.123107 57.955179 \nL 122.600821 57.955179 \nL 122.600821 27.18375 \n\" style=\"fill:#fff5f0;\"/>\n    <path clip-path=\"url(#p150ac62f99)\" d=\"M 165.123107 27.18375 \nL 207.645393 27.18375 \nL 207.645393 57.955179 \nL 165.123107 57.955179 \nL 165.123107 27.18375 \n\" style=\"fill:#fff5f0;\"/>\n    <path clip-path=\"url(#p150ac62f99)\" d=\"M 207.645393 27.18375 \nL 250.167679 27.18375 \nL 250.167679 57.955179 \nL 207.645393 57.955179 \nL 207.645393 27.18375 \n\" style=\"fill:#fff5f0;\"/>\n    <path clip-path=\"url(#p150ac62f99)\" d=\"M 250.167679 27.18375 \nL 292.689964 27.18375 \nL 292.689964 57.955179 \nL 250.167679 57.955179 \nL 250.167679 27.18375 \n\" style=\"fill:#fff5f0;\"/>\n    <path clip-path=\"url(#p150ac62f99)\" d=\"M 292.689964 27.18375 \nL 335.21225 27.18375 \nL 335.21225 57.955179 \nL 292.689964 57.955179 \nL 292.689964 27.18375 \n\" style=\"fill:#fff3ed;\"/>\n    <path clip-path=\"url(#p150ac62f99)\" d=\"M 37.55625 57.955179 \nL 80.078536 57.955179 \nL 80.078536 88.726607 \nL 37.55625 88.726607 \nL 37.55625 57.955179 \n\" style=\"fill:#fdcebb;\"/>\n    <path clip-path=\"url(#p150ac62f99)\" d=\"M 80.078536 57.955179 \nL 122.600821 57.955179 \nL 122.600821 88.726607 \nL 80.078536 88.726607 \nL 80.078536 57.955179 \n\" style=\"fill:#67000d;\"/>\n    <path clip-path=\"url(#p150ac62f99)\" d=\"M 122.600821 57.955179 \nL 165.123107 57.955179 \nL 165.123107 88.726607 \nL 122.600821 88.726607 \nL 122.600821 57.955179 \n\" style=\"fill:#fff3ed;\"/>\n    <path clip-path=\"url(#p150ac62f99)\" d=\"M 165.123107 57.955179 \nL 207.645393 57.955179 \nL 207.645393 88.726607 \nL 165.123107 88.726607 \nL 165.123107 57.955179 \n\" style=\"fill:#fff5f0;\"/>\n    <path clip-path=\"url(#p150ac62f99)\" d=\"M 207.645393 57.955179 \nL 250.167679 57.955179 \nL 250.167679 88.726607 \nL 207.645393 88.726607 \nL 207.645393 57.955179 \n\" style=\"fill:#fff5f0;\"/>\n    <path clip-path=\"url(#p150ac62f99)\" d=\"M 250.167679 57.955179 \nL 292.689964 57.955179 \nL 292.689964 88.726607 \nL 250.167679 88.726607 \nL 250.167679 57.955179 \n\" style=\"fill:#fff4ef;\"/>\n    <path clip-path=\"url(#p150ac62f99)\" d=\"M 292.689964 57.955179 \nL 335.21225 57.955179 \nL 335.21225 88.726607 \nL 292.689964 88.726607 \nL 292.689964 57.955179 \n\" style=\"fill:#fff5f0;\"/>\n    <path clip-path=\"url(#p150ac62f99)\" d=\"M 37.55625 88.726607 \nL 80.078536 88.726607 \nL 80.078536 119.498036 \nL 37.55625 119.498036 \nL 37.55625 88.726607 \n\" style=\"fill:#fff5f0;\"/>\n    <path clip-path=\"url(#p150ac62f99)\" d=\"M 80.078536 88.726607 \nL 122.600821 88.726607 \nL 122.600821 119.498036 \nL 80.078536 119.498036 \nL 80.078536 88.726607 \n\" style=\"fill:#fff1ea;\"/>\n    <path clip-path=\"url(#p150ac62f99)\" d=\"M 122.600821 88.726607 \nL 165.123107 88.726607 \nL 165.123107 119.498036 \nL 122.600821 119.498036 \nL 122.600821 88.726607 \n\" style=\"fill:#fee3d6;\"/>\n    <path clip-path=\"url(#p150ac62f99)\" d=\"M 165.123107 88.726607 \nL 207.645393 88.726607 \nL 207.645393 119.498036 \nL 165.123107 119.498036 \nL 165.123107 88.726607 \n\" style=\"fill:#fff5f0;\"/>\n    <path clip-path=\"url(#p150ac62f99)\" d=\"M 207.645393 88.726607 \nL 250.167679 88.726607 \nL 250.167679 119.498036 \nL 207.645393 119.498036 \nL 207.645393 88.726607 \n\" style=\"fill:#fff5f0;\"/>\n    <path clip-path=\"url(#p150ac62f99)\" d=\"M 250.167679 88.726607 \nL 292.689964 88.726607 \nL 292.689964 119.498036 \nL 250.167679 119.498036 \nL 250.167679 88.726607 \n\" style=\"fill:#fff3ed;\"/>\n    <path clip-path=\"url(#p150ac62f99)\" d=\"M 292.689964 88.726607 \nL 335.21225 88.726607 \nL 335.21225 119.498036 \nL 292.689964 119.498036 \nL 292.689964 88.726607 \n\" style=\"fill:#fff5f0;\"/>\n    <path clip-path=\"url(#p150ac62f99)\" d=\"M 37.55625 119.498036 \nL 80.078536 119.498036 \nL 80.078536 150.269464 \nL 37.55625 150.269464 \nL 37.55625 119.498036 \n\" style=\"fill:#fff5f0;\"/>\n    <path clip-path=\"url(#p150ac62f99)\" d=\"M 80.078536 119.498036 \nL 122.600821 119.498036 \nL 122.600821 150.269464 \nL 80.078536 150.269464 \nL 80.078536 119.498036 \n\" style=\"fill:#fff5f0;\"/>\n    <path clip-path=\"url(#p150ac62f99)\" d=\"M 122.600821 119.498036 \nL 165.123107 119.498036 \nL 165.123107 150.269464 \nL 122.600821 150.269464 \nL 122.600821 119.498036 \n\" style=\"fill:#fff4ef;\"/>\n    <path clip-path=\"url(#p150ac62f99)\" d=\"M 165.123107 119.498036 \nL 207.645393 119.498036 \nL 207.645393 150.269464 \nL 165.123107 150.269464 \nL 165.123107 119.498036 \n\" style=\"fill:#fff5f0;\"/>\n    <path clip-path=\"url(#p150ac62f99)\" d=\"M 207.645393 119.498036 \nL 250.167679 119.498036 \nL 250.167679 150.269464 \nL 207.645393 150.269464 \nL 207.645393 119.498036 \n\" style=\"fill:#fff5f0;\"/>\n    <path clip-path=\"url(#p150ac62f99)\" d=\"M 250.167679 119.498036 \nL 292.689964 119.498036 \nL 292.689964 150.269464 \nL 250.167679 150.269464 \nL 250.167679 119.498036 \n\" style=\"fill:#fff5f0;\"/>\n    <path clip-path=\"url(#p150ac62f99)\" d=\"M 292.689964 119.498036 \nL 335.21225 119.498036 \nL 335.21225 150.269464 \nL 292.689964 150.269464 \nL 292.689964 119.498036 \n\" style=\"fill:#fff5f0;\"/>\n    <path clip-path=\"url(#p150ac62f99)\" d=\"M 37.55625 150.269464 \nL 80.078536 150.269464 \nL 80.078536 181.040893 \nL 37.55625 181.040893 \nL 37.55625 150.269464 \n\" style=\"fill:#fff5f0;\"/>\n    <path clip-path=\"url(#p150ac62f99)\" d=\"M 80.078536 150.269464 \nL 122.600821 150.269464 \nL 122.600821 181.040893 \nL 80.078536 181.040893 \nL 80.078536 150.269464 \n\" style=\"fill:#fff0e8;\"/>\n    <path clip-path=\"url(#p150ac62f99)\" d=\"M 122.600821 150.269464 \nL 165.123107 150.269464 \nL 165.123107 181.040893 \nL 122.600821 181.040893 \nL 122.600821 150.269464 \n\" style=\"fill:#fff5f0;\"/>\n    <path clip-path=\"url(#p150ac62f99)\" d=\"M 165.123107 150.269464 \nL 207.645393 150.269464 \nL 207.645393 181.040893 \nL 165.123107 181.040893 \nL 165.123107 150.269464 \n\" style=\"fill:#fff5f0;\"/>\n    <path clip-path=\"url(#p150ac62f99)\" d=\"M 207.645393 150.269464 \nL 250.167679 150.269464 \nL 250.167679 181.040893 \nL 207.645393 181.040893 \nL 207.645393 150.269464 \n\" style=\"fill:#fff4ef;\"/>\n    <path clip-path=\"url(#p150ac62f99)\" d=\"M 250.167679 150.269464 \nL 292.689964 150.269464 \nL 292.689964 181.040893 \nL 250.167679 181.040893 \nL 250.167679 150.269464 \n\" style=\"fill:#fff5f0;\"/>\n    <path clip-path=\"url(#p150ac62f99)\" d=\"M 292.689964 150.269464 \nL 335.21225 150.269464 \nL 335.21225 181.040893 \nL 292.689964 181.040893 \nL 292.689964 150.269464 \n\" style=\"fill:#fff5f0;\"/>\n    <path clip-path=\"url(#p150ac62f99)\" d=\"M 37.55625 181.040893 \nL 80.078536 181.040893 \nL 80.078536 211.812321 \nL 37.55625 211.812321 \nL 37.55625 181.040893 \n\" style=\"fill:#fff5f0;\"/>\n    <path clip-path=\"url(#p150ac62f99)\" d=\"M 80.078536 181.040893 \nL 122.600821 181.040893 \nL 122.600821 211.812321 \nL 80.078536 211.812321 \nL 80.078536 181.040893 \n\" style=\"fill:#fff2eb;\"/>\n    <path clip-path=\"url(#p150ac62f99)\" d=\"M 122.600821 181.040893 \nL 165.123107 181.040893 \nL 165.123107 211.812321 \nL 122.600821 211.812321 \nL 122.600821 181.040893 \n\" style=\"fill:#ffefe8;\"/>\n    <path clip-path=\"url(#p150ac62f99)\" d=\"M 165.123107 181.040893 \nL 207.645393 181.040893 \nL 207.645393 211.812321 \nL 165.123107 211.812321 \nL 165.123107 181.040893 \n\" style=\"fill:#fff5f0;\"/>\n    <path clip-path=\"url(#p150ac62f99)\" d=\"M 207.645393 181.040893 \nL 250.167679 181.040893 \nL 250.167679 211.812321 \nL 207.645393 211.812321 \nL 207.645393 181.040893 \n\" style=\"fill:#fff5f0;\"/>\n    <path clip-path=\"url(#p150ac62f99)\" d=\"M 250.167679 181.040893 \nL 292.689964 181.040893 \nL 292.689964 211.812321 \nL 250.167679 211.812321 \nL 250.167679 181.040893 \n\" style=\"fill:#fff2ec;\"/>\n    <path clip-path=\"url(#p150ac62f99)\" d=\"M 292.689964 181.040893 \nL 335.21225 181.040893 \nL 335.21225 211.812321 \nL 292.689964 211.812321 \nL 292.689964 181.040893 \n\" style=\"fill:#fff5f0;\"/>\n    <path clip-path=\"url(#p150ac62f99)\" d=\"M 37.55625 211.812321 \nL 80.078536 211.812321 \nL 80.078536 242.58375 \nL 37.55625 242.58375 \nL 37.55625 211.812321 \n\" style=\"fill:#ffefe8;\"/>\n    <path clip-path=\"url(#p150ac62f99)\" d=\"M 80.078536 211.812321 \nL 122.600821 211.812321 \nL 122.600821 242.58375 \nL 80.078536 242.58375 \nL 80.078536 211.812321 \n\" style=\"fill:#fff5f0;\"/>\n    <path clip-path=\"url(#p150ac62f99)\" d=\"M 122.600821 211.812321 \nL 165.123107 211.812321 \nL 165.123107 242.58375 \nL 122.600821 242.58375 \nL 122.600821 211.812321 \n\" style=\"fill:#fff5f0;\"/>\n    <path clip-path=\"url(#p150ac62f99)\" d=\"M 165.123107 211.812321 \nL 207.645393 211.812321 \nL 207.645393 242.58375 \nL 165.123107 242.58375 \nL 165.123107 211.812321 \n\" style=\"fill:#fff5f0;\"/>\n    <path clip-path=\"url(#p150ac62f99)\" d=\"M 207.645393 211.812321 \nL 250.167679 211.812321 \nL 250.167679 242.58375 \nL 207.645393 242.58375 \nL 207.645393 211.812321 \n\" style=\"fill:#fff5f0;\"/>\n    <path clip-path=\"url(#p150ac62f99)\" d=\"M 250.167679 211.812321 \nL 292.689964 211.812321 \nL 292.689964 242.58375 \nL 250.167679 242.58375 \nL 250.167679 211.812321 \n\" style=\"fill:#fff5f0;\"/>\n    <path clip-path=\"url(#p150ac62f99)\" d=\"M 292.689964 211.812321 \nL 335.21225 211.812321 \nL 335.21225 242.58375 \nL 292.689964 242.58375 \nL 292.689964 211.812321 \n\" style=\"fill:#ffede5;\"/>\n   </g>\n   <g id=\"matplotlib.axis_1\">\n    <g id=\"xtick_1\">\n     <g id=\"line2d_1\">\n      <defs>\n       <path d=\"M 0 0 \nL 0 3.5 \n\" id=\"m02d967ff9e\" style=\"stroke:#000000;stroke-width:0.8;\"/>\n      </defs>\n      <g>\n       <use style=\"stroke:#000000;stroke-width:0.8;\" x=\"58.817393\" xlink:href=\"#m02d967ff9e\" y=\"242.58375\"/>\n      </g>\n     </g>\n     <g id=\"text_1\">\n      <!-- 0 -->\n      <defs>\n       <path d=\"M 31.78125 66.40625 \nQ 24.171875 66.40625 20.328125 58.90625 \nQ 16.5 51.421875 16.5 36.375 \nQ 16.5 21.390625 20.328125 13.890625 \nQ 24.171875 6.390625 31.78125 6.390625 \nQ 39.453125 6.390625 43.28125 13.890625 \nQ 47.125 21.390625 47.125 36.375 \nQ 47.125 51.421875 43.28125 58.90625 \nQ 39.453125 66.40625 31.78125 66.40625 \nz\nM 31.78125 74.21875 \nQ 44.046875 74.21875 50.515625 64.515625 \nQ 56.984375 54.828125 56.984375 36.375 \nQ 56.984375 17.96875 50.515625 8.265625 \nQ 44.046875 -1.421875 31.78125 -1.421875 \nQ 19.53125 -1.421875 13.0625 8.265625 \nQ 6.59375 17.96875 6.59375 36.375 \nQ 6.59375 54.828125 13.0625 64.515625 \nQ 19.53125 74.21875 31.78125 74.21875 \nz\n\" id=\"DejaVuSans-48\"/>\n      </defs>\n      <g transform=\"translate(55.636143 257.182187)scale(0.1 -0.1)\">\n       <use xlink:href=\"#DejaVuSans-48\"/>\n      </g>\n     </g>\n    </g>\n    <g id=\"xtick_2\">\n     <g id=\"line2d_2\">\n      <g>\n       <use style=\"stroke:#000000;stroke-width:0.8;\" x=\"101.339679\" xlink:href=\"#m02d967ff9e\" y=\"242.58375\"/>\n      </g>\n     </g>\n     <g id=\"text_2\">\n      <!-- 1 -->\n      <defs>\n       <path d=\"M 12.40625 8.296875 \nL 28.515625 8.296875 \nL 28.515625 63.921875 \nL 10.984375 60.40625 \nL 10.984375 69.390625 \nL 28.421875 72.90625 \nL 38.28125 72.90625 \nL 38.28125 8.296875 \nL 54.390625 8.296875 \nL 54.390625 0 \nL 12.40625 0 \nz\n\" id=\"DejaVuSans-49\"/>\n      </defs>\n      <g transform=\"translate(98.158429 257.182187)scale(0.1 -0.1)\">\n       <use xlink:href=\"#DejaVuSans-49\"/>\n      </g>\n     </g>\n    </g>\n    <g id=\"xtick_3\">\n     <g id=\"line2d_3\">\n      <g>\n       <use style=\"stroke:#000000;stroke-width:0.8;\" x=\"143.861964\" xlink:href=\"#m02d967ff9e\" y=\"242.58375\"/>\n      </g>\n     </g>\n     <g id=\"text_3\">\n      <!-- 2 -->\n      <defs>\n       <path d=\"M 19.1875 8.296875 \nL 53.609375 8.296875 \nL 53.609375 0 \nL 7.328125 0 \nL 7.328125 8.296875 \nQ 12.9375 14.109375 22.625 23.890625 \nQ 32.328125 33.6875 34.8125 36.53125 \nQ 39.546875 41.84375 41.421875 45.53125 \nQ 43.3125 49.21875 43.3125 52.78125 \nQ 43.3125 58.59375 39.234375 62.25 \nQ 35.15625 65.921875 28.609375 65.921875 \nQ 23.96875 65.921875 18.8125 64.3125 \nQ 13.671875 62.703125 7.8125 59.421875 \nL 7.8125 69.390625 \nQ 13.765625 71.78125 18.9375 73 \nQ 24.125 74.21875 28.421875 74.21875 \nQ 39.75 74.21875 46.484375 68.546875 \nQ 53.21875 62.890625 53.21875 53.421875 \nQ 53.21875 48.921875 51.53125 44.890625 \nQ 49.859375 40.875 45.40625 35.40625 \nQ 44.1875 33.984375 37.640625 27.21875 \nQ 31.109375 20.453125 19.1875 8.296875 \nz\n\" id=\"DejaVuSans-50\"/>\n      </defs>\n      <g transform=\"translate(140.680714 257.182187)scale(0.1 -0.1)\">\n       <use xlink:href=\"#DejaVuSans-50\"/>\n      </g>\n     </g>\n    </g>\n    <g id=\"xtick_4\">\n     <g id=\"line2d_4\">\n      <g>\n       <use style=\"stroke:#000000;stroke-width:0.8;\" x=\"186.38425\" xlink:href=\"#m02d967ff9e\" y=\"242.58375\"/>\n      </g>\n     </g>\n     <g id=\"text_4\">\n      <!-- 3 -->\n      <defs>\n       <path d=\"M 40.578125 39.3125 \nQ 47.65625 37.796875 51.625 33 \nQ 55.609375 28.21875 55.609375 21.1875 \nQ 55.609375 10.40625 48.1875 4.484375 \nQ 40.765625 -1.421875 27.09375 -1.421875 \nQ 22.515625 -1.421875 17.65625 -0.515625 \nQ 12.796875 0.390625 7.625 2.203125 \nL 7.625 11.71875 \nQ 11.71875 9.328125 16.59375 8.109375 \nQ 21.484375 6.890625 26.8125 6.890625 \nQ 36.078125 6.890625 40.9375 10.546875 \nQ 45.796875 14.203125 45.796875 21.1875 \nQ 45.796875 27.640625 41.28125 31.265625 \nQ 36.765625 34.90625 28.71875 34.90625 \nL 20.21875 34.90625 \nL 20.21875 43.015625 \nL 29.109375 43.015625 \nQ 36.375 43.015625 40.234375 45.921875 \nQ 44.09375 48.828125 44.09375 54.296875 \nQ 44.09375 59.90625 40.109375 62.90625 \nQ 36.140625 65.921875 28.71875 65.921875 \nQ 24.65625 65.921875 20.015625 65.03125 \nQ 15.375 64.15625 9.8125 62.3125 \nL 9.8125 71.09375 \nQ 15.4375 72.65625 20.34375 73.4375 \nQ 25.25 74.21875 29.59375 74.21875 \nQ 40.828125 74.21875 47.359375 69.109375 \nQ 53.90625 64.015625 53.90625 55.328125 \nQ 53.90625 49.265625 50.4375 45.09375 \nQ 46.96875 40.921875 40.578125 39.3125 \nz\n\" id=\"DejaVuSans-51\"/>\n      </defs>\n      <g transform=\"translate(183.203 257.182187)scale(0.1 -0.1)\">\n       <use xlink:href=\"#DejaVuSans-51\"/>\n      </g>\n     </g>\n    </g>\n    <g id=\"xtick_5\">\n     <g id=\"line2d_5\">\n      <g>\n       <use style=\"stroke:#000000;stroke-width:0.8;\" x=\"228.906536\" xlink:href=\"#m02d967ff9e\" y=\"242.58375\"/>\n      </g>\n     </g>\n     <g id=\"text_5\">\n      <!-- 4 -->\n      <defs>\n       <path d=\"M 37.796875 64.3125 \nL 12.890625 25.390625 \nL 37.796875 25.390625 \nz\nM 35.203125 72.90625 \nL 47.609375 72.90625 \nL 47.609375 25.390625 \nL 58.015625 25.390625 \nL 58.015625 17.1875 \nL 47.609375 17.1875 \nL 47.609375 0 \nL 37.796875 0 \nL 37.796875 17.1875 \nL 4.890625 17.1875 \nL 4.890625 26.703125 \nz\n\" id=\"DejaVuSans-52\"/>\n      </defs>\n      <g transform=\"translate(225.725286 257.182187)scale(0.1 -0.1)\">\n       <use xlink:href=\"#DejaVuSans-52\"/>\n      </g>\n     </g>\n    </g>\n    <g id=\"xtick_6\">\n     <g id=\"line2d_6\">\n      <g>\n       <use style=\"stroke:#000000;stroke-width:0.8;\" x=\"271.428821\" xlink:href=\"#m02d967ff9e\" y=\"242.58375\"/>\n      </g>\n     </g>\n     <g id=\"text_6\">\n      <!-- 5 -->\n      <defs>\n       <path d=\"M 10.796875 72.90625 \nL 49.515625 72.90625 \nL 49.515625 64.59375 \nL 19.828125 64.59375 \nL 19.828125 46.734375 \nQ 21.96875 47.46875 24.109375 47.828125 \nQ 26.265625 48.1875 28.421875 48.1875 \nQ 40.625 48.1875 47.75 41.5 \nQ 54.890625 34.8125 54.890625 23.390625 \nQ 54.890625 11.625 47.5625 5.09375 \nQ 40.234375 -1.421875 26.90625 -1.421875 \nQ 22.3125 -1.421875 17.546875 -0.640625 \nQ 12.796875 0.140625 7.71875 1.703125 \nL 7.71875 11.625 \nQ 12.109375 9.234375 16.796875 8.0625 \nQ 21.484375 6.890625 26.703125 6.890625 \nQ 35.15625 6.890625 40.078125 11.328125 \nQ 45.015625 15.765625 45.015625 23.390625 \nQ 45.015625 31 40.078125 35.4375 \nQ 35.15625 39.890625 26.703125 39.890625 \nQ 22.75 39.890625 18.8125 39.015625 \nQ 14.890625 38.140625 10.796875 36.28125 \nz\n\" id=\"DejaVuSans-53\"/>\n      </defs>\n      <g transform=\"translate(268.247571 257.182187)scale(0.1 -0.1)\">\n       <use xlink:href=\"#DejaVuSans-53\"/>\n      </g>\n     </g>\n    </g>\n    <g id=\"xtick_7\">\n     <g id=\"line2d_7\">\n      <g>\n       <use style=\"stroke:#000000;stroke-width:0.8;\" x=\"313.951107\" xlink:href=\"#m02d967ff9e\" y=\"242.58375\"/>\n      </g>\n     </g>\n     <g id=\"text_7\">\n      <!-- 6 -->\n      <defs>\n       <path d=\"M 33.015625 40.375 \nQ 26.375 40.375 22.484375 35.828125 \nQ 18.609375 31.296875 18.609375 23.390625 \nQ 18.609375 15.53125 22.484375 10.953125 \nQ 26.375 6.390625 33.015625 6.390625 \nQ 39.65625 6.390625 43.53125 10.953125 \nQ 47.40625 15.53125 47.40625 23.390625 \nQ 47.40625 31.296875 43.53125 35.828125 \nQ 39.65625 40.375 33.015625 40.375 \nz\nM 52.59375 71.296875 \nL 52.59375 62.3125 \nQ 48.875 64.0625 45.09375 64.984375 \nQ 41.3125 65.921875 37.59375 65.921875 \nQ 27.828125 65.921875 22.671875 59.328125 \nQ 17.53125 52.734375 16.796875 39.40625 \nQ 19.671875 43.65625 24.015625 45.921875 \nQ 28.375 48.1875 33.59375 48.1875 \nQ 44.578125 48.1875 50.953125 41.515625 \nQ 57.328125 34.859375 57.328125 23.390625 \nQ 57.328125 12.15625 50.6875 5.359375 \nQ 44.046875 -1.421875 33.015625 -1.421875 \nQ 20.359375 -1.421875 13.671875 8.265625 \nQ 6.984375 17.96875 6.984375 36.375 \nQ 6.984375 53.65625 15.1875 63.9375 \nQ 23.390625 74.21875 37.203125 74.21875 \nQ 40.921875 74.21875 44.703125 73.484375 \nQ 48.484375 72.75 52.59375 71.296875 \nz\n\" id=\"DejaVuSans-54\"/>\n      </defs>\n      <g transform=\"translate(310.769857 257.182187)scale(0.1 -0.1)\">\n       <use xlink:href=\"#DejaVuSans-54\"/>\n      </g>\n     </g>\n    </g>\n    <g id=\"text_8\">\n     <!-- Predicted Label -->\n     <defs>\n      <path d=\"M 19.671875 64.796875 \nL 19.671875 37.40625 \nL 32.078125 37.40625 \nQ 38.96875 37.40625 42.71875 40.96875 \nQ 46.484375 44.53125 46.484375 51.125 \nQ 46.484375 57.671875 42.71875 61.234375 \nQ 38.96875 64.796875 32.078125 64.796875 \nz\nM 9.8125 72.90625 \nL 32.078125 72.90625 \nQ 44.34375 72.90625 50.609375 67.359375 \nQ 56.890625 61.8125 56.890625 51.125 \nQ 56.890625 40.328125 50.609375 34.8125 \nQ 44.34375 29.296875 32.078125 29.296875 \nL 19.671875 29.296875 \nL 19.671875 0 \nL 9.8125 0 \nz\n\" id=\"DejaVuSans-80\"/>\n      <path d=\"M 41.109375 46.296875 \nQ 39.59375 47.171875 37.8125 47.578125 \nQ 36.03125 48 33.890625 48 \nQ 26.265625 48 22.1875 43.046875 \nQ 18.109375 38.09375 18.109375 28.8125 \nL 18.109375 0 \nL 9.078125 0 \nL 9.078125 54.6875 \nL 18.109375 54.6875 \nL 18.109375 46.1875 \nQ 20.953125 51.171875 25.484375 53.578125 \nQ 30.03125 56 36.53125 56 \nQ 37.453125 56 38.578125 55.875 \nQ 39.703125 55.765625 41.0625 55.515625 \nz\n\" id=\"DejaVuSans-114\"/>\n      <path d=\"M 56.203125 29.59375 \nL 56.203125 25.203125 \nL 14.890625 25.203125 \nQ 15.484375 15.921875 20.484375 11.0625 \nQ 25.484375 6.203125 34.421875 6.203125 \nQ 39.59375 6.203125 44.453125 7.46875 \nQ 49.3125 8.734375 54.109375 11.28125 \nL 54.109375 2.78125 \nQ 49.265625 0.734375 44.1875 -0.34375 \nQ 39.109375 -1.421875 33.890625 -1.421875 \nQ 20.796875 -1.421875 13.15625 6.1875 \nQ 5.515625 13.8125 5.515625 26.8125 \nQ 5.515625 40.234375 12.765625 48.109375 \nQ 20.015625 56 32.328125 56 \nQ 43.359375 56 49.78125 48.890625 \nQ 56.203125 41.796875 56.203125 29.59375 \nz\nM 47.21875 32.234375 \nQ 47.125 39.59375 43.09375 43.984375 \nQ 39.0625 48.390625 32.421875 48.390625 \nQ 24.90625 48.390625 20.390625 44.140625 \nQ 15.875 39.890625 15.1875 32.171875 \nz\n\" id=\"DejaVuSans-101\"/>\n      <path d=\"M 45.40625 46.390625 \nL 45.40625 75.984375 \nL 54.390625 75.984375 \nL 54.390625 0 \nL 45.40625 0 \nL 45.40625 8.203125 \nQ 42.578125 3.328125 38.25 0.953125 \nQ 33.9375 -1.421875 27.875 -1.421875 \nQ 17.96875 -1.421875 11.734375 6.484375 \nQ 5.515625 14.40625 5.515625 27.296875 \nQ 5.515625 40.1875 11.734375 48.09375 \nQ 17.96875 56 27.875 56 \nQ 33.9375 56 38.25 53.625 \nQ 42.578125 51.265625 45.40625 46.390625 \nz\nM 14.796875 27.296875 \nQ 14.796875 17.390625 18.875 11.75 \nQ 22.953125 6.109375 30.078125 6.109375 \nQ 37.203125 6.109375 41.296875 11.75 \nQ 45.40625 17.390625 45.40625 27.296875 \nQ 45.40625 37.203125 41.296875 42.84375 \nQ 37.203125 48.484375 30.078125 48.484375 \nQ 22.953125 48.484375 18.875 42.84375 \nQ 14.796875 37.203125 14.796875 27.296875 \nz\n\" id=\"DejaVuSans-100\"/>\n      <path d=\"M 9.421875 54.6875 \nL 18.40625 54.6875 \nL 18.40625 0 \nL 9.421875 0 \nz\nM 9.421875 75.984375 \nL 18.40625 75.984375 \nL 18.40625 64.59375 \nL 9.421875 64.59375 \nz\n\" id=\"DejaVuSans-105\"/>\n      <path d=\"M 48.78125 52.59375 \nL 48.78125 44.1875 \nQ 44.96875 46.296875 41.140625 47.34375 \nQ 37.3125 48.390625 33.40625 48.390625 \nQ 24.65625 48.390625 19.8125 42.84375 \nQ 14.984375 37.3125 14.984375 27.296875 \nQ 14.984375 17.28125 19.8125 11.734375 \nQ 24.65625 6.203125 33.40625 6.203125 \nQ 37.3125 6.203125 41.140625 7.25 \nQ 44.96875 8.296875 48.78125 10.40625 \nL 48.78125 2.09375 \nQ 45.015625 0.34375 40.984375 -0.53125 \nQ 36.96875 -1.421875 32.421875 -1.421875 \nQ 20.0625 -1.421875 12.78125 6.34375 \nQ 5.515625 14.109375 5.515625 27.296875 \nQ 5.515625 40.671875 12.859375 48.328125 \nQ 20.21875 56 33.015625 56 \nQ 37.15625 56 41.109375 55.140625 \nQ 45.0625 54.296875 48.78125 52.59375 \nz\n\" id=\"DejaVuSans-99\"/>\n      <path d=\"M 18.3125 70.21875 \nL 18.3125 54.6875 \nL 36.8125 54.6875 \nL 36.8125 47.703125 \nL 18.3125 47.703125 \nL 18.3125 18.015625 \nQ 18.3125 11.328125 20.140625 9.421875 \nQ 21.96875 7.515625 27.59375 7.515625 \nL 36.8125 7.515625 \nL 36.8125 0 \nL 27.59375 0 \nQ 17.1875 0 13.234375 3.875 \nQ 9.28125 7.765625 9.28125 18.015625 \nL 9.28125 47.703125 \nL 2.6875 47.703125 \nL 2.6875 54.6875 \nL 9.28125 54.6875 \nL 9.28125 70.21875 \nz\n\" id=\"DejaVuSans-116\"/>\n      <path id=\"DejaVuSans-32\"/>\n      <path d=\"M 9.8125 72.90625 \nL 19.671875 72.90625 \nL 19.671875 8.296875 \nL 55.171875 8.296875 \nL 55.171875 0 \nL 9.8125 0 \nz\n\" id=\"DejaVuSans-76\"/>\n      <path d=\"M 34.28125 27.484375 \nQ 23.390625 27.484375 19.1875 25 \nQ 14.984375 22.515625 14.984375 16.5 \nQ 14.984375 11.71875 18.140625 8.90625 \nQ 21.296875 6.109375 26.703125 6.109375 \nQ 34.1875 6.109375 38.703125 11.40625 \nQ 43.21875 16.703125 43.21875 25.484375 \nL 43.21875 27.484375 \nz\nM 52.203125 31.203125 \nL 52.203125 0 \nL 43.21875 0 \nL 43.21875 8.296875 \nQ 40.140625 3.328125 35.546875 0.953125 \nQ 30.953125 -1.421875 24.3125 -1.421875 \nQ 15.921875 -1.421875 10.953125 3.296875 \nQ 6 8.015625 6 15.921875 \nQ 6 25.140625 12.171875 29.828125 \nQ 18.359375 34.515625 30.609375 34.515625 \nL 43.21875 34.515625 \nL 43.21875 35.40625 \nQ 43.21875 41.609375 39.140625 45 \nQ 35.0625 48.390625 27.6875 48.390625 \nQ 23 48.390625 18.546875 47.265625 \nQ 14.109375 46.140625 10.015625 43.890625 \nL 10.015625 52.203125 \nQ 14.9375 54.109375 19.578125 55.046875 \nQ 24.21875 56 28.609375 56 \nQ 40.484375 56 46.34375 49.84375 \nQ 52.203125 43.703125 52.203125 31.203125 \nz\n\" id=\"DejaVuSans-97\"/>\n      <path d=\"M 48.6875 27.296875 \nQ 48.6875 37.203125 44.609375 42.84375 \nQ 40.53125 48.484375 33.40625 48.484375 \nQ 26.265625 48.484375 22.1875 42.84375 \nQ 18.109375 37.203125 18.109375 27.296875 \nQ 18.109375 17.390625 22.1875 11.75 \nQ 26.265625 6.109375 33.40625 6.109375 \nQ 40.53125 6.109375 44.609375 11.75 \nQ 48.6875 17.390625 48.6875 27.296875 \nz\nM 18.109375 46.390625 \nQ 20.953125 51.265625 25.265625 53.625 \nQ 29.59375 56 35.59375 56 \nQ 45.5625 56 51.78125 48.09375 \nQ 58.015625 40.1875 58.015625 27.296875 \nQ 58.015625 14.40625 51.78125 6.484375 \nQ 45.5625 -1.421875 35.59375 -1.421875 \nQ 29.59375 -1.421875 25.265625 0.953125 \nQ 20.953125 3.328125 18.109375 8.203125 \nL 18.109375 0 \nL 9.078125 0 \nL 9.078125 75.984375 \nL 18.109375 75.984375 \nz\n\" id=\"DejaVuSans-98\"/>\n      <path d=\"M 9.421875 75.984375 \nL 18.40625 75.984375 \nL 18.40625 0 \nL 9.421875 0 \nz\n\" id=\"DejaVuSans-108\"/>\n     </defs>\n     <g transform=\"translate(147.637375 270.860312)scale(0.1 -0.1)\">\n      <use xlink:href=\"#DejaVuSans-80\"/>\n      <use x=\"60.287109\" xlink:href=\"#DejaVuSans-114\"/>\n      <use x=\"101.369141\" xlink:href=\"#DejaVuSans-101\"/>\n      <use x=\"162.892578\" xlink:href=\"#DejaVuSans-100\"/>\n      <use x=\"226.369141\" xlink:href=\"#DejaVuSans-105\"/>\n      <use x=\"254.152344\" xlink:href=\"#DejaVuSans-99\"/>\n      <use x=\"309.132812\" xlink:href=\"#DejaVuSans-116\"/>\n      <use x=\"348.341797\" xlink:href=\"#DejaVuSans-101\"/>\n      <use x=\"409.865234\" xlink:href=\"#DejaVuSans-100\"/>\n      <use x=\"473.341797\" xlink:href=\"#DejaVuSans-32\"/>\n      <use x=\"505.128906\" xlink:href=\"#DejaVuSans-76\"/>\n      <use x=\"560.841797\" xlink:href=\"#DejaVuSans-97\"/>\n      <use x=\"622.121094\" xlink:href=\"#DejaVuSans-98\"/>\n      <use x=\"685.597656\" xlink:href=\"#DejaVuSans-101\"/>\n      <use x=\"747.121094\" xlink:href=\"#DejaVuSans-108\"/>\n     </g>\n    </g>\n   </g>\n   <g id=\"matplotlib.axis_2\">\n    <g id=\"ytick_1\">\n     <g id=\"line2d_8\">\n      <defs>\n       <path d=\"M 0 0 \nL -3.5 0 \n\" id=\"m20cea9b51b\" style=\"stroke:#000000;stroke-width:0.8;\"/>\n      </defs>\n      <g>\n       <use style=\"stroke:#000000;stroke-width:0.8;\" x=\"37.55625\" xlink:href=\"#m20cea9b51b\" y=\"42.569464\"/>\n      </g>\n     </g>\n     <g id=\"text_9\">\n      <!-- 0 -->\n      <g transform=\"translate(28.476563 45.132746)rotate(-90)scale(0.1 -0.1)\">\n       <use xlink:href=\"#DejaVuSans-48\"/>\n      </g>\n     </g>\n    </g>\n    <g id=\"ytick_2\">\n     <g id=\"line2d_9\">\n      <g>\n       <use style=\"stroke:#000000;stroke-width:0.8;\" x=\"37.55625\" xlink:href=\"#m20cea9b51b\" y=\"73.340893\"/>\n      </g>\n     </g>\n     <g id=\"text_10\">\n      <!-- 1 -->\n      <g transform=\"translate(28.476563 75.904174)rotate(-90)scale(0.1 -0.1)\">\n       <use xlink:href=\"#DejaVuSans-49\"/>\n      </g>\n     </g>\n    </g>\n    <g id=\"ytick_3\">\n     <g id=\"line2d_10\">\n      <g>\n       <use style=\"stroke:#000000;stroke-width:0.8;\" x=\"37.55625\" xlink:href=\"#m20cea9b51b\" y=\"104.112321\"/>\n      </g>\n     </g>\n     <g id=\"text_11\">\n      <!-- 2 -->\n      <g transform=\"translate(28.476563 106.675603)rotate(-90)scale(0.1 -0.1)\">\n       <use xlink:href=\"#DejaVuSans-50\"/>\n      </g>\n     </g>\n    </g>\n    <g id=\"ytick_4\">\n     <g id=\"line2d_11\">\n      <g>\n       <use style=\"stroke:#000000;stroke-width:0.8;\" x=\"37.55625\" xlink:href=\"#m20cea9b51b\" y=\"134.88375\"/>\n      </g>\n     </g>\n     <g id=\"text_12\">\n      <!-- 3 -->\n      <g transform=\"translate(28.476563 137.447031)rotate(-90)scale(0.1 -0.1)\">\n       <use xlink:href=\"#DejaVuSans-51\"/>\n      </g>\n     </g>\n    </g>\n    <g id=\"ytick_5\">\n     <g id=\"line2d_12\">\n      <g>\n       <use style=\"stroke:#000000;stroke-width:0.8;\" x=\"37.55625\" xlink:href=\"#m20cea9b51b\" y=\"165.655179\"/>\n      </g>\n     </g>\n     <g id=\"text_13\">\n      <!-- 4 -->\n      <g transform=\"translate(28.476563 168.21846)rotate(-90)scale(0.1 -0.1)\">\n       <use xlink:href=\"#DejaVuSans-52\"/>\n      </g>\n     </g>\n    </g>\n    <g id=\"ytick_6\">\n     <g id=\"line2d_13\">\n      <g>\n       <use style=\"stroke:#000000;stroke-width:0.8;\" x=\"37.55625\" xlink:href=\"#m20cea9b51b\" y=\"196.426607\"/>\n      </g>\n     </g>\n     <g id=\"text_14\">\n      <!-- 5 -->\n      <g transform=\"translate(28.476563 198.989888)rotate(-90)scale(0.1 -0.1)\">\n       <use xlink:href=\"#DejaVuSans-53\"/>\n      </g>\n     </g>\n    </g>\n    <g id=\"ytick_7\">\n     <g id=\"line2d_14\">\n      <g>\n       <use style=\"stroke:#000000;stroke-width:0.8;\" x=\"37.55625\" xlink:href=\"#m20cea9b51b\" y=\"227.198036\"/>\n      </g>\n     </g>\n     <g id=\"text_15\">\n      <!-- 6 -->\n      <g transform=\"translate(28.476563 229.761317)rotate(-90)scale(0.1 -0.1)\">\n       <use xlink:href=\"#DejaVuSans-54\"/>\n      </g>\n     </g>\n    </g>\n    <g id=\"text_16\">\n     <!-- True label -->\n     <defs>\n      <path d=\"M -0.296875 72.90625 \nL 61.375 72.90625 \nL 61.375 64.59375 \nL 35.5 64.59375 \nL 35.5 0 \nL 25.59375 0 \nL 25.59375 64.59375 \nL -0.296875 64.59375 \nz\n\" id=\"DejaVuSans-84\"/>\n      <path d=\"M 8.5 21.578125 \nL 8.5 54.6875 \nL 17.484375 54.6875 \nL 17.484375 21.921875 \nQ 17.484375 14.15625 20.5 10.265625 \nQ 23.53125 6.390625 29.59375 6.390625 \nQ 36.859375 6.390625 41.078125 11.03125 \nQ 45.3125 15.671875 45.3125 23.6875 \nL 45.3125 54.6875 \nL 54.296875 54.6875 \nL 54.296875 0 \nL 45.3125 0 \nL 45.3125 8.40625 \nQ 42.046875 3.421875 37.71875 1 \nQ 33.40625 -1.421875 27.6875 -1.421875 \nQ 18.265625 -1.421875 13.375 4.4375 \nQ 8.5 10.296875 8.5 21.578125 \nz\nM 31.109375 56 \nz\n\" id=\"DejaVuSans-117\"/>\n     </defs>\n     <g transform=\"translate(14.798438 159.909531)rotate(-90)scale(0.1 -0.1)\">\n      <use xlink:href=\"#DejaVuSans-84\"/>\n      <use x=\"60.865234\" xlink:href=\"#DejaVuSans-114\"/>\n      <use x=\"101.978516\" xlink:href=\"#DejaVuSans-117\"/>\n      <use x=\"165.357422\" xlink:href=\"#DejaVuSans-101\"/>\n      <use x=\"226.880859\" xlink:href=\"#DejaVuSans-32\"/>\n      <use x=\"258.667969\" xlink:href=\"#DejaVuSans-108\"/>\n      <use x=\"286.451172\" xlink:href=\"#DejaVuSans-97\"/>\n      <use x=\"347.730469\" xlink:href=\"#DejaVuSans-98\"/>\n      <use x=\"411.207031\" xlink:href=\"#DejaVuSans-101\"/>\n      <use x=\"472.730469\" xlink:href=\"#DejaVuSans-108\"/>\n     </g>\n    </g>\n   </g>\n   <g id=\"text_17\">\n    <!-- 44958 -->\n    <defs>\n     <path d=\"M 10.984375 1.515625 \nL 10.984375 10.5 \nQ 14.703125 8.734375 18.5 7.8125 \nQ 22.3125 6.890625 25.984375 6.890625 \nQ 35.75 6.890625 40.890625 13.453125 \nQ 46.046875 20.015625 46.78125 33.40625 \nQ 43.953125 29.203125 39.59375 26.953125 \nQ 35.25 24.703125 29.984375 24.703125 \nQ 19.046875 24.703125 12.671875 31.3125 \nQ 6.296875 37.9375 6.296875 49.421875 \nQ 6.296875 60.640625 12.9375 67.421875 \nQ 19.578125 74.21875 30.609375 74.21875 \nQ 43.265625 74.21875 49.921875 64.515625 \nQ 56.59375 54.828125 56.59375 36.375 \nQ 56.59375 19.140625 48.40625 8.859375 \nQ 40.234375 -1.421875 26.421875 -1.421875 \nQ 22.703125 -1.421875 18.890625 -0.6875 \nQ 15.09375 0.046875 10.984375 1.515625 \nz\nM 30.609375 32.421875 \nQ 37.25 32.421875 41.125 36.953125 \nQ 45.015625 41.5 45.015625 49.421875 \nQ 45.015625 57.28125 41.125 61.84375 \nQ 37.25 66.40625 30.609375 66.40625 \nQ 23.96875 66.40625 20.09375 61.84375 \nQ 16.21875 57.28125 16.21875 49.421875 \nQ 16.21875 41.5 20.09375 36.953125 \nQ 23.96875 32.421875 30.609375 32.421875 \nz\n\" id=\"DejaVuSans-57\"/>\n     <path d=\"M 31.78125 34.625 \nQ 24.75 34.625 20.71875 30.859375 \nQ 16.703125 27.09375 16.703125 20.515625 \nQ 16.703125 13.921875 20.71875 10.15625 \nQ 24.75 6.390625 31.78125 6.390625 \nQ 38.8125 6.390625 42.859375 10.171875 \nQ 46.921875 13.96875 46.921875 20.515625 \nQ 46.921875 27.09375 42.890625 30.859375 \nQ 38.875 34.625 31.78125 34.625 \nz\nM 21.921875 38.8125 \nQ 15.578125 40.375 12.03125 44.71875 \nQ 8.5 49.078125 8.5 55.328125 \nQ 8.5 64.0625 14.71875 69.140625 \nQ 20.953125 74.21875 31.78125 74.21875 \nQ 42.671875 74.21875 48.875 69.140625 \nQ 55.078125 64.0625 55.078125 55.328125 \nQ 55.078125 49.078125 51.53125 44.71875 \nQ 48 40.375 41.703125 38.8125 \nQ 48.828125 37.15625 52.796875 32.3125 \nQ 56.78125 27.484375 56.78125 20.515625 \nQ 56.78125 9.90625 50.3125 4.234375 \nQ 43.84375 -1.421875 31.78125 -1.421875 \nQ 19.734375 -1.421875 13.25 4.234375 \nQ 6.78125 9.90625 6.78125 20.515625 \nQ 6.78125 27.484375 10.78125 32.3125 \nQ 14.796875 37.15625 21.921875 38.8125 \nz\nM 18.3125 54.390625 \nQ 18.3125 48.734375 21.84375 45.5625 \nQ 25.390625 42.390625 31.78125 42.390625 \nQ 38.140625 42.390625 41.71875 45.5625 \nQ 45.3125 48.734375 45.3125 54.390625 \nQ 45.3125 60.0625 41.71875 63.234375 \nQ 38.140625 66.40625 31.78125 66.40625 \nQ 25.390625 66.40625 21.84375 63.234375 \nQ 18.3125 60.0625 18.3125 54.390625 \nz\n\" id=\"DejaVuSans-56\"/>\n    </defs>\n    <g style=\"fill:#ffffff;\" transform=\"translate(42.911143 45.328839)scale(0.1 -0.1)\">\n     <use xlink:href=\"#DejaVuSans-52\"/>\n     <use x=\"63.623047\" xlink:href=\"#DejaVuSans-52\"/>\n     <use x=\"127.246094\" xlink:href=\"#DejaVuSans-57\"/>\n     <use x=\"190.869141\" xlink:href=\"#DejaVuSans-53\"/>\n     <use x=\"254.492188\" xlink:href=\"#DejaVuSans-56\"/>\n    </g>\n   </g>\n   <g id=\"text_18\">\n    <!-- 17596 -->\n    <defs>\n     <path d=\"M 8.203125 72.90625 \nL 55.078125 72.90625 \nL 55.078125 68.703125 \nL 28.609375 0 \nL 18.3125 0 \nL 43.21875 64.59375 \nL 8.203125 64.59375 \nz\n\" id=\"DejaVuSans-55\"/>\n    </defs>\n    <g style=\"fill:#262626;\" transform=\"translate(85.433429 45.328839)scale(0.1 -0.1)\">\n     <use xlink:href=\"#DejaVuSans-49\"/>\n     <use x=\"63.623047\" xlink:href=\"#DejaVuSans-55\"/>\n     <use x=\"127.246094\" xlink:href=\"#DejaVuSans-53\"/>\n     <use x=\"190.869141\" xlink:href=\"#DejaVuSans-57\"/>\n     <use x=\"254.492188\" xlink:href=\"#DejaVuSans-54\"/>\n    </g>\n   </g>\n   <g id=\"text_19\">\n    <!-- 12 -->\n    <g style=\"fill:#262626;\" transform=\"translate(137.499464 45.328839)scale(0.1 -0.1)\">\n     <use xlink:href=\"#DejaVuSans-49\"/>\n     <use x=\"63.623047\" xlink:href=\"#DejaVuSans-50\"/>\n    </g>\n   </g>\n   <g id=\"text_20\">\n    <!-- 0 -->\n    <g style=\"fill:#262626;\" transform=\"translate(183.203 45.328839)scale(0.1 -0.1)\">\n     <use xlink:href=\"#DejaVuSans-48\"/>\n    </g>\n   </g>\n   <g id=\"text_21\">\n    <!-- 31 -->\n    <g style=\"fill:#262626;\" transform=\"translate(222.544036 45.328839)scale(0.1 -0.1)\">\n     <use xlink:href=\"#DejaVuSans-51\"/>\n     <use x=\"63.623047\" xlink:href=\"#DejaVuSans-49\"/>\n    </g>\n   </g>\n   <g id=\"text_22\">\n    <!-- 14 -->\n    <g style=\"fill:#262626;\" transform=\"translate(265.066321 45.328839)scale(0.1 -0.1)\">\n     <use xlink:href=\"#DejaVuSans-49\"/>\n     <use x=\"63.623047\" xlink:href=\"#DejaVuSans-52\"/>\n    </g>\n   </g>\n   <g id=\"text_23\">\n    <!-- 945 -->\n    <g style=\"fill:#262626;\" transform=\"translate(304.407357 45.328839)scale(0.1 -0.1)\">\n     <use xlink:href=\"#DejaVuSans-57\"/>\n     <use x=\"63.623047\" xlink:href=\"#DejaVuSans-52\"/>\n     <use x=\"127.246094\" xlink:href=\"#DejaVuSans-53\"/>\n    </g>\n   </g>\n   <g id=\"text_24\">\n    <!-- 13133 -->\n    <g style=\"fill:#262626;\" transform=\"translate(42.911143 76.100268)scale(0.1 -0.1)\">\n     <use xlink:href=\"#DejaVuSans-49\"/>\n     <use x=\"63.623047\" xlink:href=\"#DejaVuSans-51\"/>\n     <use x=\"127.246094\" xlink:href=\"#DejaVuSans-49\"/>\n     <use x=\"190.869141\" xlink:href=\"#DejaVuSans-51\"/>\n     <use x=\"254.492188\" xlink:href=\"#DejaVuSans-51\"/>\n    </g>\n   </g>\n   <g id=\"text_25\">\n    <!-- 70273 -->\n    <g style=\"fill:#ffffff;\" transform=\"translate(85.433429 76.100268)scale(0.1 -0.1)\">\n     <use xlink:href=\"#DejaVuSans-55\"/>\n     <use x=\"63.623047\" xlink:href=\"#DejaVuSans-48\"/>\n     <use x=\"127.246094\" xlink:href=\"#DejaVuSans-50\"/>\n     <use x=\"190.869141\" xlink:href=\"#DejaVuSans-55\"/>\n     <use x=\"254.492188\" xlink:href=\"#DejaVuSans-51\"/>\n    </g>\n   </g>\n   <g id=\"text_26\">\n    <!-- 973 -->\n    <g style=\"fill:#262626;\" transform=\"translate(134.318214 76.100268)scale(0.1 -0.1)\">\n     <use xlink:href=\"#DejaVuSans-57\"/>\n     <use x=\"63.623047\" xlink:href=\"#DejaVuSans-55\"/>\n     <use x=\"127.246094\" xlink:href=\"#DejaVuSans-51\"/>\n    </g>\n   </g>\n   <g id=\"text_27\">\n    <!-- 0 -->\n    <g style=\"fill:#262626;\" transform=\"translate(183.203 76.100268)scale(0.1 -0.1)\">\n     <use xlink:href=\"#DejaVuSans-48\"/>\n    </g>\n   </g>\n   <g id=\"text_28\">\n    <!-- 181 -->\n    <g style=\"fill:#262626;\" transform=\"translate(219.362786 76.100268)scale(0.1 -0.1)\">\n     <use xlink:href=\"#DejaVuSans-49\"/>\n     <use x=\"63.623047\" xlink:href=\"#DejaVuSans-56\"/>\n     <use x=\"127.246094\" xlink:href=\"#DejaVuSans-49\"/>\n    </g>\n   </g>\n   <g id=\"text_29\">\n    <!-- 428 -->\n    <g style=\"fill:#262626;\" transform=\"translate(261.885071 76.100268)scale(0.1 -0.1)\">\n     <use xlink:href=\"#DejaVuSans-52\"/>\n     <use x=\"63.623047\" xlink:href=\"#DejaVuSans-50\"/>\n     <use x=\"127.246094\" xlink:href=\"#DejaVuSans-56\"/>\n    </g>\n   </g>\n   <g id=\"text_30\">\n    <!-- 90 -->\n    <g style=\"fill:#262626;\" transform=\"translate(307.588607 76.100268)scale(0.1 -0.1)\">\n     <use xlink:href=\"#DejaVuSans-57\"/>\n     <use x=\"63.623047\" xlink:href=\"#DejaVuSans-48\"/>\n    </g>\n   </g>\n   <g id=\"text_31\">\n    <!-- 0 -->\n    <g style=\"fill:#262626;\" transform=\"translate(55.636143 106.871696)scale(0.1 -0.1)\">\n     <use xlink:href=\"#DejaVuSans-48\"/>\n    </g>\n   </g>\n   <g id=\"text_32\">\n    <!-- 1713 -->\n    <g style=\"fill:#262626;\" transform=\"translate(88.614679 106.871696)scale(0.1 -0.1)\">\n     <use xlink:href=\"#DejaVuSans-49\"/>\n     <use x=\"63.623047\" xlink:href=\"#DejaVuSans-55\"/>\n     <use x=\"127.246094\" xlink:href=\"#DejaVuSans-49\"/>\n     <use x=\"190.869141\" xlink:href=\"#DejaVuSans-51\"/>\n    </g>\n   </g>\n   <g id=\"text_33\">\n    <!-- 7927 -->\n    <g style=\"fill:#262626;\" transform=\"translate(131.136964 106.871696)scale(0.1 -0.1)\">\n     <use xlink:href=\"#DejaVuSans-55\"/>\n     <use x=\"63.623047\" xlink:href=\"#DejaVuSans-57\"/>\n     <use x=\"127.246094\" xlink:href=\"#DejaVuSans-50\"/>\n     <use x=\"190.869141\" xlink:href=\"#DejaVuSans-55\"/>\n    </g>\n   </g>\n   <g id=\"text_34\">\n    <!-- 47 -->\n    <g style=\"fill:#262626;\" transform=\"translate(180.02175 106.871696)scale(0.1 -0.1)\">\n     <use xlink:href=\"#DejaVuSans-52\"/>\n     <use x=\"63.623047\" xlink:href=\"#DejaVuSans-55\"/>\n    </g>\n   </g>\n   <g id=\"text_35\">\n    <!-- 0 -->\n    <g style=\"fill:#262626;\" transform=\"translate(225.725286 106.871696)scale(0.1 -0.1)\">\n     <use xlink:href=\"#DejaVuSans-48\"/>\n    </g>\n   </g>\n   <g id=\"text_36\">\n    <!-- 951 -->\n    <g style=\"fill:#262626;\" transform=\"translate(261.885071 106.871696)scale(0.1 -0.1)\">\n     <use xlink:href=\"#DejaVuSans-57\"/>\n     <use x=\"63.623047\" xlink:href=\"#DejaVuSans-53\"/>\n     <use x=\"127.246094\" xlink:href=\"#DejaVuSans-49\"/>\n    </g>\n   </g>\n   <g id=\"text_37\">\n    <!-- 0 -->\n    <g style=\"fill:#262626;\" transform=\"translate(310.769857 106.871696)scale(0.1 -0.1)\">\n     <use xlink:href=\"#DejaVuSans-48\"/>\n    </g>\n   </g>\n   <g id=\"text_38\">\n    <!-- 0 -->\n    <g style=\"fill:#262626;\" transform=\"translate(55.636143 137.643125)scale(0.1 -0.1)\">\n     <use xlink:href=\"#DejaVuSans-48\"/>\n    </g>\n   </g>\n   <g id=\"text_39\">\n    <!-- 5 -->\n    <g style=\"fill:#262626;\" transform=\"translate(98.158429 137.643125)scale(0.1 -0.1)\">\n     <use xlink:href=\"#DejaVuSans-53\"/>\n    </g>\n   </g>\n   <g id=\"text_40\">\n    <!-- 457 -->\n    <g style=\"fill:#262626;\" transform=\"translate(134.318214 137.643125)scale(0.1 -0.1)\">\n     <use xlink:href=\"#DejaVuSans-52\"/>\n     <use x=\"63.623047\" xlink:href=\"#DejaVuSans-53\"/>\n     <use x=\"127.246094\" xlink:href=\"#DejaVuSans-55\"/>\n    </g>\n   </g>\n   <g id=\"text_41\">\n    <!-- 233 -->\n    <g style=\"fill:#262626;\" transform=\"translate(176.8405 137.643125)scale(0.1 -0.1)\">\n     <use xlink:href=\"#DejaVuSans-50\"/>\n     <use x=\"63.623047\" xlink:href=\"#DejaVuSans-51\"/>\n     <use x=\"127.246094\" xlink:href=\"#DejaVuSans-51\"/>\n    </g>\n   </g>\n   <g id=\"text_42\">\n    <!-- 0 -->\n    <g style=\"fill:#262626;\" transform=\"translate(225.725286 137.643125)scale(0.1 -0.1)\">\n     <use xlink:href=\"#DejaVuSans-48\"/>\n    </g>\n   </g>\n   <g id=\"text_43\">\n    <!-- 100 -->\n    <g style=\"fill:#262626;\" transform=\"translate(261.885071 137.643125)scale(0.1 -0.1)\">\n     <use xlink:href=\"#DejaVuSans-49\"/>\n     <use x=\"63.623047\" xlink:href=\"#DejaVuSans-48\"/>\n     <use x=\"127.246094\" xlink:href=\"#DejaVuSans-48\"/>\n    </g>\n   </g>\n   <g id=\"text_44\">\n    <!-- 0 -->\n    <g style=\"fill:#262626;\" transform=\"translate(310.769857 137.643125)scale(0.1 -0.1)\">\n     <use xlink:href=\"#DejaVuSans-48\"/>\n    </g>\n   </g>\n   <g id=\"text_45\">\n    <!-- 25 -->\n    <g style=\"fill:#262626;\" transform=\"translate(52.454893 168.414554)scale(0.1 -0.1)\">\n     <use xlink:href=\"#DejaVuSans-50\"/>\n     <use x=\"63.623047\" xlink:href=\"#DejaVuSans-53\"/>\n    </g>\n   </g>\n   <g id=\"text_46\">\n    <!-- 2373 -->\n    <g style=\"fill:#262626;\" transform=\"translate(88.614679 168.414554)scale(0.1 -0.1)\">\n     <use xlink:href=\"#DejaVuSans-50\"/>\n     <use x=\"63.623047\" xlink:href=\"#DejaVuSans-51\"/>\n     <use x=\"127.246094\" xlink:href=\"#DejaVuSans-55\"/>\n     <use x=\"190.869141\" xlink:href=\"#DejaVuSans-51\"/>\n    </g>\n   </g>\n   <g id=\"text_47\">\n    <!-- 42 -->\n    <g style=\"fill:#262626;\" transform=\"translate(137.499464 168.414554)scale(0.1 -0.1)\">\n     <use xlink:href=\"#DejaVuSans-52\"/>\n     <use x=\"63.623047\" xlink:href=\"#DejaVuSans-50\"/>\n    </g>\n   </g>\n   <g id=\"text_48\">\n    <!-- 0 -->\n    <g style=\"fill:#262626;\" transform=\"translate(183.203 168.414554)scale(0.1 -0.1)\">\n     <use xlink:href=\"#DejaVuSans-48\"/>\n    </g>\n   </g>\n   <g id=\"text_49\">\n    <!-- 462 -->\n    <g style=\"fill:#262626;\" transform=\"translate(219.362786 168.414554)scale(0.1 -0.1)\">\n     <use xlink:href=\"#DejaVuSans-52\"/>\n     <use x=\"63.623047\" xlink:href=\"#DejaVuSans-54\"/>\n     <use x=\"127.246094\" xlink:href=\"#DejaVuSans-50\"/>\n    </g>\n   </g>\n   <g id=\"text_50\">\n    <!-- 39 -->\n    <g style=\"fill:#262626;\" transform=\"translate(265.066321 168.414554)scale(0.1 -0.1)\">\n     <use xlink:href=\"#DejaVuSans-51\"/>\n     <use x=\"63.623047\" xlink:href=\"#DejaVuSans-57\"/>\n    </g>\n   </g>\n   <g id=\"text_51\">\n    <!-- 0 -->\n    <g style=\"fill:#262626;\" transform=\"translate(310.769857 168.414554)scale(0.1 -0.1)\">\n     <use xlink:href=\"#DejaVuSans-48\"/>\n    </g>\n   </g>\n   <g id=\"text_52\">\n    <!-- 0 -->\n    <g style=\"fill:#262626;\" transform=\"translate(55.636143 199.185982)scale(0.1 -0.1)\">\n     <use xlink:href=\"#DejaVuSans-48\"/>\n    </g>\n   </g>\n   <g id=\"text_53\">\n    <!-- 1378 -->\n    <g style=\"fill:#262626;\" transform=\"translate(88.614679 199.185982)scale(0.1 -0.1)\">\n     <use xlink:href=\"#DejaVuSans-49\"/>\n     <use x=\"63.623047\" xlink:href=\"#DejaVuSans-51\"/>\n     <use x=\"127.246094\" xlink:href=\"#DejaVuSans-55\"/>\n     <use x=\"190.869141\" xlink:href=\"#DejaVuSans-56\"/>\n    </g>\n   </g>\n   <g id=\"text_54\">\n    <!-- 2501 -->\n    <g style=\"fill:#262626;\" transform=\"translate(131.136964 199.185982)scale(0.1 -0.1)\">\n     <use xlink:href=\"#DejaVuSans-50\"/>\n     <use x=\"63.623047\" xlink:href=\"#DejaVuSans-53\"/>\n     <use x=\"127.246094\" xlink:href=\"#DejaVuSans-48\"/>\n     <use x=\"190.869141\" xlink:href=\"#DejaVuSans-49\"/>\n    </g>\n   </g>\n   <g id=\"text_55\">\n    <!-- 38 -->\n    <g style=\"fill:#262626;\" transform=\"translate(180.02175 199.185982)scale(0.1 -0.1)\">\n     <use xlink:href=\"#DejaVuSans-51\"/>\n     <use x=\"63.623047\" xlink:href=\"#DejaVuSans-56\"/>\n    </g>\n   </g>\n   <g id=\"text_56\">\n    <!-- 0 -->\n    <g style=\"fill:#262626;\" transform=\"translate(225.725286 199.185982)scale(0.1 -0.1)\">\n     <use xlink:href=\"#DejaVuSans-48\"/>\n    </g>\n   </g>\n   <g id=\"text_57\">\n    <!-- 1310 -->\n    <g style=\"fill:#262626;\" transform=\"translate(258.703821 199.185982)scale(0.1 -0.1)\">\n     <use xlink:href=\"#DejaVuSans-49\"/>\n     <use x=\"63.623047\" xlink:href=\"#DejaVuSans-51\"/>\n     <use x=\"127.246094\" xlink:href=\"#DejaVuSans-49\"/>\n     <use x=\"190.869141\" xlink:href=\"#DejaVuSans-48\"/>\n    </g>\n   </g>\n   <g id=\"text_58\">\n    <!-- 0 -->\n    <g style=\"fill:#262626;\" transform=\"translate(310.769857 199.185982)scale(0.1 -0.1)\">\n     <use xlink:href=\"#DejaVuSans-48\"/>\n    </g>\n   </g>\n   <g id=\"text_59\">\n    <!-- 2639 -->\n    <g style=\"fill:#262626;\" transform=\"translate(46.092393 229.957411)scale(0.1 -0.1)\">\n     <use xlink:href=\"#DejaVuSans-50\"/>\n     <use x=\"63.623047\" xlink:href=\"#DejaVuSans-54\"/>\n     <use x=\"127.246094\" xlink:href=\"#DejaVuSans-51\"/>\n     <use x=\"190.869141\" xlink:href=\"#DejaVuSans-57\"/>\n    </g>\n   </g>\n   <g id=\"text_60\">\n    <!-- 50 -->\n    <g style=\"fill:#262626;\" transform=\"translate(94.977179 229.957411)scale(0.1 -0.1)\">\n     <use xlink:href=\"#DejaVuSans-53\"/>\n     <use x=\"63.623047\" xlink:href=\"#DejaVuSans-48\"/>\n    </g>\n   </g>\n   <g id=\"text_61\">\n    <!-- 0 -->\n    <g style=\"fill:#262626;\" transform=\"translate(140.680714 229.957411)scale(0.1 -0.1)\">\n     <use xlink:href=\"#DejaVuSans-48\"/>\n    </g>\n   </g>\n   <g id=\"text_62\">\n    <!-- 0 -->\n    <g style=\"fill:#262626;\" transform=\"translate(183.203 229.957411)scale(0.1 -0.1)\">\n     <use xlink:href=\"#DejaVuSans-48\"/>\n    </g>\n   </g>\n   <g id=\"text_63\">\n    <!-- 0 -->\n    <g style=\"fill:#262626;\" transform=\"translate(225.725286 229.957411)scale(0.1 -0.1)\">\n     <use xlink:href=\"#DejaVuSans-48\"/>\n    </g>\n   </g>\n   <g id=\"text_64\">\n    <!-- 0 -->\n    <g style=\"fill:#262626;\" transform=\"translate(268.247571 229.957411)scale(0.1 -0.1)\">\n     <use xlink:href=\"#DejaVuSans-48\"/>\n    </g>\n   </g>\n   <g id=\"text_65\">\n    <!-- 3380 -->\n    <g style=\"fill:#262626;\" transform=\"translate(301.226107 229.957411)scale(0.1 -0.1)\">\n     <use xlink:href=\"#DejaVuSans-51\"/>\n     <use x=\"63.623047\" xlink:href=\"#DejaVuSans-51\"/>\n     <use x=\"127.246094\" xlink:href=\"#DejaVuSans-56\"/>\n     <use x=\"190.869141\" xlink:href=\"#DejaVuSans-48\"/>\n    </g>\n   </g>\n   <g id=\"text_66\">\n    <!-- Matriz de Confusão da Configuração 5 -->\n    <defs>\n     <path d=\"M 9.8125 72.90625 \nL 24.515625 72.90625 \nL 43.109375 23.296875 \nL 61.8125 72.90625 \nL 76.515625 72.90625 \nL 76.515625 0 \nL 66.890625 0 \nL 66.890625 64.015625 \nL 48.09375 14.015625 \nL 38.1875 14.015625 \nL 19.390625 64.015625 \nL 19.390625 0 \nL 9.8125 0 \nz\n\" id=\"DejaVuSans-77\"/>\n     <path d=\"M 5.515625 54.6875 \nL 48.1875 54.6875 \nL 48.1875 46.484375 \nL 14.40625 7.171875 \nL 48.1875 7.171875 \nL 48.1875 0 \nL 4.296875 0 \nL 4.296875 8.203125 \nL 38.09375 47.515625 \nL 5.515625 47.515625 \nz\n\" id=\"DejaVuSans-122\"/>\n     <path d=\"M 64.40625 67.28125 \nL 64.40625 56.890625 \nQ 59.421875 61.53125 53.78125 63.8125 \nQ 48.140625 66.109375 41.796875 66.109375 \nQ 29.296875 66.109375 22.65625 58.46875 \nQ 16.015625 50.828125 16.015625 36.375 \nQ 16.015625 21.96875 22.65625 14.328125 \nQ 29.296875 6.6875 41.796875 6.6875 \nQ 48.140625 6.6875 53.78125 8.984375 \nQ 59.421875 11.28125 64.40625 15.921875 \nL 64.40625 5.609375 \nQ 59.234375 2.09375 53.4375 0.328125 \nQ 47.65625 -1.421875 41.21875 -1.421875 \nQ 24.65625 -1.421875 15.125 8.703125 \nQ 5.609375 18.84375 5.609375 36.375 \nQ 5.609375 53.953125 15.125 64.078125 \nQ 24.65625 74.21875 41.21875 74.21875 \nQ 47.75 74.21875 53.53125 72.484375 \nQ 59.328125 70.75 64.40625 67.28125 \nz\n\" id=\"DejaVuSans-67\"/>\n     <path d=\"M 30.609375 48.390625 \nQ 23.390625 48.390625 19.1875 42.75 \nQ 14.984375 37.109375 14.984375 27.296875 \nQ 14.984375 17.484375 19.15625 11.84375 \nQ 23.34375 6.203125 30.609375 6.203125 \nQ 37.796875 6.203125 41.984375 11.859375 \nQ 46.1875 17.53125 46.1875 27.296875 \nQ 46.1875 37.015625 41.984375 42.703125 \nQ 37.796875 48.390625 30.609375 48.390625 \nz\nM 30.609375 56 \nQ 42.328125 56 49.015625 48.375 \nQ 55.71875 40.765625 55.71875 27.296875 \nQ 55.71875 13.875 49.015625 6.21875 \nQ 42.328125 -1.421875 30.609375 -1.421875 \nQ 18.84375 -1.421875 12.171875 6.21875 \nQ 5.515625 13.875 5.515625 27.296875 \nQ 5.515625 40.765625 12.171875 48.375 \nQ 18.84375 56 30.609375 56 \nz\n\" id=\"DejaVuSans-111\"/>\n     <path d=\"M 54.890625 33.015625 \nL 54.890625 0 \nL 45.90625 0 \nL 45.90625 32.71875 \nQ 45.90625 40.484375 42.875 44.328125 \nQ 39.84375 48.1875 33.796875 48.1875 \nQ 26.515625 48.1875 22.3125 43.546875 \nQ 18.109375 38.921875 18.109375 30.90625 \nL 18.109375 0 \nL 9.078125 0 \nL 9.078125 54.6875 \nL 18.109375 54.6875 \nL 18.109375 46.1875 \nQ 21.34375 51.125 25.703125 53.5625 \nQ 30.078125 56 35.796875 56 \nQ 45.21875 56 50.046875 50.171875 \nQ 54.890625 44.34375 54.890625 33.015625 \nz\n\" id=\"DejaVuSans-110\"/>\n     <path d=\"M 37.109375 75.984375 \nL 37.109375 68.5 \nL 28.515625 68.5 \nQ 23.6875 68.5 21.796875 66.546875 \nQ 19.921875 64.59375 19.921875 59.515625 \nL 19.921875 54.6875 \nL 34.71875 54.6875 \nL 34.71875 47.703125 \nL 19.921875 47.703125 \nL 19.921875 0 \nL 10.890625 0 \nL 10.890625 47.703125 \nL 2.296875 47.703125 \nL 2.296875 54.6875 \nL 10.890625 54.6875 \nL 10.890625 58.5 \nQ 10.890625 67.625 15.140625 71.796875 \nQ 19.390625 75.984375 28.609375 75.984375 \nz\n\" id=\"DejaVuSans-102\"/>\n     <path d=\"M 44.28125 53.078125 \nL 44.28125 44.578125 \nQ 40.484375 46.53125 36.375 47.5 \nQ 32.28125 48.484375 27.875 48.484375 \nQ 21.1875 48.484375 17.84375 46.4375 \nQ 14.5 44.390625 14.5 40.28125 \nQ 14.5 37.15625 16.890625 35.375 \nQ 19.28125 33.59375 26.515625 31.984375 \nL 29.59375 31.296875 \nQ 39.15625 29.25 43.1875 25.515625 \nQ 47.21875 21.78125 47.21875 15.09375 \nQ 47.21875 7.46875 41.1875 3.015625 \nQ 35.15625 -1.421875 24.609375 -1.421875 \nQ 20.21875 -1.421875 15.453125 -0.5625 \nQ 10.6875 0.296875 5.421875 2 \nL 5.421875 11.28125 \nQ 10.40625 8.6875 15.234375 7.390625 \nQ 20.0625 6.109375 24.8125 6.109375 \nQ 31.15625 6.109375 34.5625 8.28125 \nQ 37.984375 10.453125 37.984375 14.40625 \nQ 37.984375 18.0625 35.515625 20.015625 \nQ 33.0625 21.96875 24.703125 23.78125 \nL 21.578125 24.515625 \nQ 13.234375 26.265625 9.515625 29.90625 \nQ 5.8125 33.546875 5.8125 39.890625 \nQ 5.8125 47.609375 11.28125 51.796875 \nQ 16.75 56 26.8125 56 \nQ 31.78125 56 36.171875 55.265625 \nQ 40.578125 54.546875 44.28125 53.078125 \nz\n\" id=\"DejaVuSans-115\"/>\n     <path d=\"M 34.28125 27.484375 \nQ 23.390625 27.484375 19.1875 25 \nQ 14.984375 22.515625 14.984375 16.5 \nQ 14.984375 11.71875 18.140625 8.90625 \nQ 21.296875 6.109375 26.703125 6.109375 \nQ 34.1875 6.109375 38.703125 11.40625 \nQ 43.21875 16.703125 43.21875 25.484375 \nL 43.21875 27.484375 \nz\nM 52.203125 31.203125 \nL 52.203125 0 \nL 43.21875 0 \nL 43.21875 8.296875 \nQ 40.140625 3.328125 35.546875 0.953125 \nQ 30.953125 -1.421875 24.3125 -1.421875 \nQ 15.921875 -1.421875 10.953125 3.296875 \nQ 6 8.015625 6 15.921875 \nQ 6 25.140625 12.171875 29.828125 \nQ 18.359375 34.515625 30.609375 34.515625 \nL 43.21875 34.515625 \nL 43.21875 35.40625 \nQ 43.21875 41.609375 39.140625 45 \nQ 35.0625 48.390625 27.6875 48.390625 \nQ 23 48.390625 18.546875 47.265625 \nQ 14.109375 46.140625 10.015625 43.890625 \nL 10.015625 52.203125 \nQ 14.9375 54.109375 19.578125 55.046875 \nQ 24.21875 56 28.609375 56 \nQ 40.484375 56 46.34375 49.84375 \nQ 52.203125 43.703125 52.203125 31.203125 \nz\nM 28.8125 66.890625 \nL 26.03125 69.578125 \nQ 24.953125 70.5625 24.140625 71.015625 \nQ 23.34375 71.484375 22.703125 71.484375 \nQ 20.84375 71.484375 19.96875 69.703125 \nQ 19.09375 67.921875 19 63.921875 \nL 12.890625 63.921875 \nQ 12.984375 70.515625 15.46875 74.09375 \nQ 17.96875 77.6875 22.40625 77.6875 \nQ 24.265625 77.6875 25.828125 77 \nQ 27.390625 76.3125 29.203125 74.703125 \nL 31.984375 72.015625 \nQ 33.0625 71.046875 33.859375 70.578125 \nQ 34.671875 70.125 35.296875 70.125 \nQ 37.15625 70.125 38.03125 71.90625 \nQ 38.921875 73.6875 39.015625 77.6875 \nL 45.125 77.6875 \nQ 45.015625 71.09375 42.53125 67.5 \nQ 40.046875 63.921875 35.59375 63.921875 \nQ 33.734375 63.921875 32.171875 64.59375 \nQ 30.609375 65.28125 28.8125 66.890625 \nz\n\" id=\"DejaVuSans-227\"/>\n     <path d=\"M 45.40625 27.984375 \nQ 45.40625 37.75 41.375 43.109375 \nQ 37.359375 48.484375 30.078125 48.484375 \nQ 22.859375 48.484375 18.828125 43.109375 \nQ 14.796875 37.75 14.796875 27.984375 \nQ 14.796875 18.265625 18.828125 12.890625 \nQ 22.859375 7.515625 30.078125 7.515625 \nQ 37.359375 7.515625 41.375 12.890625 \nQ 45.40625 18.265625 45.40625 27.984375 \nz\nM 54.390625 6.78125 \nQ 54.390625 -7.171875 48.1875 -13.984375 \nQ 42 -20.796875 29.203125 -20.796875 \nQ 24.46875 -20.796875 20.265625 -20.09375 \nQ 16.0625 -19.390625 12.109375 -17.921875 \nL 12.109375 -9.1875 \nQ 16.0625 -11.328125 19.921875 -12.34375 \nQ 23.78125 -13.375 27.78125 -13.375 \nQ 36.625 -13.375 41.015625 -8.765625 \nQ 45.40625 -4.15625 45.40625 5.171875 \nL 45.40625 9.625 \nQ 42.625 4.78125 38.28125 2.390625 \nQ 33.9375 0 27.875 0 \nQ 17.828125 0 11.671875 7.65625 \nQ 5.515625 15.328125 5.515625 27.984375 \nQ 5.515625 40.671875 11.671875 48.328125 \nQ 17.828125 56 27.875 56 \nQ 33.9375 56 38.28125 53.609375 \nQ 42.625 51.21875 45.40625 46.390625 \nL 45.40625 54.6875 \nL 54.390625 54.6875 \nz\n\" id=\"DejaVuSans-103\"/>\n     <path d=\"M 48.78125 52.59375 \nL 48.78125 44.1875 \nQ 44.96875 46.296875 41.140625 47.34375 \nQ 37.3125 48.390625 33.40625 48.390625 \nQ 24.65625 48.390625 19.8125 42.84375 \nQ 14.984375 37.3125 14.984375 27.296875 \nQ 14.984375 17.28125 19.8125 11.734375 \nQ 24.65625 6.203125 33.40625 6.203125 \nQ 37.3125 6.203125 41.140625 7.25 \nQ 44.96875 8.296875 48.78125 10.40625 \nL 48.78125 2.09375 \nQ 45.015625 0.34375 40.984375 -0.53125 \nQ 36.96875 -1.421875 32.421875 -1.421875 \nQ 20.0625 -1.421875 12.78125 6.34375 \nQ 5.515625 14.109375 5.515625 27.296875 \nQ 5.515625 40.671875 12.859375 48.328125 \nQ 20.21875 56 33.015625 56 \nQ 37.15625 56 41.109375 55.140625 \nQ 45.0625 54.296875 48.78125 52.59375 \nz\nM 36.078125 0 \nQ 38.765625 -3.03125 40.078125 -5.59375 \nQ 41.40625 -8.15625 41.40625 -10.5 \nQ 41.40625 -14.84375 38.46875 -17.0625 \nQ 35.546875 -19.28125 29.78125 -19.28125 \nQ 27.546875 -19.28125 25.421875 -18.984375 \nQ 23.296875 -18.703125 21.1875 -18.109375 \nL 21.1875 -11.71875 \nQ 22.859375 -12.546875 24.65625 -12.90625 \nQ 26.46875 -13.28125 28.765625 -13.28125 \nQ 31.640625 -13.28125 33.109375 -12.109375 \nQ 34.578125 -10.9375 34.578125 -8.6875 \nQ 34.578125 -7.234375 33.515625 -5.109375 \nQ 32.46875 -2.984375 30.28125 0 \nz\n\" id=\"DejaVuSans-231\"/>\n    </defs>\n    <g transform=\"translate(14.298625 21.18375)scale(0.18 -0.18)\">\n     <use xlink:href=\"#DejaVuSans-77\"/>\n     <use x=\"86.279297\" xlink:href=\"#DejaVuSans-97\"/>\n     <use x=\"147.558594\" xlink:href=\"#DejaVuSans-116\"/>\n     <use x=\"186.767578\" xlink:href=\"#DejaVuSans-114\"/>\n     <use x=\"227.880859\" xlink:href=\"#DejaVuSans-105\"/>\n     <use x=\"255.664062\" xlink:href=\"#DejaVuSans-122\"/>\n     <use x=\"308.154297\" xlink:href=\"#DejaVuSans-32\"/>\n     <use x=\"339.941406\" xlink:href=\"#DejaVuSans-100\"/>\n     <use x=\"403.417969\" xlink:href=\"#DejaVuSans-101\"/>\n     <use x=\"464.941406\" xlink:href=\"#DejaVuSans-32\"/>\n     <use x=\"496.728516\" xlink:href=\"#DejaVuSans-67\"/>\n     <use x=\"566.552734\" xlink:href=\"#DejaVuSans-111\"/>\n     <use x=\"627.734375\" xlink:href=\"#DejaVuSans-110\"/>\n     <use x=\"691.113281\" xlink:href=\"#DejaVuSans-102\"/>\n     <use x=\"726.318359\" xlink:href=\"#DejaVuSans-117\"/>\n     <use x=\"789.697266\" xlink:href=\"#DejaVuSans-115\"/>\n     <use x=\"841.796875\" xlink:href=\"#DejaVuSans-227\"/>\n     <use x=\"903.076172\" xlink:href=\"#DejaVuSans-111\"/>\n     <use x=\"964.257812\" xlink:href=\"#DejaVuSans-32\"/>\n     <use x=\"996.044922\" xlink:href=\"#DejaVuSans-100\"/>\n     <use x=\"1059.521484\" xlink:href=\"#DejaVuSans-97\"/>\n     <use x=\"1120.800781\" xlink:href=\"#DejaVuSans-32\"/>\n     <use x=\"1152.587891\" xlink:href=\"#DejaVuSans-67\"/>\n     <use x=\"1222.412109\" xlink:href=\"#DejaVuSans-111\"/>\n     <use x=\"1283.59375\" xlink:href=\"#DejaVuSans-110\"/>\n     <use x=\"1346.972656\" xlink:href=\"#DejaVuSans-102\"/>\n     <use x=\"1382.177734\" xlink:href=\"#DejaVuSans-105\"/>\n     <use x=\"1409.960938\" xlink:href=\"#DejaVuSans-103\"/>\n     <use x=\"1473.4375\" xlink:href=\"#DejaVuSans-117\"/>\n     <use x=\"1536.816406\" xlink:href=\"#DejaVuSans-114\"/>\n     <use x=\"1577.929688\" xlink:href=\"#DejaVuSans-97\"/>\n     <use x=\"1639.208984\" xlink:href=\"#DejaVuSans-231\"/>\n     <use x=\"1694.189453\" xlink:href=\"#DejaVuSans-227\"/>\n     <use x=\"1755.46875\" xlink:href=\"#DejaVuSans-111\"/>\n     <use x=\"1816.650391\" xlink:href=\"#DejaVuSans-32\"/>\n     <use x=\"1848.4375\" xlink:href=\"#DejaVuSans-53\"/>\n    </g>\n   </g>\n  </g>\n  <g id=\"axes_2\">\n   <g id=\"patch_3\">\n    <path clip-path=\"url(#p35d8b83b4f)\" d=\"M 353.81575 242.58375 \nL 353.81575 241.742344 \nL 353.81575 28.025156 \nL 353.81575 27.18375 \nL 364.58575 27.18375 \nL 364.58575 28.025156 \nL 364.58575 241.742344 \nL 364.58575 242.58375 \nz\n\" style=\"fill:#ffffff;stroke:#ffffff;stroke-linejoin:miter;stroke-width:0.01;\"/>\n   </g>\n   <image height=\"215\" id=\"imagebbdf0e1123\" transform=\"scale(1 -1)translate(0 -215)\" width=\"11\" x=\"354\" xlink:href=\"data:image/png;base64,\niVBORw0KGgoAAAANSUhEUgAAAAsAAADXCAYAAADMUKtyAAAABHNCSVQICAgIfAhkiAAAASBJREFUaIHt2EtqBCEABFADc/+rZpNlq7mCL1BQNpl1UdRPR/pr/3zvcfj7jHGMHZ+xFoCJecfAZjDGXGJQmPeWui80OHIGTfMx9laDHZrnrJAhzNsMPiKjoxRitgZfbzA2pCvT6DBIb6QVM0gyXt8gveta/oAuTKPEYMmBLVldMI2OUnJpBPfckYYw75JS/vf8Z3DJni06+WQxUzlvu8wrDOKbP6a5Iw2s+xhbU3fJno357XumIa2cDPnGmGOeZNDSABm5NMxgRykle14lBoUZDyww0/gBi2lA25qzMKMMYo5pplJiMux+7pBhzKJ5dsjAiQo4dgZz4JzmJ3YV4OkWGcL8xC5zkpGLLtjgOTGnQcygGdMAcO5VcOeeiTmk+ReJobfc4+cBQQAAAABJRU5ErkJggg==\" y=\"-27\"/>\n   <g id=\"matplotlib.axis_3\"/>\n   <g id=\"matplotlib.axis_4\">\n    <g id=\"ytick_8\">\n     <g id=\"line2d_15\">\n      <defs>\n       <path d=\"M 0 0 \nL 3.5 0 \n\" id=\"m5880f2e214\" style=\"stroke:#000000;stroke-width:0.8;\"/>\n      </defs>\n      <g>\n       <use style=\"stroke:#000000;stroke-width:0.8;\" x=\"364.58575\" xlink:href=\"#m5880f2e214\" y=\"242.58375\"/>\n      </g>\n     </g>\n     <g id=\"text_67\">\n      <!-- 0 -->\n      <g transform=\"translate(371.58575 246.382969)scale(0.1 -0.1)\">\n       <use xlink:href=\"#DejaVuSans-48\"/>\n      </g>\n     </g>\n    </g>\n    <g id=\"ytick_9\">\n     <g id=\"line2d_16\">\n      <g>\n       <use style=\"stroke:#000000;stroke-width:0.8;\" x=\"364.58575\" xlink:href=\"#m5880f2e214\" y=\"211.931864\"/>\n      </g>\n     </g>\n     <g id=\"text_68\">\n      <!-- 10000 -->\n      <g transform=\"translate(371.58575 215.731083)scale(0.1 -0.1)\">\n       <use xlink:href=\"#DejaVuSans-49\"/>\n       <use x=\"63.623047\" xlink:href=\"#DejaVuSans-48\"/>\n       <use x=\"127.246094\" xlink:href=\"#DejaVuSans-48\"/>\n       <use x=\"190.869141\" xlink:href=\"#DejaVuSans-48\"/>\n       <use x=\"254.492188\" xlink:href=\"#DejaVuSans-48\"/>\n      </g>\n     </g>\n    </g>\n    <g id=\"ytick_10\">\n     <g id=\"line2d_17\">\n      <g>\n       <use style=\"stroke:#000000;stroke-width:0.8;\" x=\"364.58575\" xlink:href=\"#m5880f2e214\" y=\"181.279978\"/>\n      </g>\n     </g>\n     <g id=\"text_69\">\n      <!-- 20000 -->\n      <g transform=\"translate(371.58575 185.079196)scale(0.1 -0.1)\">\n       <use xlink:href=\"#DejaVuSans-50\"/>\n       <use x=\"63.623047\" xlink:href=\"#DejaVuSans-48\"/>\n       <use x=\"127.246094\" xlink:href=\"#DejaVuSans-48\"/>\n       <use x=\"190.869141\" xlink:href=\"#DejaVuSans-48\"/>\n       <use x=\"254.492188\" xlink:href=\"#DejaVuSans-48\"/>\n      </g>\n     </g>\n    </g>\n    <g id=\"ytick_11\">\n     <g id=\"line2d_18\">\n      <g>\n       <use style=\"stroke:#000000;stroke-width:0.8;\" x=\"364.58575\" xlink:href=\"#m5880f2e214\" y=\"150.628091\"/>\n      </g>\n     </g>\n     <g id=\"text_70\">\n      <!-- 30000 -->\n      <g transform=\"translate(371.58575 154.42731)scale(0.1 -0.1)\">\n       <use xlink:href=\"#DejaVuSans-51\"/>\n       <use x=\"63.623047\" xlink:href=\"#DejaVuSans-48\"/>\n       <use x=\"127.246094\" xlink:href=\"#DejaVuSans-48\"/>\n       <use x=\"190.869141\" xlink:href=\"#DejaVuSans-48\"/>\n       <use x=\"254.492188\" xlink:href=\"#DejaVuSans-48\"/>\n      </g>\n     </g>\n    </g>\n    <g id=\"ytick_12\">\n     <g id=\"line2d_19\">\n      <g>\n       <use style=\"stroke:#000000;stroke-width:0.8;\" x=\"364.58575\" xlink:href=\"#m5880f2e214\" y=\"119.976205\"/>\n      </g>\n     </g>\n     <g id=\"text_71\">\n      <!-- 40000 -->\n      <g transform=\"translate(371.58575 123.775424)scale(0.1 -0.1)\">\n       <use xlink:href=\"#DejaVuSans-52\"/>\n       <use x=\"63.623047\" xlink:href=\"#DejaVuSans-48\"/>\n       <use x=\"127.246094\" xlink:href=\"#DejaVuSans-48\"/>\n       <use x=\"190.869141\" xlink:href=\"#DejaVuSans-48\"/>\n       <use x=\"254.492188\" xlink:href=\"#DejaVuSans-48\"/>\n      </g>\n     </g>\n    </g>\n    <g id=\"ytick_13\">\n     <g id=\"line2d_20\">\n      <g>\n       <use style=\"stroke:#000000;stroke-width:0.8;\" x=\"364.58575\" xlink:href=\"#m5880f2e214\" y=\"89.324319\"/>\n      </g>\n     </g>\n     <g id=\"text_72\">\n      <!-- 50000 -->\n      <g transform=\"translate(371.58575 93.123538)scale(0.1 -0.1)\">\n       <use xlink:href=\"#DejaVuSans-53\"/>\n       <use x=\"63.623047\" xlink:href=\"#DejaVuSans-48\"/>\n       <use x=\"127.246094\" xlink:href=\"#DejaVuSans-48\"/>\n       <use x=\"190.869141\" xlink:href=\"#DejaVuSans-48\"/>\n       <use x=\"254.492188\" xlink:href=\"#DejaVuSans-48\"/>\n      </g>\n     </g>\n    </g>\n    <g id=\"ytick_14\">\n     <g id=\"line2d_21\">\n      <g>\n       <use style=\"stroke:#000000;stroke-width:0.8;\" x=\"364.58575\" xlink:href=\"#m5880f2e214\" y=\"58.672433\"/>\n      </g>\n     </g>\n     <g id=\"text_73\">\n      <!-- 60000 -->\n      <g transform=\"translate(371.58575 62.471651)scale(0.1 -0.1)\">\n       <use xlink:href=\"#DejaVuSans-54\"/>\n       <use x=\"63.623047\" xlink:href=\"#DejaVuSans-48\"/>\n       <use x=\"127.246094\" xlink:href=\"#DejaVuSans-48\"/>\n       <use x=\"190.869141\" xlink:href=\"#DejaVuSans-48\"/>\n       <use x=\"254.492188\" xlink:href=\"#DejaVuSans-48\"/>\n      </g>\n     </g>\n    </g>\n    <g id=\"ytick_15\">\n     <g id=\"line2d_22\">\n      <g>\n       <use style=\"stroke:#000000;stroke-width:0.8;\" x=\"364.58575\" xlink:href=\"#m5880f2e214\" y=\"28.020546\"/>\n      </g>\n     </g>\n     <g id=\"text_74\">\n      <!-- 70000 -->\n      <g transform=\"translate(371.58575 31.819765)scale(0.1 -0.1)\">\n       <use xlink:href=\"#DejaVuSans-55\"/>\n       <use x=\"63.623047\" xlink:href=\"#DejaVuSans-48\"/>\n       <use x=\"127.246094\" xlink:href=\"#DejaVuSans-48\"/>\n       <use x=\"190.869141\" xlink:href=\"#DejaVuSans-48\"/>\n       <use x=\"254.492188\" xlink:href=\"#DejaVuSans-48\"/>\n      </g>\n     </g>\n    </g>\n   </g>\n   <g id=\"patch_4\">\n    <path d=\"M 353.81575 242.58375 \nL 353.81575 241.742344 \nL 353.81575 28.025156 \nL 353.81575 27.18375 \nL 364.58575 27.18375 \nL 364.58575 28.025156 \nL 364.58575 241.742344 \nL 364.58575 242.58375 \nz\n\" style=\"fill:none;\"/>\n   </g>\n  </g>\n </g>\n <defs>\n  <clipPath id=\"p150ac62f99\">\n   <rect height=\"215.4\" width=\"297.656\" x=\"37.55625\" y=\"27.18375\"/>\n  </clipPath>\n  <clipPath id=\"p35d8b83b4f\">\n   <rect height=\"215.4\" width=\"10.77\" x=\"353.81575\" y=\"27.18375\"/>\n  </clipPath>\n </defs>\n</svg>\n",
            "image/png": "[encoded data removed]"
          },
          "metadata": {
            "needs_background": "light"
          }
        }
      ]
    },
    {
      "cell_type": "markdown",
      "metadata": {
        "id": "ipBQ7gw16Uys"
      },
      "source": [
        "## Estimando o número de neurônios\n",
        "\n",
        "Um dos problemas de pesquisa com redes neurais artificiais consiste na determinação do número de neurônios em sua arquitetura. Embora não seja possível definir a priori qual rede neural é adequada para um problema, pois isto só é possível mediante uma busca exaustiva, há regras na literatura que sugerem o número de neurônios escondidos, tal como a regra da Pirâmide Geométrica, dada a seguir:\n",
        "\n",
        "$$N_h = \\alpha \\cdot \\sqrt{N_i \\cdot N_o},$$\n",
        "\n",
        "em que $N_h$ é o número de neurônios ocultos (a serem distribuídos em uma ou duas camadas ocultas), $N_i$ é o número de neurônios na camada de entrada e $N_o$ é o número de neurônios na camada de saída. \n",
        "\n",
        "1. Consulte a documentação da classe MLPClassifier (disponível em https://scikit-learn.org/stable/modules/generated/sklearn.neural_network.MLPClassifier.html) e obtenha os valores de $N_i$ e $N_o$.\n",
        "2. Teste os valores de $\\alpha$ como sendo iguais a $0.5$, $2$ e $3$.\n",
        "3. Proponha pelo menos 30 redes neurais segundo a regra da pirâmide geométrica e teste-as nos mesmos termos estabelecidos anterioremente  (solver, épocas, etc.)  \n",
        "    3.1 Apresente as top-3 melhores redes no tocante à F-Score e Acurácia  "
      ]
    },
    {
      "cell_type": "code",
      "metadata": {
        "id": "yACttjR06Uyt",
        "outputId": "6709e8a1-4c6e-4871-8665-825b0562df3b",
        "colab": {
          "base_uri": "https://localhost:8080/",
          "height": 34
        }
      },
      "source": [
        "def piramide_geometrica(alfa, ni, no):\n",
        "    return int(alfa * sqrt(ni * no))\n",
        "\n",
        "no = mlp.n_outputs_\n",
        "ni = x.columns.size\n",
        "\n",
        "neuronios_ocultos = [\n",
        "  piramide_geometrica(0.5, ni, no),\n",
        "  piramide_geometrica(2, ni, no),\n",
        "  piramide_geometrica(3, ni, no)\n",
        "]\n",
        "\n",
        "print(neuronios_ocultos)\n"
      ],
      "execution_count": 20,
      "outputs": [
        {
          "output_type": "stream",
          "text": [
            "[4, 16, 25]\n"
          ],
          "name": "stdout"
        }
      ]
    },
    {
      "cell_type": "code",
      "metadata": {
        "id": "m12os3udMoOa",
        "outputId": "0fdf5633-26fb-4fc8-94c8-bab85b4646e7",
        "colab": {
          "base_uri": "https://localhost:8080/",
          "height": 34
        }
      },
      "source": [
        "conf_piramide = [1, 'identity', 'adam', 100, 21, \n",
        "  1, 'logistic', 'sgd', 150, 3, \n",
        "  1, 'tanh', 'adam', 200, 17, \n",
        "  1, 'relu', 'sgd', 100, 7, \n",
        "  1, 'identity', 'sgd', 150, 4, \n",
        "  2, 'logistic', 'adam', 200, (3, 13), \n",
        "  2, 'tanh', 'sgd', 100, (13, 3),\n",
        "  2, 'relu', 'adam', 150, (20, 5),\n",
        "  2, 'identity', 'adam', 200, (3, 1),\n",
        "  2, 'relu', 'sgd', 100, (1, 15),\n",
        "  1, 'identity', 'adam', 100, 25,\n",
        "  1, 'logistic', 'sgd', 150, 2,\n",
        "  1, 'tanh', 'adam', 200, 20,\n",
        "  1, 'relu', 'sgd', 100, 19,\n",
        "  1, 'identity', 'sgd', 200, 13,\n",
        "  2, 'logistic', 'adam', 200, (15,10),\n",
        "  2, 'tanh', 'sgd', 100, (8, 8),\n",
        "  2, 'relu', 'adam', 150, (5, 11),\n",
        "  2, 'identity', 'adam', 200, (11, 5), \n",
        "  2, 'relu', 'sgd', 100, (9, 7),\n",
        "  1, 'identity', 'adam', 100, 11, \n",
        "  1, 'logistic', 'sgd', 150, 14,\n",
        "  1, 'tanh', 'adam', 200, 16,\n",
        "  1, 'relu', 'sgd', 100, 18,\n",
        "  1, 'identity', 'sgd', 150, 10,\n",
        "  2, 'logistic', 'adam', 200, (10, 15),\n",
        "  2, 'tanh', 'sgd', 100, (2, 2),\n",
        "  2, 'relu', 'adam', 150, (7, 18),\n",
        "  2, 'identity', 'adam', 200, (18, 7), \n",
        "  2, 'relu', 'sgd', 100, (1, 3)]\n",
        "\n",
        "len(conf_piramide)"
      ],
      "execution_count": 21,
      "outputs": [
        {
          "output_type": "execute_result",
          "data": {
            "text/plain": [
              "150"
            ]
          },
          "metadata": {
            "tags": []
          },
          "execution_count": 21
        }
      ]
    },
    {
      "cell_type": "code",
      "metadata": {
        "id": "v7ZwBhBIROYP",
        "outputId": "7ff360e7-918a-4682-d528-00ade1eae96f",
        "colab": {
          "base_uri": "https://localhost:8080/",
          "height": 544
        }
      },
      "source": [
        "df_confgs = pd.DataFrame(np.array(conf_piramide).reshape(30,5), columns = [\"Camadas\",\n",
        "                    'Função de Ativação',\n",
        "                    'Hiperparametro',\n",
        "                    'Épocas',\n",
        "                    'Neurônios'])\n",
        "            \n",
        "df_confgs[\"Épocas\"] = pd.to_numeric(df_confgs[\"Épocas\"])\n",
        "print (df_confgs)"
      ],
      "execution_count": 23,
      "outputs": [
        {
          "output_type": "stream",
          "text": [
            "   Camadas Função de Ativação Hiperparametro  Épocas Neurônios\n",
            "0        1           identity           adam     100        21\n",
            "1        1           logistic            sgd     150         3\n",
            "2        1               tanh           adam     200        17\n",
            "3        1               relu            sgd     100         7\n",
            "4        1           identity            sgd     150         4\n",
            "5        2           logistic           adam     200   (3, 13)\n",
            "6        2               tanh            sgd     100   (13, 3)\n",
            "7        2               relu           adam     150   (20, 5)\n",
            "8        2           identity           adam     200    (3, 1)\n",
            "9        2               relu            sgd     100   (1, 15)\n",
            "10       1           identity           adam     100        25\n",
            "11       1           logistic            sgd     150         2\n",
            "12       1               tanh           adam     200        20\n",
            "13       1               relu            sgd     100        19\n",
            "14       1           identity            sgd     200        13\n",
            "15       2           logistic           adam     200  (15, 10)\n",
            "16       2               tanh            sgd     100    (8, 8)\n",
            "17       2               relu           adam     150   (5, 11)\n",
            "18       2           identity           adam     200   (11, 5)\n",
            "19       2               relu            sgd     100    (9, 7)\n",
            "20       1           identity           adam     100        11\n",
            "21       1           logistic            sgd     150        14\n",
            "22       1               tanh           adam     200        16\n",
            "23       1               relu            sgd     100        18\n",
            "24       1           identity            sgd     150        10\n",
            "25       2           logistic           adam     200  (10, 15)\n",
            "26       2               tanh            sgd     100    (2, 2)\n",
            "27       2               relu           adam     150   (7, 18)\n",
            "28       2           identity           adam     200   (18, 7)\n",
            "29       2               relu            sgd     100    (1, 3)\n"
          ],
          "name": "stdout"
        }
      ]
    },
    {
      "cell_type": "code",
      "metadata": {
        "id": "87DXzRvIRTUC",
        "outputId": "f530258c-8afd-433b-a83c-ade5f03e3ece",
        "colab": {
          "base_uri": "https://localhost:8080/",
          "height": 1000
        }
      },
      "source": [
        "TOTAL_CONFIG = 30\n",
        "ITERATIONS = 10\n",
        "score= np.zeros(ITERATIONS)\n",
        "acuracia = np.zeros(ITERATIONS)\n",
        "\n",
        "medias_acuracia = np.zeros(TOTAL_CONFIG)\n",
        "medias_f1score = np.zeros(TOTAL_CONFIG)\n",
        "\n",
        "dp_acuracia = np.zeros(TOTAL_CONFIG)\n",
        "dp_f1score = np.zeros(TOTAL_CONFIG)\n",
        "\n",
        "for i in range(TOTAL_CONFIG):\n",
        "    print(\"Executando Configuração: \", i+1)\n",
        "    mlp = MLPClassifier(hidden_layer_sizes= df_confgs['Neurônios'][i], activation= df_confgs['Função de Ativação'][i], solver= df_confgs['Hiperparametro'][i], max_iter= df_confgs['Épocas'][i], verbose= False)\n",
        "\n",
        "    for j in range(ITERATIONS):\n",
        "       \n",
        "        X_train, X_test, Y_train, Y_test = train_test_split(x, y, test_size = 0.3, random_state = 42)\n",
        "        X_train_std = (X_train - np.mean(X_train))/np.std(X_train)\n",
        "        X_test_std = (X_test - np.mean(X_train))/np.std(X_train)\n",
        "       \n",
        "        mlp.fit(X_train_std, Y_train)\n",
        "        predictions = mlp.predict(X_test_std)\n",
        "  \n",
        "        acuracia[j]= accuracy_score(Y_test,predictions)\n",
        "        score[j]= f1_score(Y_test,predictions, average= 'macro')\n",
        "\n",
        "    medias_acuracia[i] = acuracia.mean()\n",
        "    medias_f1score[i] = score.mean()\n",
        "\n",
        "    dp_acuracia[i] = acuracia.std()\n",
        "    dp_f1score[i] = score.std()\n",
        "  \n",
        "savetxt('/content/drive/My Drive/PP3/media-acuracia.csv', medias_acuracia, delimiter=',')\n",
        "savetxt('/content/drive/My Drive/PP3/media-f1score.csv', medias_f1score, delimiter=',')\n",
        "savetxt('/content/drive/My Drive/PP3/dp-acuracia.csv', dp_acuracia, delimiter=',')\n",
        "savetxt('/content/drive/My Drive/PP3/dp-f1score.csv', dp_f1score, delimiter=',')"
      ],
      "execution_count": 27,
      "outputs": [
        {
          "output_type": "stream",
          "text": [
            "Executando Configuração:  1\n",
            "Executando Configuração:  2\n"
          ],
          "name": "stdout"
        },
        {
          "output_type": "stream",
          "text": [
            "/usr/local/lib/python3.6/dist-packages/sklearn/neural_network/_multilayer_perceptron.py:571: ConvergenceWarning: Stochastic Optimizer: Maximum iterations (150) reached and the optimization hasn't converged yet.\n",
            "  % self.max_iter, ConvergenceWarning)\n",
            "/usr/local/lib/python3.6/dist-packages/sklearn/neural_network/_multilayer_perceptron.py:571: ConvergenceWarning: Stochastic Optimizer: Maximum iterations (150) reached and the optimization hasn't converged yet.\n",
            "  % self.max_iter, ConvergenceWarning)\n"
          ],
          "name": "stderr"
        },
        {
          "output_type": "stream",
          "text": [
            "Executando Configuração:  3\n"
          ],
          "name": "stdout"
        },
        {
          "output_type": "stream",
          "text": [
            "/usr/local/lib/python3.6/dist-packages/sklearn/neural_network/_multilayer_perceptron.py:571: ConvergenceWarning: Stochastic Optimizer: Maximum iterations (200) reached and the optimization hasn't converged yet.\n",
            "  % self.max_iter, ConvergenceWarning)\n",
            "/usr/local/lib/python3.6/dist-packages/sklearn/neural_network/_multilayer_perceptron.py:571: ConvergenceWarning: Stochastic Optimizer: Maximum iterations (200) reached and the optimization hasn't converged yet.\n",
            "  % self.max_iter, ConvergenceWarning)\n"
          ],
          "name": "stderr"
        },
        {
          "output_type": "stream",
          "text": [
            "Executando Configuração:  4\n"
          ],
          "name": "stdout"
        },
        {
          "output_type": "stream",
          "text": [
            "/usr/local/lib/python3.6/dist-packages/sklearn/neural_network/_multilayer_perceptron.py:571: ConvergenceWarning: Stochastic Optimizer: Maximum iterations (100) reached and the optimization hasn't converged yet.\n",
            "  % self.max_iter, ConvergenceWarning)\n",
            "/usr/local/lib/python3.6/dist-packages/sklearn/neural_network/_multilayer_perceptron.py:571: ConvergenceWarning: Stochastic Optimizer: Maximum iterations (100) reached and the optimization hasn't converged yet.\n",
            "  % self.max_iter, ConvergenceWarning)\n",
            "/usr/local/lib/python3.6/dist-packages/sklearn/neural_network/_multilayer_perceptron.py:571: ConvergenceWarning: Stochastic Optimizer: Maximum iterations (100) reached and the optimization hasn't converged yet.\n",
            "  % self.max_iter, ConvergenceWarning)\n"
          ],
          "name": "stderr"
        },
        {
          "output_type": "stream",
          "text": [
            "Executando Configuração:  5\n",
            "Executando Configuração:  6\n",
            "Executando Configuração:  7\n"
          ],
          "name": "stdout"
        },
        {
          "output_type": "stream",
          "text": [
            "/usr/local/lib/python3.6/dist-packages/sklearn/neural_network/_multilayer_perceptron.py:571: ConvergenceWarning: Stochastic Optimizer: Maximum iterations (100) reached and the optimization hasn't converged yet.\n",
            "  % self.max_iter, ConvergenceWarning)\n",
            "/usr/local/lib/python3.6/dist-packages/sklearn/neural_network/_multilayer_perceptron.py:571: ConvergenceWarning: Stochastic Optimizer: Maximum iterations (100) reached and the optimization hasn't converged yet.\n",
            "  % self.max_iter, ConvergenceWarning)\n",
            "/usr/local/lib/python3.6/dist-packages/sklearn/neural_network/_multilayer_perceptron.py:571: ConvergenceWarning: Stochastic Optimizer: Maximum iterations (100) reached and the optimization hasn't converged yet.\n",
            "  % self.max_iter, ConvergenceWarning)\n",
            "/usr/local/lib/python3.6/dist-packages/sklearn/neural_network/_multilayer_perceptron.py:571: ConvergenceWarning: Stochastic Optimizer: Maximum iterations (100) reached and the optimization hasn't converged yet.\n",
            "  % self.max_iter, ConvergenceWarning)\n",
            "/usr/local/lib/python3.6/dist-packages/sklearn/neural_network/_multilayer_perceptron.py:571: ConvergenceWarning: Stochastic Optimizer: Maximum iterations (100) reached and the optimization hasn't converged yet.\n",
            "  % self.max_iter, ConvergenceWarning)\n",
            "/usr/local/lib/python3.6/dist-packages/sklearn/neural_network/_multilayer_perceptron.py:571: ConvergenceWarning: Stochastic Optimizer: Maximum iterations (100) reached and the optimization hasn't converged yet.\n",
            "  % self.max_iter, ConvergenceWarning)\n",
            "/usr/local/lib/python3.6/dist-packages/sklearn/neural_network/_multilayer_perceptron.py:571: ConvergenceWarning: Stochastic Optimizer: Maximum iterations (100) reached and the optimization hasn't converged yet.\n",
            "  % self.max_iter, ConvergenceWarning)\n",
            "/usr/local/lib/python3.6/dist-packages/sklearn/neural_network/_multilayer_perceptron.py:571: ConvergenceWarning: Stochastic Optimizer: Maximum iterations (100) reached and the optimization hasn't converged yet.\n",
            "  % self.max_iter, ConvergenceWarning)\n",
            "/usr/local/lib/python3.6/dist-packages/sklearn/neural_network/_multilayer_perceptron.py:571: ConvergenceWarning: Stochastic Optimizer: Maximum iterations (100) reached and the optimization hasn't converged yet.\n",
            "  % self.max_iter, ConvergenceWarning)\n",
            "/usr/local/lib/python3.6/dist-packages/sklearn/neural_network/_multilayer_perceptron.py:571: ConvergenceWarning: Stochastic Optimizer: Maximum iterations (100) reached and the optimization hasn't converged yet.\n",
            "  % self.max_iter, ConvergenceWarning)\n"
          ],
          "name": "stderr"
        },
        {
          "output_type": "stream",
          "text": [
            "Executando Configuração:  8\n"
          ],
          "name": "stdout"
        },
        {
          "output_type": "stream",
          "text": [
            "/usr/local/lib/python3.6/dist-packages/sklearn/neural_network/_multilayer_perceptron.py:571: ConvergenceWarning: Stochastic Optimizer: Maximum iterations (150) reached and the optimization hasn't converged yet.\n",
            "  % self.max_iter, ConvergenceWarning)\n",
            "/usr/local/lib/python3.6/dist-packages/sklearn/neural_network/_multilayer_perceptron.py:571: ConvergenceWarning: Stochastic Optimizer: Maximum iterations (150) reached and the optimization hasn't converged yet.\n",
            "  % self.max_iter, ConvergenceWarning)\n",
            "/usr/local/lib/python3.6/dist-packages/sklearn/neural_network/_multilayer_perceptron.py:571: ConvergenceWarning: Stochastic Optimizer: Maximum iterations (150) reached and the optimization hasn't converged yet.\n",
            "  % self.max_iter, ConvergenceWarning)\n",
            "/usr/local/lib/python3.6/dist-packages/sklearn/neural_network/_multilayer_perceptron.py:571: ConvergenceWarning: Stochastic Optimizer: Maximum iterations (150) reached and the optimization hasn't converged yet.\n",
            "  % self.max_iter, ConvergenceWarning)\n",
            "/usr/local/lib/python3.6/dist-packages/sklearn/neural_network/_multilayer_perceptron.py:571: ConvergenceWarning: Stochastic Optimizer: Maximum iterations (150) reached and the optimization hasn't converged yet.\n",
            "  % self.max_iter, ConvergenceWarning)\n",
            "/usr/local/lib/python3.6/dist-packages/sklearn/neural_network/_multilayer_perceptron.py:571: ConvergenceWarning: Stochastic Optimizer: Maximum iterations (150) reached and the optimization hasn't converged yet.\n",
            "  % self.max_iter, ConvergenceWarning)\n"
          ],
          "name": "stderr"
        },
        {
          "output_type": "stream",
          "text": [
            "Executando Configuração:  9\n",
            "Executando Configuração:  10\n"
          ],
          "name": "stdout"
        },
        {
          "output_type": "stream",
          "text": [
            "/usr/local/lib/python3.6/dist-packages/sklearn/neural_network/_multilayer_perceptron.py:571: ConvergenceWarning: Stochastic Optimizer: Maximum iterations (100) reached and the optimization hasn't converged yet.\n",
            "  % self.max_iter, ConvergenceWarning)\n",
            "/usr/local/lib/python3.6/dist-packages/sklearn/neural_network/_multilayer_perceptron.py:571: ConvergenceWarning: Stochastic Optimizer: Maximum iterations (100) reached and the optimization hasn't converged yet.\n",
            "  % self.max_iter, ConvergenceWarning)\n",
            "/usr/local/lib/python3.6/dist-packages/sklearn/neural_network/_multilayer_perceptron.py:571: ConvergenceWarning: Stochastic Optimizer: Maximum iterations (100) reached and the optimization hasn't converged yet.\n",
            "  % self.max_iter, ConvergenceWarning)\n",
            "/usr/local/lib/python3.6/dist-packages/sklearn/neural_network/_multilayer_perceptron.py:571: ConvergenceWarning: Stochastic Optimizer: Maximum iterations (100) reached and the optimization hasn't converged yet.\n",
            "  % self.max_iter, ConvergenceWarning)\n"
          ],
          "name": "stderr"
        },
        {
          "output_type": "stream",
          "text": [
            "Executando Configuração:  11\n",
            "Executando Configuração:  12\n"
          ],
          "name": "stdout"
        },
        {
          "output_type": "stream",
          "text": [
            "/usr/local/lib/python3.6/dist-packages/sklearn/neural_network/_multilayer_perceptron.py:571: ConvergenceWarning: Stochastic Optimizer: Maximum iterations (150) reached and the optimization hasn't converged yet.\n",
            "  % self.max_iter, ConvergenceWarning)\n",
            "/usr/local/lib/python3.6/dist-packages/sklearn/neural_network/_multilayer_perceptron.py:571: ConvergenceWarning: Stochastic Optimizer: Maximum iterations (150) reached and the optimization hasn't converged yet.\n",
            "  % self.max_iter, ConvergenceWarning)\n",
            "/usr/local/lib/python3.6/dist-packages/sklearn/neural_network/_multilayer_perceptron.py:571: ConvergenceWarning: Stochastic Optimizer: Maximum iterations (150) reached and the optimization hasn't converged yet.\n",
            "  % self.max_iter, ConvergenceWarning)\n",
            "/usr/local/lib/python3.6/dist-packages/sklearn/neural_network/_multilayer_perceptron.py:571: ConvergenceWarning: Stochastic Optimizer: Maximum iterations (150) reached and the optimization hasn't converged yet.\n",
            "  % self.max_iter, ConvergenceWarning)\n",
            "/usr/local/lib/python3.6/dist-packages/sklearn/neural_network/_multilayer_perceptron.py:571: ConvergenceWarning: Stochastic Optimizer: Maximum iterations (150) reached and the optimization hasn't converged yet.\n",
            "  % self.max_iter, ConvergenceWarning)\n",
            "/usr/local/lib/python3.6/dist-packages/sklearn/neural_network/_multilayer_perceptron.py:571: ConvergenceWarning: Stochastic Optimizer: Maximum iterations (150) reached and the optimization hasn't converged yet.\n",
            "  % self.max_iter, ConvergenceWarning)\n",
            "/usr/local/lib/python3.6/dist-packages/sklearn/neural_network/_multilayer_perceptron.py:571: ConvergenceWarning: Stochastic Optimizer: Maximum iterations (150) reached and the optimization hasn't converged yet.\n",
            "  % self.max_iter, ConvergenceWarning)\n"
          ],
          "name": "stderr"
        },
        {
          "output_type": "stream",
          "text": [
            "Executando Configuração:  13\n",
            "Executando Configuração:  14\n"
          ],
          "name": "stdout"
        },
        {
          "output_type": "stream",
          "text": [
            "/usr/local/lib/python3.6/dist-packages/sklearn/neural_network/_multilayer_perceptron.py:571: ConvergenceWarning: Stochastic Optimizer: Maximum iterations (100) reached and the optimization hasn't converged yet.\n",
            "  % self.max_iter, ConvergenceWarning)\n",
            "/usr/local/lib/python3.6/dist-packages/sklearn/neural_network/_multilayer_perceptron.py:571: ConvergenceWarning: Stochastic Optimizer: Maximum iterations (100) reached and the optimization hasn't converged yet.\n",
            "  % self.max_iter, ConvergenceWarning)\n",
            "/usr/local/lib/python3.6/dist-packages/sklearn/neural_network/_multilayer_perceptron.py:571: ConvergenceWarning: Stochastic Optimizer: Maximum iterations (100) reached and the optimization hasn't converged yet.\n",
            "  % self.max_iter, ConvergenceWarning)\n",
            "/usr/local/lib/python3.6/dist-packages/sklearn/neural_network/_multilayer_perceptron.py:571: ConvergenceWarning: Stochastic Optimizer: Maximum iterations (100) reached and the optimization hasn't converged yet.\n",
            "  % self.max_iter, ConvergenceWarning)\n",
            "/usr/local/lib/python3.6/dist-packages/sklearn/neural_network/_multilayer_perceptron.py:571: ConvergenceWarning: Stochastic Optimizer: Maximum iterations (100) reached and the optimization hasn't converged yet.\n",
            "  % self.max_iter, ConvergenceWarning)\n",
            "/usr/local/lib/python3.6/dist-packages/sklearn/neural_network/_multilayer_perceptron.py:571: ConvergenceWarning: Stochastic Optimizer: Maximum iterations (100) reached and the optimization hasn't converged yet.\n",
            "  % self.max_iter, ConvergenceWarning)\n",
            "/usr/local/lib/python3.6/dist-packages/sklearn/neural_network/_multilayer_perceptron.py:571: ConvergenceWarning: Stochastic Optimizer: Maximum iterations (100) reached and the optimization hasn't converged yet.\n",
            "  % self.max_iter, ConvergenceWarning)\n",
            "/usr/local/lib/python3.6/dist-packages/sklearn/neural_network/_multilayer_perceptron.py:571: ConvergenceWarning: Stochastic Optimizer: Maximum iterations (100) reached and the optimization hasn't converged yet.\n",
            "  % self.max_iter, ConvergenceWarning)\n",
            "/usr/local/lib/python3.6/dist-packages/sklearn/neural_network/_multilayer_perceptron.py:571: ConvergenceWarning: Stochastic Optimizer: Maximum iterations (100) reached and the optimization hasn't converged yet.\n",
            "  % self.max_iter, ConvergenceWarning)\n",
            "/usr/local/lib/python3.6/dist-packages/sklearn/neural_network/_multilayer_perceptron.py:571: ConvergenceWarning: Stochastic Optimizer: Maximum iterations (100) reached and the optimization hasn't converged yet.\n",
            "  % self.max_iter, ConvergenceWarning)\n"
          ],
          "name": "stderr"
        },
        {
          "output_type": "stream",
          "text": [
            "Executando Configuração:  15\n",
            "Executando Configuração:  16\n"
          ],
          "name": "stdout"
        },
        {
          "output_type": "stream",
          "text": [
            "/usr/local/lib/python3.6/dist-packages/sklearn/neural_network/_multilayer_perceptron.py:571: ConvergenceWarning: Stochastic Optimizer: Maximum iterations (200) reached and the optimization hasn't converged yet.\n",
            "  % self.max_iter, ConvergenceWarning)\n",
            "/usr/local/lib/python3.6/dist-packages/sklearn/neural_network/_multilayer_perceptron.py:571: ConvergenceWarning: Stochastic Optimizer: Maximum iterations (200) reached and the optimization hasn't converged yet.\n",
            "  % self.max_iter, ConvergenceWarning)\n",
            "/usr/local/lib/python3.6/dist-packages/sklearn/neural_network/_multilayer_perceptron.py:571: ConvergenceWarning: Stochastic Optimizer: Maximum iterations (200) reached and the optimization hasn't converged yet.\n",
            "  % self.max_iter, ConvergenceWarning)\n",
            "/usr/local/lib/python3.6/dist-packages/sklearn/neural_network/_multilayer_perceptron.py:571: ConvergenceWarning: Stochastic Optimizer: Maximum iterations (200) reached and the optimization hasn't converged yet.\n",
            "  % self.max_iter, ConvergenceWarning)\n",
            "/usr/local/lib/python3.6/dist-packages/sklearn/neural_network/_multilayer_perceptron.py:571: ConvergenceWarning: Stochastic Optimizer: Maximum iterations (200) reached and the optimization hasn't converged yet.\n",
            "  % self.max_iter, ConvergenceWarning)\n",
            "/usr/local/lib/python3.6/dist-packages/sklearn/neural_network/_multilayer_perceptron.py:571: ConvergenceWarning: Stochastic Optimizer: Maximum iterations (200) reached and the optimization hasn't converged yet.\n",
            "  % self.max_iter, ConvergenceWarning)\n",
            "/usr/local/lib/python3.6/dist-packages/sklearn/neural_network/_multilayer_perceptron.py:571: ConvergenceWarning: Stochastic Optimizer: Maximum iterations (200) reached and the optimization hasn't converged yet.\n",
            "  % self.max_iter, ConvergenceWarning)\n",
            "/usr/local/lib/python3.6/dist-packages/sklearn/neural_network/_multilayer_perceptron.py:571: ConvergenceWarning: Stochastic Optimizer: Maximum iterations (200) reached and the optimization hasn't converged yet.\n",
            "  % self.max_iter, ConvergenceWarning)\n"
          ],
          "name": "stderr"
        },
        {
          "output_type": "stream",
          "text": [
            "Executando Configuração:  17\n"
          ],
          "name": "stdout"
        },
        {
          "output_type": "stream",
          "text": [
            "/usr/local/lib/python3.6/dist-packages/sklearn/neural_network/_multilayer_perceptron.py:571: ConvergenceWarning: Stochastic Optimizer: Maximum iterations (100) reached and the optimization hasn't converged yet.\n",
            "  % self.max_iter, ConvergenceWarning)\n",
            "/usr/local/lib/python3.6/dist-packages/sklearn/neural_network/_multilayer_perceptron.py:571: ConvergenceWarning: Stochastic Optimizer: Maximum iterations (100) reached and the optimization hasn't converged yet.\n",
            "  % self.max_iter, ConvergenceWarning)\n",
            "/usr/local/lib/python3.6/dist-packages/sklearn/neural_network/_multilayer_perceptron.py:571: ConvergenceWarning: Stochastic Optimizer: Maximum iterations (100) reached and the optimization hasn't converged yet.\n",
            "  % self.max_iter, ConvergenceWarning)\n",
            "/usr/local/lib/python3.6/dist-packages/sklearn/neural_network/_multilayer_perceptron.py:571: ConvergenceWarning: Stochastic Optimizer: Maximum iterations (100) reached and the optimization hasn't converged yet.\n",
            "  % self.max_iter, ConvergenceWarning)\n",
            "/usr/local/lib/python3.6/dist-packages/sklearn/neural_network/_multilayer_perceptron.py:571: ConvergenceWarning: Stochastic Optimizer: Maximum iterations (100) reached and the optimization hasn't converged yet.\n",
            "  % self.max_iter, ConvergenceWarning)\n",
            "/usr/local/lib/python3.6/dist-packages/sklearn/neural_network/_multilayer_perceptron.py:571: ConvergenceWarning: Stochastic Optimizer: Maximum iterations (100) reached and the optimization hasn't converged yet.\n",
            "  % self.max_iter, ConvergenceWarning)\n",
            "/usr/local/lib/python3.6/dist-packages/sklearn/neural_network/_multilayer_perceptron.py:571: ConvergenceWarning: Stochastic Optimizer: Maximum iterations (100) reached and the optimization hasn't converged yet.\n",
            "  % self.max_iter, ConvergenceWarning)\n",
            "/usr/local/lib/python3.6/dist-packages/sklearn/neural_network/_multilayer_perceptron.py:571: ConvergenceWarning: Stochastic Optimizer: Maximum iterations (100) reached and the optimization hasn't converged yet.\n",
            "  % self.max_iter, ConvergenceWarning)\n",
            "/usr/local/lib/python3.6/dist-packages/sklearn/neural_network/_multilayer_perceptron.py:571: ConvergenceWarning: Stochastic Optimizer: Maximum iterations (100) reached and the optimization hasn't converged yet.\n",
            "  % self.max_iter, ConvergenceWarning)\n",
            "/usr/local/lib/python3.6/dist-packages/sklearn/neural_network/_multilayer_perceptron.py:571: ConvergenceWarning: Stochastic Optimizer: Maximum iterations (100) reached and the optimization hasn't converged yet.\n",
            "  % self.max_iter, ConvergenceWarning)\n"
          ],
          "name": "stderr"
        },
        {
          "output_type": "stream",
          "text": [
            "Executando Configuração:  18\n"
          ],
          "name": "stdout"
        },
        {
          "output_type": "stream",
          "text": [
            "/usr/local/lib/python3.6/dist-packages/sklearn/neural_network/_multilayer_perceptron.py:571: ConvergenceWarning: Stochastic Optimizer: Maximum iterations (150) reached and the optimization hasn't converged yet.\n",
            "  % self.max_iter, ConvergenceWarning)\n",
            "/usr/local/lib/python3.6/dist-packages/sklearn/neural_network/_multilayer_perceptron.py:571: ConvergenceWarning: Stochastic Optimizer: Maximum iterations (150) reached and the optimization hasn't converged yet.\n",
            "  % self.max_iter, ConvergenceWarning)\n",
            "/usr/local/lib/python3.6/dist-packages/sklearn/neural_network/_multilayer_perceptron.py:571: ConvergenceWarning: Stochastic Optimizer: Maximum iterations (150) reached and the optimization hasn't converged yet.\n",
            "  % self.max_iter, ConvergenceWarning)\n",
            "/usr/local/lib/python3.6/dist-packages/sklearn/neural_network/_multilayer_perceptron.py:571: ConvergenceWarning: Stochastic Optimizer: Maximum iterations (150) reached and the optimization hasn't converged yet.\n",
            "  % self.max_iter, ConvergenceWarning)\n",
            "/usr/local/lib/python3.6/dist-packages/sklearn/neural_network/_multilayer_perceptron.py:571: ConvergenceWarning: Stochastic Optimizer: Maximum iterations (150) reached and the optimization hasn't converged yet.\n",
            "  % self.max_iter, ConvergenceWarning)\n"
          ],
          "name": "stderr"
        },
        {
          "output_type": "stream",
          "text": [
            "Executando Configuração:  19\n",
            "Executando Configuração:  20\n"
          ],
          "name": "stdout"
        },
        {
          "output_type": "stream",
          "text": [
            "/usr/local/lib/python3.6/dist-packages/sklearn/neural_network/_multilayer_perceptron.py:571: ConvergenceWarning: Stochastic Optimizer: Maximum iterations (100) reached and the optimization hasn't converged yet.\n",
            "  % self.max_iter, ConvergenceWarning)\n",
            "/usr/local/lib/python3.6/dist-packages/sklearn/neural_network/_multilayer_perceptron.py:571: ConvergenceWarning: Stochastic Optimizer: Maximum iterations (100) reached and the optimization hasn't converged yet.\n",
            "  % self.max_iter, ConvergenceWarning)\n",
            "/usr/local/lib/python3.6/dist-packages/sklearn/neural_network/_multilayer_perceptron.py:571: ConvergenceWarning: Stochastic Optimizer: Maximum iterations (100) reached and the optimization hasn't converged yet.\n",
            "  % self.max_iter, ConvergenceWarning)\n",
            "/usr/local/lib/python3.6/dist-packages/sklearn/neural_network/_multilayer_perceptron.py:571: ConvergenceWarning: Stochastic Optimizer: Maximum iterations (100) reached and the optimization hasn't converged yet.\n",
            "  % self.max_iter, ConvergenceWarning)\n",
            "/usr/local/lib/python3.6/dist-packages/sklearn/neural_network/_multilayer_perceptron.py:571: ConvergenceWarning: Stochastic Optimizer: Maximum iterations (100) reached and the optimization hasn't converged yet.\n",
            "  % self.max_iter, ConvergenceWarning)\n",
            "/usr/local/lib/python3.6/dist-packages/sklearn/neural_network/_multilayer_perceptron.py:571: ConvergenceWarning: Stochastic Optimizer: Maximum iterations (100) reached and the optimization hasn't converged yet.\n",
            "  % self.max_iter, ConvergenceWarning)\n",
            "/usr/local/lib/python3.6/dist-packages/sklearn/neural_network/_multilayer_perceptron.py:571: ConvergenceWarning: Stochastic Optimizer: Maximum iterations (100) reached and the optimization hasn't converged yet.\n",
            "  % self.max_iter, ConvergenceWarning)\n",
            "/usr/local/lib/python3.6/dist-packages/sklearn/neural_network/_multilayer_perceptron.py:571: ConvergenceWarning: Stochastic Optimizer: Maximum iterations (100) reached and the optimization hasn't converged yet.\n",
            "  % self.max_iter, ConvergenceWarning)\n",
            "/usr/local/lib/python3.6/dist-packages/sklearn/neural_network/_multilayer_perceptron.py:571: ConvergenceWarning: Stochastic Optimizer: Maximum iterations (100) reached and the optimization hasn't converged yet.\n",
            "  % self.max_iter, ConvergenceWarning)\n",
            "/usr/local/lib/python3.6/dist-packages/sklearn/neural_network/_multilayer_perceptron.py:571: ConvergenceWarning: Stochastic Optimizer: Maximum iterations (100) reached and the optimization hasn't converged yet.\n",
            "  % self.max_iter, ConvergenceWarning)\n"
          ],
          "name": "stderr"
        },
        {
          "output_type": "stream",
          "text": [
            "Executando Configuração:  21\n",
            "Executando Configuração:  22\n"
          ],
          "name": "stdout"
        },
        {
          "output_type": "stream",
          "text": [
            "/usr/local/lib/python3.6/dist-packages/sklearn/neural_network/_multilayer_perceptron.py:571: ConvergenceWarning: Stochastic Optimizer: Maximum iterations (150) reached and the optimization hasn't converged yet.\n",
            "  % self.max_iter, ConvergenceWarning)\n",
            "/usr/local/lib/python3.6/dist-packages/sklearn/neural_network/_multilayer_perceptron.py:571: ConvergenceWarning: Stochastic Optimizer: Maximum iterations (150) reached and the optimization hasn't converged yet.\n",
            "  % self.max_iter, ConvergenceWarning)\n",
            "/usr/local/lib/python3.6/dist-packages/sklearn/neural_network/_multilayer_perceptron.py:571: ConvergenceWarning: Stochastic Optimizer: Maximum iterations (150) reached and the optimization hasn't converged yet.\n",
            "  % self.max_iter, ConvergenceWarning)\n",
            "/usr/local/lib/python3.6/dist-packages/sklearn/neural_network/_multilayer_perceptron.py:571: ConvergenceWarning: Stochastic Optimizer: Maximum iterations (150) reached and the optimization hasn't converged yet.\n",
            "  % self.max_iter, ConvergenceWarning)\n",
            "/usr/local/lib/python3.6/dist-packages/sklearn/neural_network/_multilayer_perceptron.py:571: ConvergenceWarning: Stochastic Optimizer: Maximum iterations (150) reached and the optimization hasn't converged yet.\n",
            "  % self.max_iter, ConvergenceWarning)\n",
            "/usr/local/lib/python3.6/dist-packages/sklearn/neural_network/_multilayer_perceptron.py:571: ConvergenceWarning: Stochastic Optimizer: Maximum iterations (150) reached and the optimization hasn't converged yet.\n",
            "  % self.max_iter, ConvergenceWarning)\n",
            "/usr/local/lib/python3.6/dist-packages/sklearn/neural_network/_multilayer_perceptron.py:571: ConvergenceWarning: Stochastic Optimizer: Maximum iterations (150) reached and the optimization hasn't converged yet.\n",
            "  % self.max_iter, ConvergenceWarning)\n",
            "/usr/local/lib/python3.6/dist-packages/sklearn/neural_network/_multilayer_perceptron.py:571: ConvergenceWarning: Stochastic Optimizer: Maximum iterations (150) reached and the optimization hasn't converged yet.\n",
            "  % self.max_iter, ConvergenceWarning)\n",
            "/usr/local/lib/python3.6/dist-packages/sklearn/neural_network/_multilayer_perceptron.py:571: ConvergenceWarning: Stochastic Optimizer: Maximum iterations (150) reached and the optimization hasn't converged yet.\n",
            "  % self.max_iter, ConvergenceWarning)\n",
            "/usr/local/lib/python3.6/dist-packages/sklearn/neural_network/_multilayer_perceptron.py:571: ConvergenceWarning: Stochastic Optimizer: Maximum iterations (150) reached and the optimization hasn't converged yet.\n",
            "  % self.max_iter, ConvergenceWarning)\n"
          ],
          "name": "stderr"
        },
        {
          "output_type": "stream",
          "text": [
            "Executando Configuração:  23\n",
            "Executando Configuração:  24\n"
          ],
          "name": "stdout"
        },
        {
          "output_type": "stream",
          "text": [
            "/usr/local/lib/python3.6/dist-packages/sklearn/neural_network/_multilayer_perceptron.py:571: ConvergenceWarning: Stochastic Optimizer: Maximum iterations (100) reached and the optimization hasn't converged yet.\n",
            "  % self.max_iter, ConvergenceWarning)\n",
            "/usr/local/lib/python3.6/dist-packages/sklearn/neural_network/_multilayer_perceptron.py:571: ConvergenceWarning: Stochastic Optimizer: Maximum iterations (100) reached and the optimization hasn't converged yet.\n",
            "  % self.max_iter, ConvergenceWarning)\n",
            "/usr/local/lib/python3.6/dist-packages/sklearn/neural_network/_multilayer_perceptron.py:571: ConvergenceWarning: Stochastic Optimizer: Maximum iterations (100) reached and the optimization hasn't converged yet.\n",
            "  % self.max_iter, ConvergenceWarning)\n",
            "/usr/local/lib/python3.6/dist-packages/sklearn/neural_network/_multilayer_perceptron.py:571: ConvergenceWarning: Stochastic Optimizer: Maximum iterations (100) reached and the optimization hasn't converged yet.\n",
            "  % self.max_iter, ConvergenceWarning)\n",
            "/usr/local/lib/python3.6/dist-packages/sklearn/neural_network/_multilayer_perceptron.py:571: ConvergenceWarning: Stochastic Optimizer: Maximum iterations (100) reached and the optimization hasn't converged yet.\n",
            "  % self.max_iter, ConvergenceWarning)\n",
            "/usr/local/lib/python3.6/dist-packages/sklearn/neural_network/_multilayer_perceptron.py:571: ConvergenceWarning: Stochastic Optimizer: Maximum iterations (100) reached and the optimization hasn't converged yet.\n",
            "  % self.max_iter, ConvergenceWarning)\n",
            "/usr/local/lib/python3.6/dist-packages/sklearn/neural_network/_multilayer_perceptron.py:571: ConvergenceWarning: Stochastic Optimizer: Maximum iterations (100) reached and the optimization hasn't converged yet.\n",
            "  % self.max_iter, ConvergenceWarning)\n",
            "/usr/local/lib/python3.6/dist-packages/sklearn/neural_network/_multilayer_perceptron.py:571: ConvergenceWarning: Stochastic Optimizer: Maximum iterations (100) reached and the optimization hasn't converged yet.\n",
            "  % self.max_iter, ConvergenceWarning)\n",
            "/usr/local/lib/python3.6/dist-packages/sklearn/neural_network/_multilayer_perceptron.py:571: ConvergenceWarning: Stochastic Optimizer: Maximum iterations (100) reached and the optimization hasn't converged yet.\n",
            "  % self.max_iter, ConvergenceWarning)\n",
            "/usr/local/lib/python3.6/dist-packages/sklearn/neural_network/_multilayer_perceptron.py:571: ConvergenceWarning: Stochastic Optimizer: Maximum iterations (100) reached and the optimization hasn't converged yet.\n",
            "  % self.max_iter, ConvergenceWarning)\n"
          ],
          "name": "stderr"
        },
        {
          "output_type": "stream",
          "text": [
            "Executando Configuração:  25\n",
            "Executando Configuração:  26\n"
          ],
          "name": "stdout"
        },
        {
          "output_type": "stream",
          "text": [
            "/usr/local/lib/python3.6/dist-packages/sklearn/neural_network/_multilayer_perceptron.py:571: ConvergenceWarning: Stochastic Optimizer: Maximum iterations (200) reached and the optimization hasn't converged yet.\n",
            "  % self.max_iter, ConvergenceWarning)\n",
            "/usr/local/lib/python3.6/dist-packages/sklearn/neural_network/_multilayer_perceptron.py:571: ConvergenceWarning: Stochastic Optimizer: Maximum iterations (200) reached and the optimization hasn't converged yet.\n",
            "  % self.max_iter, ConvergenceWarning)\n",
            "/usr/local/lib/python3.6/dist-packages/sklearn/neural_network/_multilayer_perceptron.py:571: ConvergenceWarning: Stochastic Optimizer: Maximum iterations (200) reached and the optimization hasn't converged yet.\n",
            "  % self.max_iter, ConvergenceWarning)\n",
            "/usr/local/lib/python3.6/dist-packages/sklearn/neural_network/_multilayer_perceptron.py:571: ConvergenceWarning: Stochastic Optimizer: Maximum iterations (200) reached and the optimization hasn't converged yet.\n",
            "  % self.max_iter, ConvergenceWarning)\n",
            "/usr/local/lib/python3.6/dist-packages/sklearn/neural_network/_multilayer_perceptron.py:571: ConvergenceWarning: Stochastic Optimizer: Maximum iterations (200) reached and the optimization hasn't converged yet.\n",
            "  % self.max_iter, ConvergenceWarning)\n",
            "/usr/local/lib/python3.6/dist-packages/sklearn/neural_network/_multilayer_perceptron.py:571: ConvergenceWarning: Stochastic Optimizer: Maximum iterations (200) reached and the optimization hasn't converged yet.\n",
            "  % self.max_iter, ConvergenceWarning)\n",
            "/usr/local/lib/python3.6/dist-packages/sklearn/neural_network/_multilayer_perceptron.py:571: ConvergenceWarning: Stochastic Optimizer: Maximum iterations (200) reached and the optimization hasn't converged yet.\n",
            "  % self.max_iter, ConvergenceWarning)\n",
            "/usr/local/lib/python3.6/dist-packages/sklearn/neural_network/_multilayer_perceptron.py:571: ConvergenceWarning: Stochastic Optimizer: Maximum iterations (200) reached and the optimization hasn't converged yet.\n",
            "  % self.max_iter, ConvergenceWarning)\n",
            "/usr/local/lib/python3.6/dist-packages/sklearn/neural_network/_multilayer_perceptron.py:571: ConvergenceWarning: Stochastic Optimizer: Maximum iterations (200) reached and the optimization hasn't converged yet.\n",
            "  % self.max_iter, ConvergenceWarning)\n",
            "/usr/local/lib/python3.6/dist-packages/sklearn/neural_network/_multilayer_perceptron.py:571: ConvergenceWarning: Stochastic Optimizer: Maximum iterations (200) reached and the optimization hasn't converged yet.\n",
            "  % self.max_iter, ConvergenceWarning)\n"
          ],
          "name": "stderr"
        },
        {
          "output_type": "stream",
          "text": [
            "Executando Configuração:  27\n"
          ],
          "name": "stdout"
        },
        {
          "output_type": "stream",
          "text": [
            "/usr/local/lib/python3.6/dist-packages/sklearn/neural_network/_multilayer_perceptron.py:571: ConvergenceWarning: Stochastic Optimizer: Maximum iterations (100) reached and the optimization hasn't converged yet.\n",
            "  % self.max_iter, ConvergenceWarning)\n",
            "/usr/local/lib/python3.6/dist-packages/sklearn/neural_network/_multilayer_perceptron.py:571: ConvergenceWarning: Stochastic Optimizer: Maximum iterations (100) reached and the optimization hasn't converged yet.\n",
            "  % self.max_iter, ConvergenceWarning)\n",
            "/usr/local/lib/python3.6/dist-packages/sklearn/neural_network/_multilayer_perceptron.py:571: ConvergenceWarning: Stochastic Optimizer: Maximum iterations (100) reached and the optimization hasn't converged yet.\n",
            "  % self.max_iter, ConvergenceWarning)\n",
            "/usr/local/lib/python3.6/dist-packages/sklearn/neural_network/_multilayer_perceptron.py:571: ConvergenceWarning: Stochastic Optimizer: Maximum iterations (100) reached and the optimization hasn't converged yet.\n",
            "  % self.max_iter, ConvergenceWarning)\n",
            "/usr/local/lib/python3.6/dist-packages/sklearn/neural_network/_multilayer_perceptron.py:571: ConvergenceWarning: Stochastic Optimizer: Maximum iterations (100) reached and the optimization hasn't converged yet.\n",
            "  % self.max_iter, ConvergenceWarning)\n",
            "/usr/local/lib/python3.6/dist-packages/sklearn/neural_network/_multilayer_perceptron.py:571: ConvergenceWarning: Stochastic Optimizer: Maximum iterations (100) reached and the optimization hasn't converged yet.\n",
            "  % self.max_iter, ConvergenceWarning)\n",
            "/usr/local/lib/python3.6/dist-packages/sklearn/neural_network/_multilayer_perceptron.py:571: ConvergenceWarning: Stochastic Optimizer: Maximum iterations (100) reached and the optimization hasn't converged yet.\n",
            "  % self.max_iter, ConvergenceWarning)\n",
            "/usr/local/lib/python3.6/dist-packages/sklearn/neural_network/_multilayer_perceptron.py:571: ConvergenceWarning: Stochastic Optimizer: Maximum iterations (100) reached and the optimization hasn't converged yet.\n",
            "  % self.max_iter, ConvergenceWarning)\n",
            "/usr/local/lib/python3.6/dist-packages/sklearn/neural_network/_multilayer_perceptron.py:571: ConvergenceWarning: Stochastic Optimizer: Maximum iterations (100) reached and the optimization hasn't converged yet.\n",
            "  % self.max_iter, ConvergenceWarning)\n"
          ],
          "name": "stderr"
        },
        {
          "output_type": "stream",
          "text": [
            "Executando Configuração:  28\n"
          ],
          "name": "stdout"
        },
        {
          "output_type": "stream",
          "text": [
            "/usr/local/lib/python3.6/dist-packages/sklearn/neural_network/_multilayer_perceptron.py:571: ConvergenceWarning: Stochastic Optimizer: Maximum iterations (150) reached and the optimization hasn't converged yet.\n",
            "  % self.max_iter, ConvergenceWarning)\n",
            "/usr/local/lib/python3.6/dist-packages/sklearn/neural_network/_multilayer_perceptron.py:571: ConvergenceWarning: Stochastic Optimizer: Maximum iterations (150) reached and the optimization hasn't converged yet.\n",
            "  % self.max_iter, ConvergenceWarning)\n",
            "/usr/local/lib/python3.6/dist-packages/sklearn/neural_network/_multilayer_perceptron.py:571: ConvergenceWarning: Stochastic Optimizer: Maximum iterations (150) reached and the optimization hasn't converged yet.\n",
            "  % self.max_iter, ConvergenceWarning)\n",
            "/usr/local/lib/python3.6/dist-packages/sklearn/neural_network/_multilayer_perceptron.py:571: ConvergenceWarning: Stochastic Optimizer: Maximum iterations (150) reached and the optimization hasn't converged yet.\n",
            "  % self.max_iter, ConvergenceWarning)\n",
            "/usr/local/lib/python3.6/dist-packages/sklearn/neural_network/_multilayer_perceptron.py:571: ConvergenceWarning: Stochastic Optimizer: Maximum iterations (150) reached and the optimization hasn't converged yet.\n",
            "  % self.max_iter, ConvergenceWarning)\n",
            "/usr/local/lib/python3.6/dist-packages/sklearn/neural_network/_multilayer_perceptron.py:571: ConvergenceWarning: Stochastic Optimizer: Maximum iterations (150) reached and the optimization hasn't converged yet.\n",
            "  % self.max_iter, ConvergenceWarning)\n"
          ],
          "name": "stderr"
        },
        {
          "output_type": "stream",
          "text": [
            "Executando Configuração:  29\n",
            "Executando Configuração:  30\n"
          ],
          "name": "stdout"
        },
        {
          "output_type": "stream",
          "text": [
            "/usr/local/lib/python3.6/dist-packages/sklearn/neural_network/_multilayer_perceptron.py:571: ConvergenceWarning: Stochastic Optimizer: Maximum iterations (100) reached and the optimization hasn't converged yet.\n",
            "  % self.max_iter, ConvergenceWarning)\n",
            "/usr/local/lib/python3.6/dist-packages/sklearn/neural_network/_multilayer_perceptron.py:571: ConvergenceWarning: Stochastic Optimizer: Maximum iterations (100) reached and the optimization hasn't converged yet.\n",
            "  % self.max_iter, ConvergenceWarning)\n",
            "/usr/local/lib/python3.6/dist-packages/sklearn/neural_network/_multilayer_perceptron.py:571: ConvergenceWarning: Stochastic Optimizer: Maximum iterations (100) reached and the optimization hasn't converged yet.\n",
            "  % self.max_iter, ConvergenceWarning)\n",
            "/usr/local/lib/python3.6/dist-packages/sklearn/neural_network/_multilayer_perceptron.py:571: ConvergenceWarning: Stochastic Optimizer: Maximum iterations (100) reached and the optimization hasn't converged yet.\n",
            "  % self.max_iter, ConvergenceWarning)\n",
            "/usr/local/lib/python3.6/dist-packages/sklearn/neural_network/_multilayer_perceptron.py:571: ConvergenceWarning: Stochastic Optimizer: Maximum iterations (100) reached and the optimization hasn't converged yet.\n",
            "  % self.max_iter, ConvergenceWarning)\n"
          ],
          "name": "stderr"
        }
      ]
    },
    {
      "cell_type": "code",
      "metadata": {
        "id": "zx2Nfv_iR0tX"
      },
      "source": [
        "df_top = df_confgs\n",
        "df_top['media acuracia'] = medias_acuracia \n",
        "df_top['media f1 score'] = medias_f1score"
      ],
      "execution_count": 29,
      "outputs": []
    },
    {
      "cell_type": "code",
      "metadata": {
        "id": "3GIyHodtSIxd",
        "outputId": "ecd59e8c-11a3-44a8-f5bb-9e75839b11bc",
        "colab": {
          "base_uri": "https://localhost:8080/",
          "height": 142
        }
      },
      "source": [
        "top3_piramide = df_top.sort_values(['media f1 score', 'media acuracia'], ascending= [False, False], kind='mergesort').head(3)\n",
        "top3_piramide"
      ],
      "execution_count": 37,
      "outputs": [
        {
          "output_type": "execute_result",
          "data": {
            "text/html": [
              "<div>\n",
              "<style scoped>\n",
              "    .dataframe tbody tr th:only-of-type {\n",
              "        vertical-align: middle;\n",
              "    }\n",
              "\n",
              "    .dataframe tbody tr th {\n",
              "        vertical-align: top;\n",
              "    }\n",
              "\n",
              "    .dataframe thead th {\n",
              "        text-align: right;\n",
              "    }\n",
              "</style>\n",
              "<table border=\"1\" class=\"dataframe\">\n",
              "  <thead>\n",
              "    <tr style=\"text-align: right;\">\n",
              "      <th></th>\n",
              "      <th>Camadas</th>\n",
              "      <th>Função de Ativação</th>\n",
              "      <th>Hiperparametro</th>\n",
              "      <th>Épocas</th>\n",
              "      <th>Neurônios</th>\n",
              "      <th>media acuracia</th>\n",
              "      <th>media f1 score</th>\n",
              "    </tr>\n",
              "  </thead>\n",
              "  <tbody>\n",
              "    <tr>\n",
              "      <th>12</th>\n",
              "      <td>1</td>\n",
              "      <td>tanh</td>\n",
              "      <td>adam</td>\n",
              "      <td>200</td>\n",
              "      <td>20</td>\n",
              "      <td>0.740016</td>\n",
              "      <td>0.577694</td>\n",
              "    </tr>\n",
              "    <tr>\n",
              "      <th>27</th>\n",
              "      <td>2</td>\n",
              "      <td>relu</td>\n",
              "      <td>adam</td>\n",
              "      <td>150</td>\n",
              "      <td>(7, 18)</td>\n",
              "      <td>0.733824</td>\n",
              "      <td>0.569738</td>\n",
              "    </tr>\n",
              "    <tr>\n",
              "      <th>15</th>\n",
              "      <td>2</td>\n",
              "      <td>logistic</td>\n",
              "      <td>adam</td>\n",
              "      <td>200</td>\n",
              "      <td>(15, 10)</td>\n",
              "      <td>0.745405</td>\n",
              "      <td>0.563758</td>\n",
              "    </tr>\n",
              "  </tbody>\n",
              "</table>\n",
              "</div>"
            ],
            "text/plain": [
              "   Camadas Função de Ativação  ... media acuracia  media f1 score\n",
              "12       1               tanh  ...       0.740016        0.577694\n",
              "27       2               relu  ...       0.733824        0.569738\n",
              "15       2           logistic  ...       0.745405        0.563758\n",
              "\n",
              "[3 rows x 7 columns]"
            ]
          },
          "metadata": {
            "tags": []
          },
          "execution_count": 37
        }
      ]
    },
    {
      "cell_type": "markdown",
      "metadata": {
        "id": "eHMyjlD16Uyv"
      },
      "source": [
        "## Testando as Redes Neurais com Atributos Categóricos\n",
        "\n",
        "1. Considere as 6 redes neurais obtidas nos dois top-3 anteriores (arquiteturas próprias e regra da pirâmide geométrica)\n",
        "2. Com todos os atributos preditores da base de dados original, incluindo os categóricos, treine e teste estas mesmas redes por 100 repetições  \n",
        "    2.1 Considere o melhor otimizador para cada uma delas  \n",
        "    2.2 Faça uso de 200 épocas para treinamento  \n",
        "    2.2 Apresente os resultados de acurácia e F-Score em termos da média +- dp para cada arquitetura\n",
        "3. Apresente o gráfico boxplot para o F-Score das 6 arquiteturas perante as 100 repetições"
      ]
    },
    {
      "cell_type": "code",
      "metadata": {
        "id": "TeoI4V8g6Uyv"
      },
      "source": [
        "x = dados_drive.drop(\"Cover_Type\", axis = 1)\n",
        "y = dados_drive.Cover_Type\n",
        "\n",
        "config = [2,'relu',\t'adam',\t200,\t(19, 16),\n",
        "  1,\t'tanh', 'adam',\t200,\t16,\n",
        "\t2,\t'logistic', 'adam',\t200,(10, 12),\n",
        "  1,\t'tanh',\t'adam',\t200, 20,\n",
        "  2,\t'relu',\t'adam', 200, (7, 18),\n",
        "  2,\t'logistic',\t'adam',\t200, (15, 10)]"
      ],
      "execution_count": 7,
      "outputs": []
    },
    {
      "cell_type": "code",
      "metadata": {
        "id": "jFk1BMXXiHuZ",
        "outputId": "82dda57f-eed8-4c01-ff98-74554df6979f",
        "colab": {
          "base_uri": "https://localhost:8080/",
          "height": 153
        }
      },
      "source": [
        "df_confgs = pd.DataFrame(np.array(config).reshape(6,5), columns = [\"Camadas\",\n",
        "                    'Função de Ativação',\n",
        "                    'Hiperparametro',\n",
        "                    'Épocas',\n",
        "                    'Neurônios'])\n",
        "            \n",
        "df_confgs[\"Épocas\"] = pd.to_numeric(df_confgs[\"Épocas\"])\n",
        "print(\"Dataframe com as arquitetura dos dois top3\")\n",
        "print(df_confgs)"
      ],
      "execution_count": 8,
      "outputs": [
        {
          "output_type": "stream",
          "text": [
            "Dataframe com as arquitetura dos dois top3\n",
            "  Camadas Função de Ativação Hiperparametro  Épocas Neurônios\n",
            "0       2               relu           adam     200  (19, 16)\n",
            "1       1               tanh           adam     200        16\n",
            "2       2           logistic           adam     200  (10, 12)\n",
            "3       1               tanh           adam     200        20\n",
            "4       2               relu           adam     200   (7, 18)\n",
            "5       2           logistic           adam     200  (15, 10)\n"
          ],
          "name": "stdout"
        }
      ]
    },
    {
      "cell_type": "code",
      "metadata": {
        "id": "z6cbd9vWil8p",
        "outputId": "c0fd14bf-cd8e-4da8-d0a0-db90b5b7c8ec",
        "colab": {
          "base_uri": "https://localhost:8080/",
          "height": 887
        }
      },
      "source": [
        "TOTAL_CONFIG = 6\n",
        "ITERATIONS = 10\n",
        "score = np.zeros(ITERATIONS)\n",
        "acuracia = np.zeros(ITERATIONS)\n",
        "\n",
        "scores = np.array([])\n",
        "\n",
        "medias_acuracia = np.zeros(TOTAL_CONFIG)\n",
        "medias_f1score = np.zeros(TOTAL_CONFIG)\n",
        "\n",
        "dp_acuracia = np.zeros(TOTAL_CONFIG)\n",
        "dp_f1score = np.zeros(TOTAL_CONFIG)\n",
        "\n",
        "for i in range(TOTAL_CONFIG):\n",
        "    print(\"Executando Configuração: \", i+1)\n",
        "    mlp = MLPClassifier(hidden_layer_sizes= df_confgs['Neurônios'][i], activation= df_confgs['Função de Ativação'][i], solver= df_confgs['Hiperparametro'][i], max_iter= df_confgs['Épocas'][i], verbose= False)\n",
        "\n",
        "    for j in range(ITERATIONS):\n",
        "       \n",
        "        X_train, X_test, Y_train, Y_test = train_test_split(x, y, test_size = 0.3, random_state = 42)\n",
        "        X_train_std = (X_train - np.mean(X_train))/np.std(X_train)\n",
        "        X_test_std = (X_test - np.mean(X_train))/np.std(X_train)\n",
        "       \n",
        "        mlp.fit(X_train_std, Y_train)\n",
        "        predictions = mlp.predict(X_test_std)\n",
        "  \n",
        "        acuracia[j]= accuracy_score(Y_test,predictions)\n",
        "        score[j]= f1_score(Y_test,predictions, average= 'macro')\n",
        "\n",
        "    medias_acuracia[i] = acuracia.mean()\n",
        "    medias_f1score[i] = score.mean()\n",
        "\n",
        "    scores = np.concatenate((scores, score))\n",
        "\n",
        "    dp_acuracia[i] = acuracia.std()\n",
        "    dp_f1score[i] = score.std()\n",
        "  \n",
        "savetxt('/content/drive/My Drive/PP3/media-acuracia-top3.csv', medias_acuracia, delimiter=',')\n",
        "savetxt('/content/drive/My Drive/PP3/media-f1score-top3.csv', medias_f1score, delimiter=',')\n",
        "savetxt('/content/drive/My Drive/PP3/dp-acuracia-top3.csv', dp_acuracia, delimiter=',')\n",
        "savetxt('/content/drive/My Drive/PP3/dp-f1score-top3.csv', dp_f1score, delimiter=',')\n",
        "savetxt('/content/drive/My Drive/PP3/f1-score.csv', scores, delimiter=',')"
      ],
      "execution_count": 46,
      "outputs": [
        {
          "output_type": "stream",
          "text": [
            "Executando Configuração:  1\n"
          ],
          "name": "stdout"
        },
        {
          "output_type": "stream",
          "text": [
            "/usr/local/lib/python3.6/dist-packages/sklearn/neural_network/_multilayer_perceptron.py:571: ConvergenceWarning: Stochastic Optimizer: Maximum iterations (200) reached and the optimization hasn't converged yet.\n",
            "  % self.max_iter, ConvergenceWarning)\n",
            "/usr/local/lib/python3.6/dist-packages/sklearn/neural_network/_multilayer_perceptron.py:571: ConvergenceWarning: Stochastic Optimizer: Maximum iterations (200) reached and the optimization hasn't converged yet.\n",
            "  % self.max_iter, ConvergenceWarning)\n",
            "/usr/local/lib/python3.6/dist-packages/sklearn/neural_network/_multilayer_perceptron.py:571: ConvergenceWarning: Stochastic Optimizer: Maximum iterations (200) reached and the optimization hasn't converged yet.\n",
            "  % self.max_iter, ConvergenceWarning)\n",
            "/usr/local/lib/python3.6/dist-packages/sklearn/neural_network/_multilayer_perceptron.py:571: ConvergenceWarning: Stochastic Optimizer: Maximum iterations (200) reached and the optimization hasn't converged yet.\n",
            "  % self.max_iter, ConvergenceWarning)\n",
            "/usr/local/lib/python3.6/dist-packages/sklearn/neural_network/_multilayer_perceptron.py:571: ConvergenceWarning: Stochastic Optimizer: Maximum iterations (200) reached and the optimization hasn't converged yet.\n",
            "  % self.max_iter, ConvergenceWarning)\n",
            "/usr/local/lib/python3.6/dist-packages/sklearn/neural_network/_multilayer_perceptron.py:571: ConvergenceWarning: Stochastic Optimizer: Maximum iterations (200) reached and the optimization hasn't converged yet.\n",
            "  % self.max_iter, ConvergenceWarning)\n"
          ],
          "name": "stderr"
        },
        {
          "output_type": "stream",
          "text": [
            "Executando Configuração:  2\n",
            "Executando Configuração:  3\n"
          ],
          "name": "stdout"
        },
        {
          "output_type": "stream",
          "text": [
            "/usr/local/lib/python3.6/dist-packages/sklearn/neural_network/_multilayer_perceptron.py:571: ConvergenceWarning: Stochastic Optimizer: Maximum iterations (200) reached and the optimization hasn't converged yet.\n",
            "  % self.max_iter, ConvergenceWarning)\n",
            "/usr/local/lib/python3.6/dist-packages/sklearn/neural_network/_multilayer_perceptron.py:571: ConvergenceWarning: Stochastic Optimizer: Maximum iterations (200) reached and the optimization hasn't converged yet.\n",
            "  % self.max_iter, ConvergenceWarning)\n",
            "/usr/local/lib/python3.6/dist-packages/sklearn/neural_network/_multilayer_perceptron.py:571: ConvergenceWarning: Stochastic Optimizer: Maximum iterations (200) reached and the optimization hasn't converged yet.\n",
            "  % self.max_iter, ConvergenceWarning)\n",
            "/usr/local/lib/python3.6/dist-packages/sklearn/neural_network/_multilayer_perceptron.py:571: ConvergenceWarning: Stochastic Optimizer: Maximum iterations (200) reached and the optimization hasn't converged yet.\n",
            "  % self.max_iter, ConvergenceWarning)\n",
            "/usr/local/lib/python3.6/dist-packages/sklearn/neural_network/_multilayer_perceptron.py:571: ConvergenceWarning: Stochastic Optimizer: Maximum iterations (200) reached and the optimization hasn't converged yet.\n",
            "  % self.max_iter, ConvergenceWarning)\n",
            "/usr/local/lib/python3.6/dist-packages/sklearn/neural_network/_multilayer_perceptron.py:571: ConvergenceWarning: Stochastic Optimizer: Maximum iterations (200) reached and the optimization hasn't converged yet.\n",
            "  % self.max_iter, ConvergenceWarning)\n",
            "/usr/local/lib/python3.6/dist-packages/sklearn/neural_network/_multilayer_perceptron.py:571: ConvergenceWarning: Stochastic Optimizer: Maximum iterations (200) reached and the optimization hasn't converged yet.\n",
            "  % self.max_iter, ConvergenceWarning)\n"
          ],
          "name": "stderr"
        },
        {
          "output_type": "stream",
          "text": [
            "Executando Configuração:  4\n",
            "Executando Configuração:  5\n"
          ],
          "name": "stdout"
        },
        {
          "output_type": "stream",
          "text": [
            "/usr/local/lib/python3.6/dist-packages/sklearn/neural_network/_multilayer_perceptron.py:571: ConvergenceWarning: Stochastic Optimizer: Maximum iterations (200) reached and the optimization hasn't converged yet.\n",
            "  % self.max_iter, ConvergenceWarning)\n",
            "/usr/local/lib/python3.6/dist-packages/sklearn/neural_network/_multilayer_perceptron.py:571: ConvergenceWarning: Stochastic Optimizer: Maximum iterations (200) reached and the optimization hasn't converged yet.\n",
            "  % self.max_iter, ConvergenceWarning)\n"
          ],
          "name": "stderr"
        },
        {
          "output_type": "stream",
          "text": [
            "Executando Configuração:  6\n"
          ],
          "name": "stdout"
        },
        {
          "output_type": "stream",
          "text": [
            "/usr/local/lib/python3.6/dist-packages/sklearn/neural_network/_multilayer_perceptron.py:571: ConvergenceWarning: Stochastic Optimizer: Maximum iterations (200) reached and the optimization hasn't converged yet.\n",
            "  % self.max_iter, ConvergenceWarning)\n",
            "/usr/local/lib/python3.6/dist-packages/sklearn/neural_network/_multilayer_perceptron.py:571: ConvergenceWarning: Stochastic Optimizer: Maximum iterations (200) reached and the optimization hasn't converged yet.\n",
            "  % self.max_iter, ConvergenceWarning)\n",
            "/usr/local/lib/python3.6/dist-packages/sklearn/neural_network/_multilayer_perceptron.py:571: ConvergenceWarning: Stochastic Optimizer: Maximum iterations (200) reached and the optimization hasn't converged yet.\n",
            "  % self.max_iter, ConvergenceWarning)\n",
            "/usr/local/lib/python3.6/dist-packages/sklearn/neural_network/_multilayer_perceptron.py:571: ConvergenceWarning: Stochastic Optimizer: Maximum iterations (200) reached and the optimization hasn't converged yet.\n",
            "  % self.max_iter, ConvergenceWarning)\n",
            "/usr/local/lib/python3.6/dist-packages/sklearn/neural_network/_multilayer_perceptron.py:571: ConvergenceWarning: Stochastic Optimizer: Maximum iterations (200) reached and the optimization hasn't converged yet.\n",
            "  % self.max_iter, ConvergenceWarning)\n",
            "/usr/local/lib/python3.6/dist-packages/sklearn/neural_network/_multilayer_perceptron.py:571: ConvergenceWarning: Stochastic Optimizer: Maximum iterations (200) reached and the optimization hasn't converged yet.\n",
            "  % self.max_iter, ConvergenceWarning)\n",
            "/usr/local/lib/python3.6/dist-packages/sklearn/neural_network/_multilayer_perceptron.py:571: ConvergenceWarning: Stochastic Optimizer: Maximum iterations (200) reached and the optimization hasn't converged yet.\n",
            "  % self.max_iter, ConvergenceWarning)\n"
          ],
          "name": "stderr"
        }
      ]
    },
    {
      "cell_type": "code",
      "metadata": {
        "id": "on5Oavi2Yt6Q"
      },
      "source": [
        "df_top = df_confgs\n",
        "df_top['media acuracia'] = medias_acuracia \n",
        "df_top['media f1 score'] = medias_f1score\n",
        "df_top['dp f1 acuracia'] = dp_acuracia\n",
        "df_top['dp f1 score'] = dp_f1score"
      ],
      "execution_count": 71,
      "outputs": []
    },
    {
      "cell_type": "code",
      "metadata": {
        "id": "QdshVKFvY7es",
        "outputId": "fe5b6e4c-542f-4dd0-a256-62c0134c3ea1",
        "colab": {
          "base_uri": "https://localhost:8080/",
          "height": 252
        }
      },
      "source": [
        "df_top = df_top.sort_values(['media f1 score'], ascending= False, kind='mergesort')\n",
        "df_top"
      ],
      "execution_count": 72,
      "outputs": [
        {
          "output_type": "execute_result",
          "data": {
            "text/html": [
              "<div>\n",
              "<style scoped>\n",
              "    .dataframe tbody tr th:only-of-type {\n",
              "        vertical-align: middle;\n",
              "    }\n",
              "\n",
              "    .dataframe tbody tr th {\n",
              "        vertical-align: top;\n",
              "    }\n",
              "\n",
              "    .dataframe thead th {\n",
              "        text-align: right;\n",
              "    }\n",
              "</style>\n",
              "<table border=\"1\" class=\"dataframe\">\n",
              "  <thead>\n",
              "    <tr style=\"text-align: right;\">\n",
              "      <th></th>\n",
              "      <th>Camadas</th>\n",
              "      <th>Função de Ativação</th>\n",
              "      <th>Hiperparametro</th>\n",
              "      <th>Épocas</th>\n",
              "      <th>Neurônios</th>\n",
              "      <th>media acuracia</th>\n",
              "      <th>media f1 score</th>\n",
              "      <th>dp f1 acuracia</th>\n",
              "      <th>dp f1 score</th>\n",
              "    </tr>\n",
              "  </thead>\n",
              "  <tbody>\n",
              "    <tr>\n",
              "      <th>0</th>\n",
              "      <td>2</td>\n",
              "      <td>relu</td>\n",
              "      <td>adam</td>\n",
              "      <td>200</td>\n",
              "      <td>(19, 16)</td>\n",
              "      <td>0.811646</td>\n",
              "      <td>0.689338</td>\n",
              "      <td>0.001989</td>\n",
              "      <td>0.006959</td>\n",
              "    </tr>\n",
              "    <tr>\n",
              "      <th>5</th>\n",
              "      <td>2</td>\n",
              "      <td>logistic</td>\n",
              "      <td>adam</td>\n",
              "      <td>200</td>\n",
              "      <td>(15, 10)</td>\n",
              "      <td>0.801088</td>\n",
              "      <td>0.674190</td>\n",
              "      <td>0.002898</td>\n",
              "      <td>0.010337</td>\n",
              "    </tr>\n",
              "    <tr>\n",
              "      <th>3</th>\n",
              "      <td>1</td>\n",
              "      <td>tanh</td>\n",
              "      <td>adam</td>\n",
              "      <td>200</td>\n",
              "      <td>20</td>\n",
              "      <td>0.800555</td>\n",
              "      <td>0.671570</td>\n",
              "      <td>0.002680</td>\n",
              "      <td>0.006171</td>\n",
              "    </tr>\n",
              "    <tr>\n",
              "      <th>1</th>\n",
              "      <td>1</td>\n",
              "      <td>tanh</td>\n",
              "      <td>adam</td>\n",
              "      <td>200</td>\n",
              "      <td>16</td>\n",
              "      <td>0.788587</td>\n",
              "      <td>0.644890</td>\n",
              "      <td>0.003093</td>\n",
              "      <td>0.009541</td>\n",
              "    </tr>\n",
              "    <tr>\n",
              "      <th>2</th>\n",
              "      <td>2</td>\n",
              "      <td>logistic</td>\n",
              "      <td>adam</td>\n",
              "      <td>200</td>\n",
              "      <td>(10, 12)</td>\n",
              "      <td>0.783392</td>\n",
              "      <td>0.630067</td>\n",
              "      <td>0.004485</td>\n",
              "      <td>0.010271</td>\n",
              "    </tr>\n",
              "    <tr>\n",
              "      <th>4</th>\n",
              "      <td>2</td>\n",
              "      <td>relu</td>\n",
              "      <td>adam</td>\n",
              "      <td>200</td>\n",
              "      <td>(7, 18)</td>\n",
              "      <td>0.764442</td>\n",
              "      <td>0.601503</td>\n",
              "      <td>0.003879</td>\n",
              "      <td>0.024947</td>\n",
              "    </tr>\n",
              "  </tbody>\n",
              "</table>\n",
              "</div>"
            ],
            "text/plain": [
              "  Camadas Função de Ativação  ... dp f1 acuracia  dp f1 score\n",
              "0       2               relu  ...       0.001989     0.006959\n",
              "5       2           logistic  ...       0.002898     0.010337\n",
              "3       1               tanh  ...       0.002680     0.006171\n",
              "1       1               tanh  ...       0.003093     0.009541\n",
              "2       2           logistic  ...       0.004485     0.010271\n",
              "4       2               relu  ...       0.003879     0.024947\n",
              "\n",
              "[6 rows x 9 columns]"
            ]
          },
          "metadata": {
            "tags": []
          },
          "execution_count": 72
        }
      ]
    },
    {
      "cell_type": "code",
      "metadata": {
        "id": "IOXd5den4foW",
        "outputId": "f6673c2f-8c37-4ea1-e84f-f6160fc038c8",
        "colab": {
          "base_uri": "https://localhost:8080/",
          "height": 295
        }
      },
      "source": [
        "}dados = scores.reshape(6, 10)\n",
        "dados = pd.DataFrame(data=dados)\n",
        "fig1, ax1 = plt.subplots()\n",
        "ax1.set_title('Boxplot 6 RNAs')\n",
        "ax1.set_xlabel('Configurações')\n",
        "ax1.set_ylabel('F1-Score')\n",
        "ax1.boxplot(dados)\n",
        "plt.show()"
      ],
      "execution_count": 63,
      "outputs": [
        {
          "output_type": "display_data",
          "data": {
            "image/png": "[encoded data removed]",
            "text/plain": [
              "<Figure size 432x288 with 1 Axes>"
            ]
          },
          "metadata": {
            "tags": [],
            "needs_background": "light"
          }
        }
      ]
    },
    {
      "cell_type": "markdown",
      "metadata": {
        "id": "QZq4kmN46Uyy"
      },
      "source": [
        "## Considerações Parciais\n",
        "\n",
        "1. É possível identificar uma rede com desempenho superior às demais?\n",
        "- Sim, avaliando as metricas de f1-score e acuracia é possível ver que a 1º RNA de arquitetura própria teve melhor desempenho que as demais. Porém, a mesma não apresentou resultado tão superior as redes subseguintes que são do tipo Pirâmide Geométrica.  \n",
        "2. Qual estratégia mostrou-se mais producente para a obtenção de boas arquiteturas (Estratégia Própria ou Pirâmide Geométrica)? Por quê?\n",
        "- Pirâmide Geométrica se mostrou mais producente. Porque a maioria de seus resultados foram melhores que as RNAs de arquitetura própria.\n",
        "3. Considerar os atributos categóricos trouxe melhorias? Justifique.\n",
        "- No tocante a média de acurácia e média de f1-score é notável a melhoria no de desempenho de cada RNA.\n",
        "4. Um número maior de épocas trouxe melhorias?\n",
        "- Sim, porém somente em duas arquitetura houve mudança no número de epocas de 150 épocas para 200 épocas, entretanto a melhoria signficativa provavelmente se deu devido uso dos atributos categóricos para o treinamento das RNAs.\n",
        "5. Qual a maior dificuldade de resolução do problema proposto perante as RNAs?\n",
        "- Definir bons parâmetros, pois acaba se tornando um trabalho exaustivo da escolha de parâmetros de forma empírica."
      ]
    },
    {
      "cell_type": "code",
      "metadata": {
        "id": "akJiZTnm6Uyy"
      },
      "source": [
        ""
      ],
      "execution_count": null,
      "outputs": []
    }
  ]
}
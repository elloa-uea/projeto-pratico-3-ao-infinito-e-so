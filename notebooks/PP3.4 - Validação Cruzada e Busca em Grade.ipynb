{
 "cells": [
  {
   "cell_type": "markdown",
   "metadata": {},
   "source": [
    "# Redes Neurais Artificiais 2020.1 -- Projeto Prático 3.4\n",
    "\n",
    "**Disciplina**: Redes Neurais Artificiais 2020.1  \n",
    "**Professora**: Elloá B. Guedes (ebgcosta@uea.edu.br)  \n",
    "**Github**: http://github.com/elloa  \n",
    "        \n",
    "\n",
    "Levando em conta a base de dados **_Forest Cover Type_**, esta terceira parte do Projeto Prático 3 diz respeito à proposição e avaliação de múltiplas redes neurais artificiais do tipo feedforward multilayer perceptron para o problema da classificação multi-classe da cobertura florestal em uma área do Roosevelt National Forest.\n",
    "\n",
    "## Busca em Grade\n",
    "\n",
    "Uma maneira padrão de escolher os parâmetros de um modelo de Machine Learning é por meio de uma busca em grade via força bruta. O algoritmo da busca em grade é dado como segue:\n",
    "\n",
    "1. Escolha a métrica de desempenho que você deseja maximizar  \n",
    "2. Escolha o algoritmo de Machine Learning (exemplo: redes neurais artificiais). Em seguida, defina os parâmetros ou hiperparâmetros deste tipo de modelo sobre os quais você dseja otimizar (número de épocas, taxa de aprendizado, etc.) e construa um array de valores a serem testados para cada parâmetro ou hiperparâmetro.  \n",
    "3. Defina a grade de busca, a qual é dada como o produto cartesiano de cada parâmetro a ser testado. Por exemplo, para os arrays [50, 100, 1000] e [10, 15], tem-se que a grade é [(50,10), (50,15), (100,10), (100,15), (1000,10), (1000,15)].\n",
    "4. Para cada combinação de parâmetros a serem otimizados, utilize o conjunto de treinamento para realizar uma validação cruzada (holdout ou k-fold) e calcule a métrica de avaliação no conjunto de teste (ou conjuntos de teste)\n",
    "5. Escolha a combinação de parâmetros que maximizam a métrica de avaliação. Este é o modelo otimizado.\n",
    "\n",
    "Por que esta abordagem funciona? Porque a busca em grade efetua uma pesquisa extensiva sobre as possíveis combinações de valores para cada um dos parâmetros a serem ajustados. Para cada combinação, ela estima a performance do modelo em dados novos. Por fim, o modelo com melhor métrica de desempenho é escolhido. Tem-se então que este modelo é o que melhor pode vir a generalizar mediante dados nunca antes vistos.\n",
    "\n",
    "## Efetuando a Busca em Grade sobre Hiperparâmetros das Top-6 RNAs\n",
    "\n",
    "Considerando a etapa anterior do projeto prático, foram identificadas pelo menos 6 melhores Redes Neurais para o problema da classificação multi-classe da cobertura florestal no conjunto de dados selecionado. Algumas destas redes possuem atributos categóricos como variáveis preditoras, enquanto outras possuem apenas os atributos numéricos como preditores.\n",
    "\n",
    "A primeira etapa desta segunda parte do projeto consiste em trazer para este notebook estas seis arquiteturas, ressaltando:\n",
    "\n",
    "1. Número de neurônios ocultos por camada  \n",
    "2. Função de Ativação  \n",
    "3. Utilização ou não de atributos categóricos   \n",
    "4. Desempenho médio +- desvio padrão nos testes anteriores  \n",
    "5. Número de repetições que a equipe conseguiu realizar para verificar os resultados  \n",
    "\n",
    "Elabore uma busca em grade sobre estas arquiteturas que contemple variações nos hiperparâmetros a seguir, conforme documentação de [MLPClassifier](https://scikit-learn.org/stable/modules/generated/sklearn.neural_network.MLPClassifier.html)\n",
    "\n",
    "A. Solver  (Não usar o LBFGS, pois é mais adequado para datasets pequenos)  \n",
    "B. Batch Size  \n",
    "C. Learning Rate Init  \n",
    "D. Paciência (n_iter_no_change)  \n",
    "E. Épocas  \n",
    "\n",
    "Nesta busca em grande, contemple a utilização do objeto [GridSearchCV](https://scikit-learn.org/stable/modules/generated/sklearn.model_selection.GridSearchCV.html)"
   ]
  },
  {
   "cell_type": "markdown",
   "metadata": {},
   "source": [
    "## Validação Cruzada k-fold\n",
    "\n",
    "Na elaboração da busca em grid, vamos avaliar os modelos propostos segundo uma estratégia de validação cruzada ainda não explorada até o momento: a validação cruzada k-fold. Segundo a mesma, o conjunto de dados é particionado em k partes: a cada iteração, separa-se uma das partes para teste e o modelo é treinado com as k-1 partes remanescentes. Valores sugestivos de k na literatura são k = 3, 5 ou 10, pois o custo computacional desta validação dos modelos é alto. A métrica de desempenho é resultante da média dos desempenhos nas k iterações. A figura a seguir ilustra a ideia desta avaliação\n",
    "\n",
    "<img src = \"https://ethen8181.github.io/machine-learning/model_selection/img/kfolds.png\" width=600></img>\n",
    "\n",
    "Considerando a métrica de desempenho F1-Score, considere a validação cruzada 5-fold para aferir os resultados da busca em grande anterior."
   ]
  },
  {
   "cell_type": "code",
   "execution_count": 1,
   "metadata": {},
   "outputs": [],
   "source": [
    "#reservado para importação de bibliotecas\n",
    "import pandas as pd\n",
    "import numpy as np\n",
    "import matplotlib.pyplot as plt\n",
    "from sklearn.neural_network import MLPClassifier\n",
    "from sklearn.model_selection import train_test_split\n",
    "from sklearn.model_selection import GridSearchCV\n",
    "from sklearn.metrics import f1_score\n",
    "from sklearn.metrics import plot_confusion_matrix\n",
    "from joblib import dump, load"
   ]
  },
  {
   "cell_type": "code",
   "execution_count": 4,
   "metadata": {},
   "outputs": [
    {
     "output_type": "stream",
     "name": "stdout",
     "text": [
      "<class 'pandas.core.frame.DataFrame'>\nRangeIndex: 581012 entries, 0 to 581011\nData columns (total 55 columns):\n #   Column                              Non-Null Count   Dtype\n---  ------                              --------------   -----\n 0   Elevation                           581012 non-null  int64\n 1   Aspect                              581012 non-null  int64\n 2   Slope                               581012 non-null  int64\n 3   Horizontal_Distance_To_Hydrology    581012 non-null  int64\n 4   Vertical_Distance_To_Hydrology      581012 non-null  int64\n 5   Horizontal_Distance_To_Roadways     581012 non-null  int64\n 6   Hillshade_9am                       581012 non-null  int64\n 7   Hillshade_Noon                      581012 non-null  int64\n 8   Hillshade_3pm                       581012 non-null  int64\n 9   Horizontal_Distance_To_Fire_Points  581012 non-null  int64\n 10  Wilderness_Area1                    581012 non-null  int64\n 11  Wilderness_Area2                    581012 non-null  int64\n 12  Wilderness_Area3                    581012 non-null  int64\n 13  Wilderness_Area4                    581012 non-null  int64\n 14  Soil_Type1                          581012 non-null  int64\n 15  Soil_Type2                          581012 non-null  int64\n 16  Soil_Type3                          581012 non-null  int64\n 17  Soil_Type4                          581012 non-null  int64\n 18  Soil_Type5                          581012 non-null  int64\n 19  Soil_Type6                          581012 non-null  int64\n 20  Soil_Type7                          581012 non-null  int64\n 21  Soil_Type8                          581012 non-null  int64\n 22  Soil_Type9                          581012 non-null  int64\n 23  Soil_Type10                         581012 non-null  int64\n 24  Soil_Type11                         581012 non-null  int64\n 25  Soil_Type12                         581012 non-null  int64\n 26  Soil_Type13                         581012 non-null  int64\n 27  Soil_Type14                         581012 non-null  int64\n 28  Soil_Type15                         581012 non-null  int64\n 29  Soil_Type16                         581012 non-null  int64\n 30  Soil_Type17                         581012 non-null  int64\n 31  Soil_Type18                         581012 non-null  int64\n 32  Soil_Type19                         581012 non-null  int64\n 33  Soil_Type20                         581012 non-null  int64\n 34  Soil_Type21                         581012 non-null  int64\n 35  Soil_Type22                         581012 non-null  int64\n 36  Soil_Type23                         581012 non-null  int64\n 37  Soil_Type24                         581012 non-null  int64\n 38  Soil_Type25                         581012 non-null  int64\n 39  Soil_Type26                         581012 non-null  int64\n 40  Soil_Type27                         581012 non-null  int64\n 41  Soil_Type28                         581012 non-null  int64\n 42  Soil_Type29                         581012 non-null  int64\n 43  Soil_Type30                         581012 non-null  int64\n 44  Soil_Type31                         581012 non-null  int64\n 45  Soil_Type32                         581012 non-null  int64\n 46  Soil_Type33                         581012 non-null  int64\n 47  Soil_Type34                         581012 non-null  int64\n 48  Soil_Type35                         581012 non-null  int64\n 49  Soil_Type36                         581012 non-null  int64\n 50  Soil_Type37                         581012 non-null  int64\n 51  Soil_Type38                         581012 non-null  int64\n 52  Soil_Type39                         581012 non-null  int64\n 53  Soil_Type40                         581012 non-null  int64\n 54  Cover_Type                          581012 non-null  int64\ndtypes: int64(55)\nmemory usage: 243.8 MB\n"
     ]
    }
   ],
   "source": [
    "#abertura do dataset\n",
    "dados = pd.read_csv('../dataset/covtype.csv')\n",
    "dados.info()"
   ]
  },
  {
   "cell_type": "code",
   "execution_count": 5,
   "metadata": {},
   "outputs": [],
   "source": [
    "x = dados.drop(\"Cover_Type\", axis = 1)\n",
    "y = dados.Cover_Type\n",
    "\n",
    "X_train, X_test, Y_train, Y_test = train_test_split(x, y, test_size = 0.3, random_state = 42)\n",
    "\n",
    "\n",
    "#escalonamento\n",
    "X_train_std = (X_train - np.mean(X_train))/np.std(X_train)\n",
    "X_test_std = (X_test - np.mean(X_train))/np.std(X_train)"
   ]
  },
  {
   "source": [
    "top-6 RNAs serão consideradas as ultimas arquiteruras com 200 epocas e a utilização de atributos categóricos, para chegar a esses resultados forma realizados 10 repetições:"
   ],
   "cell_type": "markdown",
   "metadata": {}
  },
  {
   "cell_type": "code",
   "execution_count": 4,
   "metadata": {},
   "outputs": [],
   "source": [
    "#coloquei manualmente =, mas depois coloca direto dos dados que tu salvou anteriormente, ok?\n",
    "arquiteturas = [ 2, 'relu', 'adam', 200, (19, 16), 0.811646, 0.689338, 0.001989, 0.006959,\n",
    "1, 'tanh', 'adam', 200, 16, 0.788587, 0.644890, 0.003093, 0.009541,\n",
    "2, 'logistic', 'adam', 200, (10, 12), 0.783392, 0.644890, 0.003093, 0.009541,\n",
    "1, 'tanh', 'adam', 200, 20, 0.800555, 0.671570, 0.002680, 0.006171,\n",
    "2, 'relu', 'adam', 200, (7, 18), 0.764442, 0.601503, 0.003879, 0.024947,\n",
    "2, 'logistic', 'adam', 200, (15, 10), 0.801088, 0.674190, 0.002898, 0.010337,\n",
    "\n",
    "]"
   ]
  },
  {
   "cell_type": "code",
   "execution_count": 5,
   "metadata": {},
   "outputs": [
    {
     "output_type": "execute_result",
     "data": {
      "text/plain": [
       "  Camadas Função de Ativação Hiperparametro  Épocas Neurônios media acuracia  \\\n",
       "0       2               relu           adam     200  (19, 16)       0.811646   \n",
       "1       1               tanh           adam     200        16       0.788587   \n",
       "2       2           logistic           adam     200  (10, 12)       0.783392   \n",
       "3       1               tanh           adam     200        20       0.800555   \n",
       "4       2               relu           adam     200   (7, 18)       0.764442   \n",
       "5       2           logistic           adam     200  (15, 10)       0.801088   \n",
       "\n",
       "  media f1 score dp acuracia dp f1 score  \n",
       "0       0.689338    0.001989    0.006959  \n",
       "1        0.64489    0.003093    0.009541  \n",
       "2        0.64489    0.003093    0.009541  \n",
       "3        0.67157     0.00268    0.006171  \n",
       "4       0.601503    0.003879    0.024947  \n",
       "5        0.67419    0.002898    0.010337  "
      ],
      "text/html": "<div>\n<style scoped>\n    .dataframe tbody tr th:only-of-type {\n        vertical-align: middle;\n    }\n\n    .dataframe tbody tr th {\n        vertical-align: top;\n    }\n\n    .dataframe thead th {\n        text-align: right;\n    }\n</style>\n<table border=\"1\" class=\"dataframe\">\n  <thead>\n    <tr style=\"text-align: right;\">\n      <th></th>\n      <th>Camadas</th>\n      <th>Função de Ativação</th>\n      <th>Hiperparametro</th>\n      <th>Épocas</th>\n      <th>Neurônios</th>\n      <th>media acuracia</th>\n      <th>media f1 score</th>\n      <th>dp acuracia</th>\n      <th>dp f1 score</th>\n    </tr>\n  </thead>\n  <tbody>\n    <tr>\n      <th>0</th>\n      <td>2</td>\n      <td>relu</td>\n      <td>adam</td>\n      <td>200</td>\n      <td>(19, 16)</td>\n      <td>0.811646</td>\n      <td>0.689338</td>\n      <td>0.001989</td>\n      <td>0.006959</td>\n    </tr>\n    <tr>\n      <th>1</th>\n      <td>1</td>\n      <td>tanh</td>\n      <td>adam</td>\n      <td>200</td>\n      <td>16</td>\n      <td>0.788587</td>\n      <td>0.64489</td>\n      <td>0.003093</td>\n      <td>0.009541</td>\n    </tr>\n    <tr>\n      <th>2</th>\n      <td>2</td>\n      <td>logistic</td>\n      <td>adam</td>\n      <td>200</td>\n      <td>(10, 12)</td>\n      <td>0.783392</td>\n      <td>0.64489</td>\n      <td>0.003093</td>\n      <td>0.009541</td>\n    </tr>\n    <tr>\n      <th>3</th>\n      <td>1</td>\n      <td>tanh</td>\n      <td>adam</td>\n      <td>200</td>\n      <td>20</td>\n      <td>0.800555</td>\n      <td>0.67157</td>\n      <td>0.00268</td>\n      <td>0.006171</td>\n    </tr>\n    <tr>\n      <th>4</th>\n      <td>2</td>\n      <td>relu</td>\n      <td>adam</td>\n      <td>200</td>\n      <td>(7, 18)</td>\n      <td>0.764442</td>\n      <td>0.601503</td>\n      <td>0.003879</td>\n      <td>0.024947</td>\n    </tr>\n    <tr>\n      <th>5</th>\n      <td>2</td>\n      <td>logistic</td>\n      <td>adam</td>\n      <td>200</td>\n      <td>(15, 10)</td>\n      <td>0.801088</td>\n      <td>0.67419</td>\n      <td>0.002898</td>\n      <td>0.010337</td>\n    </tr>\n  </tbody>\n</table>\n</div>"
     },
     "metadata": {},
     "execution_count": 5
    }
   ],
   "source": [
    "df_arq = pd.DataFrame(np.array(arquiteturas).reshape(6,9), columns= [ \"Camadas\",\n",
    " \"Função de Ativação\", \n",
    " \"Hiperparametro\",\n",
    " \"Épocas\", \n",
    " \"Neurônios\",\n",
    " \"media acuracia\",\n",
    " \"media f1 score\", \n",
    " \"dp acuracia\", \n",
    " \"dp f1 score\"])\n",
    "\n",
    "df_arq[\"Épocas\"] = pd.to_numeric(df_arq[\"Épocas\"])\n",
    "\n",
    "df_arq"
   ]
  },
  {
   "cell_type": "code",
   "execution_count": 6,
   "metadata": {},
   "outputs": [],
   "source": [
    "#confirmar parametros\n",
    "parametros = { 'solver' : ['sgd', 'adam'],\n",
    "                'batch_size' : ['auto'],\n",
    "                'learning_rate_init': [0.01, 0.1],\n",
    "                'n_iter_no_change' : [10, 30],\n",
    "                'max_iter' : [100, 150, 200]}"
   ]
  },
  {
   "cell_type": "code",
   "execution_count": 10,
   "metadata": {
    "tags": []
   },
   "outputs": [
    {
     "output_type": "stream",
     "name": "stdout",
     "text": [
      "Executando Arquitetura:  1\n",
      "Iteration 1, loss = 0.64328581\n",
      "Iteration 2, loss = 0.60433586\n",
      "Iteration 3, loss = 0.59844521\n",
      "Iteration 4, loss = 0.59432348\n",
      "Iteration 5, loss = 0.59255961\n",
      "Iteration 6, loss = 0.58935924\n",
      "Iteration 7, loss = 0.59294796\n",
      "Iteration 8, loss = 0.58964031\n",
      "Iteration 9, loss = 0.59106387\n",
      "Iteration 10, loss = 0.59054164\n",
      "Iteration 11, loss = 0.58628876\n",
      "Iteration 12, loss = 0.58884071\n",
      "Iteration 13, loss = 0.58909909\n",
      "Iteration 14, loss = 0.58983615\n",
      "Iteration 15, loss = 0.58694847\n",
      "Iteration 16, loss = 0.58916600\n",
      "Iteration 17, loss = 0.59173227\n",
      "Iteration 18, loss = 0.58727444\n",
      "Iteration 19, loss = 0.58914055\n",
      "Iteration 20, loss = 0.58668682\n",
      "Iteration 21, loss = 0.58747563\n",
      "Iteration 22, loss = 0.58746693\n",
      "Training loss did not improve more than tol=0.000100 for 10 consecutive epochs. Stopping.\n",
      "Iteration 1, loss = 0.64748530\n",
      "Iteration 2, loss = 0.59973938\n",
      "Iteration 3, loss = 0.59702998\n",
      "Iteration 4, loss = 0.59443953\n",
      "Iteration 5, loss = 0.59045200\n",
      "Iteration 6, loss = 0.58900770\n",
      "Iteration 7, loss = 0.58984240\n",
      "Iteration 8, loss = 0.58736752\n",
      "Iteration 9, loss = 0.58716557\n",
      "Iteration 10, loss = 0.59027070\n",
      "Iteration 11, loss = 0.58855451\n",
      "Iteration 12, loss = 0.58621115\n",
      "Iteration 13, loss = 0.58748588\n",
      "Iteration 14, loss = 0.58837256\n",
      "Iteration 15, loss = 0.59033540\n",
      "Iteration 16, loss = 0.58880654\n",
      "Iteration 17, loss = 0.58782818\n",
      "Iteration 18, loss = 0.58895316\n",
      "Iteration 19, loss = 0.58766249\n",
      "Iteration 20, loss = 0.58657997\n",
      "Iteration 21, loss = 0.58781226\n",
      "Iteration 22, loss = 0.59044747\n",
      "Iteration 23, loss = 0.59111234\n",
      "Training loss did not improve more than tol=0.000100 for 10 consecutive epochs. Stopping.\n",
      "Iteration 1, loss = 0.64591484\n",
      "Iteration 2, loss = 0.60108511\n",
      "Iteration 3, loss = 0.59475633\n",
      "Iteration 4, loss = 0.59213946\n",
      "Iteration 5, loss = 0.58836742\n",
      "Iteration 6, loss = 0.58815290\n",
      "Iteration 7, loss = 0.59080300\n",
      "Iteration 8, loss = 0.58756302\n",
      "Iteration 9, loss = 0.59353575\n",
      "Iteration 10, loss = 0.59382587\n",
      "Iteration 11, loss = 0.59119155\n",
      "Iteration 12, loss = 0.59283510\n",
      "Iteration 13, loss = 0.59326916\n",
      "Iteration 14, loss = 0.59134193\n",
      "Iteration 15, loss = 0.59256843\n",
      "Iteration 16, loss = 0.58888284\n",
      "Iteration 17, loss = 0.59348353\n",
      "Iteration 18, loss = 0.59072992\n",
      "Iteration 19, loss = 0.59271458\n",
      "Training loss did not improve more than tol=0.000100 for 10 consecutive epochs. Stopping.\n",
      "Iteration 1, loss = 0.64889417\n",
      "Iteration 2, loss = 0.60524318\n",
      "Iteration 3, loss = 0.59917157\n",
      "Iteration 4, loss = 0.59533717\n",
      "Iteration 5, loss = 0.59463408\n",
      "Iteration 6, loss = 0.59613810\n",
      "Iteration 7, loss = 0.59696162\n",
      "Iteration 8, loss = 0.59465466\n",
      "Iteration 9, loss = 0.59114014\n",
      "Iteration 10, loss = 0.59369220\n",
      "Iteration 11, loss = 0.59301293\n",
      "Iteration 12, loss = 0.59406774\n",
      "Iteration 13, loss = 0.59217871\n",
      "Iteration 14, loss = 0.59151180\n",
      "Iteration 15, loss = 0.59220556\n",
      "Iteration 16, loss = 0.59262744\n",
      "Iteration 17, loss = 0.59370167\n",
      "Iteration 18, loss = 0.58832030\n",
      "Iteration 19, loss = 0.59480461\n",
      "Iteration 20, loss = 0.59634011\n",
      "Iteration 21, loss = 0.59579700\n",
      "Iteration 22, loss = 0.59434077\n",
      "Iteration 23, loss = 0.59443177\n",
      "Iteration 24, loss = 0.59383847\n",
      "Iteration 25, loss = 0.59363776\n",
      "Iteration 26, loss = 0.59284658\n",
      "Iteration 27, loss = 0.59362755\n",
      "Iteration 28, loss = 0.59338492\n",
      "Iteration 29, loss = 0.59257165\n",
      "Training loss did not improve more than tol=0.000100 for 10 consecutive epochs. Stopping.\n",
      "Iteration 1, loss = 0.65328089\n",
      "Iteration 2, loss = 0.60923539\n",
      "Iteration 3, loss = 0.60283273\n",
      "Iteration 4, loss = 0.60119965\n",
      "Iteration 5, loss = 0.60380469\n",
      "Iteration 6, loss = 0.60211903\n",
      "Iteration 7, loss = 0.59696717\n",
      "Iteration 8, loss = 0.59675197\n",
      "Iteration 9, loss = 0.59832128\n",
      "Iteration 10, loss = 0.59793400\n",
      "Iteration 11, loss = 0.59940530\n",
      "Iteration 12, loss = 0.59701297\n",
      "Iteration 13, loss = 0.59587699\n",
      "Iteration 14, loss = 0.59798080\n",
      "Iteration 15, loss = 0.59715595\n",
      "Iteration 16, loss = 0.59361013\n",
      "Iteration 17, loss = 0.59314797\n",
      "Iteration 18, loss = 0.59499349\n",
      "Iteration 19, loss = 0.59249319\n",
      "Iteration 20, loss = 0.59317971\n",
      "Iteration 21, loss = 0.59301037\n",
      "Iteration 22, loss = 0.59455124\n",
      "Iteration 23, loss = 0.59652843\n",
      "Iteration 24, loss = 0.59385026\n",
      "Iteration 25, loss = 0.59226513\n",
      "Iteration 26, loss = 0.58974140\n",
      "Iteration 27, loss = 0.59235240\n",
      "Iteration 28, loss = 0.59422870\n",
      "Iteration 29, loss = 0.59406177\n",
      "Iteration 30, loss = 0.59370148\n",
      "Iteration 31, loss = 0.59113829\n",
      "Iteration 32, loss = 0.59284099\n",
      "Iteration 33, loss = 0.59104409\n",
      "Iteration 34, loss = 0.59038621\n",
      "Iteration 35, loss = 0.59169530\n",
      "Iteration 36, loss = 0.59319293\n",
      "Iteration 37, loss = 0.59162072\n",
      "Training loss did not improve more than tol=0.000100 for 10 consecutive epochs. Stopping.\n",
      "Iteration 1, loss = 0.63731854\n",
      "Iteration 2, loss = 0.59872651\n",
      "Iteration 3, loss = 0.59323846\n",
      "Iteration 4, loss = 0.58815144\n",
      "Iteration 5, loss = 0.58934168\n",
      "Iteration 6, loss = 0.59085505\n",
      "Iteration 7, loss = 0.59159093\n",
      "Iteration 8, loss = 0.58828705\n",
      "Iteration 9, loss = 0.58954268\n",
      "Iteration 10, loss = 0.58831638\n",
      "Iteration 11, loss = 0.58854000\n",
      "Iteration 12, loss = 0.58912150\n",
      "Iteration 13, loss = 0.59049245\n",
      "Iteration 14, loss = 0.58989827\n",
      "Iteration 15, loss = 0.58770804\n",
      "Iteration 16, loss = 0.58473878\n",
      "Iteration 17, loss = 0.58605767\n",
      "Iteration 18, loss = 0.58613094\n",
      "Iteration 19, loss = 0.58555009\n",
      "Iteration 20, loss = 0.58942623\n",
      "Iteration 21, loss = 0.58650664\n",
      "Iteration 22, loss = 0.58570472\n",
      "Iteration 23, loss = 0.58527408\n",
      "Iteration 24, loss = 0.58468448\n",
      "Iteration 25, loss = 0.58351172\n",
      "Iteration 26, loss = 0.58672338\n",
      "Iteration 27, loss = 0.58408647\n",
      "Iteration 28, loss = 0.58482425\n",
      "Iteration 29, loss = 0.58411778\n",
      "Iteration 30, loss = 0.58493218\n",
      "Iteration 31, loss = 0.58523106\n",
      "Iteration 32, loss = 0.58615166\n",
      "Iteration 33, loss = 0.58719245\n",
      "Iteration 34, loss = 0.58686952\n",
      "Iteration 35, loss = 0.58506867\n",
      "Iteration 36, loss = 0.58422796\n",
      "Training loss did not improve more than tol=0.000100 for 10 consecutive epochs. Stopping.\n"
     ]
    }
   ],
   "source": [
    "result = [] #vetor para guardar resultados da grid search\n",
    "\n",
    "for i in range(6):\n",
    "    print(\"Executando Arquitetura: \", i+1)\n",
    "    mlp = MLPClassifier(hidden_layer_sizes= df_arq['Neurônios'][i],\n",
    "     activation= df_arq['Função de Ativação'][i], \n",
    "     verbose= False)\n",
    "    grid = GridSearchCV(mlp, parametros)\n",
    "    grid.fit(X_train_std, Y_train)\n",
    "    result.append(grid)\n"
   ]
  },
  {
   "cell_type": "markdown",
   "metadata": {},
   "source": [
    "## Identificando a mellhor solução\n",
    "\n",
    "Como resultado da busca em grande com validação cruzada 5-fold, identifique o modelo otimizado com melhor desempenho para o problema. Apresente claramente este modelo, seus parâmetros, hiperparâmetros otimizados e resultados para cada um dos folds avaliados. Esta é a melhor solução identificada em decorrência deste projeto"
   ]
  },
  {
   "cell_type": "code",
   "execution_count": 22,
   "metadata": {},
   "outputs": [
    {
     "output_type": "execute_result",
     "data": {
      "text/plain": [
       "MLPClassifier(activation='logistic', hidden_layer_sizes=(15, 10),\n",
       "              learning_rate_init=0.1, verbose=True)"
      ]
     },
     "metadata": {},
     "execution_count": 22
    }
   ],
   "source": [
    "# Melhor\n",
    "result[0].best_estimator_"
   ]
  },
  {
   "cell_type": "code",
   "execution_count": 21,
   "metadata": {},
   "outputs": [
    {
     "output_type": "execute_result",
     "data": {
      "text/plain": [
       "{'batch_size': 'auto',\n",
       " 'learning_rate_init': 0.1,\n",
       " 'max_iter': 200,\n",
       " 'n_iter_no_change': 10,\n",
       " 'solver': 'adam'}"
      ]
     },
     "metadata": {},
     "execution_count": 21
    }
   ],
   "source": [
    "# Melhores parametros\n",
    "result[0].best_params_"
   ]
  },
  {
   "cell_type": "code",
   "execution_count": 8,
   "metadata": {},
   "outputs": [],
   "source": [
    "# Melhor rede\n",
    "melhor_arquitetura = {\n",
    "    \"activation\": \"logistic\",\n",
    "    'hidden_layer_sizes':  (15, 10),\n",
    "    \"parametros\": {\n",
    "        \"batch_size\": [\"auto\"],\n",
    "        \"learning_rate_init\": [0.1],\n",
    "        \"max_iter\": [200],\n",
    "        \"n_iter_no_change\": [10],\n",
    "        \"solver\": [\"adam\"],\n",
    "    }\n",
    "}\n",
    "\n",
    "\n",
    "#confirmar parametros"
   ]
  },
  {
   "cell_type": "code",
   "execution_count": 10,
   "metadata": {},
   "outputs": [
    {
     "output_type": "execute_result",
     "data": {
      "text/plain": [
       "GridSearchCV(cv=5,\n",
       "             estimator=MLPClassifier(activation='logistic',\n",
       "                                     hidden_layer_sizes=(15, 10)),\n",
       "             param_grid={'batch_size': ['auto'], 'learning_rate_init': [0.1],\n",
       "                         'max_iter': [200], 'n_iter_no_change': [10],\n",
       "                         'solver': ['adam']})"
      ]
     },
     "metadata": {},
     "execution_count": 10
    }
   ],
   "source": [
    "# 5-fold\n",
    "mlp = MLPClassifier(hidden_layer_sizes= melhor_arquitetura['hidden_layer_sizes'],\n",
    "activation= melhor_arquitetura['activation'], \n",
    "verbose= False)\n",
    "\n",
    "grid = GridSearchCV(mlp, melhor_arquitetura['parametros'], cv=5)\n",
    "grid.fit(X_train_std, Y_train)"
   ]
  },
  {
   "cell_type": "code",
   "execution_count": 15,
   "metadata": {},
   "outputs": [
    {
     "output_type": "execute_result",
     "data": {
      "text/plain": [
       "0.7737630805948228"
      ]
     },
     "metadata": {},
     "execution_count": 15
    }
   ],
   "source": [
    "# Prevendo com dados normalizados\n",
    "f1_score(Y_test, grid.predict(X_test_std), average='micro')"
   ]
  },
  {
   "cell_type": "code",
   "execution_count": 16,
   "metadata": {},
   "outputs": [
    {
     "output_type": "execute_result",
     "data": {
      "text/plain": [
       "0.32742220488342205"
      ]
     },
     "metadata": {},
     "execution_count": 16
    }
   ],
   "source": [
    "# Prevendo com dados não normalizados\n",
    "f1_score(Y_test, grid.predict(X_test), average='micro')"
   ]
  },
  {
   "cell_type": "code",
   "execution_count": 17,
   "metadata": {},
   "outputs": [
    {
     "output_type": "execute_result",
     "data": {
      "text/plain": [
       "GridSearchCV(cv=5,\n",
       "             estimator=MLPClassifier(activation='logistic',\n",
       "                                     hidden_layer_sizes=(15, 10)),\n",
       "             param_grid={'batch_size': ['auto'], 'learning_rate_init': [0.1],\n",
       "                         'max_iter': [200], 'n_iter_no_change': [10],\n",
       "                         'solver': ['adam']})"
      ]
     },
     "metadata": {},
     "execution_count": 17
    }
   ],
   "source": [
    "# 5-fold com dados para treinamento não normalizados\n",
    "nao_normalizado = MLPClassifier(hidden_layer_sizes= melhor_arquitetura['hidden_layer_sizes'],\n",
    "activation= melhor_arquitetura['activation'], \n",
    "verbose= False)\n",
    "\n",
    "grid_nao_normalizado = GridSearchCV(nao_normalizado, melhor_arquitetura['parametros'], cv=5)\n",
    "grid_nao_normalizado.fit(X_train, Y_train)"
   ]
  },
  {
   "cell_type": "code",
   "execution_count": 28,
   "metadata": {},
   "outputs": [
    {
     "output_type": "execute_result",
     "data": {
      "text/plain": [
       "0.4881012483936112"
      ]
     },
     "metadata": {},
     "execution_count": 28
    }
   ],
   "source": [
    "# Modelo treinado com dados não normalizados e Prevendo com dados normalizados\n",
    "f1_score(Y_test, grid_nao_normalizado.predict(X_test_std), average='micro')"
   ]
  },
  {
   "cell_type": "code",
   "execution_count": 29,
   "metadata": {},
   "outputs": [
    {
     "output_type": "execute_result",
     "data": {
      "text/plain": [
       "0.4881012483936112"
      ]
     },
     "metadata": {},
     "execution_count": 29
    }
   ],
   "source": [
    "# Modelo treinado com dados não normalizados e Prevendo com dados não normalizados\n",
    "f1_score(Y_test, grid_nao_normalizado.predict(X_test), average='micro')"
   ]
  },
  {
   "cell_type": "markdown",
   "metadata": {},
   "source": [
    "## Empacotando a solução\n",
    "\n",
    "Suponha que você deve entregar este classificador ao órgão responsável por administrar o Roosevelt National Park. Para tanto, você deve fazer uma preparação do mesmo para utilização neste cenário. Uma vez que já identificou os melhores parâmetros e hiperparâmetros, o passo remanescente consiste em treinar o modelo com estes valores e todos os dados disponíveis, salvando o conjunto de pesos do modelo ao final para entrega ao cliente. Assim, finalize o projeto prático realizando tais passos.\n",
    "\n",
    "1. Consulte a documentação a seguir:\n",
    "https://scikit-learn.org/stable/modules/model_persistence.html  \n",
    "2. Treine o modelo com todos os dados  \n",
    "3. Salve o modelo em disco  \n",
    "4. Construa uma rotina que recupere o modelo em disco  \n",
    "5. Mostre que a rotina é funcional, fazendo previsões com todos os elementos do dataset e exibindo uma matriz de confusão das mesmas"
   ]
  },
  {
   "cell_type": "code",
   "execution_count": 9,
   "metadata": {},
   "outputs": [],
   "source": [
    "# Normalizar dados de treino dataset\n",
    "x = (x - np.mean(x))/np.std(x)"
   ]
  },
  {
   "cell_type": "code",
   "execution_count": 34,
   "metadata": {},
   "outputs": [
    {
     "output_type": "execute_result",
     "data": {
      "text/plain": [
       "GridSearchCV(cv=5,\n",
       "             estimator=MLPClassifier(activation='logistic',\n",
       "                                     hidden_layer_sizes=(15, 10)),\n",
       "             param_grid={'batch_size': ['auto'], 'learning_rate_init': [0.1],\n",
       "                         'max_iter': [200], 'n_iter_no_change': [10],\n",
       "                         'solver': ['adam']})"
      ]
     },
     "metadata": {},
     "execution_count": 34
    }
   ],
   "source": [
    "# 5-fold\n",
    "mlp = MLPClassifier(hidden_layer_sizes= melhor_arquitetura['hidden_layer_sizes'],\n",
    "activation= melhor_arquitetura['activation'], \n",
    "verbose= False)\n",
    "\n",
    "grid = GridSearchCV(mlp, melhor_arquitetura['parametros'], cv=5)\n",
    "grid.fit(x, y)"
   ]
  },
  {
   "cell_type": "code",
   "execution_count": 41,
   "metadata": {},
   "outputs": [
    {
     "output_type": "execute_result",
     "data": {
      "text/plain": [
       "0.7667173827735055"
      ]
     },
     "metadata": {},
     "execution_count": 41
    }
   ],
   "source": [
    "f1_score(y, grid.best_estimator_.predict(x), average='micro')"
   ]
  },
  {
   "cell_type": "code",
   "execution_count": 43,
   "metadata": {},
   "outputs": [
    {
     "output_type": "execute_result",
     "data": {
      "text/plain": [
       "['cover-type-model.joblib']"
      ]
     },
     "metadata": {},
     "execution_count": 43
    }
   ],
   "source": [
    " # Persistir modelo no disco\n",
    " dump(grid.best_estimator_, 'cover-type-model.joblib')"
   ]
  },
  {
   "cell_type": "code",
   "execution_count": 7,
   "metadata": {},
   "outputs": [],
   "source": [
    "# Recuperar modelo no disco\n",
    "modelo_recuperado = load('cover-type-model.joblib') "
   ]
  },
  {
   "cell_type": "code",
   "execution_count": 10,
   "metadata": {},
   "outputs": [
    {
     "output_type": "execute_result",
     "data": {
      "text/plain": [
       "0.7667173827735055"
      ]
     },
     "metadata": {},
     "execution_count": 10
    }
   ],
   "source": [
    "# Verificando se o modelo está funcional\n",
    "f1_score(y, modelo_recuperado.predict(x), average='micro')"
   ]
  },
  {
   "cell_type": "code",
   "execution_count": 11,
   "metadata": {},
   "outputs": [
    {
     "output_type": "execute_result",
     "data": {
      "text/plain": [
       "array([5, 2, 1, 7, 3, 6, 4])"
      ]
     },
     "metadata": {},
     "execution_count": 11
    }
   ],
   "source": [
    "y.unique()"
   ]
  },
  {
   "cell_type": "code",
   "execution_count": 16,
   "metadata": {},
   "outputs": [
    {
     "output_type": "display_data",
     "data": {
      "text/plain": "<Figure size 1440x720 with 2 Axes>",
      "image/svg+xml": "<?xml version=\"1.0\" encoding=\"utf-8\" standalone=\"no\"?>\n<!DOCTYPE svg PUBLIC \"-//W3C//DTD SVG 1.1//EN\"\n  \"http://www.w3.org/Graphics/SVG/1.1/DTD/svg11.dtd\">\n<!-- Created with matplotlib (https://matplotlib.org/) -->\n<svg height=\"603.67875pt\" version=\"1.1\" viewBox=\"0 0 771.801875 603.67875\" width=\"771.801875pt\" xmlns=\"http://www.w3.org/2000/svg\" xmlns:xlink=\"http://www.w3.org/1999/xlink\">\n <defs>\n  <style type=\"text/css\">\n*{stroke-linecap:butt;stroke-linejoin:round;}\n  </style>\n </defs>\n <g id=\"figure_1\">\n  <g id=\"patch_1\">\n   <path d=\"M 0 603.67875 \nL 771.801875 603.67875 \nL 771.801875 0 \nL 0 0 \nz\n\" style=\"fill:none;\"/>\n  </g>\n  <g id=\"axes_1\">\n   <g id=\"patch_2\">\n    <path d=\"M 92.846875 566.1225 \nL 636.446875 566.1225 \nL 636.446875 22.5225 \nL 92.846875 22.5225 \nz\n\" style=\"fill:#ffffff;\"/>\n   </g>\n   <g clip-path=\"url(#p6e66acf88b)\">\n    <image height=\"544\" id=\"image067ed84881\" transform=\"scale(1 -1)translate(0 -544)\" width=\"544\" x=\"92.846875\" xlink:href=\"data:image/png;base64,\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\" y=\"-22.1225\"/>\n   </g>\n   <g id=\"matplotlib.axis_1\">\n    <g id=\"xtick_1\">\n     <g id=\"line2d_1\">\n      <defs>\n       <path d=\"M 0 0 \nL 0 3.5 \n\" id=\"maa766f5821\" style=\"stroke:#000000;stroke-width:0.8;\"/>\n      </defs>\n      <g>\n       <use style=\"stroke:#000000;stroke-width:0.8;\" x=\"131.675446\" xlink:href=\"#maa766f5821\" y=\"566.1225\"/>\n      </g>\n     </g>\n     <g id=\"text_1\">\n      <!-- Cover Type 1 -->\n      <defs>\n       <path d=\"M 64.40625 67.28125 \nL 64.40625 56.890625 \nQ 59.421875 61.53125 53.78125 63.8125 \nQ 48.140625 66.109375 41.796875 66.109375 \nQ 29.296875 66.109375 22.65625 58.46875 \nQ 16.015625 50.828125 16.015625 36.375 \nQ 16.015625 21.96875 22.65625 14.328125 \nQ 29.296875 6.6875 41.796875 6.6875 \nQ 48.140625 6.6875 53.78125 8.984375 \nQ 59.421875 11.28125 64.40625 15.921875 \nL 64.40625 5.609375 \nQ 59.234375 2.09375 53.4375 0.328125 \nQ 47.65625 -1.421875 41.21875 -1.421875 \nQ 24.65625 -1.421875 15.125 8.703125 \nQ 5.609375 18.84375 5.609375 36.375 \nQ 5.609375 53.953125 15.125 64.078125 \nQ 24.65625 74.21875 41.21875 74.21875 \nQ 47.75 74.21875 53.53125 72.484375 \nQ 59.328125 70.75 64.40625 67.28125 \nz\n\" id=\"DejaVuSans-67\"/>\n       <path d=\"M 30.609375 48.390625 \nQ 23.390625 48.390625 19.1875 42.75 \nQ 14.984375 37.109375 14.984375 27.296875 \nQ 14.984375 17.484375 19.15625 11.84375 \nQ 23.34375 6.203125 30.609375 6.203125 \nQ 37.796875 6.203125 41.984375 11.859375 \nQ 46.1875 17.53125 46.1875 27.296875 \nQ 46.1875 37.015625 41.984375 42.703125 \nQ 37.796875 48.390625 30.609375 48.390625 \nz\nM 30.609375 56 \nQ 42.328125 56 49.015625 48.375 \nQ 55.71875 40.765625 55.71875 27.296875 \nQ 55.71875 13.875 49.015625 6.21875 \nQ 42.328125 -1.421875 30.609375 -1.421875 \nQ 18.84375 -1.421875 12.171875 6.21875 \nQ 5.515625 13.875 5.515625 27.296875 \nQ 5.515625 40.765625 12.171875 48.375 \nQ 18.84375 56 30.609375 56 \nz\n\" id=\"DejaVuSans-111\"/>\n       <path d=\"M 2.984375 54.6875 \nL 12.5 54.6875 \nL 29.59375 8.796875 \nL 46.6875 54.6875 \nL 56.203125 54.6875 \nL 35.6875 0 \nL 23.484375 0 \nz\n\" id=\"DejaVuSans-118\"/>\n       <path d=\"M 56.203125 29.59375 \nL 56.203125 25.203125 \nL 14.890625 25.203125 \nQ 15.484375 15.921875 20.484375 11.0625 \nQ 25.484375 6.203125 34.421875 6.203125 \nQ 39.59375 6.203125 44.453125 7.46875 \nQ 49.3125 8.734375 54.109375 11.28125 \nL 54.109375 2.78125 \nQ 49.265625 0.734375 44.1875 -0.34375 \nQ 39.109375 -1.421875 33.890625 -1.421875 \nQ 20.796875 -1.421875 13.15625 6.1875 \nQ 5.515625 13.8125 5.515625 26.8125 \nQ 5.515625 40.234375 12.765625 48.109375 \nQ 20.015625 56 32.328125 56 \nQ 43.359375 56 49.78125 48.890625 \nQ 56.203125 41.796875 56.203125 29.59375 \nz\nM 47.21875 32.234375 \nQ 47.125 39.59375 43.09375 43.984375 \nQ 39.0625 48.390625 32.421875 48.390625 \nQ 24.90625 48.390625 20.390625 44.140625 \nQ 15.875 39.890625 15.1875 32.171875 \nz\n\" id=\"DejaVuSans-101\"/>\n       <path d=\"M 41.109375 46.296875 \nQ 39.59375 47.171875 37.8125 47.578125 \nQ 36.03125 48 33.890625 48 \nQ 26.265625 48 22.1875 43.046875 \nQ 18.109375 38.09375 18.109375 28.8125 \nL 18.109375 0 \nL 9.078125 0 \nL 9.078125 54.6875 \nL 18.109375 54.6875 \nL 18.109375 46.1875 \nQ 20.953125 51.171875 25.484375 53.578125 \nQ 30.03125 56 36.53125 56 \nQ 37.453125 56 38.578125 55.875 \nQ 39.703125 55.765625 41.0625 55.515625 \nz\n\" id=\"DejaVuSans-114\"/>\n       <path id=\"DejaVuSans-32\"/>\n       <path d=\"M -0.296875 72.90625 \nL 61.375 72.90625 \nL 61.375 64.59375 \nL 35.5 64.59375 \nL 35.5 0 \nL 25.59375 0 \nL 25.59375 64.59375 \nL -0.296875 64.59375 \nz\n\" id=\"DejaVuSans-84\"/>\n       <path d=\"M 32.171875 -5.078125 \nQ 28.375 -14.84375 24.75 -17.8125 \nQ 21.140625 -20.796875 15.09375 -20.796875 \nL 7.90625 -20.796875 \nL 7.90625 -13.28125 \nL 13.1875 -13.28125 \nQ 16.890625 -13.28125 18.9375 -11.515625 \nQ 21 -9.765625 23.484375 -3.21875 \nL 25.09375 0.875 \nL 2.984375 54.6875 \nL 12.5 54.6875 \nL 29.59375 11.921875 \nL 46.6875 54.6875 \nL 56.203125 54.6875 \nz\n\" id=\"DejaVuSans-121\"/>\n       <path d=\"M 18.109375 8.203125 \nL 18.109375 -20.796875 \nL 9.078125 -20.796875 \nL 9.078125 54.6875 \nL 18.109375 54.6875 \nL 18.109375 46.390625 \nQ 20.953125 51.265625 25.265625 53.625 \nQ 29.59375 56 35.59375 56 \nQ 45.5625 56 51.78125 48.09375 \nQ 58.015625 40.1875 58.015625 27.296875 \nQ 58.015625 14.40625 51.78125 6.484375 \nQ 45.5625 -1.421875 35.59375 -1.421875 \nQ 29.59375 -1.421875 25.265625 0.953125 \nQ 20.953125 3.328125 18.109375 8.203125 \nz\nM 48.6875 27.296875 \nQ 48.6875 37.203125 44.609375 42.84375 \nQ 40.53125 48.484375 33.40625 48.484375 \nQ 26.265625 48.484375 22.1875 42.84375 \nQ 18.109375 37.203125 18.109375 27.296875 \nQ 18.109375 17.390625 22.1875 11.75 \nQ 26.265625 6.109375 33.40625 6.109375 \nQ 40.53125 6.109375 44.609375 11.75 \nQ 48.6875 17.390625 48.6875 27.296875 \nz\n\" id=\"DejaVuSans-112\"/>\n       <path d=\"M 12.40625 8.296875 \nL 28.515625 8.296875 \nL 28.515625 63.921875 \nL 10.984375 60.40625 \nL 10.984375 69.390625 \nL 28.421875 72.90625 \nL 38.28125 72.90625 \nL 38.28125 8.296875 \nL 54.390625 8.296875 \nL 54.390625 0 \nL 12.40625 0 \nz\n\" id=\"DejaVuSans-49\"/>\n      </defs>\n      <g transform=\"translate(99.191071 580.720937)scale(0.1 -0.1)\">\n       <use xlink:href=\"#DejaVuSans-67\"/>\n       <use x=\"69.824219\" xlink:href=\"#DejaVuSans-111\"/>\n       <use x=\"131.005859\" xlink:href=\"#DejaVuSans-118\"/>\n       <use x=\"190.185547\" xlink:href=\"#DejaVuSans-101\"/>\n       <use x=\"251.708984\" xlink:href=\"#DejaVuSans-114\"/>\n       <use x=\"292.822266\" xlink:href=\"#DejaVuSans-32\"/>\n       <use x=\"324.609375\" xlink:href=\"#DejaVuSans-84\"/>\n       <use x=\"370.068359\" xlink:href=\"#DejaVuSans-121\"/>\n       <use x=\"429.248047\" xlink:href=\"#DejaVuSans-112\"/>\n       <use x=\"492.724609\" xlink:href=\"#DejaVuSans-101\"/>\n       <use x=\"554.248047\" xlink:href=\"#DejaVuSans-32\"/>\n       <use x=\"586.035156\" xlink:href=\"#DejaVuSans-49\"/>\n      </g>\n     </g>\n    </g>\n    <g id=\"xtick_2\">\n     <g id=\"line2d_2\">\n      <g>\n       <use style=\"stroke:#000000;stroke-width:0.8;\" x=\"209.332589\" xlink:href=\"#maa766f5821\" y=\"566.1225\"/>\n      </g>\n     </g>\n     <g id=\"text_2\">\n      <!-- Cover Type 2 -->\n      <defs>\n       <path d=\"M 19.1875 8.296875 \nL 53.609375 8.296875 \nL 53.609375 0 \nL 7.328125 0 \nL 7.328125 8.296875 \nQ 12.9375 14.109375 22.625 23.890625 \nQ 32.328125 33.6875 34.8125 36.53125 \nQ 39.546875 41.84375 41.421875 45.53125 \nQ 43.3125 49.21875 43.3125 52.78125 \nQ 43.3125 58.59375 39.234375 62.25 \nQ 35.15625 65.921875 28.609375 65.921875 \nQ 23.96875 65.921875 18.8125 64.3125 \nQ 13.671875 62.703125 7.8125 59.421875 \nL 7.8125 69.390625 \nQ 13.765625 71.78125 18.9375 73 \nQ 24.125 74.21875 28.421875 74.21875 \nQ 39.75 74.21875 46.484375 68.546875 \nQ 53.21875 62.890625 53.21875 53.421875 \nQ 53.21875 48.921875 51.53125 44.890625 \nQ 49.859375 40.875 45.40625 35.40625 \nQ 44.1875 33.984375 37.640625 27.21875 \nQ 31.109375 20.453125 19.1875 8.296875 \nz\n\" id=\"DejaVuSans-50\"/>\n      </defs>\n      <g transform=\"translate(176.848214 580.720937)scale(0.1 -0.1)\">\n       <use xlink:href=\"#DejaVuSans-67\"/>\n       <use x=\"69.824219\" xlink:href=\"#DejaVuSans-111\"/>\n       <use x=\"131.005859\" xlink:href=\"#DejaVuSans-118\"/>\n       <use x=\"190.185547\" xlink:href=\"#DejaVuSans-101\"/>\n       <use x=\"251.708984\" xlink:href=\"#DejaVuSans-114\"/>\n       <use x=\"292.822266\" xlink:href=\"#DejaVuSans-32\"/>\n       <use x=\"324.609375\" xlink:href=\"#DejaVuSans-84\"/>\n       <use x=\"370.068359\" xlink:href=\"#DejaVuSans-121\"/>\n       <use x=\"429.248047\" xlink:href=\"#DejaVuSans-112\"/>\n       <use x=\"492.724609\" xlink:href=\"#DejaVuSans-101\"/>\n       <use x=\"554.248047\" xlink:href=\"#DejaVuSans-32\"/>\n       <use x=\"586.035156\" xlink:href=\"#DejaVuSans-50\"/>\n      </g>\n     </g>\n    </g>\n    <g id=\"xtick_3\">\n     <g id=\"line2d_3\">\n      <g>\n       <use style=\"stroke:#000000;stroke-width:0.8;\" x=\"286.989732\" xlink:href=\"#maa766f5821\" y=\"566.1225\"/>\n      </g>\n     </g>\n     <g id=\"text_3\">\n      <!-- Cover Type 3 -->\n      <defs>\n       <path d=\"M 40.578125 39.3125 \nQ 47.65625 37.796875 51.625 33 \nQ 55.609375 28.21875 55.609375 21.1875 \nQ 55.609375 10.40625 48.1875 4.484375 \nQ 40.765625 -1.421875 27.09375 -1.421875 \nQ 22.515625 -1.421875 17.65625 -0.515625 \nQ 12.796875 0.390625 7.625 2.203125 \nL 7.625 11.71875 \nQ 11.71875 9.328125 16.59375 8.109375 \nQ 21.484375 6.890625 26.8125 6.890625 \nQ 36.078125 6.890625 40.9375 10.546875 \nQ 45.796875 14.203125 45.796875 21.1875 \nQ 45.796875 27.640625 41.28125 31.265625 \nQ 36.765625 34.90625 28.71875 34.90625 \nL 20.21875 34.90625 \nL 20.21875 43.015625 \nL 29.109375 43.015625 \nQ 36.375 43.015625 40.234375 45.921875 \nQ 44.09375 48.828125 44.09375 54.296875 \nQ 44.09375 59.90625 40.109375 62.90625 \nQ 36.140625 65.921875 28.71875 65.921875 \nQ 24.65625 65.921875 20.015625 65.03125 \nQ 15.375 64.15625 9.8125 62.3125 \nL 9.8125 71.09375 \nQ 15.4375 72.65625 20.34375 73.4375 \nQ 25.25 74.21875 29.59375 74.21875 \nQ 40.828125 74.21875 47.359375 69.109375 \nQ 53.90625 64.015625 53.90625 55.328125 \nQ 53.90625 49.265625 50.4375 45.09375 \nQ 46.96875 40.921875 40.578125 39.3125 \nz\n\" id=\"DejaVuSans-51\"/>\n      </defs>\n      <g transform=\"translate(254.505357 580.720937)scale(0.1 -0.1)\">\n       <use xlink:href=\"#DejaVuSans-67\"/>\n       <use x=\"69.824219\" xlink:href=\"#DejaVuSans-111\"/>\n       <use x=\"131.005859\" xlink:href=\"#DejaVuSans-118\"/>\n       <use x=\"190.185547\" xlink:href=\"#DejaVuSans-101\"/>\n       <use x=\"251.708984\" xlink:href=\"#DejaVuSans-114\"/>\n       <use x=\"292.822266\" xlink:href=\"#DejaVuSans-32\"/>\n       <use x=\"324.609375\" xlink:href=\"#DejaVuSans-84\"/>\n       <use x=\"370.068359\" xlink:href=\"#DejaVuSans-121\"/>\n       <use x=\"429.248047\" xlink:href=\"#DejaVuSans-112\"/>\n       <use x=\"492.724609\" xlink:href=\"#DejaVuSans-101\"/>\n       <use x=\"554.248047\" xlink:href=\"#DejaVuSans-32\"/>\n       <use x=\"586.035156\" xlink:href=\"#DejaVuSans-51\"/>\n      </g>\n     </g>\n    </g>\n    <g id=\"xtick_4\">\n     <g id=\"line2d_4\">\n      <g>\n       <use style=\"stroke:#000000;stroke-width:0.8;\" x=\"364.646875\" xlink:href=\"#maa766f5821\" y=\"566.1225\"/>\n      </g>\n     </g>\n     <g id=\"text_4\">\n      <!-- Cover Type 4 -->\n      <defs>\n       <path d=\"M 37.796875 64.3125 \nL 12.890625 25.390625 \nL 37.796875 25.390625 \nz\nM 35.203125 72.90625 \nL 47.609375 72.90625 \nL 47.609375 25.390625 \nL 58.015625 25.390625 \nL 58.015625 17.1875 \nL 47.609375 17.1875 \nL 47.609375 0 \nL 37.796875 0 \nL 37.796875 17.1875 \nL 4.890625 17.1875 \nL 4.890625 26.703125 \nz\n\" id=\"DejaVuSans-52\"/>\n      </defs>\n      <g transform=\"translate(332.1625 580.720937)scale(0.1 -0.1)\">\n       <use xlink:href=\"#DejaVuSans-67\"/>\n       <use x=\"69.824219\" xlink:href=\"#DejaVuSans-111\"/>\n       <use x=\"131.005859\" xlink:href=\"#DejaVuSans-118\"/>\n       <use x=\"190.185547\" xlink:href=\"#DejaVuSans-101\"/>\n       <use x=\"251.708984\" xlink:href=\"#DejaVuSans-114\"/>\n       <use x=\"292.822266\" xlink:href=\"#DejaVuSans-32\"/>\n       <use x=\"324.609375\" xlink:href=\"#DejaVuSans-84\"/>\n       <use x=\"370.068359\" xlink:href=\"#DejaVuSans-121\"/>\n       <use x=\"429.248047\" xlink:href=\"#DejaVuSans-112\"/>\n       <use x=\"492.724609\" xlink:href=\"#DejaVuSans-101\"/>\n       <use x=\"554.248047\" xlink:href=\"#DejaVuSans-32\"/>\n       <use x=\"586.035156\" xlink:href=\"#DejaVuSans-52\"/>\n      </g>\n     </g>\n    </g>\n    <g id=\"xtick_5\">\n     <g id=\"line2d_5\">\n      <g>\n       <use style=\"stroke:#000000;stroke-width:0.8;\" x=\"442.304018\" xlink:href=\"#maa766f5821\" y=\"566.1225\"/>\n      </g>\n     </g>\n     <g id=\"text_5\">\n      <!-- Cover Type 5 -->\n      <defs>\n       <path d=\"M 10.796875 72.90625 \nL 49.515625 72.90625 \nL 49.515625 64.59375 \nL 19.828125 64.59375 \nL 19.828125 46.734375 \nQ 21.96875 47.46875 24.109375 47.828125 \nQ 26.265625 48.1875 28.421875 48.1875 \nQ 40.625 48.1875 47.75 41.5 \nQ 54.890625 34.8125 54.890625 23.390625 \nQ 54.890625 11.625 47.5625 5.09375 \nQ 40.234375 -1.421875 26.90625 -1.421875 \nQ 22.3125 -1.421875 17.546875 -0.640625 \nQ 12.796875 0.140625 7.71875 1.703125 \nL 7.71875 11.625 \nQ 12.109375 9.234375 16.796875 8.0625 \nQ 21.484375 6.890625 26.703125 6.890625 \nQ 35.15625 6.890625 40.078125 11.328125 \nQ 45.015625 15.765625 45.015625 23.390625 \nQ 45.015625 31 40.078125 35.4375 \nQ 35.15625 39.890625 26.703125 39.890625 \nQ 22.75 39.890625 18.8125 39.015625 \nQ 14.890625 38.140625 10.796875 36.28125 \nz\n\" id=\"DejaVuSans-53\"/>\n      </defs>\n      <g transform=\"translate(409.819643 580.720937)scale(0.1 -0.1)\">\n       <use xlink:href=\"#DejaVuSans-67\"/>\n       <use x=\"69.824219\" xlink:href=\"#DejaVuSans-111\"/>\n       <use x=\"131.005859\" xlink:href=\"#DejaVuSans-118\"/>\n       <use x=\"190.185547\" xlink:href=\"#DejaVuSans-101\"/>\n       <use x=\"251.708984\" xlink:href=\"#DejaVuSans-114\"/>\n       <use x=\"292.822266\" xlink:href=\"#DejaVuSans-32\"/>\n       <use x=\"324.609375\" xlink:href=\"#DejaVuSans-84\"/>\n       <use x=\"370.068359\" xlink:href=\"#DejaVuSans-121\"/>\n       <use x=\"429.248047\" xlink:href=\"#DejaVuSans-112\"/>\n       <use x=\"492.724609\" xlink:href=\"#DejaVuSans-101\"/>\n       <use x=\"554.248047\" xlink:href=\"#DejaVuSans-32\"/>\n       <use x=\"586.035156\" xlink:href=\"#DejaVuSans-53\"/>\n      </g>\n     </g>\n    </g>\n    <g id=\"xtick_6\">\n     <g id=\"line2d_6\">\n      <g>\n       <use style=\"stroke:#000000;stroke-width:0.8;\" x=\"519.961161\" xlink:href=\"#maa766f5821\" y=\"566.1225\"/>\n      </g>\n     </g>\n     <g id=\"text_6\">\n      <!-- Cover Type 6 -->\n      <defs>\n       <path d=\"M 33.015625 40.375 \nQ 26.375 40.375 22.484375 35.828125 \nQ 18.609375 31.296875 18.609375 23.390625 \nQ 18.609375 15.53125 22.484375 10.953125 \nQ 26.375 6.390625 33.015625 6.390625 \nQ 39.65625 6.390625 43.53125 10.953125 \nQ 47.40625 15.53125 47.40625 23.390625 \nQ 47.40625 31.296875 43.53125 35.828125 \nQ 39.65625 40.375 33.015625 40.375 \nz\nM 52.59375 71.296875 \nL 52.59375 62.3125 \nQ 48.875 64.0625 45.09375 64.984375 \nQ 41.3125 65.921875 37.59375 65.921875 \nQ 27.828125 65.921875 22.671875 59.328125 \nQ 17.53125 52.734375 16.796875 39.40625 \nQ 19.671875 43.65625 24.015625 45.921875 \nQ 28.375 48.1875 33.59375 48.1875 \nQ 44.578125 48.1875 50.953125 41.515625 \nQ 57.328125 34.859375 57.328125 23.390625 \nQ 57.328125 12.15625 50.6875 5.359375 \nQ 44.046875 -1.421875 33.015625 -1.421875 \nQ 20.359375 -1.421875 13.671875 8.265625 \nQ 6.984375 17.96875 6.984375 36.375 \nQ 6.984375 53.65625 15.1875 63.9375 \nQ 23.390625 74.21875 37.203125 74.21875 \nQ 40.921875 74.21875 44.703125 73.484375 \nQ 48.484375 72.75 52.59375 71.296875 \nz\n\" id=\"DejaVuSans-54\"/>\n      </defs>\n      <g transform=\"translate(487.476786 580.720937)scale(0.1 -0.1)\">\n       <use xlink:href=\"#DejaVuSans-67\"/>\n       <use x=\"69.824219\" xlink:href=\"#DejaVuSans-111\"/>\n       <use x=\"131.005859\" xlink:href=\"#DejaVuSans-118\"/>\n       <use x=\"190.185547\" xlink:href=\"#DejaVuSans-101\"/>\n       <use x=\"251.708984\" xlink:href=\"#DejaVuSans-114\"/>\n       <use x=\"292.822266\" xlink:href=\"#DejaVuSans-32\"/>\n       <use x=\"324.609375\" xlink:href=\"#DejaVuSans-84\"/>\n       <use x=\"370.068359\" xlink:href=\"#DejaVuSans-121\"/>\n       <use x=\"429.248047\" xlink:href=\"#DejaVuSans-112\"/>\n       <use x=\"492.724609\" xlink:href=\"#DejaVuSans-101\"/>\n       <use x=\"554.248047\" xlink:href=\"#DejaVuSans-32\"/>\n       <use x=\"586.035156\" xlink:href=\"#DejaVuSans-54\"/>\n      </g>\n     </g>\n    </g>\n    <g id=\"xtick_7\">\n     <g id=\"line2d_7\">\n      <g>\n       <use style=\"stroke:#000000;stroke-width:0.8;\" x=\"597.618304\" xlink:href=\"#maa766f5821\" y=\"566.1225\"/>\n      </g>\n     </g>\n     <g id=\"text_7\">\n      <!-- Cover Type 7 -->\n      <defs>\n       <path d=\"M 8.203125 72.90625 \nL 55.078125 72.90625 \nL 55.078125 68.703125 \nL 28.609375 0 \nL 18.3125 0 \nL 43.21875 64.59375 \nL 8.203125 64.59375 \nz\n\" id=\"DejaVuSans-55\"/>\n      </defs>\n      <g transform=\"translate(565.133929 580.720937)scale(0.1 -0.1)\">\n       <use xlink:href=\"#DejaVuSans-67\"/>\n       <use x=\"69.824219\" xlink:href=\"#DejaVuSans-111\"/>\n       <use x=\"131.005859\" xlink:href=\"#DejaVuSans-118\"/>\n       <use x=\"190.185547\" xlink:href=\"#DejaVuSans-101\"/>\n       <use x=\"251.708984\" xlink:href=\"#DejaVuSans-114\"/>\n       <use x=\"292.822266\" xlink:href=\"#DejaVuSans-32\"/>\n       <use x=\"324.609375\" xlink:href=\"#DejaVuSans-84\"/>\n       <use x=\"370.068359\" xlink:href=\"#DejaVuSans-121\"/>\n       <use x=\"429.248047\" xlink:href=\"#DejaVuSans-112\"/>\n       <use x=\"492.724609\" xlink:href=\"#DejaVuSans-101\"/>\n       <use x=\"554.248047\" xlink:href=\"#DejaVuSans-32\"/>\n       <use x=\"586.035156\" xlink:href=\"#DejaVuSans-55\"/>\n      </g>\n     </g>\n    </g>\n    <g id=\"text_8\">\n     <!-- Predicted label -->\n     <defs>\n      <path d=\"M 19.671875 64.796875 \nL 19.671875 37.40625 \nL 32.078125 37.40625 \nQ 38.96875 37.40625 42.71875 40.96875 \nQ 46.484375 44.53125 46.484375 51.125 \nQ 46.484375 57.671875 42.71875 61.234375 \nQ 38.96875 64.796875 32.078125 64.796875 \nz\nM 9.8125 72.90625 \nL 32.078125 72.90625 \nQ 44.34375 72.90625 50.609375 67.359375 \nQ 56.890625 61.8125 56.890625 51.125 \nQ 56.890625 40.328125 50.609375 34.8125 \nQ 44.34375 29.296875 32.078125 29.296875 \nL 19.671875 29.296875 \nL 19.671875 0 \nL 9.8125 0 \nz\n\" id=\"DejaVuSans-80\"/>\n      <path d=\"M 45.40625 46.390625 \nL 45.40625 75.984375 \nL 54.390625 75.984375 \nL 54.390625 0 \nL 45.40625 0 \nL 45.40625 8.203125 \nQ 42.578125 3.328125 38.25 0.953125 \nQ 33.9375 -1.421875 27.875 -1.421875 \nQ 17.96875 -1.421875 11.734375 6.484375 \nQ 5.515625 14.40625 5.515625 27.296875 \nQ 5.515625 40.1875 11.734375 48.09375 \nQ 17.96875 56 27.875 56 \nQ 33.9375 56 38.25 53.625 \nQ 42.578125 51.265625 45.40625 46.390625 \nz\nM 14.796875 27.296875 \nQ 14.796875 17.390625 18.875 11.75 \nQ 22.953125 6.109375 30.078125 6.109375 \nQ 37.203125 6.109375 41.296875 11.75 \nQ 45.40625 17.390625 45.40625 27.296875 \nQ 45.40625 37.203125 41.296875 42.84375 \nQ 37.203125 48.484375 30.078125 48.484375 \nQ 22.953125 48.484375 18.875 42.84375 \nQ 14.796875 37.203125 14.796875 27.296875 \nz\n\" id=\"DejaVuSans-100\"/>\n      <path d=\"M 9.421875 54.6875 \nL 18.40625 54.6875 \nL 18.40625 0 \nL 9.421875 0 \nz\nM 9.421875 75.984375 \nL 18.40625 75.984375 \nL 18.40625 64.59375 \nL 9.421875 64.59375 \nz\n\" id=\"DejaVuSans-105\"/>\n      <path d=\"M 48.78125 52.59375 \nL 48.78125 44.1875 \nQ 44.96875 46.296875 41.140625 47.34375 \nQ 37.3125 48.390625 33.40625 48.390625 \nQ 24.65625 48.390625 19.8125 42.84375 \nQ 14.984375 37.3125 14.984375 27.296875 \nQ 14.984375 17.28125 19.8125 11.734375 \nQ 24.65625 6.203125 33.40625 6.203125 \nQ 37.3125 6.203125 41.140625 7.25 \nQ 44.96875 8.296875 48.78125 10.40625 \nL 48.78125 2.09375 \nQ 45.015625 0.34375 40.984375 -0.53125 \nQ 36.96875 -1.421875 32.421875 -1.421875 \nQ 20.0625 -1.421875 12.78125 6.34375 \nQ 5.515625 14.109375 5.515625 27.296875 \nQ 5.515625 40.671875 12.859375 48.328125 \nQ 20.21875 56 33.015625 56 \nQ 37.15625 56 41.109375 55.140625 \nQ 45.0625 54.296875 48.78125 52.59375 \nz\n\" id=\"DejaVuSans-99\"/>\n      <path d=\"M 18.3125 70.21875 \nL 18.3125 54.6875 \nL 36.8125 54.6875 \nL 36.8125 47.703125 \nL 18.3125 47.703125 \nL 18.3125 18.015625 \nQ 18.3125 11.328125 20.140625 9.421875 \nQ 21.96875 7.515625 27.59375 7.515625 \nL 36.8125 7.515625 \nL 36.8125 0 \nL 27.59375 0 \nQ 17.1875 0 13.234375 3.875 \nQ 9.28125 7.765625 9.28125 18.015625 \nL 9.28125 47.703125 \nL 2.6875 47.703125 \nL 2.6875 54.6875 \nL 9.28125 54.6875 \nL 9.28125 70.21875 \nz\n\" id=\"DejaVuSans-116\"/>\n      <path d=\"M 9.421875 75.984375 \nL 18.40625 75.984375 \nL 18.40625 0 \nL 9.421875 0 \nz\n\" id=\"DejaVuSans-108\"/>\n      <path d=\"M 34.28125 27.484375 \nQ 23.390625 27.484375 19.1875 25 \nQ 14.984375 22.515625 14.984375 16.5 \nQ 14.984375 11.71875 18.140625 8.90625 \nQ 21.296875 6.109375 26.703125 6.109375 \nQ 34.1875 6.109375 38.703125 11.40625 \nQ 43.21875 16.703125 43.21875 25.484375 \nL 43.21875 27.484375 \nz\nM 52.203125 31.203125 \nL 52.203125 0 \nL 43.21875 0 \nL 43.21875 8.296875 \nQ 40.140625 3.328125 35.546875 0.953125 \nQ 30.953125 -1.421875 24.3125 -1.421875 \nQ 15.921875 -1.421875 10.953125 3.296875 \nQ 6 8.015625 6 15.921875 \nQ 6 25.140625 12.171875 29.828125 \nQ 18.359375 34.515625 30.609375 34.515625 \nL 43.21875 34.515625 \nL 43.21875 35.40625 \nQ 43.21875 41.609375 39.140625 45 \nQ 35.0625 48.390625 27.6875 48.390625 \nQ 23 48.390625 18.546875 47.265625 \nQ 14.109375 46.140625 10.015625 43.890625 \nL 10.015625 52.203125 \nQ 14.9375 54.109375 19.578125 55.046875 \nQ 24.21875 56 28.609375 56 \nQ 40.484375 56 46.34375 49.84375 \nQ 52.203125 43.703125 52.203125 31.203125 \nz\n\" id=\"DejaVuSans-97\"/>\n      <path d=\"M 48.6875 27.296875 \nQ 48.6875 37.203125 44.609375 42.84375 \nQ 40.53125 48.484375 33.40625 48.484375 \nQ 26.265625 48.484375 22.1875 42.84375 \nQ 18.109375 37.203125 18.109375 27.296875 \nQ 18.109375 17.390625 22.1875 11.75 \nQ 26.265625 6.109375 33.40625 6.109375 \nQ 40.53125 6.109375 44.609375 11.75 \nQ 48.6875 17.390625 48.6875 27.296875 \nz\nM 18.109375 46.390625 \nQ 20.953125 51.265625 25.265625 53.625 \nQ 29.59375 56 35.59375 56 \nQ 45.5625 56 51.78125 48.09375 \nQ 58.015625 40.1875 58.015625 27.296875 \nQ 58.015625 14.40625 51.78125 6.484375 \nQ 45.5625 -1.421875 35.59375 -1.421875 \nQ 29.59375 -1.421875 25.265625 0.953125 \nQ 20.953125 3.328125 18.109375 8.203125 \nL 18.109375 0 \nL 9.078125 0 \nL 9.078125 75.984375 \nL 18.109375 75.984375 \nz\n\" id=\"DejaVuSans-98\"/>\n     </defs>\n     <g transform=\"translate(327.494531 594.399062)scale(0.1 -0.1)\">\n      <use xlink:href=\"#DejaVuSans-80\"/>\n      <use x=\"58.552734\" xlink:href=\"#DejaVuSans-114\"/>\n      <use x=\"97.416016\" xlink:href=\"#DejaVuSans-101\"/>\n      <use x=\"158.939453\" xlink:href=\"#DejaVuSans-100\"/>\n      <use x=\"222.416016\" xlink:href=\"#DejaVuSans-105\"/>\n      <use x=\"250.199219\" xlink:href=\"#DejaVuSans-99\"/>\n      <use x=\"305.179688\" xlink:href=\"#DejaVuSans-116\"/>\n      <use x=\"344.388672\" xlink:href=\"#DejaVuSans-101\"/>\n      <use x=\"405.912109\" xlink:href=\"#DejaVuSans-100\"/>\n      <use x=\"469.388672\" xlink:href=\"#DejaVuSans-32\"/>\n      <use x=\"501.175781\" xlink:href=\"#DejaVuSans-108\"/>\n      <use x=\"528.958984\" xlink:href=\"#DejaVuSans-97\"/>\n      <use x=\"590.238281\" xlink:href=\"#DejaVuSans-98\"/>\n      <use x=\"653.714844\" xlink:href=\"#DejaVuSans-101\"/>\n      <use x=\"715.238281\" xlink:href=\"#DejaVuSans-108\"/>\n     </g>\n    </g>\n   </g>\n   <g id=\"matplotlib.axis_2\">\n    <g id=\"ytick_1\">\n     <g id=\"line2d_8\">\n      <defs>\n       <path d=\"M 0 0 \nL -3.5 0 \n\" id=\"m035acfee05\" style=\"stroke:#000000;stroke-width:0.8;\"/>\n      </defs>\n      <g>\n       <use style=\"stroke:#000000;stroke-width:0.8;\" x=\"92.846875\" xlink:href=\"#m035acfee05\" y=\"61.351071\"/>\n      </g>\n     </g>\n     <g id=\"text_9\">\n      <!-- Cover Type 1 -->\n      <g transform=\"translate(20.878125 65.15029)scale(0.1 -0.1)\">\n       <use xlink:href=\"#DejaVuSans-67\"/>\n       <use x=\"69.824219\" xlink:href=\"#DejaVuSans-111\"/>\n       <use x=\"131.005859\" xlink:href=\"#DejaVuSans-118\"/>\n       <use x=\"190.185547\" xlink:href=\"#DejaVuSans-101\"/>\n       <use x=\"251.708984\" xlink:href=\"#DejaVuSans-114\"/>\n       <use x=\"292.822266\" xlink:href=\"#DejaVuSans-32\"/>\n       <use x=\"324.609375\" xlink:href=\"#DejaVuSans-84\"/>\n       <use x=\"370.068359\" xlink:href=\"#DejaVuSans-121\"/>\n       <use x=\"429.248047\" xlink:href=\"#DejaVuSans-112\"/>\n       <use x=\"492.724609\" xlink:href=\"#DejaVuSans-101\"/>\n       <use x=\"554.248047\" xlink:href=\"#DejaVuSans-32\"/>\n       <use x=\"586.035156\" xlink:href=\"#DejaVuSans-49\"/>\n      </g>\n     </g>\n    </g>\n    <g id=\"ytick_2\">\n     <g id=\"line2d_9\">\n      <g>\n       <use style=\"stroke:#000000;stroke-width:0.8;\" x=\"92.846875\" xlink:href=\"#m035acfee05\" y=\"139.008214\"/>\n      </g>\n     </g>\n     <g id=\"text_10\">\n      <!-- Cover Type 2 -->\n      <g transform=\"translate(20.878125 142.807433)scale(0.1 -0.1)\">\n       <use xlink:href=\"#DejaVuSans-67\"/>\n       <use x=\"69.824219\" xlink:href=\"#DejaVuSans-111\"/>\n       <use x=\"131.005859\" xlink:href=\"#DejaVuSans-118\"/>\n       <use x=\"190.185547\" xlink:href=\"#DejaVuSans-101\"/>\n       <use x=\"251.708984\" xlink:href=\"#DejaVuSans-114\"/>\n       <use x=\"292.822266\" xlink:href=\"#DejaVuSans-32\"/>\n       <use x=\"324.609375\" xlink:href=\"#DejaVuSans-84\"/>\n       <use x=\"370.068359\" xlink:href=\"#DejaVuSans-121\"/>\n       <use x=\"429.248047\" xlink:href=\"#DejaVuSans-112\"/>\n       <use x=\"492.724609\" xlink:href=\"#DejaVuSans-101\"/>\n       <use x=\"554.248047\" xlink:href=\"#DejaVuSans-32\"/>\n       <use x=\"586.035156\" xlink:href=\"#DejaVuSans-50\"/>\n      </g>\n     </g>\n    </g>\n    <g id=\"ytick_3\">\n     <g id=\"line2d_10\">\n      <g>\n       <use style=\"stroke:#000000;stroke-width:0.8;\" x=\"92.846875\" xlink:href=\"#m035acfee05\" y=\"216.665357\"/>\n      </g>\n     </g>\n     <g id=\"text_11\">\n      <!-- Cover Type 3 -->\n      <g transform=\"translate(20.878125 220.464576)scale(0.1 -0.1)\">\n       <use xlink:href=\"#DejaVuSans-67\"/>\n       <use x=\"69.824219\" xlink:href=\"#DejaVuSans-111\"/>\n       <use x=\"131.005859\" xlink:href=\"#DejaVuSans-118\"/>\n       <use x=\"190.185547\" xlink:href=\"#DejaVuSans-101\"/>\n       <use x=\"251.708984\" xlink:href=\"#DejaVuSans-114\"/>\n       <use x=\"292.822266\" xlink:href=\"#DejaVuSans-32\"/>\n       <use x=\"324.609375\" xlink:href=\"#DejaVuSans-84\"/>\n       <use x=\"370.068359\" xlink:href=\"#DejaVuSans-121\"/>\n       <use x=\"429.248047\" xlink:href=\"#DejaVuSans-112\"/>\n       <use x=\"492.724609\" xlink:href=\"#DejaVuSans-101\"/>\n       <use x=\"554.248047\" xlink:href=\"#DejaVuSans-32\"/>\n       <use x=\"586.035156\" xlink:href=\"#DejaVuSans-51\"/>\n      </g>\n     </g>\n    </g>\n    <g id=\"ytick_4\">\n     <g id=\"line2d_11\">\n      <g>\n       <use style=\"stroke:#000000;stroke-width:0.8;\" x=\"92.846875\" xlink:href=\"#m035acfee05\" y=\"294.3225\"/>\n      </g>\n     </g>\n     <g id=\"text_12\">\n      <!-- Cover Type 4 -->\n      <g transform=\"translate(20.878125 298.121719)scale(0.1 -0.1)\">\n       <use xlink:href=\"#DejaVuSans-67\"/>\n       <use x=\"69.824219\" xlink:href=\"#DejaVuSans-111\"/>\n       <use x=\"131.005859\" xlink:href=\"#DejaVuSans-118\"/>\n       <use x=\"190.185547\" xlink:href=\"#DejaVuSans-101\"/>\n       <use x=\"251.708984\" xlink:href=\"#DejaVuSans-114\"/>\n       <use x=\"292.822266\" xlink:href=\"#DejaVuSans-32\"/>\n       <use x=\"324.609375\" xlink:href=\"#DejaVuSans-84\"/>\n       <use x=\"370.068359\" xlink:href=\"#DejaVuSans-121\"/>\n       <use x=\"429.248047\" xlink:href=\"#DejaVuSans-112\"/>\n       <use x=\"492.724609\" xlink:href=\"#DejaVuSans-101\"/>\n       <use x=\"554.248047\" xlink:href=\"#DejaVuSans-32\"/>\n       <use x=\"586.035156\" xlink:href=\"#DejaVuSans-52\"/>\n      </g>\n     </g>\n    </g>\n    <g id=\"ytick_5\">\n     <g id=\"line2d_12\">\n      <g>\n       <use style=\"stroke:#000000;stroke-width:0.8;\" x=\"92.846875\" xlink:href=\"#m035acfee05\" y=\"371.979643\"/>\n      </g>\n     </g>\n     <g id=\"text_13\">\n      <!-- Cover Type 5 -->\n      <g transform=\"translate(20.878125 375.778862)scale(0.1 -0.1)\">\n       <use xlink:href=\"#DejaVuSans-67\"/>\n       <use x=\"69.824219\" xlink:href=\"#DejaVuSans-111\"/>\n       <use x=\"131.005859\" xlink:href=\"#DejaVuSans-118\"/>\n       <use x=\"190.185547\" xlink:href=\"#DejaVuSans-101\"/>\n       <use x=\"251.708984\" xlink:href=\"#DejaVuSans-114\"/>\n       <use x=\"292.822266\" xlink:href=\"#DejaVuSans-32\"/>\n       <use x=\"324.609375\" xlink:href=\"#DejaVuSans-84\"/>\n       <use x=\"370.068359\" xlink:href=\"#DejaVuSans-121\"/>\n       <use x=\"429.248047\" xlink:href=\"#DejaVuSans-112\"/>\n       <use x=\"492.724609\" xlink:href=\"#DejaVuSans-101\"/>\n       <use x=\"554.248047\" xlink:href=\"#DejaVuSans-32\"/>\n       <use x=\"586.035156\" xlink:href=\"#DejaVuSans-53\"/>\n      </g>\n     </g>\n    </g>\n    <g id=\"ytick_6\">\n     <g id=\"line2d_13\">\n      <g>\n       <use style=\"stroke:#000000;stroke-width:0.8;\" x=\"92.846875\" xlink:href=\"#m035acfee05\" y=\"449.636786\"/>\n      </g>\n     </g>\n     <g id=\"text_14\">\n      <!-- Cover Type 6 -->\n      <g transform=\"translate(20.878125 453.436004)scale(0.1 -0.1)\">\n       <use xlink:href=\"#DejaVuSans-67\"/>\n       <use x=\"69.824219\" xlink:href=\"#DejaVuSans-111\"/>\n       <use x=\"131.005859\" xlink:href=\"#DejaVuSans-118\"/>\n       <use x=\"190.185547\" xlink:href=\"#DejaVuSans-101\"/>\n       <use x=\"251.708984\" xlink:href=\"#DejaVuSans-114\"/>\n       <use x=\"292.822266\" xlink:href=\"#DejaVuSans-32\"/>\n       <use x=\"324.609375\" xlink:href=\"#DejaVuSans-84\"/>\n       <use x=\"370.068359\" xlink:href=\"#DejaVuSans-121\"/>\n       <use x=\"429.248047\" xlink:href=\"#DejaVuSans-112\"/>\n       <use x=\"492.724609\" xlink:href=\"#DejaVuSans-101\"/>\n       <use x=\"554.248047\" xlink:href=\"#DejaVuSans-32\"/>\n       <use x=\"586.035156\" xlink:href=\"#DejaVuSans-54\"/>\n      </g>\n     </g>\n    </g>\n    <g id=\"ytick_7\">\n     <g id=\"line2d_14\">\n      <g>\n       <use style=\"stroke:#000000;stroke-width:0.8;\" x=\"92.846875\" xlink:href=\"#m035acfee05\" y=\"527.293929\"/>\n      </g>\n     </g>\n     <g id=\"text_15\">\n      <!-- Cover Type 7 -->\n      <g transform=\"translate(20.878125 531.093147)scale(0.1 -0.1)\">\n       <use xlink:href=\"#DejaVuSans-67\"/>\n       <use x=\"69.824219\" xlink:href=\"#DejaVuSans-111\"/>\n       <use x=\"131.005859\" xlink:href=\"#DejaVuSans-118\"/>\n       <use x=\"190.185547\" xlink:href=\"#DejaVuSans-101\"/>\n       <use x=\"251.708984\" xlink:href=\"#DejaVuSans-114\"/>\n       <use x=\"292.822266\" xlink:href=\"#DejaVuSans-32\"/>\n       <use x=\"324.609375\" xlink:href=\"#DejaVuSans-84\"/>\n       <use x=\"370.068359\" xlink:href=\"#DejaVuSans-121\"/>\n       <use x=\"429.248047\" xlink:href=\"#DejaVuSans-112\"/>\n       <use x=\"492.724609\" xlink:href=\"#DejaVuSans-101\"/>\n       <use x=\"554.248047\" xlink:href=\"#DejaVuSans-32\"/>\n       <use x=\"586.035156\" xlink:href=\"#DejaVuSans-55\"/>\n      </g>\n     </g>\n    </g>\n    <g id=\"text_16\">\n     <!-- True label -->\n     <defs>\n      <path d=\"M 8.5 21.578125 \nL 8.5 54.6875 \nL 17.484375 54.6875 \nL 17.484375 21.921875 \nQ 17.484375 14.15625 20.5 10.265625 \nQ 23.53125 6.390625 29.59375 6.390625 \nQ 36.859375 6.390625 41.078125 11.03125 \nQ 45.3125 15.671875 45.3125 23.6875 \nL 45.3125 54.6875 \nL 54.296875 54.6875 \nL 54.296875 0 \nL 45.3125 0 \nL 45.3125 8.40625 \nQ 42.046875 3.421875 37.71875 1 \nQ 33.40625 -1.421875 27.6875 -1.421875 \nQ 18.265625 -1.421875 13.375 4.4375 \nQ 8.5 10.296875 8.5 21.578125 \nz\nM 31.109375 56 \nz\n\" id=\"DejaVuSans-117\"/>\n     </defs>\n     <g transform=\"translate(14.798438 318.621719)rotate(-90)scale(0.1 -0.1)\">\n      <use xlink:href=\"#DejaVuSans-84\"/>\n      <use x=\"46.333984\" xlink:href=\"#DejaVuSans-114\"/>\n      <use x=\"87.447266\" xlink:href=\"#DejaVuSans-117\"/>\n      <use x=\"150.826172\" xlink:href=\"#DejaVuSans-101\"/>\n      <use x=\"212.349609\" xlink:href=\"#DejaVuSans-32\"/>\n      <use x=\"244.136719\" xlink:href=\"#DejaVuSans-108\"/>\n      <use x=\"271.919922\" xlink:href=\"#DejaVuSans-97\"/>\n      <use x=\"333.199219\" xlink:href=\"#DejaVuSans-98\"/>\n      <use x=\"396.675781\" xlink:href=\"#DejaVuSans-101\"/>\n      <use x=\"458.199219\" xlink:href=\"#DejaVuSans-108\"/>\n     </g>\n    </g>\n   </g>\n   <g id=\"patch_3\">\n    <path d=\"M 92.846875 566.1225 \nL 92.846875 22.5225 \n\" style=\"fill:none;stroke:#000000;stroke-linecap:square;stroke-linejoin:miter;stroke-width:0.8;\"/>\n   </g>\n   <g id=\"patch_4\">\n    <path d=\"M 636.446875 566.1225 \nL 636.446875 22.5225 \n\" style=\"fill:none;stroke:#000000;stroke-linecap:square;stroke-linejoin:miter;stroke-width:0.8;\"/>\n   </g>\n   <g id=\"patch_5\">\n    <path d=\"M 92.846875 566.1225 \nL 636.446875 566.1225 \n\" style=\"fill:none;stroke:#000000;stroke-linecap:square;stroke-linejoin:miter;stroke-width:0.8;\"/>\n   </g>\n   <g id=\"patch_6\">\n    <path d=\"M 92.846875 22.5225 \nL 636.446875 22.5225 \n\" style=\"fill:none;stroke:#000000;stroke-linecap:square;stroke-linejoin:miter;stroke-width:0.8;\"/>\n   </g>\n   <g id=\"text_17\">\n    <!-- 152200 -->\n    <defs>\n     <path d=\"M 31.78125 66.40625 \nQ 24.171875 66.40625 20.328125 58.90625 \nQ 16.5 51.421875 16.5 36.375 \nQ 16.5 21.390625 20.328125 13.890625 \nQ 24.171875 6.390625 31.78125 6.390625 \nQ 39.453125 6.390625 43.28125 13.890625 \nQ 47.125 21.390625 47.125 36.375 \nQ 47.125 51.421875 43.28125 58.90625 \nQ 39.453125 66.40625 31.78125 66.40625 \nz\nM 31.78125 74.21875 \nQ 44.046875 74.21875 50.515625 64.515625 \nQ 56.984375 54.828125 56.984375 36.375 \nQ 56.984375 17.96875 50.515625 8.265625 \nQ 44.046875 -1.421875 31.78125 -1.421875 \nQ 19.53125 -1.421875 13.0625 8.265625 \nQ 6.59375 17.96875 6.59375 36.375 \nQ 6.59375 54.828125 13.0625 64.515625 \nQ 19.53125 74.21875 31.78125 74.21875 \nz\n\" id=\"DejaVuSans-48\"/>\n    </defs>\n    <g style=\"fill:#440154;\" transform=\"translate(112.587946 64.110446)scale(0.1 -0.1)\">\n     <use xlink:href=\"#DejaVuSans-49\"/>\n     <use x=\"63.623047\" xlink:href=\"#DejaVuSans-53\"/>\n     <use x=\"127.246094\" xlink:href=\"#DejaVuSans-50\"/>\n     <use x=\"190.869141\" xlink:href=\"#DejaVuSans-50\"/>\n     <use x=\"254.492188\" xlink:href=\"#DejaVuSans-48\"/>\n     <use x=\"318.115234\" xlink:href=\"#DejaVuSans-48\"/>\n    </g>\n   </g>\n   <g id=\"text_18\">\n    <!-- 55153 -->\n    <g style=\"fill:#fde725;\" transform=\"translate(193.426339 64.110446)scale(0.1 -0.1)\">\n     <use xlink:href=\"#DejaVuSans-53\"/>\n     <use x=\"63.623047\" xlink:href=\"#DejaVuSans-53\"/>\n     <use x=\"127.246094\" xlink:href=\"#DejaVuSans-49\"/>\n     <use x=\"190.869141\" xlink:href=\"#DejaVuSans-53\"/>\n     <use x=\"254.492188\" xlink:href=\"#DejaVuSans-51\"/>\n    </g>\n   </g>\n   <g id=\"text_19\">\n    <!-- 34 -->\n    <g style=\"fill:#fde725;\" transform=\"translate(280.627232 64.110446)scale(0.1 -0.1)\">\n     <use xlink:href=\"#DejaVuSans-51\"/>\n     <use x=\"63.623047\" xlink:href=\"#DejaVuSans-52\"/>\n    </g>\n   </g>\n   <g id=\"text_20\">\n    <!-- 0 -->\n    <g style=\"fill:#fde725;\" transform=\"translate(361.465625 64.110446)scale(0.1 -0.1)\">\n     <use xlink:href=\"#DejaVuSans-48\"/>\n    </g>\n   </g>\n   <g id=\"text_21\">\n    <!-- 314 -->\n    <g style=\"fill:#fde725;\" transform=\"translate(432.760268 64.110446)scale(0.1 -0.1)\">\n     <use xlink:href=\"#DejaVuSans-51\"/>\n     <use x=\"63.623047\" xlink:href=\"#DejaVuSans-49\"/>\n     <use x=\"127.246094\" xlink:href=\"#DejaVuSans-52\"/>\n    </g>\n   </g>\n   <g id=\"text_22\">\n    <!-- 242 -->\n    <g style=\"fill:#fde725;\" transform=\"translate(510.417411 64.110446)scale(0.1 -0.1)\">\n     <use xlink:href=\"#DejaVuSans-50\"/>\n     <use x=\"63.623047\" xlink:href=\"#DejaVuSans-52\"/>\n     <use x=\"127.246094\" xlink:href=\"#DejaVuSans-50\"/>\n    </g>\n   </g>\n   <g id=\"text_23\">\n    <!-- 3897 -->\n    <defs>\n     <path d=\"M 31.78125 34.625 \nQ 24.75 34.625 20.71875 30.859375 \nQ 16.703125 27.09375 16.703125 20.515625 \nQ 16.703125 13.921875 20.71875 10.15625 \nQ 24.75 6.390625 31.78125 6.390625 \nQ 38.8125 6.390625 42.859375 10.171875 \nQ 46.921875 13.96875 46.921875 20.515625 \nQ 46.921875 27.09375 42.890625 30.859375 \nQ 38.875 34.625 31.78125 34.625 \nz\nM 21.921875 38.8125 \nQ 15.578125 40.375 12.03125 44.71875 \nQ 8.5 49.078125 8.5 55.328125 \nQ 8.5 64.0625 14.71875 69.140625 \nQ 20.953125 74.21875 31.78125 74.21875 \nQ 42.671875 74.21875 48.875 69.140625 \nQ 55.078125 64.0625 55.078125 55.328125 \nQ 55.078125 49.078125 51.53125 44.71875 \nQ 48 40.375 41.703125 38.8125 \nQ 48.828125 37.15625 52.796875 32.3125 \nQ 56.78125 27.484375 56.78125 20.515625 \nQ 56.78125 9.90625 50.3125 4.234375 \nQ 43.84375 -1.421875 31.78125 -1.421875 \nQ 19.734375 -1.421875 13.25 4.234375 \nQ 6.78125 9.90625 6.78125 20.515625 \nQ 6.78125 27.484375 10.78125 32.3125 \nQ 14.796875 37.15625 21.921875 38.8125 \nz\nM 18.3125 54.390625 \nQ 18.3125 48.734375 21.84375 45.5625 \nQ 25.390625 42.390625 31.78125 42.390625 \nQ 38.140625 42.390625 41.71875 45.5625 \nQ 45.3125 48.734375 45.3125 54.390625 \nQ 45.3125 60.0625 41.71875 63.234375 \nQ 38.140625 66.40625 31.78125 66.40625 \nQ 25.390625 66.40625 21.84375 63.234375 \nQ 18.3125 60.0625 18.3125 54.390625 \nz\n\" id=\"DejaVuSans-56\"/>\n     <path d=\"M 10.984375 1.515625 \nL 10.984375 10.5 \nQ 14.703125 8.734375 18.5 7.8125 \nQ 22.3125 6.890625 25.984375 6.890625 \nQ 35.75 6.890625 40.890625 13.453125 \nQ 46.046875 20.015625 46.78125 33.40625 \nQ 43.953125 29.203125 39.59375 26.953125 \nQ 35.25 24.703125 29.984375 24.703125 \nQ 19.046875 24.703125 12.671875 31.3125 \nQ 6.296875 37.9375 6.296875 49.421875 \nQ 6.296875 60.640625 12.9375 67.421875 \nQ 19.578125 74.21875 30.609375 74.21875 \nQ 43.265625 74.21875 49.921875 64.515625 \nQ 56.59375 54.828125 56.59375 36.375 \nQ 56.59375 19.140625 48.40625 8.859375 \nQ 40.234375 -1.421875 26.421875 -1.421875 \nQ 22.703125 -1.421875 18.890625 -0.6875 \nQ 15.09375 0.046875 10.984375 1.515625 \nz\nM 30.609375 32.421875 \nQ 37.25 32.421875 41.125 36.953125 \nQ 45.015625 41.5 45.015625 49.421875 \nQ 45.015625 57.28125 41.125 61.84375 \nQ 37.25 66.40625 30.609375 66.40625 \nQ 23.96875 66.40625 20.09375 61.84375 \nQ 16.21875 57.28125 16.21875 49.421875 \nQ 16.21875 41.5 20.09375 36.953125 \nQ 23.96875 32.421875 30.609375 32.421875 \nz\n\" id=\"DejaVuSans-57\"/>\n    </defs>\n    <g style=\"fill:#fde725;\" transform=\"translate(584.893304 64.110446)scale(0.1 -0.1)\">\n     <use xlink:href=\"#DejaVuSans-51\"/>\n     <use x=\"63.623047\" xlink:href=\"#DejaVuSans-56\"/>\n     <use x=\"127.246094\" xlink:href=\"#DejaVuSans-57\"/>\n     <use x=\"190.869141\" xlink:href=\"#DejaVuSans-55\"/>\n    </g>\n   </g>\n   <g id=\"text_24\">\n    <!-- 32897 -->\n    <g style=\"fill:#fde725;\" transform=\"translate(115.769196 141.767589)scale(0.1 -0.1)\">\n     <use xlink:href=\"#DejaVuSans-51\"/>\n     <use x=\"63.623047\" xlink:href=\"#DejaVuSans-50\"/>\n     <use x=\"127.246094\" xlink:href=\"#DejaVuSans-56\"/>\n     <use x=\"190.869141\" xlink:href=\"#DejaVuSans-57\"/>\n     <use x=\"254.492188\" xlink:href=\"#DejaVuSans-55\"/>\n    </g>\n   </g>\n   <g id=\"text_25\">\n    <!-- 243650 -->\n    <g style=\"fill:#440154;\" transform=\"translate(190.245089 141.767589)scale(0.1 -0.1)\">\n     <use xlink:href=\"#DejaVuSans-50\"/>\n     <use x=\"63.623047\" xlink:href=\"#DejaVuSans-52\"/>\n     <use x=\"127.246094\" xlink:href=\"#DejaVuSans-51\"/>\n     <use x=\"190.869141\" xlink:href=\"#DejaVuSans-54\"/>\n     <use x=\"254.492188\" xlink:href=\"#DejaVuSans-53\"/>\n     <use x=\"318.115234\" xlink:href=\"#DejaVuSans-48\"/>\n    </g>\n   </g>\n   <g id=\"text_26\">\n    <!-- 3181 -->\n    <g style=\"fill:#fde725;\" transform=\"translate(274.264732 141.767589)scale(0.1 -0.1)\">\n     <use xlink:href=\"#DejaVuSans-51\"/>\n     <use x=\"63.623047\" xlink:href=\"#DejaVuSans-49\"/>\n     <use x=\"127.246094\" xlink:href=\"#DejaVuSans-56\"/>\n     <use x=\"190.869141\" xlink:href=\"#DejaVuSans-49\"/>\n    </g>\n   </g>\n   <g id=\"text_27\">\n    <!-- 0 -->\n    <g style=\"fill:#fde725;\" transform=\"translate(361.465625 141.767589)scale(0.1 -0.1)\">\n     <use xlink:href=\"#DejaVuSans-48\"/>\n    </g>\n   </g>\n   <g id=\"text_28\">\n    <!-- 1411 -->\n    <g style=\"fill:#fde725;\" transform=\"translate(429.579018 141.767589)scale(0.1 -0.1)\">\n     <use xlink:href=\"#DejaVuSans-49\"/>\n     <use x=\"63.623047\" xlink:href=\"#DejaVuSans-52\"/>\n     <use x=\"127.246094\" xlink:href=\"#DejaVuSans-49\"/>\n     <use x=\"190.869141\" xlink:href=\"#DejaVuSans-49\"/>\n    </g>\n   </g>\n   <g id=\"text_29\">\n    <!-- 1891 -->\n    <g style=\"fill:#fde725;\" transform=\"translate(507.236161 141.767589)scale(0.1 -0.1)\">\n     <use xlink:href=\"#DejaVuSans-49\"/>\n     <use x=\"63.623047\" xlink:href=\"#DejaVuSans-56\"/>\n     <use x=\"127.246094\" xlink:href=\"#DejaVuSans-57\"/>\n     <use x=\"190.869141\" xlink:href=\"#DejaVuSans-49\"/>\n    </g>\n   </g>\n   <g id=\"text_30\">\n    <!-- 271 -->\n    <g style=\"fill:#fde725;\" transform=\"translate(588.074554 141.767589)scale(0.1 -0.1)\">\n     <use xlink:href=\"#DejaVuSans-50\"/>\n     <use x=\"63.623047\" xlink:href=\"#DejaVuSans-55\"/>\n     <use x=\"127.246094\" xlink:href=\"#DejaVuSans-49\"/>\n    </g>\n   </g>\n   <g id=\"text_31\">\n    <!-- 5 -->\n    <g style=\"fill:#fde725;\" transform=\"translate(128.494196 219.424732)scale(0.1 -0.1)\">\n     <use xlink:href=\"#DejaVuSans-53\"/>\n    </g>\n   </g>\n   <g id=\"text_32\">\n    <!-- 3255 -->\n    <g style=\"fill:#fde725;\" transform=\"translate(196.607589 219.424732)scale(0.1 -0.1)\">\n     <use xlink:href=\"#DejaVuSans-51\"/>\n     <use x=\"63.623047\" xlink:href=\"#DejaVuSans-50\"/>\n     <use x=\"127.246094\" xlink:href=\"#DejaVuSans-53\"/>\n     <use x=\"190.869141\" xlink:href=\"#DejaVuSans-53\"/>\n    </g>\n   </g>\n   <g id=\"text_33\">\n    <!-- 27051 -->\n    <g style=\"fill:#fde725;\" transform=\"translate(271.083482 219.424732)scale(0.1 -0.1)\">\n     <use xlink:href=\"#DejaVuSans-50\"/>\n     <use x=\"63.623047\" xlink:href=\"#DejaVuSans-55\"/>\n     <use x=\"127.246094\" xlink:href=\"#DejaVuSans-48\"/>\n     <use x=\"190.869141\" xlink:href=\"#DejaVuSans-53\"/>\n     <use x=\"254.492188\" xlink:href=\"#DejaVuSans-49\"/>\n    </g>\n   </g>\n   <g id=\"text_34\">\n    <!-- 0 -->\n    <g style=\"fill:#fde725;\" transform=\"translate(361.465625 219.424732)scale(0.1 -0.1)\">\n     <use xlink:href=\"#DejaVuSans-48\"/>\n    </g>\n   </g>\n   <g id=\"text_35\">\n    <!-- 5 -->\n    <g style=\"fill:#fde725;\" transform=\"translate(439.122768 219.424732)scale(0.1 -0.1)\">\n     <use xlink:href=\"#DejaVuSans-53\"/>\n    </g>\n   </g>\n   <g id=\"text_36\">\n    <!-- 5438 -->\n    <g style=\"fill:#fde725;\" transform=\"translate(507.236161 219.424732)scale(0.1 -0.1)\">\n     <use xlink:href=\"#DejaVuSans-53\"/>\n     <use x=\"63.623047\" xlink:href=\"#DejaVuSans-52\"/>\n     <use x=\"127.246094\" xlink:href=\"#DejaVuSans-51\"/>\n     <use x=\"190.869141\" xlink:href=\"#DejaVuSans-56\"/>\n    </g>\n   </g>\n   <g id=\"text_37\">\n    <!-- 0 -->\n    <g style=\"fill:#fde725;\" transform=\"translate(594.437054 219.424732)scale(0.1 -0.1)\">\n     <use xlink:href=\"#DejaVuSans-48\"/>\n    </g>\n   </g>\n   <g id=\"text_38\">\n    <!-- 0 -->\n    <g style=\"fill:#fde725;\" transform=\"translate(128.494196 297.081875)scale(0.1 -0.1)\">\n     <use xlink:href=\"#DejaVuSans-48\"/>\n    </g>\n   </g>\n   <g id=\"text_39\">\n    <!-- 0 -->\n    <g style=\"fill:#fde725;\" transform=\"translate(206.151339 297.081875)scale(0.1 -0.1)\">\n     <use xlink:href=\"#DejaVuSans-48\"/>\n    </g>\n   </g>\n   <g id=\"text_40\">\n    <!-- 2420 -->\n    <g style=\"fill:#fde725;\" transform=\"translate(274.264732 297.081875)scale(0.1 -0.1)\">\n     <use xlink:href=\"#DejaVuSans-50\"/>\n     <use x=\"63.623047\" xlink:href=\"#DejaVuSans-52\"/>\n     <use x=\"127.246094\" xlink:href=\"#DejaVuSans-50\"/>\n     <use x=\"190.869141\" xlink:href=\"#DejaVuSans-48\"/>\n    </g>\n   </g>\n   <g id=\"text_41\">\n    <!-- 0 -->\n    <g style=\"fill:#fde725;\" transform=\"translate(361.465625 297.081875)scale(0.1 -0.1)\">\n     <use xlink:href=\"#DejaVuSans-48\"/>\n    </g>\n   </g>\n   <g id=\"text_42\">\n    <!-- 0 -->\n    <g style=\"fill:#fde725;\" transform=\"translate(439.122768 297.081875)scale(0.1 -0.1)\">\n     <use xlink:href=\"#DejaVuSans-48\"/>\n    </g>\n   </g>\n   <g id=\"text_43\">\n    <!-- 327 -->\n    <g style=\"fill:#fde725;\" transform=\"translate(510.417411 297.081875)scale(0.1 -0.1)\">\n     <use xlink:href=\"#DejaVuSans-51\"/>\n     <use x=\"63.623047\" xlink:href=\"#DejaVuSans-50\"/>\n     <use x=\"127.246094\" xlink:href=\"#DejaVuSans-55\"/>\n    </g>\n   </g>\n   <g id=\"text_44\">\n    <!-- 0 -->\n    <g style=\"fill:#fde725;\" transform=\"translate(594.437054 297.081875)scale(0.1 -0.1)\">\n     <use xlink:href=\"#DejaVuSans-48\"/>\n    </g>\n   </g>\n   <g id=\"text_45\">\n    <!-- 109 -->\n    <g style=\"fill:#fde725;\" transform=\"translate(122.131696 374.739018)scale(0.1 -0.1)\">\n     <use xlink:href=\"#DejaVuSans-49\"/>\n     <use x=\"63.623047\" xlink:href=\"#DejaVuSans-48\"/>\n     <use x=\"127.246094\" xlink:href=\"#DejaVuSans-57\"/>\n    </g>\n   </g>\n   <g id=\"text_46\">\n    <!-- 6764 -->\n    <g style=\"fill:#fde725;\" transform=\"translate(196.607589 374.739018)scale(0.1 -0.1)\">\n     <use xlink:href=\"#DejaVuSans-54\"/>\n     <use x=\"63.623047\" xlink:href=\"#DejaVuSans-55\"/>\n     <use x=\"127.246094\" xlink:href=\"#DejaVuSans-54\"/>\n     <use x=\"190.869141\" xlink:href=\"#DejaVuSans-52\"/>\n    </g>\n   </g>\n   <g id=\"text_47\">\n    <!-- 305 -->\n    <g style=\"fill:#fde725;\" transform=\"translate(277.445982 374.739018)scale(0.1 -0.1)\">\n     <use xlink:href=\"#DejaVuSans-51\"/>\n     <use x=\"63.623047\" xlink:href=\"#DejaVuSans-48\"/>\n     <use x=\"127.246094\" xlink:href=\"#DejaVuSans-53\"/>\n    </g>\n   </g>\n   <g id=\"text_48\">\n    <!-- 0 -->\n    <g style=\"fill:#fde725;\" transform=\"translate(361.465625 374.739018)scale(0.1 -0.1)\">\n     <use xlink:href=\"#DejaVuSans-48\"/>\n    </g>\n   </g>\n   <g id=\"text_49\">\n    <!-- 2073 -->\n    <g style=\"fill:#fde725;\" transform=\"translate(429.579018 374.739018)scale(0.1 -0.1)\">\n     <use xlink:href=\"#DejaVuSans-50\"/>\n     <use x=\"63.623047\" xlink:href=\"#DejaVuSans-48\"/>\n     <use x=\"127.246094\" xlink:href=\"#DejaVuSans-55\"/>\n     <use x=\"190.869141\" xlink:href=\"#DejaVuSans-51\"/>\n    </g>\n   </g>\n   <g id=\"text_50\">\n    <!-- 242 -->\n    <g style=\"fill:#fde725;\" transform=\"translate(510.417411 374.739018)scale(0.1 -0.1)\">\n     <use xlink:href=\"#DejaVuSans-50\"/>\n     <use x=\"63.623047\" xlink:href=\"#DejaVuSans-52\"/>\n     <use x=\"127.246094\" xlink:href=\"#DejaVuSans-50\"/>\n    </g>\n   </g>\n   <g id=\"text_51\">\n    <!-- 0 -->\n    <g style=\"fill:#fde725;\" transform=\"translate(594.437054 374.739018)scale(0.1 -0.1)\">\n     <use xlink:href=\"#DejaVuSans-48\"/>\n    </g>\n   </g>\n   <g id=\"text_52\">\n    <!-- 4 -->\n    <g style=\"fill:#fde725;\" transform=\"translate(128.494196 452.396161)scale(0.1 -0.1)\">\n     <use xlink:href=\"#DejaVuSans-52\"/>\n    </g>\n   </g>\n   <g id=\"text_53\">\n    <!-- 4970 -->\n    <g style=\"fill:#fde725;\" transform=\"translate(196.607589 452.396161)scale(0.1 -0.1)\">\n     <use xlink:href=\"#DejaVuSans-52\"/>\n     <use x=\"63.623047\" xlink:href=\"#DejaVuSans-57\"/>\n     <use x=\"127.246094\" xlink:href=\"#DejaVuSans-55\"/>\n     <use x=\"190.869141\" xlink:href=\"#DejaVuSans-48\"/>\n    </g>\n   </g>\n   <g id=\"text_54\">\n    <!-- 6685 -->\n    <g style=\"fill:#fde725;\" transform=\"translate(274.264732 452.396161)scale(0.1 -0.1)\">\n     <use xlink:href=\"#DejaVuSans-54\"/>\n     <use x=\"63.623047\" xlink:href=\"#DejaVuSans-54\"/>\n     <use x=\"127.246094\" xlink:href=\"#DejaVuSans-56\"/>\n     <use x=\"190.869141\" xlink:href=\"#DejaVuSans-53\"/>\n    </g>\n   </g>\n   <g id=\"text_55\">\n    <!-- 0 -->\n    <g style=\"fill:#fde725;\" transform=\"translate(361.465625 452.396161)scale(0.1 -0.1)\">\n     <use xlink:href=\"#DejaVuSans-48\"/>\n    </g>\n   </g>\n   <g id=\"text_56\">\n    <!-- 0 -->\n    <g style=\"fill:#fde725;\" transform=\"translate(439.122768 452.396161)scale(0.1 -0.1)\">\n     <use xlink:href=\"#DejaVuSans-48\"/>\n    </g>\n   </g>\n   <g id=\"text_57\">\n    <!-- 5708 -->\n    <g style=\"fill:#fde725;\" transform=\"translate(507.236161 452.396161)scale(0.1 -0.1)\">\n     <use xlink:href=\"#DejaVuSans-53\"/>\n     <use x=\"63.623047\" xlink:href=\"#DejaVuSans-55\"/>\n     <use x=\"127.246094\" xlink:href=\"#DejaVuSans-48\"/>\n     <use x=\"190.869141\" xlink:href=\"#DejaVuSans-56\"/>\n    </g>\n   </g>\n   <g id=\"text_58\">\n    <!-- 0 -->\n    <g style=\"fill:#fde725;\" transform=\"translate(594.437054 452.396161)scale(0.1 -0.1)\">\n     <use xlink:href=\"#DejaVuSans-48\"/>\n    </g>\n   </g>\n   <g id=\"text_59\">\n    <!-- 5563 -->\n    <g style=\"fill:#fde725;\" transform=\"translate(118.950446 530.053304)scale(0.1 -0.1)\">\n     <use xlink:href=\"#DejaVuSans-53\"/>\n     <use x=\"63.623047\" xlink:href=\"#DejaVuSans-53\"/>\n     <use x=\"127.246094\" xlink:href=\"#DejaVuSans-54\"/>\n     <use x=\"190.869141\" xlink:href=\"#DejaVuSans-51\"/>\n    </g>\n   </g>\n   <g id=\"text_60\">\n    <!-- 157 -->\n    <g style=\"fill:#fde725;\" transform=\"translate(199.788839 530.053304)scale(0.1 -0.1)\">\n     <use xlink:href=\"#DejaVuSans-49\"/>\n     <use x=\"63.623047\" xlink:href=\"#DejaVuSans-53\"/>\n     <use x=\"127.246094\" xlink:href=\"#DejaVuSans-55\"/>\n    </g>\n   </g>\n   <g id=\"text_61\">\n    <!-- 0 -->\n    <g style=\"fill:#fde725;\" transform=\"translate(283.808482 530.053304)scale(0.1 -0.1)\">\n     <use xlink:href=\"#DejaVuSans-48\"/>\n    </g>\n   </g>\n   <g id=\"text_62\">\n    <!-- 0 -->\n    <g style=\"fill:#fde725;\" transform=\"translate(361.465625 530.053304)scale(0.1 -0.1)\">\n     <use xlink:href=\"#DejaVuSans-48\"/>\n    </g>\n   </g>\n   <g id=\"text_63\">\n    <!-- 0 -->\n    <g style=\"fill:#fde725;\" transform=\"translate(439.122768 530.053304)scale(0.1 -0.1)\">\n     <use xlink:href=\"#DejaVuSans-48\"/>\n    </g>\n   </g>\n   <g id=\"text_64\">\n    <!-- 0 -->\n    <g style=\"fill:#fde725;\" transform=\"translate(516.779911 530.053304)scale(0.1 -0.1)\">\n     <use xlink:href=\"#DejaVuSans-48\"/>\n    </g>\n   </g>\n   <g id=\"text_65\">\n    <!-- 14790 -->\n    <g style=\"fill:#fde725;\" transform=\"translate(581.712054 530.053304)scale(0.1 -0.1)\">\n     <use xlink:href=\"#DejaVuSans-49\"/>\n     <use x=\"63.623047\" xlink:href=\"#DejaVuSans-52\"/>\n     <use x=\"127.246094\" xlink:href=\"#DejaVuSans-55\"/>\n     <use x=\"190.869141\" xlink:href=\"#DejaVuSans-57\"/>\n     <use x=\"254.492188\" xlink:href=\"#DejaVuSans-48\"/>\n    </g>\n   </g>\n   <g id=\"text_66\">\n    <!-- Matriz de Confusão modelo recuperado -->\n    <defs>\n     <path d=\"M 9.8125 72.90625 \nL 24.515625 72.90625 \nL 43.109375 23.296875 \nL 61.8125 72.90625 \nL 76.515625 72.90625 \nL 76.515625 0 \nL 66.890625 0 \nL 66.890625 64.015625 \nL 48.09375 14.015625 \nL 38.1875 14.015625 \nL 19.390625 64.015625 \nL 19.390625 0 \nL 9.8125 0 \nz\n\" id=\"DejaVuSans-77\"/>\n     <path d=\"M 5.515625 54.6875 \nL 48.1875 54.6875 \nL 48.1875 46.484375 \nL 14.40625 7.171875 \nL 48.1875 7.171875 \nL 48.1875 0 \nL 4.296875 0 \nL 4.296875 8.203125 \nL 38.09375 47.515625 \nL 5.515625 47.515625 \nz\n\" id=\"DejaVuSans-122\"/>\n     <path d=\"M 54.890625 33.015625 \nL 54.890625 0 \nL 45.90625 0 \nL 45.90625 32.71875 \nQ 45.90625 40.484375 42.875 44.328125 \nQ 39.84375 48.1875 33.796875 48.1875 \nQ 26.515625 48.1875 22.3125 43.546875 \nQ 18.109375 38.921875 18.109375 30.90625 \nL 18.109375 0 \nL 9.078125 0 \nL 9.078125 54.6875 \nL 18.109375 54.6875 \nL 18.109375 46.1875 \nQ 21.34375 51.125 25.703125 53.5625 \nQ 30.078125 56 35.796875 56 \nQ 45.21875 56 50.046875 50.171875 \nQ 54.890625 44.34375 54.890625 33.015625 \nz\n\" id=\"DejaVuSans-110\"/>\n     <path d=\"M 37.109375 75.984375 \nL 37.109375 68.5 \nL 28.515625 68.5 \nQ 23.6875 68.5 21.796875 66.546875 \nQ 19.921875 64.59375 19.921875 59.515625 \nL 19.921875 54.6875 \nL 34.71875 54.6875 \nL 34.71875 47.703125 \nL 19.921875 47.703125 \nL 19.921875 0 \nL 10.890625 0 \nL 10.890625 47.703125 \nL 2.296875 47.703125 \nL 2.296875 54.6875 \nL 10.890625 54.6875 \nL 10.890625 58.5 \nQ 10.890625 67.625 15.140625 71.796875 \nQ 19.390625 75.984375 28.609375 75.984375 \nz\n\" id=\"DejaVuSans-102\"/>\n     <path d=\"M 44.28125 53.078125 \nL 44.28125 44.578125 \nQ 40.484375 46.53125 36.375 47.5 \nQ 32.28125 48.484375 27.875 48.484375 \nQ 21.1875 48.484375 17.84375 46.4375 \nQ 14.5 44.390625 14.5 40.28125 \nQ 14.5 37.15625 16.890625 35.375 \nQ 19.28125 33.59375 26.515625 31.984375 \nL 29.59375 31.296875 \nQ 39.15625 29.25 43.1875 25.515625 \nQ 47.21875 21.78125 47.21875 15.09375 \nQ 47.21875 7.46875 41.1875 3.015625 \nQ 35.15625 -1.421875 24.609375 -1.421875 \nQ 20.21875 -1.421875 15.453125 -0.5625 \nQ 10.6875 0.296875 5.421875 2 \nL 5.421875 11.28125 \nQ 10.40625 8.6875 15.234375 7.390625 \nQ 20.0625 6.109375 24.8125 6.109375 \nQ 31.15625 6.109375 34.5625 8.28125 \nQ 37.984375 10.453125 37.984375 14.40625 \nQ 37.984375 18.0625 35.515625 20.015625 \nQ 33.0625 21.96875 24.703125 23.78125 \nL 21.578125 24.515625 \nQ 13.234375 26.265625 9.515625 29.90625 \nQ 5.8125 33.546875 5.8125 39.890625 \nQ 5.8125 47.609375 11.28125 51.796875 \nQ 16.75 56 26.8125 56 \nQ 31.78125 56 36.171875 55.265625 \nQ 40.578125 54.546875 44.28125 53.078125 \nz\n\" id=\"DejaVuSans-115\"/>\n     <path d=\"M 34.28125 27.484375 \nQ 23.390625 27.484375 19.1875 25 \nQ 14.984375 22.515625 14.984375 16.5 \nQ 14.984375 11.71875 18.140625 8.90625 \nQ 21.296875 6.109375 26.703125 6.109375 \nQ 34.1875 6.109375 38.703125 11.40625 \nQ 43.21875 16.703125 43.21875 25.484375 \nL 43.21875 27.484375 \nz\nM 52.203125 31.203125 \nL 52.203125 0 \nL 43.21875 0 \nL 43.21875 8.296875 \nQ 40.140625 3.328125 35.546875 0.953125 \nQ 30.953125 -1.421875 24.3125 -1.421875 \nQ 15.921875 -1.421875 10.953125 3.296875 \nQ 6 8.015625 6 15.921875 \nQ 6 25.140625 12.171875 29.828125 \nQ 18.359375 34.515625 30.609375 34.515625 \nL 43.21875 34.515625 \nL 43.21875 35.40625 \nQ 43.21875 41.609375 39.140625 45 \nQ 35.0625 48.390625 27.6875 48.390625 \nQ 23 48.390625 18.546875 47.265625 \nQ 14.109375 46.140625 10.015625 43.890625 \nL 10.015625 52.203125 \nQ 14.9375 54.109375 19.578125 55.046875 \nQ 24.21875 56 28.609375 56 \nQ 40.484375 56 46.34375 49.84375 \nQ 52.203125 43.703125 52.203125 31.203125 \nz\nM 28.8125 66.890625 \nL 26.03125 69.578125 \nQ 24.953125 70.5625 24.140625 71.015625 \nQ 23.34375 71.484375 22.703125 71.484375 \nQ 20.84375 71.484375 19.96875 69.703125 \nQ 19.09375 67.921875 19 63.921875 \nL 12.890625 63.921875 \nQ 12.984375 70.515625 15.46875 74.09375 \nQ 17.96875 77.6875 22.40625 77.6875 \nQ 24.265625 77.6875 25.828125 77 \nQ 27.390625 76.3125 29.203125 74.703125 \nL 31.984375 72.015625 \nQ 33.0625 71.046875 33.859375 70.578125 \nQ 34.671875 70.125 35.296875 70.125 \nQ 37.15625 70.125 38.03125 71.90625 \nQ 38.921875 73.6875 39.015625 77.6875 \nL 45.125 77.6875 \nQ 45.015625 71.09375 42.53125 67.5 \nQ 40.046875 63.921875 35.59375 63.921875 \nQ 33.734375 63.921875 32.171875 64.59375 \nQ 30.609375 65.28125 28.8125 66.890625 \nz\n\" id=\"DejaVuSans-227\"/>\n     <path d=\"M 52 44.1875 \nQ 55.375 50.25 60.0625 53.125 \nQ 64.75 56 71.09375 56 \nQ 79.640625 56 84.28125 50.015625 \nQ 88.921875 44.046875 88.921875 33.015625 \nL 88.921875 0 \nL 79.890625 0 \nL 79.890625 32.71875 \nQ 79.890625 40.578125 77.09375 44.375 \nQ 74.3125 48.1875 68.609375 48.1875 \nQ 61.625 48.1875 57.5625 43.546875 \nQ 53.515625 38.921875 53.515625 30.90625 \nL 53.515625 0 \nL 44.484375 0 \nL 44.484375 32.71875 \nQ 44.484375 40.625 41.703125 44.40625 \nQ 38.921875 48.1875 33.109375 48.1875 \nQ 26.21875 48.1875 22.15625 43.53125 \nQ 18.109375 38.875 18.109375 30.90625 \nL 18.109375 0 \nL 9.078125 0 \nL 9.078125 54.6875 \nL 18.109375 54.6875 \nL 18.109375 46.1875 \nQ 21.1875 51.21875 25.484375 53.609375 \nQ 29.78125 56 35.6875 56 \nQ 41.65625 56 45.828125 52.96875 \nQ 50 49.953125 52 44.1875 \nz\n\" id=\"DejaVuSans-109\"/>\n    </defs>\n    <g transform=\"translate(246.37375 16.5225)scale(0.12 -0.12)\">\n     <use xlink:href=\"#DejaVuSans-77\"/>\n     <use x=\"86.279297\" xlink:href=\"#DejaVuSans-97\"/>\n     <use x=\"147.558594\" xlink:href=\"#DejaVuSans-116\"/>\n     <use x=\"186.767578\" xlink:href=\"#DejaVuSans-114\"/>\n     <use x=\"227.880859\" xlink:href=\"#DejaVuSans-105\"/>\n     <use x=\"255.664062\" xlink:href=\"#DejaVuSans-122\"/>\n     <use x=\"308.154297\" xlink:href=\"#DejaVuSans-32\"/>\n     <use x=\"339.941406\" xlink:href=\"#DejaVuSans-100\"/>\n     <use x=\"403.417969\" xlink:href=\"#DejaVuSans-101\"/>\n     <use x=\"464.941406\" xlink:href=\"#DejaVuSans-32\"/>\n     <use x=\"496.728516\" xlink:href=\"#DejaVuSans-67\"/>\n     <use x=\"566.552734\" xlink:href=\"#DejaVuSans-111\"/>\n     <use x=\"627.734375\" xlink:href=\"#DejaVuSans-110\"/>\n     <use x=\"691.113281\" xlink:href=\"#DejaVuSans-102\"/>\n     <use x=\"726.318359\" xlink:href=\"#DejaVuSans-117\"/>\n     <use x=\"789.697266\" xlink:href=\"#DejaVuSans-115\"/>\n     <use x=\"841.796875\" xlink:href=\"#DejaVuSans-227\"/>\n     <use x=\"903.076172\" xlink:href=\"#DejaVuSans-111\"/>\n     <use x=\"964.257812\" xlink:href=\"#DejaVuSans-32\"/>\n     <use x=\"996.044922\" xlink:href=\"#DejaVuSans-109\"/>\n     <use x=\"1093.457031\" xlink:href=\"#DejaVuSans-111\"/>\n     <use x=\"1154.638672\" xlink:href=\"#DejaVuSans-100\"/>\n     <use x=\"1218.115234\" xlink:href=\"#DejaVuSans-101\"/>\n     <use x=\"1279.638672\" xlink:href=\"#DejaVuSans-108\"/>\n     <use x=\"1307.421875\" xlink:href=\"#DejaVuSans-111\"/>\n     <use x=\"1368.603516\" xlink:href=\"#DejaVuSans-32\"/>\n     <use x=\"1400.390625\" xlink:href=\"#DejaVuSans-114\"/>\n     <use x=\"1439.253906\" xlink:href=\"#DejaVuSans-101\"/>\n     <use x=\"1500.777344\" xlink:href=\"#DejaVuSans-99\"/>\n     <use x=\"1555.757812\" xlink:href=\"#DejaVuSans-117\"/>\n     <use x=\"1619.136719\" xlink:href=\"#DejaVuSans-112\"/>\n     <use x=\"1682.613281\" xlink:href=\"#DejaVuSans-101\"/>\n     <use x=\"1744.136719\" xlink:href=\"#DejaVuSans-114\"/>\n     <use x=\"1785.25\" xlink:href=\"#DejaVuSans-97\"/>\n     <use x=\"1846.529297\" xlink:href=\"#DejaVuSans-100\"/>\n     <use x=\"1910.005859\" xlink:href=\"#DejaVuSans-111\"/>\n    </g>\n   </g>\n  </g>\n  <g id=\"axes_2\">\n   <g id=\"patch_7\">\n    <path clip-path=\"url(#p64247276f0)\" d=\"M 692.246875 566.1225 \nL 692.246875 563.999062 \nL 692.246875 24.645937 \nL 692.246875 22.5225 \nL 719.426875 22.5225 \nL 719.426875 24.645937 \nL 719.426875 563.999062 \nL 719.426875 566.1225 \nz\n\" style=\"fill:#ffffff;stroke:#ffffff;stroke-linejoin:miter;stroke-width:0.01;\"/>\n   </g>\n   <image height=\"543\" id=\"image2c5b911a38\" transform=\"scale(1 -1)translate(0 -543)\" width=\"27\" x=\"692\" xlink:href=\"data:image/png;base64,\niVBORw0KGgoAAAANSUhEUgAAABsAAAIfCAYAAACB2qdqAAAABHNCSVQICAgIfAhkiAAAAqBJREFUeJztnIltxDAQxGSfSksJ6b+UXIoQsYAIsoHFeGYf+HB+fp7f7xpir+edqrXmKq219vM+Y8VmlWk9KyAI3oDsJfbMqux5tWnUerbyDEC8PL2D+Gl5AtTUCGZlrRiAlN1XzPsYWzEIvS1AKI0IKUPwKqupEbwB2V+tsslypREhZQhNkPuKNa4QUobgber6DKE0Iuw1J6w0XlhsfxtXANPjaq5YniGIB7F4eWpno9azmhqhFYOQZwjiPvP+pFUaCcTL0xyQmvqcmhpB7Vl9dk59dl8x9WvbuWI1NUKDGKE+Q8gzBPPytD5Gb0DyDKFfmRDUns0Vy7P7inkfY9FHyDOEPEPIMwSvsqKP4A3IHvsi68ozCLGyJghBnt1XTBwQrzJt9MWeeZWVRoI8u6+YOCBeZdroez3zFiuNCCm7r1jRR8gzBLFn65l72V4aEdRpnCtWGu8rJg6IWVkr5hxvU9dnCN40eidI0UdIGUJNjSD2rBVDUBrvK7YH/1hX9Bm80TcrW6XxnOnZmGfnqJdnATmngwdBfPB4+8ybRq9n2tlYQBD2YD7yjEGtbK7YrLJX7FnKzlEvz7liNTWCN/r71b7crM8I6jMEr2cFBMEbEPWKsSoTpzFlACm7r5h4EGsDkjKElCE0QRCmlf2NFTMvT29AamqAmhphf7yeifvMmkbvBPlY01j0EczR1yp7V2k8Z3oQ59k50xNE6lkXMYI3IOKDR3sR5xlCniF4D56uKwRvQMxngXYQmz2zKvO+4dHOxq4rBG9AxE1tHsRaZVrPOuUIxMtT/NJF29Ta6JvTqD14vMuzNBK0PBFShrBf7acExJ4NFps+5eaKTadxTlppvK/Y/gx+1GU6IFZl5qa2KjP32Vy90oiwP4/Us6KP8A8w549AffiYhQAAAABJRU5ErkJggg==\" y=\"-22\"/>\n   <g id=\"matplotlib.axis_3\"/>\n   <g id=\"matplotlib.axis_4\">\n    <g id=\"ytick_8\">\n     <g id=\"line2d_15\">\n      <defs>\n       <path d=\"M 0 0 \nL 3.5 0 \n\" id=\"m92ff0785bf\" style=\"stroke:#000000;stroke-width:0.8;\"/>\n      </defs>\n      <g>\n       <use style=\"stroke:#000000;stroke-width:0.8;\" x=\"719.426875\" xlink:href=\"#m92ff0785bf\" y=\"566.1225\"/>\n      </g>\n     </g>\n     <g id=\"text_67\">\n      <!-- 0 -->\n      <g transform=\"translate(726.426875 569.921719)scale(0.1 -0.1)\">\n       <use xlink:href=\"#DejaVuSans-48\"/>\n      </g>\n     </g>\n    </g>\n    <g id=\"ytick_9\">\n     <g id=\"line2d_16\">\n      <g>\n       <use style=\"stroke:#000000;stroke-width:0.8;\" x=\"719.426875\" xlink:href=\"#m92ff0785bf\" y=\"454.569042\"/>\n      </g>\n     </g>\n     <g id=\"text_68\">\n      <!-- 50000 -->\n      <g transform=\"translate(726.426875 458.368261)scale(0.1 -0.1)\">\n       <use xlink:href=\"#DejaVuSans-53\"/>\n       <use x=\"63.623047\" xlink:href=\"#DejaVuSans-48\"/>\n       <use x=\"127.246094\" xlink:href=\"#DejaVuSans-48\"/>\n       <use x=\"190.869141\" xlink:href=\"#DejaVuSans-48\"/>\n       <use x=\"254.492188\" xlink:href=\"#DejaVuSans-48\"/>\n      </g>\n     </g>\n    </g>\n    <g id=\"ytick_10\">\n     <g id=\"line2d_17\">\n      <g>\n       <use style=\"stroke:#000000;stroke-width:0.8;\" x=\"719.426875\" xlink:href=\"#m92ff0785bf\" y=\"343.015584\"/>\n      </g>\n     </g>\n     <g id=\"text_69\">\n      <!-- 100000 -->\n      <g transform=\"translate(726.426875 346.814803)scale(0.1 -0.1)\">\n       <use xlink:href=\"#DejaVuSans-49\"/>\n       <use x=\"63.623047\" xlink:href=\"#DejaVuSans-48\"/>\n       <use x=\"127.246094\" xlink:href=\"#DejaVuSans-48\"/>\n       <use x=\"190.869141\" xlink:href=\"#DejaVuSans-48\"/>\n       <use x=\"254.492188\" xlink:href=\"#DejaVuSans-48\"/>\n       <use x=\"318.115234\" xlink:href=\"#DejaVuSans-48\"/>\n      </g>\n     </g>\n    </g>\n    <g id=\"ytick_11\">\n     <g id=\"line2d_18\">\n      <g>\n       <use style=\"stroke:#000000;stroke-width:0.8;\" x=\"719.426875\" xlink:href=\"#m92ff0785bf\" y=\"231.462127\"/>\n      </g>\n     </g>\n     <g id=\"text_70\">\n      <!-- 150000 -->\n      <g transform=\"translate(726.426875 235.261345)scale(0.1 -0.1)\">\n       <use xlink:href=\"#DejaVuSans-49\"/>\n       <use x=\"63.623047\" xlink:href=\"#DejaVuSans-53\"/>\n       <use x=\"127.246094\" xlink:href=\"#DejaVuSans-48\"/>\n       <use x=\"190.869141\" xlink:href=\"#DejaVuSans-48\"/>\n       <use x=\"254.492188\" xlink:href=\"#DejaVuSans-48\"/>\n       <use x=\"318.115234\" xlink:href=\"#DejaVuSans-48\"/>\n      </g>\n     </g>\n    </g>\n    <g id=\"ytick_12\">\n     <g id=\"line2d_19\">\n      <g>\n       <use style=\"stroke:#000000;stroke-width:0.8;\" x=\"719.426875\" xlink:href=\"#m92ff0785bf\" y=\"119.908669\"/>\n      </g>\n     </g>\n     <g id=\"text_71\">\n      <!-- 200000 -->\n      <g transform=\"translate(726.426875 123.707887)scale(0.1 -0.1)\">\n       <use xlink:href=\"#DejaVuSans-50\"/>\n       <use x=\"63.623047\" xlink:href=\"#DejaVuSans-48\"/>\n       <use x=\"127.246094\" xlink:href=\"#DejaVuSans-48\"/>\n       <use x=\"190.869141\" xlink:href=\"#DejaVuSans-48\"/>\n       <use x=\"254.492188\" xlink:href=\"#DejaVuSans-48\"/>\n       <use x=\"318.115234\" xlink:href=\"#DejaVuSans-48\"/>\n      </g>\n     </g>\n    </g>\n   </g>\n   <g id=\"patch_8\">\n    <path d=\"M 692.246875 566.1225 \nL 692.246875 563.999062 \nL 692.246875 24.645937 \nL 692.246875 22.5225 \nL 719.426875 22.5225 \nL 719.426875 24.645937 \nL 719.426875 563.999062 \nL 719.426875 566.1225 \nz\n\" style=\"fill:none;stroke:#000000;stroke-linejoin:miter;stroke-width:0.8;\"/>\n   </g>\n  </g>\n </g>\n <defs>\n  <clipPath id=\"p6e66acf88b\">\n   <rect height=\"543.6\" width=\"543.6\" x=\"92.846875\" y=\"22.5225\"/>\n  </clipPath>\n  <clipPath id=\"p64247276f0\">\n   <rect height=\"543.6\" width=\"27.18\" x=\"692.246875\" y=\"22.5225\"/>\n  </clipPath>\n </defs>\n</svg>\n",
      "image/png": "[encoded data removed]"
     },
     "metadata": {
      "needs_background": "light"
     }
    }
   ],
   "source": [
    "labels = ['Cover Type {}'.format(i + 1) for i in range(len(y.unique()))]\n",
    "matriz = plot_confusion_matrix(modelo_recuperado, x, y, display_labels=labels)\n",
    "matriz.ax_.set_title('Matriz de Confusão modelo recuperado')\n",
    "matriz.ax_.figure.set_size_inches(20, 10)\n",
    "plt.show()"
   ]
  },
  {
   "cell_type": "code",
   "execution_count": null,
   "metadata": {},
   "outputs": [],
   "source": []
  }
 ],
 "metadata": {
  "kernelspec": {
   "display_name": "Python 3",
   "language": "python",
   "name": "python3"
  },
  "language_info": {
   "codemirror_mode": {
    "name": "ipython",
    "version": 3
   },
   "file_extension": ".py",
   "mimetype": "text/x-python",
   "name": "python",
   "nbconvert_exporter": "python",
   "pygments_lexer": "ipython3",
   "version": "3.8.3-final"
  }
 },
 "nbformat": 4,
 "nbformat_minor": 4
}
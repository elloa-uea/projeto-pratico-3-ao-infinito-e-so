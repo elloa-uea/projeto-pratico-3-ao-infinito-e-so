{
 "cells": [
  {
   "cell_type": "markdown",
   "metadata": {},
   "source": [
    "# Redes Neurais Artificiais 2020.1 -- Projeto Prático 3.4\n",
    "\n",
    "**Disciplina**: Redes Neurais Artificiais 2020.1  \n",
    "**Professora**: Elloá B. Guedes (ebgcosta@uea.edu.br)  \n",
    "**Github**: http://github.com/elloa  \n",
    "        \n",
    "\n",
    "Levando em conta a base de dados **_Forest Cover Type_**, esta terceira parte do Projeto Prático 3 diz respeito à proposição e avaliação de múltiplas redes neurais artificiais do tipo feedforward multilayer perceptron para o problema da classificação multi-classe da cobertura florestal em uma área do Roosevelt National Forest.\n",
    "\n",
    "## Busca em Grade\n",
    "\n",
    "Uma maneira padrão de escolher os parâmetros de um modelo de Machine Learning é por meio de uma busca em grade via força bruta. O algoritmo da busca em grade é dado como segue:\n",
    "\n",
    "1. Escolha a métrica de desempenho que você deseja maximizar  \n",
    "2. Escolha o algoritmo de Machine Learning (exemplo: redes neurais artificiais). Em seguida, defina os parâmetros ou hiperparâmetros deste tipo de modelo sobre os quais você dseja otimizar (número de épocas, taxa de aprendizado, etc.) e construa um array de valores a serem testados para cada parâmetro ou hiperparâmetro.  \n",
    "3. Defina a grade de busca, a qual é dada como o produto cartesiano de cada parâmetro a ser testado. Por exemplo, para os arrays [50, 100, 1000] e [10, 15], tem-se que a grade é [(50,10), (50,15), (100,10), (100,15), (1000,10), (1000,15)].\n",
    "4. Para cada combinação de parâmetros a serem otimizados, utilize o conjunto de treinamento para realizar uma validação cruzada (holdout ou k-fold) e calcule a métrica de avaliação no conjunto de teste (ou conjuntos de teste)\n",
    "5. Escolha a combinação de parâmetros que maximizam a métrica de avaliação. Este é o modelo otimizado.\n",
    "\n",
    "Por que esta abordagem funciona? Porque a busca em grade efetua uma pesquisa extensiva sobre as possíveis combinações de valores para cada um dos parâmetros a serem ajustados. Para cada combinação, ela estima a performance do modelo em dados novos. Por fim, o modelo com melhor métrica de desempenho é escolhido. Tem-se então que este modelo é o que melhor pode vir a generalizar mediante dados nunca antes vistos.\n",
    "\n",
    "## Efetuando a Busca em Grade sobre Hiperparâmetros das Top-6 RNAs\n",
    "\n",
    "Considerando a etapa anterior do projeto prático, foram identificadas pelo menos 6 melhores Redes Neurais para o problema da classificação multi-classe da cobertura florestal no conjunto de dados selecionado. Algumas destas redes possuem atributos categóricos como variáveis preditoras, enquanto outras possuem apenas os atributos numéricos como preditores.\n",
    "\n",
    "A primeira etapa desta segunda parte do projeto consiste em trazer para este notebook estas seis arquiteturas, ressaltando:\n",
    "\n",
    "1. Número de neurônios ocultos por camada  \n",
    "2. Função de Ativação  \n",
    "3. Utilização ou não de atributos categóricos   \n",
    "4. Desempenho médio +- desvio padrão nos testes anteriores  \n",
    "5. Número de repetições que a equipe conseguiu realizar para verificar os resultados  \n",
    "\n",
    "Elabore uma busca em grade sobre estas arquiteturas que contemple variações nos hiperparâmetros a seguir, conforme documentação de [MLPClassifier](https://scikit-learn.org/stable/modules/generated/sklearn.neural_network.MLPClassifier.html)\n",
    "\n",
    "A. Solver  (Não usar o LBFGS, pois é mais adequado para datasets pequenos)  \n",
    "B. Batch Size  \n",
    "C. Learning Rate Init  \n",
    "D. Paciência (n_iter_no_change)  \n",
    "E. Épocas  \n",
    "\n",
    "Nesta busca em grande, contemple a utilização do objeto [GridSearchCV](https://scikit-learn.org/stable/modules/generated/sklearn.model_selection.GridSearchCV.html)"
   ]
  },
  {
   "cell_type": "code",
   "execution_count": 4,
   "metadata": {},
   "outputs": [],
   "source": [
    "#reservado para importação de bibliotecas\n",
    "import pandas as pd\n",
    "import numpy as np\n",
    "from sklearn.neural_network import MLPClassifier\n",
    "from sklearn.model_selection import train_test_split\n",
    "from sklearn.model_selection import GridSearchCV"
   ]
  },
  {
   "cell_type": "code",
   "execution_count": 2,
   "metadata": {},
   "outputs": [],
   "source": [
    "#abertura do dataset\n",
    "dados = pd.read_csv('../dataset/covtype.csv')"
   ]
  },
  {
   "cell_type": "code",
   "execution_count": 5,
   "metadata": {},
   "outputs": [],
   "source": [
    "x = dados.drop(\"Cover_Type\", axis = 1)\n",
    "y = dados.Cover_Type\n",
    "\n",
    "X_train, X_test, Y_train, Y_test = train_test_split(x, y, test_size = 0.3, random_state = 42)\n",
    "\n",
    "\n",
    "#escalonamento\n",
    "X_train_std = (X_train - np.mean(X_train))/np.std(X_train)\n",
    "X_test_std = (X_test - np.mean(X_train))/np.std(X_train)\n"
   ]
  },
  {
   "source": [
    "top-6 RNAs serão consideradas as ultimas arquiteruras com 200 epocas e a utilização de atributos categóricos, para chegar a esses resultados forma realizados 10 repetições:"
   ],
   "cell_type": "markdown",
   "metadata": {}
  },
  {
   "cell_type": "code",
   "execution_count": 6,
   "metadata": {},
   "outputs": [],
   "source": [
    "#coloquei manualmente =, mas depois coloca direto dos dados que tu salvou anteriormente, ok?\n",
    "arquiteturas = [ 2, 'relu', 'adam', 200, (19, 16), 0.811646, 0.689338, 0.001989, 0.006959,\n",
    "1, 'tanh', 'adam', 200, 16, 0.788587, 0.644890, 0.003093, 0.009541,\n",
    "2, 'logistic', 'adam', 200, (10, 12), 0.783392, 0.644890, 0.003093, 0.009541,\n",
    "1, 'tanh', 'adam', 200, 20, 0.800555, 0.671570, 0.002680, 0.006171,\n",
    "2, 'relu', 'adam', 200, (7, 18), 0.764442, 0.601503, 0.003879, 0.024947,\n",
    "2, 'logistic', 'adam', 200, (15, 10), 0.801088, 0.674190, 0.002898, 0.010337,\n",
    "\n",
    "]"
   ]
  },
  {
   "cell_type": "code",
   "execution_count": 8,
   "metadata": {},
   "outputs": [
    {
     "output_type": "execute_result",
     "data": {
      "text/plain": [
       "  Camadas Função de Ativação Hiperparametro Épocas Neurônios media acuracia  \\\n",
       "0       2               relu           adam    200  (19, 16)       0.811646   \n",
       "1       1               tanh           adam    200        16       0.788587   \n",
       "2       2           logistic           adam    200  (10, 12)       0.783392   \n",
       "3       1               tanh           adam    200        20       0.800555   \n",
       "4       2               relu           adam    200   (7, 18)       0.764442   \n",
       "5       2           logistic           adam    200  (15, 10)       0.801088   \n",
       "\n",
       "  media f1 score dp acuracia dp f1 score  \n",
       "0       0.689338    0.001989    0.006959  \n",
       "1        0.64489    0.003093    0.009541  \n",
       "2        0.64489    0.003093    0.009541  \n",
       "3        0.67157     0.00268    0.006171  \n",
       "4       0.601503    0.003879    0.024947  \n",
       "5        0.67419    0.002898    0.010337  "
      ],
      "text/html": "<div>\n<style scoped>\n    .dataframe tbody tr th:only-of-type {\n        vertical-align: middle;\n    }\n\n    .dataframe tbody tr th {\n        vertical-align: top;\n    }\n\n    .dataframe thead th {\n        text-align: right;\n    }\n</style>\n<table border=\"1\" class=\"dataframe\">\n  <thead>\n    <tr style=\"text-align: right;\">\n      <th></th>\n      <th>Camadas</th>\n      <th>Função de Ativação</th>\n      <th>Hiperparametro</th>\n      <th>Épocas</th>\n      <th>Neurônios</th>\n      <th>media acuracia</th>\n      <th>media f1 score</th>\n      <th>dp acuracia</th>\n      <th>dp f1 score</th>\n    </tr>\n  </thead>\n  <tbody>\n    <tr>\n      <th>0</th>\n      <td>2</td>\n      <td>relu</td>\n      <td>adam</td>\n      <td>200</td>\n      <td>(19, 16)</td>\n      <td>0.811646</td>\n      <td>0.689338</td>\n      <td>0.001989</td>\n      <td>0.006959</td>\n    </tr>\n    <tr>\n      <th>1</th>\n      <td>1</td>\n      <td>tanh</td>\n      <td>adam</td>\n      <td>200</td>\n      <td>16</td>\n      <td>0.788587</td>\n      <td>0.64489</td>\n      <td>0.003093</td>\n      <td>0.009541</td>\n    </tr>\n    <tr>\n      <th>2</th>\n      <td>2</td>\n      <td>logistic</td>\n      <td>adam</td>\n      <td>200</td>\n      <td>(10, 12)</td>\n      <td>0.783392</td>\n      <td>0.64489</td>\n      <td>0.003093</td>\n      <td>0.009541</td>\n    </tr>\n    <tr>\n      <th>3</th>\n      <td>1</td>\n      <td>tanh</td>\n      <td>adam</td>\n      <td>200</td>\n      <td>20</td>\n      <td>0.800555</td>\n      <td>0.67157</td>\n      <td>0.00268</td>\n      <td>0.006171</td>\n    </tr>\n    <tr>\n      <th>4</th>\n      <td>2</td>\n      <td>relu</td>\n      <td>adam</td>\n      <td>200</td>\n      <td>(7, 18)</td>\n      <td>0.764442</td>\n      <td>0.601503</td>\n      <td>0.003879</td>\n      <td>0.024947</td>\n    </tr>\n    <tr>\n      <th>5</th>\n      <td>2</td>\n      <td>logistic</td>\n      <td>adam</td>\n      <td>200</td>\n      <td>(15, 10)</td>\n      <td>0.801088</td>\n      <td>0.67419</td>\n      <td>0.002898</td>\n      <td>0.010337</td>\n    </tr>\n  </tbody>\n</table>\n</div>"
     },
     "metadata": {},
     "execution_count": 8
    }
   ],
   "source": [
    "df_arq = pd.DataFrame(np.array(arquiteturas).reshape(6,9), columns= [ \"Camadas\",\n",
    " \"Função de Ativação\", \n",
    " \"Hiperparametro\",\n",
    " \"Épocas\", \n",
    " \"Neurônios\",\n",
    " \"media acuracia\",\n",
    " \"media f1 score\", \n",
    " \"dp acuracia\", \n",
    " \"dp f1 score\"])\n",
    "\n",
    "df_arq"
   ]
  },
  {
   "cell_type": "code",
   "execution_count": 11,
   "metadata": {},
   "outputs": [],
   "source": [
    "#confirmar parametros\n",
    "parametros = { 'solver' : ['sgd', 'adam'],\n",
    "                'batch_size' : ['auto'],\n",
    "                'learning_rate_init': [0.001, 0.01, 0.1],\n",
    "                'n_iter_no_change' : [10, 30],\n",
    "                'epocas' : [100, 150, 200]}"
   ]
  },
  {
   "cell_type": "code",
   "execution_count": null,
   "metadata": {},
   "outputs": [],
   "source": [
    "result = [] #vetor para guardar resultados da grid search\n",
    "\n",
    "for i in range(6):\n",
    "    print(\"Executando Arquitetura: \", i+1)\n",
    "    mlp = MLPClassifier(hidden_layer_sizes= df_arq['Neurônios'][i], activation= df_arq['Função de Ativação'][i], solver= df_arq['Hiperparametro'][i], max_iter= df_arq['Épocas'][i], verbose= False)\n",
    "    grid = GridSearchCV(mpl, parameters)\n",
    "    grid.fit(X_train_std, Y_train)\n",
    "    result.append(grid)\n"
   ]
  },
  {
   "cell_type": "markdown",
   "metadata": {},
   "source": [
    "## Validação Cruzada k-fold\n",
    "\n",
    "Na elaboração da busca em grid, vamos avaliar os modelos propostos segundo uma estratégia de validação cruzada ainda não explorada até o momento: a validação cruzada k-fold. Segundo a mesma, o conjunto de dados é particionado em k partes: a cada iteração, separa-se uma das partes para teste e o modelo é treinado com as k-1 partes remanescentes. Valores sugestivos de k na literatura são k = 3, 5 ou 10, pois o custo computacional desta validação dos modelos é alto. A métrica de desempenho é resultante da média dos desempenhos nas k iterações. A figura a seguir ilustra a ideia desta avaliação\n",
    "\n",
    "<img src = \"https://ethen8181.github.io/machine-learning/model_selection/img/kfolds.png\" width=600></img>\n",
    "\n",
    "Considerando a métrica de desempenho F1-Score, considere a validação cruzada 5-fold para aferir os resultados da busca em grande anterior."
   ]
  },
  {
   "cell_type": "code",
   "execution_count": null,
   "metadata": {},
   "outputs": [],
   "source": []
  },
  {
   "cell_type": "code",
   "execution_count": null,
   "metadata": {},
   "outputs": [],
   "source": []
  },
  {
   "cell_type": "code",
   "execution_count": null,
   "metadata": {},
   "outputs": [],
   "source": []
  },
  {
   "cell_type": "code",
   "execution_count": null,
   "metadata": {},
   "outputs": [],
   "source": []
  },
  {
   "cell_type": "markdown",
   "metadata": {},
   "source": [
    "## Identificando a mellhor solução\n",
    "\n",
    "Como resultado da busca em grande com validação cruzada 5-fold, identifique o modelo otimizado com melhor desempenho para o problema. Apresente claramente este modelo, seus parâmetros, hiperparâmetros otimizados e resultados para cada um dos folds avaliados. Esta é a melhor solução identificada em decorrência deste projeto"
   ]
  },
  {
   "cell_type": "code",
   "execution_count": null,
   "metadata": {},
   "outputs": [],
   "source": []
  },
  {
   "cell_type": "code",
   "execution_count": null,
   "metadata": {},
   "outputs": [],
   "source": []
  },
  {
   "cell_type": "markdown",
   "metadata": {},
   "source": [
    "## Empacotando a solução\n",
    "\n",
    "Suponha que você deve entregar este classificador ao órgão responsável por administrar o Roosevelt National Park. Para tanto, você deve fazer uma preparação do mesmo para utilização neste cenário. Uma vez que já identificou os melhores parâmetros e hiperparâmetros, o passo remanescente consiste em treinar o modelo com estes valores e todos os dados disponíveis, salvando o conjunto de pesos do modelo ao final para entrega ao cliente. Assim, finalize o projeto prático realizando tais passos.\n",
    "\n",
    "1. Consulte a documentação a seguir:\n",
    "https://scikit-learn.org/stable/modules/model_persistence.html  \n",
    "2. Treine o modelo com todos os dados  \n",
    "3. Salve o modelo em disco  \n",
    "4. Construa uma rotina que recupere o modelo em disco  \n",
    "5. Mostre que a rotina é funcional, fazendo previsões com todos os elementos do dataset e exibindo uma matriz de confusão das mesmas"
   ]
  },
  {
   "cell_type": "code",
   "execution_count": null,
   "metadata": {},
   "outputs": [],
   "source": []
  }
 ],
 "metadata": {
  "kernelspec": {
   "display_name": "Python 3",
   "language": "python",
   "name": "python3"
  },
  "language_info": {
   "codemirror_mode": {
    "name": "ipython",
    "version": 3
   },
   "file_extension": ".py",
   "mimetype": "text/x-python",
   "name": "python",
   "nbconvert_exporter": "python",
   "pygments_lexer": "ipython3",
   "version": "3.7.6-final"
  }
 },
 "nbformat": 4,
 "nbformat_minor": 4
}